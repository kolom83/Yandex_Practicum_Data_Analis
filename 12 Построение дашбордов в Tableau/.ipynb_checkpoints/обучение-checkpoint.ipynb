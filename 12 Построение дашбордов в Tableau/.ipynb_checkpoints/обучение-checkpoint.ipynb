{
 "cells": [
  {
   "cell_type": "markdown",
   "id": "70aa2ca3-61d2-4967-abe3-5b947d2c81ca",
   "metadata": {},
   "source": [
    "![table_03_1669808316.jpg](table_03_1669808316.jpg)"
   ]
  },
  {
   "cell_type": "markdown",
   "id": "b799f58d-7a9e-4871-83b3-45e8da1df82d",
   "metadata": {},
   "source": [
    "## Сортировка"
   ]
  },
  {
   "cell_type": "markdown",
   "id": "c99ae5f7-a783-43a7-9649-ec53ec5a4732",
   "metadata": {},
   "source": [
    "[справочник tableau](https://help.tableau.com/current/pro/desktop/en-us/functions_all_categories.htm)"
   ]
  },
  {
   "cell_type": "code",
   "execution_count": null,
   "id": "32bfad0d-2638-4a11-9473-0f5c5df96edb",
   "metadata": {},
   "outputs": [],
   "source": []
  }
 ],
 "metadata": {
  "kernelspec": {
   "display_name": "Python 3 (ipykernel)",
   "language": "python",
   "name": "python3"
  },
  "language_info": {
   "codemirror_mode": {
    "name": "ipython",
    "version": 3
   },
   "file_extension": ".py",
   "mimetype": "text/x-python",
   "name": "python",
   "nbconvert_exporter": "python",
   "pygments_lexer": "ipython3",
   "version": "3.9.13"
  }
 },
 "nbformat": 4,
 "nbformat_minor": 5
}
