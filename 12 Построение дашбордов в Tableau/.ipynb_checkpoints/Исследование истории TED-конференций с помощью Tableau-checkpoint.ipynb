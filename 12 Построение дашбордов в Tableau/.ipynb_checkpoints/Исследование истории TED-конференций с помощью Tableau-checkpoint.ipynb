{
 "cells": [
  {
   "cell_type": "markdown",
   "id": "ff459289-6e38-4c23-9963-5dbb9b1f9d86",
   "metadata": {},
   "source": [
    "Описание проекта\n",
    "TED (от англ. technology, education, design — «технологии, образование, дизайн») — некоммерческий фонд, который проводит популярные конференции. На них выступают специалисты из разных областей и читают лекции на актуальные социальные, культурные и научные темы. "
   ]
  },
  {
   "cell_type": "markdown",
   "id": "c88dc63d-e259-44c2-be7b-6484a7a58cdc",
   "metadata": {},
   "source": [
    "[Ссылка на дашборт и презентацию](https://public.tableau.com/shared/953CWN4NP?:display_count=n&:origin=viz_share_link)"
   ]
  },
  {
   "cell_type": "markdown",
   "id": "e109732f-4c72-45ec-81e2-1aef5d241742",
   "metadata": {},
   "source": [
    "В проекте сформировал презентацию из четырех  дашбордов. На каждом дашборде дал ответы на поставленные вопросы, представил соответствующую визуализацию, добавил элементы управления, всплывающие подсказки, настроил Actions.     "
   ]
  }
 ],
 "metadata": {
  "kernelspec": {
   "display_name": "Python 3 (ipykernel)",
   "language": "python",
   "name": "python3"
  },
  "language_info": {
   "codemirror_mode": {
    "name": "ipython",
    "version": 3
   },
   "file_extension": ".py",
   "mimetype": "text/x-python",
   "name": "python",
   "nbconvert_exporter": "python",
   "pygments_lexer": "ipython3",
   "version": "3.11.5"
  }
 },
 "nbformat": 4,
 "nbformat_minor": 5
}
