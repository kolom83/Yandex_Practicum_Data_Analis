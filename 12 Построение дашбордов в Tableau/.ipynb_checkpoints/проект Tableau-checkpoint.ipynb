{
 "cells": [
  {
   "cell_type": "markdown",
   "id": "c88dc63d-e259-44c2-be7b-6484a7a58cdc",
   "metadata": {},
   "source": [
    "[Ссылка на дашборт и презентацию](https://public.tableau.com/shared/953CWN4NP?:display_count=n&:origin=viz_share_link)"
   ]
  },
  {
   "cell_type": "markdown",
   "id": "e109732f-4c72-45ec-81e2-1aef5d241742",
   "metadata": {},
   "source": [
    "Не смог построить таблицу популярных тем на конференции. Брал Топ -1 по числу выступлений на темы на одной конференции, создавал поле LOD, приравнивая максимальное значение и текущее поле тем на конференции, строил иерархическую структуру год, конференция, тема. Получилось только вывести таблицу и отсортировать по количеству.     "
   ]
  }
 ],
 "metadata": {
  "kernelspec": {
   "display_name": "Python 3 (ipykernel)",
   "language": "python",
   "name": "python3"
  },
  "language_info": {
   "codemirror_mode": {
    "name": "ipython",
    "version": 3
   },
   "file_extension": ".py",
   "mimetype": "text/x-python",
   "name": "python",
   "nbconvert_exporter": "python",
   "pygments_lexer": "ipython3",
   "version": "3.11.5"
  }
 },
 "nbformat": 4,
 "nbformat_minor": 5
}
