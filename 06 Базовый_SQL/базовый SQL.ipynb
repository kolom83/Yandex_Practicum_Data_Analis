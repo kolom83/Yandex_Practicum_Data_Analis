{
 "cells": [
  {
   "cell_type": "code",
   "execution_count": null,
   "id": "66d32389-8674-4835-aa1f-8fa345a501e9",
   "metadata": {},
   "outputs": [],
   "source": [
    "# порядок команд в запросе\n",
    "# временная таблица\n",
    "WITH\n",
    "-- назначение псевдонимов и формирование подзапросов\n",
    "псевдоним_1 AS (подзапрос_1),\n",
    "\n",
    "SELECT \n",
    "    DISTINCT поле AS псевдоним,\n",
    "            \n",
    "FROM источник AS псевдоним (SELECT FROM)\n",
    "JOIN  LEFT RIGHT FULL ON\n",
    "WHERE BETWEEN, LIKE или NOT LIKE, = или in (SELECT FROM)\n",
    "GROUP BY\n",
    "HAVING #Псевдонимы нельзя использовать и после HAVING, ведь они ещё не назначены.\n",
    "ORDER BY DESC\n",
    "LIMIT\n",
    "OFFSET; \n",
    "\n",
    "UNION и UNION ALL"
   ]
  },
  {
   "cell_type": "markdown",
   "id": "a76700c1-ca7f-4c9a-a34e-b52ab5c97eec",
   "metadata": {
    "tags": []
   },
   "source": [
    "## ОСНОВНАЯ ЧАСТЬ"
   ]
  },
  {
   "cell_type": "markdown",
   "id": "9dbba4ba-f5f4-4b16-b35e-f4001ce3b7a8",
   "metadata": {},
   "source": [
    "Базы данных бывают разных видов в зависимости от способа хранения данных. Если данные в базе представлены в виде связанных таблиц, такую базу данных называют реляционной (англ. relation, «связь»)."
   ]
  },
  {
   "cell_type": "markdown",
   "id": "8ff33c18-3450-42e0-9560-96699054e66d",
   "metadata": {},
   "source": [
    "В таблице реляционной базы данных не должно быть дубликатов.  \n",
    "Для этого к каждой записи добавляется уникальный признак — первичный ключ. Такой ключ не позволит создать абсолютно одинаковые записи."
   ]
  },
  {
   "cell_type": "markdown",
   "id": "4879f826-3402-4c44-ac86-cdb6427c5703",
   "metadata": {},
   "source": [
    "В базе несколько таблиц с информацией об исполнителях, треках, фильмах, счетах и клиентах, но пока вам понадобятся четыре из них:   \n",
    " genre — таблица с жанрами кино и музыки;  \n",
    " media_type — таблица с используемыми форматами, например MPEG для видео и AAC для аудио;  \n",
    " playlist — таблица с плейлистами; \n",
    " invoice — таблица с данными о заказах и выставленных счетах.  "
   ]
  },
  {
   "cell_type": "markdown",
   "id": "9afc3243-2ac2-4350-bce4-f898503da203",
   "metadata": {},
   "source": [
    "коментрарии в SQL   \n",
    "-- Так выглядит однострочный комментарий   \n",
    "/\\*В век высоких технологий\n",
    "Без БД не обойтись,\n",
    "SQL — язык запросов\n",
    "Легче делает нам жизнь!\\*/ "
   ]
  },
  {
   "cell_type": "markdown",
   "id": "16ecfe7b-500d-4fde-9a0d-c4a543c0bb83",
   "metadata": {},
   "source": [
    "Пример запроса SQL:\n",
    "<pre><code>\n",
    "SELECT sp.advertising_id,\n",
    "       sp.install_date,\n",
    "       sp.session_num,\n",
    "       sp.payer,\n",
    "       sp.last_active AS last_date,\n",
    "       DATE_DIFF(sp.last_active, install_date, DAY) AS max_play,\n",
    "       CAST(track_id AS varchar) --привести число к строке\n",
    "FROM players AS sp\n",
    "LIMIT 3 OFFSET 8\n",
    "WHERE sp.date = '2021-02-28'\n",
    "  AND sp.install_date BETWEEN '2021-02-01' AND '2021-02-26';\n",
    "</code></pre>"
   ]
  },
  {
   "cell_type": "markdown",
   "id": "780c8aa8-72cd-4811-a101-9c715cdfc99e",
   "metadata": {},
   "source": [
    "| Описание | Тип данных | Псевдоним\t| Что входит |\n",
    "|----------|------------|-----------|------------|\n",
    "| Числовые типы | integer |\tint, int4 |\tЦелые числа|  \n",
    "|           | real |\tfloat4 |\tВещественные числа|\n",
    "|Символьные типы |\tcharacter |\tchar(n) |\tСтрока фиксированной длины |\n",
    "|           | character varying\t| varchar(n) |\tСтрока нефиксированной длины |\n",
    "|           |text |             |\tСтрока любой длины |\n",
    "|Типы для работы с датой и временем\t| timestamp without timezone |\ttimestamp |\tДата и время без данных о часовом поясе |\n",
    "|  | date\t|  | Дата в разных форматах |\n",
    "| | time\t|  |\tВремя 00:00:00 до 24:00:00 |\n",
    "|   |interval\t|   |\tИнтервал между датами |\n",
    "| Логические типы\t| boolean\t| bool |\tTRUE и аналоги: 'true', 't', 'yes', 'y', 'on', 1. FALSE и аналоги: 'false', 'f', 'no', 'n', 'off', 0.|"
   ]
  },
  {
   "cell_type": "markdown",
   "id": "fe59ba2f-1c12-4e23-8a0d-ca72a50b7e76",
   "metadata": {},
   "source": [
    "Разобраться в структуре базы поможет ER-диаграмма (от англ. entity-relationship diagram, диаграмма «сущность — связь»). ER-диаграмма графически отображает отношения таблиц в базе данных."
   ]
  },
  {
   "cell_type": "markdown",
   "id": "7a33b449-12e7-412a-b282-c1ae9297bfac",
   "metadata": {},
   "source": [
    "PK - первичный ключ - уникальный признак записи   \n",
    "FK - внешний ключь - это поле, которое отсылает к первичному ключу другой таблицы"
   ]
  },
  {
   "cell_type": "markdown",
   "id": "94994e5d-5373-478d-939e-3a7b709e38f2",
   "metadata": {},
   "source": [
    "Логические операторы в SQL: AND, OR, NOT."
   ]
  },
  {
   "cell_type": "markdown",
   "id": "a300145c-e3bf-4eed-8167-368e8c6339d7",
   "metadata": {},
   "source": [
    "__Оператор IN__  \n",
    "<pre><code>\n",
    "WHERE billing_city NOT IN ('Dublin',\n",
    "                           'London',\n",
    "                           'Paris',\n",
    "                           'Boston',\n",
    "                           'Berlin',\n",
    "                           'Stuttgart,\n",
    "                           3,\n",
    "                          '23',\n",
    "                          '36'); \n",
    "</pre></code>\n",
    "Тип данных в условии и в сравниваемом поле может не совпадать. "
   ]
  },
  {
   "cell_type": "markdown",
   "id": "dd14f5ef-cf84-43ee-8a2e-e941e829f03d",
   "metadata": {},
   "source": [
    "__Оператор LIKE__\n",
    "\n",
    "WHERE quotes  NOT LIKE 'ко%т'  \n",
    "результат: такие выражения не отберуться 'кот играет' 'консультант'  \n",
    "\n",
    "Оператор LIKE можно использовать только для строк, а для чисел он не подходит.\n",
    "<pre><code>\n",
    "SELECT *\n",
    "FROM playlist_track\n",
    "WHERE CAST(track_id AS varchar) LIKE '%43%'; \n",
    "</pre></code>"
   ]
  },
  {
   "cell_type": "markdown",
   "id": "99c485b2-c7aa-4bf2-b48a-52e7064f3325",
   "metadata": {},
   "source": [
    "__Оператор BETWEEN__  (диапазон)\n",
    "\n",
    "<pre><code>\n",
    "SELECT *\n",
    "FROM invoice\n",
    "WHERE customer_id BETWEEN 23 AND 48; \n",
    "\n",
    "SELECT last_name\n",
    "FROM staff\n",
    "WHERE birth_date BETWEEN '1970-01-01' AND '1970-12-31'; \n",
    "</pre></code>"
   ]
  },
  {
   "cell_type": "markdown",
   "id": "c0e4e097-d0a1-4987-bdc0-9a3c09358f7e",
   "metadata": {},
   "source": [
    "__Указание текущей даты__ \n",
    "\n",
    "    CURRENT_DATE вернёт текущую дату,\n",
    "    CURRENT_TIME выведет текущее время,\n",
    "    CURRENT_TIMESTAMP вернёт текущие дату и время."
   ]
  },
  {
   "cell_type": "markdown",
   "id": "29f78534-de78-4e13-a90a-38729e381dfa",
   "metadata": {},
   "source": [
    "__Функция DATE_TRUNC__  \n",
    "Функция DATE_TRUNC \"усекает\" дату и время до необходимого значения: года, месяца или дня.   \"01.01.2023\"   \n",
    "Синтаксис функции такой: DATE_TRUNC('отрезок времени', поле).\n",
    "\n",
    "    Отрезок времени может быть разным, главное, не забыть одинарные кавычки:\n",
    "    'microseconds' — микросекунды;\n",
    "    'milliseconds' — миллисекунды;\n",
    "    'second' — секунда;\n",
    "    'minute' — минута;\n",
    "    'hour' — час;\n",
    "    'day' — день;\n",
    "    'week' — неделя;\n",
    "    'month' — месяц;\n",
    "    'quarter' — квартал;\n",
    "    'year' — год;\n",
    "    'decade' — десятилетие;\n",
    "    'century' — век.\n"
   ]
  },
  {
   "cell_type": "markdown",
   "id": "3e4fe3d9-c9ea-4f9a-912f-8528dc40b218",
   "metadata": {},
   "source": [
    "__Функция EXTRACT__  \n",
    "синтаксис отличается от функции DATE_TRUNC: EXTRACT(отрезок времени FROM поле)  \n",
    "ункция EXTRACT используется для получения конкретной части даты: год, месяц или минуту 2023 \n",
    "\n",
    "Отрезок времени может быть представлен следующими значениями:\n",
    "    \n",
    "    CENTURY — век;\n",
    "    DAY — день;\n",
    "    DOY (от англ. day of the year) — день года, выраженный числом от 1 до 365 или 366, если год високосный;\n",
    "    DOW (от англ. day of the week) — день недели, выраженный числом от 0 до 6, где понедельник — 1, воскресенье — 0.\n",
    "    ISODOW (от англ. day of the week и ISO 8601) — день недели, выраженный числом от 1 до 7, где понедельник — 1, воскресенье — 7.\n",
    "    HOUR — час;\n",
    "    MILLISECOND — миллисекунда;\n",
    "    MINUTE — минута;\n",
    "    MONTH — месяц;\n",
    "    SECOND — секунда;\n",
    "    QUARTER — квартал;\n",
    "    WEEK — неделя в году;\n",
    "    YEAR — год."
   ]
  },
  {
   "cell_type": "markdown",
   "id": "dd31718a-07e3-42f9-b6e6-b3b63f84baa5",
   "metadata": {},
   "source": [
    "__Функции и типы данных__  \n",
    "Функции DATE_TRUNC и EXTRACT принимают на вход данные тех типов, которые используют для работы с датой и временем. Но есть особенности. Типы date и time функции автоматически переведут в timestamp with time zone. Будьте осторожны: при автоматическом переводе date в timestamp with time zone время подстроится к часовому поясу пользователя и потому может сместиться.\n",
    "У этой проблемы есть решение — явно изменить тип данных на timestamp. Напомним, что в SQL так по умолчанию обозначается тип timestamp without time zone. С типом данных без часового пояса время не сместится.  \n",
    "\n",
    "Другая особенность функций — они возвращают данные разных типов. DATE_TRUNC вернёт данные типов timestamp without timezone, timestamp with timezone или interval (зависит от того, что получит на вход), а EXTRACT — данные типа numeric. \n",
    "С типом numeric вы ещё не знакомы. Его используют для вещественных чисел, как и тип real. Отличие в том, что в тип numeric входят числа большего диапазона. Также у типа numeric точность больше, чем у типа real. Это значит, что вещественное число типа numeric может иметь больше цифр после запятой."
   ]
  },
  {
   "cell_type": "markdown",
   "id": "6c4b0ea5-35a9-4cc3-bf34-99c2d9a93eb3",
   "metadata": {},
   "source": [
    "![Image.png](Image.png)"
   ]
  },
  {
   "cell_type": "markdown",
   "id": "c215cf8d-eb6d-4806-972f-3f06bc3ae7e1",
   "metadata": {},
   "source": [
    "Для работы с NULL используются операторы IS NULL и IS NOT NULL."
   ]
  },
  {
   "cell_type": "markdown",
   "id": "2e4a7408-4f89-4bf1-8be0-1507a5600766",
   "metadata": {},
   "source": [
    "__Условный аператор__  \n",
    "<pre><code>\n",
    "SELECT total,\n",
    "       CASE\n",
    "           WHEN total >= 5 AND total < 10 THEN 'средний'\n",
    "           WHEN total >= 10 THEN 'крупный'\n",
    "           ELSE 'маленький'\n",
    "       END\n",
    "FROM invoice\n",
    "</code></pre>  \n",
    "\n",
    "Условия в запросе проверяются по порядку, и если одно из них выполнено, соответствующий результат выводится сразу."
   ]
  },
  {
   "cell_type": "markdown",
   "id": "2a7dedf5-2961-4cec-b294-0d5c8aba1a18",
   "metadata": {},
   "source": [
    "<pre><code>\n",
    "SELECT *\n",
    "FROM movie\n",
    "WHERE release_year > 2010\n",
    "  AND rental_duration > 4\n",
    "  OR rental_duration < 5\n",
    "  AND length > 90; \n",
    "</pre></code>\n",
    "\n",
    "  Условия из запроса можно переписать так: (release_year > 2010 AND rental_duration > 4) OR (rental_duration < 5 AND length > 90). Представьте, что вместо оператора AND стоит знак *, а вместо OR — +. "
   ]
  },
  {
   "cell_type": "markdown",
   "id": "8780284f-9f88-453e-9898-5af6060fea19",
   "metadata": {
    "jp-MarkdownHeadingCollapsed": true,
    "tags": []
   },
   "source": [
    "## МАТЕМАТИЧЕСКИЕ ОПЕРАЦИИ"
   ]
  },
  {
   "cell_type": "markdown",
   "id": "e1344b86-b6d0-4af7-af60-f71f1f78b7c6",
   "metadata": {},
   "source": [
    "__Модуль числа__\n",
    "\n",
    "SELECT number,\n",
    "       ABS(number)\n",
    "FROM table_1; "
   ]
  },
  {
   "cell_type": "markdown",
   "id": "f7d7b122-a05d-4258-8182-de3a1f22b8e7",
   "metadata": {},
   "source": [
    "Функция FLOOR возвращает число, округлённое до целого в меньшую сторону.\n",
    "\n",
    "SELECT number,\n",
    "       FLOOR(number)\n",
    "FROM table_1; "
   ]
  },
  {
   "cell_type": "markdown",
   "id": "43642478-10d1-4215-bb61-a7fe4df3bf1d",
   "metadata": {},
   "source": [
    "| Функция\t| Описание\t| Пример\t| Результат|\n",
    "|-----------|-----------|------------|---------|\n",
    "|ABS\t|Возвращает модуль числа\t|ABS(-14)\t|14|\n",
    "|CEILING\t|Возвращает число, округлённое до целого в большую сторону\t|CEILING(42.8)\t|43|\n",
    "|FLOOR\t|Возвращает число, округлённое до целого в меньшую сторону\t|FLOOR(42.8)\t|42|\n",
    "|ROUND\t|Округляет значение до ближайшего числа, округляет число до определённого количества знаков после запятой\t|ROUND(42.4), ROUND(42.4382, 2)\t|42, 42.44|\n",
    "|POWER\t|Возвращает число, возведённое в степень — нужную степень указывают вторым аргументом\t|POWER(9, 3)\t|729|\n",
    "|SQRT\t|Извлекает квадратный корень из числа\t|SQRT(9)\t|3|"
   ]
  },
  {
   "cell_type": "markdown",
   "id": "7b8f3c20-4dae-47a7-b0f4-5dea0694b8d9",
   "metadata": {},
   "source": [
    "Основные агрегирующие функции:  \n",
    "SUM(поле) - сумма значений в поле;  \n",
    "AVG(поле) - среднее арифметическое значений в поле;  \n",
    "MIN(поле) - минимальное значение в поле;  \n",
    "MAX(поле) - максимальное значение в поле;  \n",
    "COUNT(*) - количество записей в таблице; COUNT(поле) - количество записей в поле."
   ]
  },
  {
   "cell_type": "markdown",
   "id": "d709f1a6-f7cc-492a-a5c1-fe65ce13eb7f",
   "metadata": {},
   "source": [
    "Ключевые слова DISTINCT и агрегирующие функции могут быть использованы вместе для подсчета уникальных значений, например, \n",
    "\n",
    "SELECT COUNT(DISTINCT billing_country)  \n",
    "FROM invoice;\n",
    "\n",
    "можно выводить уникальные сочетания \n",
    "\n",
    "SELECT DISTINCT customer_id,  \n",
    "                    billing_country  \n",
    "FROM invoice  \n",
    "LIMIT 10;   "
   ]
  },
  {
   "cell_type": "markdown",
   "id": "72bd7daa-91ec-4c44-96a1-748bf903683f",
   "metadata": {
    "tags": []
   },
   "source": [
    "## Группировка и сортировка"
   ]
  },
  {
   "cell_type": "markdown",
   "id": "38e6176a-3940-4805-9b09-298ce11b60e4",
   "metadata": {},
   "source": [
    "Для таких задач подойдёт группировка. Чтобы разделить данные на группы по значениям полей, в SQL используют оператор GROUP BY. В запросе GROUP BY всегда располагается после условного оператора WHERE. Если WHERE в запросе нет, оператор GROUP BY нужно указать после FROM."
   ]
  },
  {
   "cell_type": "code",
   "execution_count": null,
   "id": "eadd9cf2-5893-469f-811a-339863a9033a",
   "metadata": {},
   "outputs": [],
   "source": [
    "SELECT \n",
    "     CASE\n",
    "           WHEN total < 1 THEN 'low cost'\n",
    "           ELSE 'high cost'\n",
    "     END,\n",
    "    SUM(total)\n",
    "\n",
    "FROM invoice\n",
    "WHERE billing_postal_code IS NOT NULL\n",
    "GROUP BY \n",
    "     CASE\n",
    "           WHEN total < 1 THEN 'low cost'\n",
    "           ELSE 'high cost'\n",
    "     END;"
   ]
  },
  {
   "cell_type": "markdown",
   "id": "6a4e9e3c-db03-47b0-bcf7-1de6be4b8d4e",
   "metadata": {},
   "source": [
    "Для сортировки данных в SQL используют оператор ORDER BY. Его пишут в самом конце запроса, после него можно указать только оператор LIMIT. "
   ]
  },
  {
   "cell_type": "markdown",
   "id": "5643d06e-0c6d-40a8-8624-844ed5ad1afc",
   "metadata": {},
   "source": [
    "Ключевое слово DESC: тогда данные будут отсортированы по убыванию. Если указать ASC, данные будут отсортированы по возрастанию — так же, как и по умолчанию"
   ]
  },
  {
   "cell_type": "code",
   "execution_count": null,
   "id": "71f6dc83-aca8-4778-ba5d-c897091193ad",
   "metadata": {},
   "outputs": [],
   "source": [
    "SELECT EXTRACT(YEAR FROM CAST(invoice_date AS timestamp)),\n",
    "    MIN(total),\n",
    "    MAX(total),\n",
    "    SUM(total),\n",
    "    COUNT(invoice_id),\n",
    "    ROUND(SUM(total)/COUNT(DISTINCT customer_id))\n",
    "FROM invoice\n",
    "WHERE billing_country IN ('USA','United Kingdom', 'Germany')\n",
    "    AND CAST(invoice_date AS date) BETWEEN '2011-05-25' AND '2013-09-25'\n",
    "GROUP BY EXTRACT(YEAR FROM CAST(invoice_date AS timestamp))\n",
    "\n",
    "ORDER BY EXTRACT(YEAR FROM CAST(invoice_date AS timestamp)) DESC--, customer_id \n",
    "LIMIT 5;"
   ]
  },
  {
   "cell_type": "markdown",
   "id": "3f6f6c0b-babc-4e11-aa57-fba704ca0912",
   "metadata": {},
   "source": [
    "__Оператор HAVING__"
   ]
  },
  {
   "cell_type": "markdown",
   "id": "09ef3e53-24a2-42b1-b89e-c4d6b11c5087",
   "metadata": {},
   "source": [
    "|Name\t|Оператор WHERE\t|Оператор HAVING|\n",
    "|-------|---------------|---------------|\n",
    "|Когда используют\t|Используют, чтобы получить срез данных перед группировкой или отфильтровать записи для агрегирующих функций\t|Используют, чтобы получить срез данных после группировки|\n",
    "|Можно применить без оператора GROUP BY\t|Да\t|Нет|\n",
    "|Как сочетается с оператором GROUP BY\t|Используют перед оператором GROUP BY\t|Используют после оператора GROUP BY|\n",
    "|Можно сочетать с агрегирующими функциями\t|Нет\t|Да|"
   ]
  },
  {
   "cell_type": "code",
   "execution_count": null,
   "id": "f6105d71-ff5b-4415-93c9-24cc13945b07",
   "metadata": {},
   "outputs": [],
   "source": [
    "# Премер HAVING\n",
    "SELECT customer_id,\n",
    "       SUM(total)\n",
    "FROM invoice\n",
    "GROUP BY customer_id\n",
    "HAVING SUM(total) > 41 AND AVG(total) > 7\n",
    "ORDER BY SUM(total) DESC; "
   ]
  },
  {
   "cell_type": "markdown",
   "id": "43bb9f3c-4ad8-4214-84cd-67a0e9c6649f",
   "metadata": {
    "tags": []
   },
   "source": [
    "## Образ результата и декомпозиция"
   ]
  },
  {
   "cell_type": "markdown",
   "id": "70c8d72d-e86d-4cb4-96ba-ea6152641e90",
   "metadata": {},
   "source": [
    "Связи между таблицами в базах данных бывают трех видов: \"один к одному\", \"один ко многим\" и \"многие ко многим\""
   ]
  },
  {
   "cell_type": "markdown",
   "id": "c7cc8164-6a5e-4912-8505-61c2df57853c",
   "metadata": {},
   "source": [
    "Диаграмма базы данных, или ER-диаграмма (от англ. entity–relationship diagram, диаграмма «сущность — связь»)"
   ]
  },
  {
   "cell_type": "markdown",
   "id": "eb77a669-ccfa-4c45-b075-235f2b3bdf3e",
   "metadata": {},
   "source": [
    "__Псевдонимы для полей и таблиц__"
   ]
  },
  {
   "cell_type": "markdown",
   "id": "f14aaec9-9f86-403e-9780-6db76d884873",
   "metadata": {},
   "source": [
    "В PostgreSQL псевдонимы можно задавать через пробел."
   ]
  },
  {
   "cell_type": "code",
   "execution_count": null,
   "id": "f711ba12-8d82-4344-88c4-fae0a6217b21",
   "metadata": {},
   "outputs": [],
   "source": [
    "# псевдонимы для полей и таблиц, в посгрей можно не использвать AS\n",
    "SELECT EXTRACT(YEAR FROM CAST(i.invoice_date AS DATE)) AS year_of_purchase,\n",
    "       MIN(i.total) AS min_cost,\n",
    "         MAX(i.total) AS max_cost,\n",
    "         SUM(i.total) AS total_revenue,\n",
    "         COUNT(i.total) AS total_purchases,\n",
    "         ROUND(SUM(i.total)/COUNT(DISTINCT(i.customer_id))) AS average_receipt\n",
    "FROM invoice AS i\n",
    "WHERE billing_country IN ('USA', 'United Kingdom', 'Germany')\n",
    "GROUP BY year_of_purchase\n",
    "ORDER BY year_of_purchase DESC; "
   ]
  },
  {
   "cell_type": "markdown",
   "id": "8d8bb88f-95da-414f-8c1f-620c84bbe860",
   "metadata": {},
   "source": [
    "__!!! К псевдонимам нельзя обратиться в WHERE или HAVING__ (в условиях)"
   ]
  },
  {
   "cell_type": "markdown",
   "id": "4167973e-6ae3-4838-ae8e-c0157b75dcb3",
   "metadata": {},
   "source": [
    "__Объединение таблиц с помощью операторов JOIN.__"
   ]
  },
  {
   "cell_type": "markdown",
   "id": "de946c4e-0211-49c3-ad58-22d63a7365e9",
   "metadata": {},
   "source": [
    "Тип INNER JOIN: объединение по общей области между двумя таблицами.  \n",
    "Тип LEFT OUTER JOIN: включение всех записей из левой таблицы, совпадение с правой таблицей по нужному полю.  \n",
    "Тип RIGHT OUTER JOIN: приоритет у правой таблицы, совпадение с левой таблицей по нужному полю.  \n",
    "Тип FULL OUTER JOIN: объединение всех записей из обеих таблиц, NULL вместо отсутствующих данных.  "
   ]
  },
  {
   "cell_type": "code",
   "execution_count": null,
   "id": "b6af7200-ad10-4b1b-9d62-f3dddc868359",
   "metadata": {},
   "outputs": [],
   "source": [
    "SELECT c.first_name,\n",
    "       c.last_name,\n",
    "       MIN(i.total) AS min_cost,\n",
    "             MAX(i.total) AS max_cost,\n",
    "             ROUND(AVG(i.total), 2) AS average_cost,\n",
    "             COUNT(i.total) AS total_purchases\n",
    "FROM invoice AS i\n",
    "INNER JOIN client AS c ON i.customer_id = c.customer_id\n",
    "WHERE i.billing_country = 'USA'\n",
    "GROUP BY first_name, last_name\n",
    "ORDER BY average_cost DESC\n",
    "LIMIT 10; "
   ]
  },
  {
   "cell_type": "code",
   "execution_count": null,
   "id": "15302e44-9328-4c09-90ac-219be5864dc9",
   "metadata": {},
   "outputs": [],
   "source": [
    "# множественное присоединение в том числе к уже присоединенной \n",
    "SELECT t.name,\n",
    "       SUM(i.quantity),\n",
    "       pt.playlist_id,\n",
    "       pl.name\n",
    "FROM track AS t\n",
    "INNER JOIN invoice_line AS i ON t.track_id=i.track_id\n",
    "INNER JOIN playlist_track AS pt ON t.track_id=pt.track_id\n",
    "INNER JOIN playlist AS pl ON pt.playlist_id=pl.playlist_id\n",
    "GROUP BY t.name, pt.playlist_id, pl.name\n",
    "LIMIT 20"
   ]
  },
  {
   "cell_type": "markdown",
   "id": "31a76dba-1fcf-4c70-b8de-f723b106d3ee",
   "metadata": {},
   "source": [
    "__Присоединения: UNION и UNION ALL__"
   ]
  },
  {
   "cell_type": "markdown",
   "id": "0cec35e5-fcaf-40a2-8bd6-d1cc2308a808",
   "metadata": {},
   "source": [
    "Типы данных в полях должны соответствовать друг другу.  \n",
    "Оператор UNION устроен так, что абсолютные дубликаты в итоговую таблицу не входят.  \n",
    "Оператор UNION ALL устроен по-другому, все записи вошли в таблицу."
   ]
  },
  {
   "cell_type": "markdown",
   "id": "cc5b15c5-153a-4fc2-9db8-e6fa826b73f5",
   "metadata": {
    "tags": []
   },
   "source": [
    "## Подзапросы"
   ]
  },
  {
   "cell_type": "markdown",
   "id": "57d56afd-ac4f-47df-9e1f-1818aca279d1",
   "metadata": {},
   "source": [
    "❗ Подзапросу во FROM нужно всегда назначать псевдоним, иначе произойдёт ошибка."
   ]
  },
  {
   "cell_type": "markdown",
   "id": "d4443ade-40a4-422b-b89f-96ce7e2e7b1f",
   "metadata": {},
   "source": [
    "![подзапросы_во_from.png](подзапросы_во_from.png)"
   ]
  },
  {
   "cell_type": "markdown",
   "id": "75e453c6-398e-4832-8e85-c5c4bc342fdf",
   "metadata": {},
   "source": [
    "подзапросы в WHERE"
   ]
  },
  {
   "cell_type": "markdown",
   "id": "cad3cf87-468c-4a91-b667-36e7683e1e93",
   "metadata": {},
   "source": [
    "![подзапросы_в_where.png](подзапросы_в_where.png)"
   ]
  },
  {
   "cell_type": "code",
   "execution_count": null,
   "id": "b162540f-3360-4e77-a399-0d70ad283b5f",
   "metadata": {},
   "outputs": [],
   "source": [
    "# ПРИМЕР\n",
    "SELECT billing_country,\n",
    "MIN(total) min_total, \n",
    "max(total) max_total,\n",
    "AVG(total) avg_total\n",
    "FROM invoice\n",
    "WHERE invoice_id IN (SELECT il.invoice_id\n",
    "            FROM invoice_line AS il\n",
    "            GROUP BY il.invoice_id\n",
    "            HAVING COUNT(il.quantity) > 5)\n",
    "            AND total > (SELECT AVG(unit_price)\n",
    "            FROM invoice_line)\n",
    "GROUP BY billing_country\n",
    "ORDER BY avg_total DESC, billing_country\n",
    ";"
   ]
  },
  {
   "cell_type": "markdown",
   "id": "738772ea-07fb-43bd-8726-0d0e86729d67",
   "metadata": {},
   "source": [
    "__Сочетание объединения и подзапросы__"
   ]
  },
  {
   "cell_type": "markdown",
   "id": "02b467e4-38a7-4962-9f90-944b18f7a450",
   "metadata": {},
   "source": [
    "![подзапросы.png](подзапросы.png)"
   ]
  },
  {
   "cell_type": "code",
   "execution_count": null,
   "id": "d1111258-3523-4b03-bcd2-73643b481d11",
   "metadata": {},
   "outputs": [],
   "source": [
    "# пример\n",
    "SELECT t_1.month_invoice,\n",
    "       sum_of_total,\n",
    "       sum_of_price\n",
    "FROM\n",
    "  (SELECT EXTRACT(MONTH FROM CAST(invoice_date AS date)) AS month_invoice,\n",
    "          SUM(total) AS sum_of_total\n",
    "   FROM invoice\n",
    "   WHERE EXTRACT(YEAR\n",
    "                 FROM CAST(invoice_date AS date)) = 2010\n",
    "   GROUP BY month_invoice) AS t_1\n",
    "JOIN\n",
    "  (SELECT EXTRACT(MONTH FROM CAST(invoice_date AS date)) AS month_invoice,\n",
    "          SUM(unit_price*quantity) AS sum_of_price\n",
    "   FROM invoice AS i\n",
    "   LEFT JOIN invoice_line AS il ON i.invoice_id = il.invoice_id\n",
    "   WHERE EXTRACT(YEAR\n",
    "                 FROM CAST(invoice_date AS date)) = 2010\n",
    "   GROUP BY month_invoice) AS t_2 ON t_1.month_invoice = t_2.month_invoice; "
   ]
  },
  {
   "cell_type": "markdown",
   "id": "cf8f9fd4-1e38-43eb-a391-1398d7296140",
   "metadata": {},
   "source": [
    "## Общие табличные выражения"
   ]
  },
  {
   "cell_type": "markdown",
   "id": "1c0f184a-1194-40b1-9ae2-c1aa20b150df",
   "metadata": {},
   "source": [
    "❗ К общим табличным выражениям нельзя обращаться после оператора WHERE."
   ]
  },
  {
   "cell_type": "code",
   "execution_count": null,
   "id": "09e9b83d-8aae-46f1-bb89-732d2364ee5b",
   "metadata": {},
   "outputs": [],
   "source": [
    "WITH\n",
    "-- назначение псевдонимов и формирование подзапросов\n",
    "псевдоним_1 AS (подзапрос_1),\n",
    "псевдоним_2 AS (подзапрос_2),\n",
    "псевдоним_3 AS (подзапрос_3),\n",
    "....\n",
    "псевдоним_n AS (подзапрос_n)\n",
    "\n",
    "SELECT -- основной запрос\n",
    "-- внутри основного запроса работают с псевдонимами, которые назначили в WITH\n",
    "FROM псевдоним_1 INNER JOIN псевдоним_2 ... \n",
    "...\n",
    "... "
   ]
  },
  {
   "cell_type": "markdown",
   "id": "76d8c14b-c8bf-4017-88f7-fb7589123be4",
   "metadata": {},
   "source": [
    "## Функции для работы со строками"
   ]
  },
  {
   "cell_type": "markdown",
   "id": "05bc5859-5446-4366-9394-2dd853df07ec",
   "metadata": {},
   "source": [
    "LENGTH возвращает длину строки,  \n",
    "INITCAP меняет первую букву каждого слова на заглавную,  \n",
    "LOWER и UPPER меняют регистр символов.  \n",
    "LTRIM и RTRIM удаляют символы слева и справа от указанной позиции.  \n",
    "REPLACE заменяет один символ на другой,  \n",
    "CONCAT объединяет несколько строк в одну."
   ]
  },
  {
   "cell_type": "markdown",
   "id": "2ee797c2-9ea8-4d45-ab3a-ffcfc2547929",
   "metadata": {},
   "source": [
    "|Функция\t|Описание\t|Пример\t|Результат|\n",
    "|-----------|-----------|-------|---------|\n",
    "|LENGTH\t|Возвращает длину строки\t|LENGTH('Привет!')\t|7|\n",
    "|INITCAP\t|Меняет первую букву каждого слова в строке на заглавную, а остальные буквы меняет на строчные\t|INITCAP('иванов александр')\t|Иванов Александр|\n",
    "|LOWER\t|Возвращает строку со всеми символами в нижнем регистре\t|LOWER('ПРИвет')\t|привет|\n",
    "|UPPER\t|Возвращает строку со всеми символами в верхнем регистре\t|UPPER('ПРИвет')\t|ПРИВЕТ|\n",
    "|LTRIM\t|Удаляет последние символы слева, которые передают функции\t|LTRIM('г. Санкт-Петербург', 'г.')\t|Санкт-Петербург|\n",
    "|RTRIM\t|Удаляет последние символы справа, которые передают функции\t|RTRIM('Санкт-Петербург г. ', 'г.')\t|Санкт-Петербург|\n",
    "|REPLACE\t|Возвращает строку, в которой все совпадения символов заменены на символы, которые передают функции\t|REPLACE('Санкт/Петербург', '/', '-')\t|Санкт-Петербург|\n",
    "|CONCAT\t|Объединяет несколько значений в одно\t|CONCAT('Петров', ' ', 'Александр', ' ', 'Александрович')|\tПетров Александр Александрович|\n"
   ]
  },
  {
   "cell_type": "code",
   "execution_count": null,
   "id": "e5853fe9-6ee2-49ab-9ced-fcff71b850af",
   "metadata": {},
   "outputs": [],
   "source": []
  }
 ],
 "metadata": {
  "kernelspec": {
   "display_name": "Python 3 (ipykernel)",
   "language": "python",
   "name": "python3"
  },
  "language_info": {
   "codemirror_mode": {
    "name": "ipython",
    "version": 3
   },
   "file_extension": ".py",
   "mimetype": "text/x-python",
   "name": "python",
   "nbconvert_exporter": "python",
   "pygments_lexer": "ipython3",
   "version": "3.9.13"
  }
 },
 "nbformat": 4,
 "nbformat_minor": 5
}
