{
 "cells": [
  {
   "cell_type": "markdown",
   "id": "f139b819-1df6-4361-992b-e2f12fedf39b",
   "metadata": {},
   "source": [
    "Проект __Маркетинговых исследований крупного Интернет-магазина__  \n",
    "\n",
    "В рамках маркетинговых исследований крупного Интернет-магазина анализируются и проверяются ряд гипотез, направленных на привлечение новых пользователей и увеличения прибыли.\n",
    "Работа включает в себя выбор приоритетных гипотез и проведения A/B-тестирования этих гипотез.\n"
   ]
  },
  {
   "cell_type": "markdown",
   "id": "6f776691-9ba1-45d1-9b60-4ada344c858c",
   "metadata": {},
   "source": [
    "Представлены данные с характеристиками гипотез (hypothesis.csv) и данные о пользователях (visitors.csv) и их покупках (orders.csv)."
   ]
  },
  {
   "cell_type": "markdown",
   "id": "7758e92a-cb82-430b-afe3-a0a8b67f1526",
   "metadata": {},
   "source": [
    "__Описание данных__  \n",
    "\n",
    "\n",
    "Файл /datasets/hypothesis.csv.\n",
    "\n",
    "    •\tHypothesis — краткое описание гипотезы;\n",
    "    •\tReach — охват пользователей по 10-балльной шкале;\n",
    "    •\tImpact — влияние на пользователей по 10-балльной шкале;\n",
    "    •\tConfidence — уверенность в гипотезе по 10-балльной шкале;\n",
    "    •\tEfforts — затраты ресурсов на проверку гипотезы по 10-балльной шкале. Чем больше значение Efforts, тем дороже проверка гипотезы.\n",
    "\n",
    "Файл /datasets/orders.csv. \n",
    "\n",
    "    •\ttransactionId — идентификатор заказа;\n",
    "    •\tvisitorId — идентификатор пользователя, совершившего заказ;\n",
    "    •\tdate — дата, когда был совершён заказ;\n",
    "    •\trevenue — выручка заказа;\n",
    "    •\tgroup — группа A/B-теста, в которую попал заказ.\n",
    "    \n",
    "Файл /datasets/visitors.csv. \n",
    "\n",
    "    •\tdate — дата;\n",
    "    •\tgroup — группа A/B-теста;\n",
    "    •\tvisitors — количество пользователей в указанную дату в указанной группе A/B-теста\n"
   ]
  },
  {
   "cell_type": "code",
   "execution_count": 1,
   "id": "2a0da9a3-f733-48c5-a907-51f87ba3840b",
   "metadata": {},
   "outputs": [],
   "source": [
    "import pandas as pd\n",
    "import matplotlib.pyplot as plt\n",
    "from scipy import stats as st\n",
    "import numpy as np\n",
    "import math as mth\n",
    "import scipy.stats as stats\n",
    "import seaborn as sns"
   ]
  },
  {
   "cell_type": "code",
   "execution_count": 2,
   "id": "1dd48e38-e909-42c9-87fe-32f257b4057d",
   "metadata": {},
   "outputs": [],
   "source": [
    "pd.options.display.max_colwidth = 400"
   ]
  },
  {
   "cell_type": "code",
   "execution_count": 3,
   "id": "2b9adceb-39df-4c38-91b7-c9138caaa424",
   "metadata": {},
   "outputs": [],
   "source": [
    "try: hypothesis = pd.read_csv(r'/datasets/hypothesis.csv')\n",
    "except: hypothesis = pd.read_csv(r'hypothesis.csv')"
   ]
  },
  {
   "cell_type": "code",
   "execution_count": 4,
   "id": "0f3873d9-8d68-4125-8a70-5d005a0c003d",
   "metadata": {
    "tags": []
   },
   "outputs": [],
   "source": [
    "# обработка наименований колонок\n",
    "def makeNames(df, column_dates=[], column_categories=[], column_dat=[], rename_col = True):\n",
    "    \n",
    "    #переименование колонок\n",
    "    if rename_col:\n",
    "        df.columns = df.columns.str.lower().str.replace(' ', '_')\n",
    "    \n",
    "    # # преобразование колонок с датами\n",
    "    # for column_date in column_dates:# преобразование колонок с датами\n",
    "    #     df[column_date] = pd.to_datetime(df[column_date])\n",
    "   \n",
    "    # преобразование колонок к дню\n",
    "    for column_date in column_dat:# преобразование колонок с датами\n",
    "        df[column_date] = pd.to_datetime(df[column_date]).dt.date\n",
    "    \n",
    "    \n",
    "    print('Общая информация')\n",
    "    df.info()\n",
    "    print('*'*50)\n",
    "    display(df.sample(5, random_state=123).T)\n",
    "    \n",
    "    # пропуски\n",
    "    # print('*'*50)\n",
    "    # print(f'Пропуски: {df.isna().sum()}')\n",
    "    \n",
    "    # проверка явных дублей\n",
    "    print('*'*50)\n",
    "    print(f'Явные дубли: {df.duplicated().sum()}')\n",
    "    \n",
    "    # проверка не явных дублей\n",
    "    print('*'*50)\n",
    "    print(f'Не явные дубли')\n",
    "    for column_categorie in column_categories:\n",
    "        print()\n",
    "        print(f'Колонка: {column_categorie}')\n",
    "        # print(df[column_categorie].unique())\n",
    "        print(df[column_categorie].value_counts())\n",
    "    return df"
   ]
  },
  {
   "cell_type": "code",
   "execution_count": 5,
   "id": "5c912382-4ff5-4142-adca-fc2950f70265",
   "metadata": {},
   "outputs": [
    {
     "name": "stdout",
     "output_type": "stream",
     "text": [
      "Общая информация\n",
      "<class 'pandas.core.frame.DataFrame'>\n",
      "RangeIndex: 9 entries, 0 to 8\n",
      "Data columns (total 5 columns):\n",
      " #   Column      Non-Null Count  Dtype \n",
      "---  ------      --------------  ----- \n",
      " 0   hypothesis  9 non-null      object\n",
      " 1   reach       9 non-null      int64 \n",
      " 2   impact      9 non-null      int64 \n",
      " 3   confidence  9 non-null      int64 \n",
      " 4   efforts     9 non-null      int64 \n",
      "dtypes: int64(4), object(1)\n",
      "memory usage: 488.0+ bytes\n",
      "**************************************************\n"
     ]
    },
    {
     "data": {
      "text/html": [
       "<div>\n",
       "<style scoped>\n",
       "    .dataframe tbody tr th:only-of-type {\n",
       "        vertical-align: middle;\n",
       "    }\n",
       "\n",
       "    .dataframe tbody tr th {\n",
       "        vertical-align: top;\n",
       "    }\n",
       "\n",
       "    .dataframe thead th {\n",
       "        text-align: right;\n",
       "    }\n",
       "</style>\n",
       "<table border=\"1\" class=\"dataframe\">\n",
       "  <thead>\n",
       "    <tr style=\"text-align: right;\">\n",
       "      <th></th>\n",
       "      <th>7</th>\n",
       "      <th>0</th>\n",
       "      <th>5</th>\n",
       "      <th>6</th>\n",
       "      <th>3</th>\n",
       "    </tr>\n",
       "  </thead>\n",
       "  <tbody>\n",
       "    <tr>\n",
       "      <th>hypothesis</th>\n",
       "      <td>Добавить форму подписки на все основные страницы, чтобы собрать базу клиентов для email-рассылок</td>\n",
       "      <td>Добавить два новых канала привлечения трафика, что позволит привлекать на 30% больше пользователей</td>\n",
       "      <td>Добавить страницу отзывов клиентов о магазине, что позволит увеличить количество заказов</td>\n",
       "      <td>Показать на главной странице баннеры с актуальными акциями и распродажами, чтобы увеличить конверсию</td>\n",
       "      <td>Изменить структура категорий, что увеличит конверсию, т.к. пользователи быстрее найдут нужный товар</td>\n",
       "    </tr>\n",
       "    <tr>\n",
       "      <th>reach</th>\n",
       "      <td>10</td>\n",
       "      <td>3</td>\n",
       "      <td>3</td>\n",
       "      <td>5</td>\n",
       "      <td>8</td>\n",
       "    </tr>\n",
       "    <tr>\n",
       "      <th>impact</th>\n",
       "      <td>7</td>\n",
       "      <td>10</td>\n",
       "      <td>2</td>\n",
       "      <td>3</td>\n",
       "      <td>3</td>\n",
       "    </tr>\n",
       "    <tr>\n",
       "      <th>confidence</th>\n",
       "      <td>8</td>\n",
       "      <td>8</td>\n",
       "      <td>2</td>\n",
       "      <td>8</td>\n",
       "      <td>3</td>\n",
       "    </tr>\n",
       "    <tr>\n",
       "      <th>efforts</th>\n",
       "      <td>5</td>\n",
       "      <td>6</td>\n",
       "      <td>3</td>\n",
       "      <td>3</td>\n",
       "      <td>8</td>\n",
       "    </tr>\n",
       "  </tbody>\n",
       "</table>\n",
       "</div>"
      ],
      "text/plain": [
       "                                                                                                           7  \\\n",
       "hypothesis  Добавить форму подписки на все основные страницы, чтобы собрать базу клиентов для email-рассылок   \n",
       "reach                                                                                                     10   \n",
       "impact                                                                                                     7   \n",
       "confidence                                                                                                 8   \n",
       "efforts                                                                                                    5   \n",
       "\n",
       "                                                                                                             0  \\\n",
       "hypothesis  Добавить два новых канала привлечения трафика, что позволит привлекать на 30% больше пользователей   \n",
       "reach                                                                                                        3   \n",
       "impact                                                                                                      10   \n",
       "confidence                                                                                                   8   \n",
       "efforts                                                                                                      6   \n",
       "\n",
       "                                                                                                   5  \\\n",
       "hypothesis  Добавить страницу отзывов клиентов о магазине, что позволит увеличить количество заказов   \n",
       "reach                                                                                              3   \n",
       "impact                                                                                             2   \n",
       "confidence                                                                                         2   \n",
       "efforts                                                                                            3   \n",
       "\n",
       "                                                                                                               6  \\\n",
       "hypothesis  Показать на главной странице баннеры с актуальными акциями и распродажами, чтобы увеличить конверсию   \n",
       "reach                                                                                                          5   \n",
       "impact                                                                                                         3   \n",
       "confidence                                                                                                     8   \n",
       "efforts                                                                                                        3   \n",
       "\n",
       "                                                                                                              3  \n",
       "hypothesis  Изменить структура категорий, что увеличит конверсию, т.к. пользователи быстрее найдут нужный товар  \n",
       "reach                                                                                                         8  \n",
       "impact                                                                                                        3  \n",
       "confidence                                                                                                    3  \n",
       "efforts                                                                                                       8  "
      ]
     },
     "metadata": {},
     "output_type": "display_data"
    },
    {
     "name": "stdout",
     "output_type": "stream",
     "text": [
      "**************************************************\n",
      "Явные дубли: 0\n",
      "**************************************************\n",
      "Не явные дубли\n",
      "\n",
      "Колонка: hypothesis\n",
      "Добавить два новых канала привлечения трафика, что позволит привлекать на 30% больше пользователей              1\n",
      "Запустить собственную службу доставки, что сократит срок доставки заказов                                       1\n",
      "Добавить блоки рекомендаций товаров на сайт интернет магазина, чтобы повысить конверсию и средний чек заказа    1\n",
      "Изменить структура категорий, что увеличит конверсию, т.к. пользователи быстрее найдут нужный товар             1\n",
      "Изменить цвет фона главной страницы, чтобы увеличить вовлеченность пользователей                                1\n",
      "Добавить страницу отзывов клиентов о магазине, что позволит увеличить количество заказов                        1\n",
      "Показать на главной странице баннеры с актуальными акциями и распродажами, чтобы увеличить конверсию            1\n",
      "Добавить форму подписки на все основные страницы, чтобы собрать базу клиентов для email-рассылок                1\n",
      "Запустить акцию, дающую скидку на товар в день рождения                                                         1\n",
      "Name: hypothesis, dtype: int64\n"
     ]
    }
   ],
   "source": [
    "column_categories = ['hypothesis']\n",
    "hypothesis = makeNames(hypothesis, [], column_categories)"
   ]
  },
  {
   "cell_type": "markdown",
   "id": "5f2b6f64-c66f-4ebf-8548-673c9250718a",
   "metadata": {
    "tags": []
   },
   "source": [
    "## Часть 1 Приоритизация гипотез"
   ]
  },
  {
   "cell_type": "markdown",
   "id": "3b446178-f0eb-421b-8a93-f6a10505b437",
   "metadata": {},
   "source": [
    "Для приоритизации гипотез используются параметры ICE и RICE"
   ]
  },
  {
   "cell_type": "markdown",
   "id": "76efd6bd-da91-4e46-b222-dd7e59c7e477",
   "metadata": {},
   "source": [
    "__ICE__ (от англ. impact, confidence, effort / ease «влияние, уверенность, усилия / простота»)"
   ]
  },
  {
   "cell_type": "markdown",
   "id": "c2fbb8b3-36d7-4a5d-b303-551d304b48e3",
   "metadata": {},
   "source": [
    "$$\n",
    "ICE = \\frac{влияние * уверенность * простота}{усилия}\n",
    "$$"
   ]
  },
  {
   "cell_type": "markdown",
   "id": "f76e1f1f-d4fd-4e65-b3be-32f50c897b64",
   "metadata": {},
   "source": [
    " RICE (R от англ. reach, «охват»):\n",
    "        \n",
    "Фреймворк RICE состоит из четырёх компонент:  \n",
    "    \n",
    "    Reach — скольких пользователей затронет изменение, которое вы хотите внести;\n",
    "    Impact — насколько сильно изменение повлияет на пользователей, их опыт и удовлетворение от продукта;\n",
    "    Confidence — насколько вы уверены, что это изменение повлияет на пользователей именно так; \n",
    "    Efforts — сколько стоит протестировать эту гипотезу. \n",
    "    "
   ]
  },
  {
   "cell_type": "markdown",
   "id": "55ac1123-6937-43cb-86e9-30ab7fbc73ba",
   "metadata": {},
   "source": [
    "$$\n",
    "RICE = \\frac{охват * влияние * уверенность * простота}{усилия}\n",
    "$$"
   ]
  },
  {
   "cell_type": "markdown",
   "id": "18c88a73-b2df-4697-ad80-bba1f2bbeb79",
   "metadata": {},
   "source": [
    "Параметры фреймворков ICE и RICE оценивают в удобных шкалах: например, от 0 до 10 или в числах ряда Фибоначчи."
   ]
  },
  {
   "cell_type": "code",
   "execution_count": 9,
   "id": "35e7565a-81f5-4082-aaf8-b4146fbfa37b",
   "metadata": {},
   "outputs": [],
   "source": [
    "hypothesis['ice'] = round(hypothesis['impact']*hypothesis['confidence']/hypothesis['efforts'])\n",
    "hypothesis['rice'] = round(hypothesis['reach']*hypothesis['impact']*hypothesis['confidence']/hypothesis['efforts'])"
   ]
  },
  {
   "cell_type": "code",
   "execution_count": 10,
   "id": "3955a435-f3f7-49d5-957a-971b65d865a2",
   "metadata": {},
   "outputs": [
    {
     "data": {
      "text/html": [
       "<style type=\"text/css\">\n",
       "#T_93129_row0_col1 {\n",
       "  background-color: #c9eab4;\n",
       "  color: #000000;\n",
       "}\n",
       "#T_93129_row0_col2, #T_93129_row6_col2 {\n",
       "  background-color: #234fa1;\n",
       "  color: #f1f1f1;\n",
       "}\n",
       "#T_93129_row1_col1 {\n",
       "  background-color: #fcfed3;\n",
       "  color: #000000;\n",
       "}\n",
       "#T_93129_row1_col2, #T_93129_row5_col2 {\n",
       "  background-color: #f7fcc6;\n",
       "  color: #000000;\n",
       "}\n",
       "#T_93129_row2_col1 {\n",
       "  background-color: #edf8b2;\n",
       "  color: #000000;\n",
       "}\n",
       "#T_93129_row2_col2, #T_93129_row7_col2 {\n",
       "  background-color: #081d58;\n",
       "  color: #f1f1f1;\n",
       "}\n",
       "#T_93129_row3_col1, #T_93129_row4_col1, #T_93129_row5_col1 {\n",
       "  background-color: #ffffd9;\n",
       "  color: #000000;\n",
       "}\n",
       "#T_93129_row3_col2 {\n",
       "  background-color: #e2f4b2;\n",
       "  color: #000000;\n",
       "}\n",
       "#T_93129_row4_col2 {\n",
       "  background-color: #f9fdcc;\n",
       "  color: #000000;\n",
       "}\n",
       "#T_93129_row6_col1 {\n",
       "  background-color: #e8f6b1;\n",
       "  color: #000000;\n",
       "}\n",
       "#T_93129_row7_col1 {\n",
       "  background-color: #d5efb3;\n",
       "  color: #000000;\n",
       "}\n",
       "#T_93129_row8_col1, #T_93129_row8_col2 {\n",
       "  background-color: #a7dcb7;\n",
       "  color: #000000;\n",
       "}\n",
       "</style>\n",
       "<table id=\"T_93129\">\n",
       "  <caption>Weather Conditions</caption>\n",
       "  <thead>\n",
       "    <tr>\n",
       "      <th class=\"blank level0\" >&nbsp;</th>\n",
       "      <th id=\"T_93129_level0_col0\" class=\"col_heading level0 col0\" >hypothesis</th>\n",
       "      <th id=\"T_93129_level0_col1\" class=\"col_heading level0 col1\" >ICE</th>\n",
       "      <th id=\"T_93129_level0_col2\" class=\"col_heading level0 col2\" >RICE</th>\n",
       "    </tr>\n",
       "  </thead>\n",
       "  <tbody>\n",
       "    <tr>\n",
       "      <th id=\"T_93129_level0_row0\" class=\"row_heading level0 row0\" >0</th>\n",
       "      <td id=\"T_93129_row0_col0\" class=\"data row0 col0\" >Добавить два новых канала привлечения трафика, что позволит привлекать на 30% больше пользователей</td>\n",
       "      <td id=\"T_93129_row0_col1\" class=\"data row0 col1\" >13.000000</td>\n",
       "      <td id=\"T_93129_row0_col2\" class=\"data row0 col2\" >40.000000</td>\n",
       "    </tr>\n",
       "    <tr>\n",
       "      <th id=\"T_93129_level0_row1\" class=\"row_heading level0 row1\" >1</th>\n",
       "      <td id=\"T_93129_row1_col0\" class=\"data row1 col0\" >Запустить собственную службу доставки, что сократит срок доставки заказов</td>\n",
       "      <td id=\"T_93129_row1_col1\" class=\"data row1 col1\" >2.000000</td>\n",
       "      <td id=\"T_93129_row1_col2\" class=\"data row1 col2\" >4.000000</td>\n",
       "    </tr>\n",
       "    <tr>\n",
       "      <th id=\"T_93129_level0_row2\" class=\"row_heading level0 row2\" >2</th>\n",
       "      <td id=\"T_93129_row2_col0\" class=\"data row2 col0\" >Добавить блоки рекомендаций товаров на сайт интернет магазина, чтобы повысить конверсию и средний чек заказа</td>\n",
       "      <td id=\"T_93129_row2_col1\" class=\"data row2 col1\" >7.000000</td>\n",
       "      <td id=\"T_93129_row2_col2\" class=\"data row2 col2\" >56.000000</td>\n",
       "    </tr>\n",
       "    <tr>\n",
       "      <th id=\"T_93129_level0_row3\" class=\"row_heading level0 row3\" >3</th>\n",
       "      <td id=\"T_93129_row3_col0\" class=\"data row3 col0\" >Изменить структура категорий, что увеличит конверсию, т.к. пользователи быстрее найдут нужный товар</td>\n",
       "      <td id=\"T_93129_row3_col1\" class=\"data row3 col1\" >1.000000</td>\n",
       "      <td id=\"T_93129_row3_col2\" class=\"data row3 col2\" >9.000000</td>\n",
       "    </tr>\n",
       "    <tr>\n",
       "      <th id=\"T_93129_level0_row4\" class=\"row_heading level0 row4\" >4</th>\n",
       "      <td id=\"T_93129_row4_col0\" class=\"data row4 col0\" >Изменить цвет фона главной страницы, чтобы увеличить вовлеченность пользователей</td>\n",
       "      <td id=\"T_93129_row4_col1\" class=\"data row4 col1\" >1.000000</td>\n",
       "      <td id=\"T_93129_row4_col2\" class=\"data row4 col2\" >3.000000</td>\n",
       "    </tr>\n",
       "    <tr>\n",
       "      <th id=\"T_93129_level0_row5\" class=\"row_heading level0 row5\" >5</th>\n",
       "      <td id=\"T_93129_row5_col0\" class=\"data row5 col0\" >Добавить страницу отзывов клиентов о магазине, что позволит увеличить количество заказов</td>\n",
       "      <td id=\"T_93129_row5_col1\" class=\"data row5 col1\" >1.000000</td>\n",
       "      <td id=\"T_93129_row5_col2\" class=\"data row5 col2\" >4.000000</td>\n",
       "    </tr>\n",
       "    <tr>\n",
       "      <th id=\"T_93129_level0_row6\" class=\"row_heading level0 row6\" >6</th>\n",
       "      <td id=\"T_93129_row6_col0\" class=\"data row6 col0\" >Показать на главной странице баннеры с актуальными акциями и распродажами, чтобы увеличить конверсию</td>\n",
       "      <td id=\"T_93129_row6_col1\" class=\"data row6 col1\" >8.000000</td>\n",
       "      <td id=\"T_93129_row6_col2\" class=\"data row6 col2\" >40.000000</td>\n",
       "    </tr>\n",
       "    <tr>\n",
       "      <th id=\"T_93129_level0_row7\" class=\"row_heading level0 row7\" >7</th>\n",
       "      <td id=\"T_93129_row7_col0\" class=\"data row7 col0\" >Добавить форму подписки на все основные страницы, чтобы собрать базу клиентов для email-рассылок</td>\n",
       "      <td id=\"T_93129_row7_col1\" class=\"data row7 col1\" >11.000000</td>\n",
       "      <td id=\"T_93129_row7_col2\" class=\"data row7 col2\" >112.000000</td>\n",
       "    </tr>\n",
       "    <tr>\n",
       "      <th id=\"T_93129_level0_row8\" class=\"row_heading level0 row8\" >8</th>\n",
       "      <td id=\"T_93129_row8_col0\" class=\"data row8 col0\" >Запустить акцию, дающую скидку на товар в день рождения</td>\n",
       "      <td id=\"T_93129_row8_col1\" class=\"data row8 col1\" >16.000000</td>\n",
       "      <td id=\"T_93129_row8_col2\" class=\"data row8 col2\" >16.000000</td>\n",
       "    </tr>\n",
       "  </tbody>\n",
       "</table>\n"
      ],
      "text/plain": [
       "<pandas.io.formats.style.Styler at 0x197411ecb80>"
      ]
     },
     "execution_count": 10,
     "metadata": {},
     "output_type": "execute_result"
    }
   ],
   "source": [
    "def make_pretty(styler):\n",
    "    styler.set_caption(\"Weather Conditions\")\n",
    "    styler.background_gradient(axis=None, vmin=1, vmax=50, cmap=\"YlGnBu\")\n",
    "    return styler\n",
    "\n",
    "hypothesis[['hypothesis', 'ICE', 'RICE']].style.pipe(make_pretty)"
   ]
  },
  {
   "cell_type": "markdown",
   "id": "dbadcf0d-75ec-49e2-af63-72040892b33a",
   "metadata": {},
   "source": [
    "Наиболее приоритетной гипотезой согласно модели ICE является __«Запустить акцию, дающую скидку на товар в день рождения»__ с 16 баллами.  \n",
    "\n",
    "Если в расчет добавим охват, то получим модель RICE, согласно которой более перспективной будет гипотеза __«Добавить форму подписки на все основные страницы, чтобы собрать базу клиентов для email-рассылок»__."
   ]
  },
  {
   "cell_type": "code",
   "execution_count": 12,
   "id": "c41a579b-7c12-4904-8c84-d7d617423667",
   "metadata": {},
   "outputs": [
    {
     "data": {
      "image/png": "[encoded data removed]",
      "text/plain": [
       "<Figure size 1500x1000 with 1 Axes>"
      ]
     },
     "metadata": {},
     "output_type": "display_data"
    }
   ],
   "source": [
    "# Сначала проранжировать гипотезы, \n",
    "ice = hypothesis[['hypothesis', 'ice']].sort_values(by='ice').reset_index(drop=True).reset_index().drop('ice', axis=1)\n",
    "rice = hypothesis[['hypothesis', 'rice']].sort_values(by='rice').reset_index(drop=True).reset_index().drop('rice', axis=1)\n",
    "\n",
    "combo = ice.merge(rice, on='hypothesis')\n",
    "combo = combo.set_axis(['ice', 'hypothesis', 'rice'], axis=1)\n",
    "\n",
    "# И построить график\n",
    "fig, ax = plt.subplots(figsize=(15, 10))\n",
    "\n",
    "for i in hypothesis.index:\n",
    "    ax.plot(combo.iloc[i, [0, 2]], marker ='o', label=f'{combo.iloc[i, 1]}')\n",
    "plt.ylabel('Значимость гипотезы')\n",
    "plt.ylim(-1, 15)\n",
    "plt.xlim(-3, 4)\n",
    "plt.grid(linestyle='-', linewidth=0.5)\n",
    "plt.legend(loc='upper right', fontsize='large')\n",
    "plt.title('Изменение приоритета гипотез')\n",
    "plt.show()"
   ]
  },
  {
   "cell_type": "markdown",
   "id": "95738702-a48b-4539-8ce5-6b606c8c6885",
   "metadata": {
    "tags": []
   },
   "source": [
    "## Часть 2. Анализ A/B-теста"
   ]
  },
  {
   "cell_type": "code",
   "execution_count": 8,
   "id": "40f092a5-f611-4aa6-8ebd-9a5009424958",
   "metadata": {},
   "outputs": [],
   "source": [
    "try: orders = pd.read_csv(r'/datasets/orders.csv', parse_dates=['date'], dayfirst=True)\n",
    "except: orders = pd.read_csv(r'orders.csv', parse_dates=['date'], dayfirst=True)\n",
    "\n",
    "try: visitors = pd.read_csv(r'/datasets/visitors.csv', parse_dates=['date'], dayfirst=True)\n",
    "except: visitors = pd.read_csv(r'visitors.csv', parse_dates=['date'], dayfirst=True)"
   ]
  },
  {
   "cell_type": "code",
   "execution_count": 9,
   "id": "28293943-edd2-4d8c-b114-88de0302381a",
   "metadata": {},
   "outputs": [
    {
     "name": "stdout",
     "output_type": "stream",
     "text": [
      "Общая информация\n",
      "<class 'pandas.core.frame.DataFrame'>\n",
      "RangeIndex: 1197 entries, 0 to 1196\n",
      "Data columns (total 5 columns):\n",
      " #   Column         Non-Null Count  Dtype         \n",
      "---  ------         --------------  -----         \n",
      " 0   transactionId  1197 non-null   int64         \n",
      " 1   visitorId      1197 non-null   int64         \n",
      " 2   date           1197 non-null   datetime64[ns]\n",
      " 3   revenue        1197 non-null   int64         \n",
      " 4   group          1197 non-null   object        \n",
      "dtypes: datetime64[ns](1), int64(3), object(1)\n",
      "memory usage: 46.9+ KB\n",
      "**************************************************\n"
     ]
    },
    {
     "data": {
      "text/html": [
       "<div>\n",
       "<style scoped>\n",
       "    .dataframe tbody tr th:only-of-type {\n",
       "        vertical-align: middle;\n",
       "    }\n",
       "\n",
       "    .dataframe tbody tr th {\n",
       "        vertical-align: top;\n",
       "    }\n",
       "\n",
       "    .dataframe thead th {\n",
       "        text-align: right;\n",
       "    }\n",
       "</style>\n",
       "<table border=\"1\" class=\"dataframe\">\n",
       "  <thead>\n",
       "    <tr style=\"text-align: right;\">\n",
       "      <th></th>\n",
       "      <th>156</th>\n",
       "      <th>529</th>\n",
       "      <th>856</th>\n",
       "      <th>895</th>\n",
       "      <th>35</th>\n",
       "    </tr>\n",
       "  </thead>\n",
       "  <tbody>\n",
       "    <tr>\n",
       "      <th>transactionId</th>\n",
       "      <td>2531740433</td>\n",
       "      <td>90109939</td>\n",
       "      <td>2318242783</td>\n",
       "      <td>1646874005</td>\n",
       "      <td>2258664213</td>\n",
       "    </tr>\n",
       "    <tr>\n",
       "      <th>visitorId</th>\n",
       "      <td>3131127734</td>\n",
       "      <td>2075769885</td>\n",
       "      <td>1634934899</td>\n",
       "      <td>2306096143</td>\n",
       "      <td>258610743</td>\n",
       "    </tr>\n",
       "    <tr>\n",
       "      <th>date</th>\n",
       "      <td>2019-08-22 00:00:00</td>\n",
       "      <td>2019-08-19 00:00:00</td>\n",
       "      <td>2019-08-27 00:00:00</td>\n",
       "      <td>2019-08-21 00:00:00</td>\n",
       "      <td>2019-08-15 00:00:00</td>\n",
       "    </tr>\n",
       "    <tr>\n",
       "      <th>revenue</th>\n",
       "      <td>8090</td>\n",
       "      <td>3525</td>\n",
       "      <td>770</td>\n",
       "      <td>13354</td>\n",
       "      <td>2355</td>\n",
       "    </tr>\n",
       "    <tr>\n",
       "      <th>group</th>\n",
       "      <td>B</td>\n",
       "      <td>B</td>\n",
       "      <td>B</td>\n",
       "      <td>A</td>\n",
       "      <td>B</td>\n",
       "    </tr>\n",
       "  </tbody>\n",
       "</table>\n",
       "</div>"
      ],
      "text/plain": [
       "                               156                  529                  856  \\\n",
       "transactionId           2531740433             90109939           2318242783   \n",
       "visitorId               3131127734           2075769885           1634934899   \n",
       "date           2019-08-22 00:00:00  2019-08-19 00:00:00  2019-08-27 00:00:00   \n",
       "revenue                       8090                 3525                  770   \n",
       "group                            B                    B                    B   \n",
       "\n",
       "                               895                  35   \n",
       "transactionId           1646874005           2258664213  \n",
       "visitorId               2306096143            258610743  \n",
       "date           2019-08-21 00:00:00  2019-08-15 00:00:00  \n",
       "revenue                      13354                 2355  \n",
       "group                            A                    B  "
      ]
     },
     "metadata": {},
     "output_type": "display_data"
    },
    {
     "name": "stdout",
     "output_type": "stream",
     "text": [
      "**************************************************\n",
      "Явные дубли: 0\n",
      "**************************************************\n",
      "Не явные дубли\n",
      "\n",
      "Колонка: group\n",
      "B    640\n",
      "A    557\n",
      "Name: group, dtype: int64\n"
     ]
    }
   ],
   "source": [
    "orders = makeNames(orders, [], ['group'], rename_col = False)"
   ]
  },
  {
   "cell_type": "code",
   "execution_count": 10,
   "id": "adcee050-60ed-47bd-b1d7-760c062bee33",
   "metadata": {},
   "outputs": [
    {
     "name": "stdout",
     "output_type": "stream",
     "text": [
      "Общая информация\n",
      "<class 'pandas.core.frame.DataFrame'>\n",
      "RangeIndex: 62 entries, 0 to 61\n",
      "Data columns (total 3 columns):\n",
      " #   Column    Non-Null Count  Dtype         \n",
      "---  ------    --------------  -----         \n",
      " 0   date      62 non-null     datetime64[ns]\n",
      " 1   group     62 non-null     object        \n",
      " 2   visitors  62 non-null     int64         \n",
      "dtypes: datetime64[ns](1), int64(1), object(1)\n",
      "memory usage: 1.6+ KB\n",
      "**************************************************\n"
     ]
    },
    {
     "data": {
      "text/html": [
       "<div>\n",
       "<style scoped>\n",
       "    .dataframe tbody tr th:only-of-type {\n",
       "        vertical-align: middle;\n",
       "    }\n",
       "\n",
       "    .dataframe tbody tr th {\n",
       "        vertical-align: top;\n",
       "    }\n",
       "\n",
       "    .dataframe thead th {\n",
       "        text-align: right;\n",
       "    }\n",
       "</style>\n",
       "<table border=\"1\" class=\"dataframe\">\n",
       "  <thead>\n",
       "    <tr style=\"text-align: right;\">\n",
       "      <th></th>\n",
       "      <th>24</th>\n",
       "      <th>39</th>\n",
       "      <th>15</th>\n",
       "      <th>31</th>\n",
       "      <th>43</th>\n",
       "    </tr>\n",
       "  </thead>\n",
       "  <tbody>\n",
       "    <tr>\n",
       "      <th>date</th>\n",
       "      <td>2019-08-25 00:00:00</td>\n",
       "      <td>2019-08-09 00:00:00</td>\n",
       "      <td>2019-08-16 00:00:00</td>\n",
       "      <td>2019-08-01 00:00:00</td>\n",
       "      <td>2019-08-13 00:00:00</td>\n",
       "    </tr>\n",
       "    <tr>\n",
       "      <th>group</th>\n",
       "      <td>A</td>\n",
       "      <td>B</td>\n",
       "      <td>A</td>\n",
       "      <td>B</td>\n",
       "      <td>B</td>\n",
       "    </tr>\n",
       "    <tr>\n",
       "      <th>visitors</th>\n",
       "      <td>621</td>\n",
       "      <td>610</td>\n",
       "      <td>361</td>\n",
       "      <td>713</td>\n",
       "      <td>769</td>\n",
       "    </tr>\n",
       "  </tbody>\n",
       "</table>\n",
       "</div>"
      ],
      "text/plain": [
       "                           24                   39                   15  \\\n",
       "date      2019-08-25 00:00:00  2019-08-09 00:00:00  2019-08-16 00:00:00   \n",
       "group                       A                    B                    A   \n",
       "visitors                  621                  610                  361   \n",
       "\n",
       "                           31                   43  \n",
       "date      2019-08-01 00:00:00  2019-08-13 00:00:00  \n",
       "group                       B                    B  \n",
       "visitors                  713                  769  "
      ]
     },
     "metadata": {},
     "output_type": "display_data"
    },
    {
     "name": "stdout",
     "output_type": "stream",
     "text": [
      "**************************************************\n",
      "Явные дубли: 0\n",
      "**************************************************\n",
      "Не явные дубли\n",
      "\n",
      "Колонка: group\n",
      "A    31\n",
      "B    31\n",
      "Name: group, dtype: int64\n"
     ]
    }
   ],
   "source": [
    "visitors = makeNames(visitors, [], ['group'], rename_col = False)"
   ]
  },
  {
   "cell_type": "code",
   "execution_count": 11,
   "id": "20aea0d7-7444-47a3-a68b-4fb90ba81ba0",
   "metadata": {},
   "outputs": [],
   "source": [
    "# пользователи, встречающиеся как в группе А так и в группе B\n",
    "visitorId_A = orders[orders['group'] == 'A']['visitorId'].unique()\n",
    "orders_A_B = orders[orders['group'] == 'B'].query('visitorId in @visitorId_A')['visitorId'].unique()"
   ]
  },
  {
   "cell_type": "code",
   "execution_count": 12,
   "id": "3f429162-615f-45b3-a3d2-eae501dedac9",
   "metadata": {},
   "outputs": [
    {
     "data": {
      "text/plain": [
       "transactionId    89\n",
       "visitorId        58\n",
       "date             27\n",
       "revenue          82\n",
       "group             1\n",
       "dtype: int64"
      ]
     },
     "execution_count": 12,
     "metadata": {},
     "output_type": "execute_result"
    }
   ],
   "source": [
    "# много ли таких записей в группе В\n",
    "orders[np.logical_and(orders['group'] == 'A', orders['visitorId'].isin(orders_A_B))].nunique()"
   ]
  },
  {
   "cell_type": "code",
   "execution_count": 13,
   "id": "ffb08179-fb8d-4ba7-aada-edfae861244f",
   "metadata": {},
   "outputs": [
    {
     "data": {
      "text/plain": [
       "15"
      ]
     },
     "execution_count": 13,
     "metadata": {},
     "output_type": "execute_result"
    }
   ],
   "source": [
    "round(len(orders[orders['visitorId'].isin(orders_A_B)])/len(orders)*100)"
   ]
  },
  {
   "cell_type": "code",
   "execution_count": 14,
   "id": "dd53d16a-d6e3-44b9-a0b4-f4b73f8858db",
   "metadata": {},
   "outputs": [
    {
     "data": {
      "text/plain": [
       "1016"
      ]
     },
     "execution_count": 14,
     "metadata": {},
     "output_type": "execute_result"
    }
   ],
   "source": [
    "orders = orders.query('visitorId not in @orders_A_B')\n",
    "len(orders)"
   ]
  },
  {
   "cell_type": "code",
   "execution_count": 15,
   "id": "718dbb70-44e0-449c-9ae1-f5ada3312444",
   "metadata": {},
   "outputs": [],
   "source": [
    "# подготовка данных\n",
    "visitorsADaily = visitors[visitors['group'] == 'A'][['date', 'visitors']]\n",
    "visitorsADaily.columns = ['date', 'visitorsPerDateA']\n",
    "\n",
    "visitorsACummulative = visitorsADaily.apply(\n",
    "    lambda x: visitorsADaily[visitorsADaily['date'] <= x['date']].agg(\n",
    "        {'date': 'max', 'visitorsPerDateA': 'sum'}\n",
    "    ),\n",
    "    axis=1,\n",
    ")\n",
    "visitorsACummulative.columns = ['date', 'visitorsCummulativeA']\n",
    "\n",
    "visitorsBDaily = visitors[visitors['group'] == 'B'][['date', 'visitors']]\n",
    "visitorsBDaily.columns = ['date', 'visitorsPerDateB']\n",
    "\n",
    "visitorsBCummulative = visitorsBDaily.apply(\n",
    "    lambda x: visitorsBDaily[visitorsBDaily['date'] <= x['date']].agg(\n",
    "        {'date': 'max', 'visitorsPerDateB': 'sum'}\n",
    "    ),\n",
    "    axis=1,\n",
    ")\n",
    "visitorsBCummulative.columns = ['date', 'visitorsCummulativeB']"
   ]
  },
  {
   "cell_type": "code",
   "execution_count": 16,
   "id": "b343986b-a673-4c1c-b33d-10af05e164f9",
   "metadata": {},
   "outputs": [
    {
     "data": {
      "text/html": [
       "<div>\n",
       "<style scoped>\n",
       "    .dataframe tbody tr th:only-of-type {\n",
       "        vertical-align: middle;\n",
       "    }\n",
       "\n",
       "    .dataframe tbody tr th {\n",
       "        vertical-align: top;\n",
       "    }\n",
       "\n",
       "    .dataframe thead th {\n",
       "        text-align: right;\n",
       "    }\n",
       "</style>\n",
       "<table border=\"1\" class=\"dataframe\">\n",
       "  <thead>\n",
       "    <tr style=\"text-align: right;\">\n",
       "      <th></th>\n",
       "      <th>0</th>\n",
       "      <th>1</th>\n",
       "      <th>2</th>\n",
       "      <th>3</th>\n",
       "      <th>4</th>\n",
       "    </tr>\n",
       "  </thead>\n",
       "  <tbody>\n",
       "    <tr>\n",
       "      <th>date</th>\n",
       "      <td>2019-08-01 00:00:00</td>\n",
       "      <td>2019-08-02 00:00:00</td>\n",
       "      <td>2019-08-03 00:00:00</td>\n",
       "      <td>2019-08-04 00:00:00</td>\n",
       "      <td>2019-08-05 00:00:00</td>\n",
       "    </tr>\n",
       "    <tr>\n",
       "      <th>ordersPerDateA</th>\n",
       "      <td>23</td>\n",
       "      <td>19</td>\n",
       "      <td>24</td>\n",
       "      <td>11</td>\n",
       "      <td>22</td>\n",
       "    </tr>\n",
       "    <tr>\n",
       "      <th>revenuePerDateA</th>\n",
       "      <td>142779</td>\n",
       "      <td>91602</td>\n",
       "      <td>112473</td>\n",
       "      <td>41176</td>\n",
       "      <td>86383</td>\n",
       "    </tr>\n",
       "    <tr>\n",
       "      <th>ordersPerDateB</th>\n",
       "      <td>17</td>\n",
       "      <td>23</td>\n",
       "      <td>14</td>\n",
       "      <td>14</td>\n",
       "      <td>21</td>\n",
       "    </tr>\n",
       "    <tr>\n",
       "      <th>revenuePerDateB</th>\n",
       "      <td>59758</td>\n",
       "      <td>162043</td>\n",
       "      <td>67049</td>\n",
       "      <td>96890</td>\n",
       "      <td>89908</td>\n",
       "    </tr>\n",
       "    <tr>\n",
       "      <th>ordersCummulativeA</th>\n",
       "      <td>23</td>\n",
       "      <td>42</td>\n",
       "      <td>66</td>\n",
       "      <td>77</td>\n",
       "      <td>99</td>\n",
       "    </tr>\n",
       "    <tr>\n",
       "      <th>revenueCummulativeA</th>\n",
       "      <td>142779</td>\n",
       "      <td>234381</td>\n",
       "      <td>346854</td>\n",
       "      <td>388030</td>\n",
       "      <td>474413</td>\n",
       "    </tr>\n",
       "    <tr>\n",
       "      <th>ordersCummulativeB</th>\n",
       "      <td>17</td>\n",
       "      <td>40</td>\n",
       "      <td>54</td>\n",
       "      <td>68</td>\n",
       "      <td>89</td>\n",
       "    </tr>\n",
       "    <tr>\n",
       "      <th>revenueCummulativeB</th>\n",
       "      <td>59758</td>\n",
       "      <td>221801</td>\n",
       "      <td>288850</td>\n",
       "      <td>385740</td>\n",
       "      <td>475648</td>\n",
       "    </tr>\n",
       "    <tr>\n",
       "      <th>visitorsPerDateA</th>\n",
       "      <td>719</td>\n",
       "      <td>619</td>\n",
       "      <td>507</td>\n",
       "      <td>717</td>\n",
       "      <td>756</td>\n",
       "    </tr>\n",
       "    <tr>\n",
       "      <th>visitorsPerDateB</th>\n",
       "      <td>713</td>\n",
       "      <td>581</td>\n",
       "      <td>509</td>\n",
       "      <td>770</td>\n",
       "      <td>707</td>\n",
       "    </tr>\n",
       "    <tr>\n",
       "      <th>visitorsCummulativeA</th>\n",
       "      <td>719</td>\n",
       "      <td>1338</td>\n",
       "      <td>1845</td>\n",
       "      <td>2562</td>\n",
       "      <td>3318</td>\n",
       "    </tr>\n",
       "    <tr>\n",
       "      <th>visitorsCummulativeB</th>\n",
       "      <td>713</td>\n",
       "      <td>1294</td>\n",
       "      <td>1803</td>\n",
       "      <td>2573</td>\n",
       "      <td>3280</td>\n",
       "    </tr>\n",
       "  </tbody>\n",
       "</table>\n",
       "</div>"
      ],
      "text/plain": [
       "                                        0                    1  \\\n",
       "date                  2019-08-01 00:00:00  2019-08-02 00:00:00   \n",
       "ordersPerDateA                         23                   19   \n",
       "revenuePerDateA                    142779                91602   \n",
       "ordersPerDateB                         17                   23   \n",
       "revenuePerDateB                     59758               162043   \n",
       "ordersCummulativeA                     23                   42   \n",
       "revenueCummulativeA                142779               234381   \n",
       "ordersCummulativeB                     17                   40   \n",
       "revenueCummulativeB                 59758               221801   \n",
       "visitorsPerDateA                      719                  619   \n",
       "visitorsPerDateB                      713                  581   \n",
       "visitorsCummulativeA                  719                 1338   \n",
       "visitorsCummulativeB                  713                 1294   \n",
       "\n",
       "                                        2                    3  \\\n",
       "date                  2019-08-03 00:00:00  2019-08-04 00:00:00   \n",
       "ordersPerDateA                         24                   11   \n",
       "revenuePerDateA                    112473                41176   \n",
       "ordersPerDateB                         14                   14   \n",
       "revenuePerDateB                     67049                96890   \n",
       "ordersCummulativeA                     66                   77   \n",
       "revenueCummulativeA                346854               388030   \n",
       "ordersCummulativeB                     54                   68   \n",
       "revenueCummulativeB                288850               385740   \n",
       "visitorsPerDateA                      507                  717   \n",
       "visitorsPerDateB                      509                  770   \n",
       "visitorsCummulativeA                 1845                 2562   \n",
       "visitorsCummulativeB                 1803                 2573   \n",
       "\n",
       "                                        4  \n",
       "date                  2019-08-05 00:00:00  \n",
       "ordersPerDateA                         22  \n",
       "revenuePerDateA                     86383  \n",
       "ordersPerDateB                         21  \n",
       "revenuePerDateB                     89908  \n",
       "ordersCummulativeA                     99  \n",
       "revenueCummulativeA                474413  \n",
       "ordersCummulativeB                     89  \n",
       "revenueCummulativeB                475648  \n",
       "visitorsPerDateA                      756  \n",
       "visitorsPerDateB                      707  \n",
       "visitorsCummulativeA                 3318  \n",
       "visitorsCummulativeB                 3280  "
      ]
     },
     "execution_count": 16,
     "metadata": {},
     "output_type": "execute_result"
    }
   ],
   "source": [
    "ordersADaily = (\n",
    "    orders[orders['group'] == 'A'][['date', 'transactionId', 'visitorId', 'revenue']]\n",
    "    .groupby('date', as_index=False)\n",
    "    .agg({'transactionId': pd.Series.nunique, 'revenue': 'sum'})\n",
    ")\n",
    "ordersADaily.columns = ['date', 'ordersPerDateA', 'revenuePerDateA']\n",
    "\n",
    "ordersACummulative = ordersADaily.apply(\n",
    "    lambda x: ordersADaily[ordersADaily['date'] <= x['date']].agg(\n",
    "        {'date': 'max', 'ordersPerDateA': 'sum', 'revenuePerDateA': 'sum'}\n",
    "    ),\n",
    "    axis=1,\n",
    ").sort_values(by=['date'])\n",
    "ordersACummulative.columns = [\n",
    "    'date',\n",
    "    'ordersCummulativeA',\n",
    "    'revenueCummulativeA',\n",
    "]\n",
    "\n",
    "ordersBDaily = (\n",
    "    orders[orders['group'] == 'B'][['date', 'transactionId', 'visitorId', 'revenue']]\n",
    "    .groupby('date', as_index=False)\n",
    "    .agg({'transactionId': pd.Series.nunique, 'revenue': 'sum'})\n",
    ")\n",
    "ordersBDaily.columns = ['date', 'ordersPerDateB', 'revenuePerDateB']\n",
    "\n",
    "ordersBCummulative = ordersBDaily.apply(\n",
    "    lambda x: ordersBDaily[ordersBDaily['date'] <= x['date']].agg(\n",
    "        {'date': 'max', 'ordersPerDateB': 'sum', 'revenuePerDateB': 'sum'}\n",
    "    ),\n",
    "    axis=1,\n",
    ").sort_values(by=['date'])\n",
    "ordersBCummulative.columns = [\n",
    "    'date',\n",
    "    'ordersCummulativeB',\n",
    "    'revenueCummulativeB',\n",
    "]\n",
    "\n",
    "data = (\n",
    "    ordersADaily.merge(\n",
    "        ordersBDaily, left_on='date', right_on='date', how='left'\n",
    "    )\n",
    "    .merge(ordersACummulative, left_on='date', right_on='date', how='left')\n",
    "    .merge(ordersBCummulative, left_on='date', right_on='date', how='left')\n",
    "    .merge(visitorsADaily, left_on='date', right_on='date', how='left')\n",
    "    .merge(visitorsBDaily, left_on='date', right_on='date', how='left')\n",
    "    .merge(visitorsACummulative, left_on='date', right_on='date', how='left')\n",
    "    .merge(visitorsBCummulative, left_on='date', right_on='date', how='left')\n",
    ")\n",
    "\n",
    "data.head(5).T "
   ]
  },
  {
   "cell_type": "markdown",
   "id": "46949b4c-5b81-456c-b3a9-77c1b3ccb53d",
   "metadata": {},
   "source": [
    "Напомним названия столбцов данных:  \n",
    "\n",
    "    date — дата;\n",
    "    ordersPerDateA — количество заказов в выбранную дату в группе A;\n",
    "    revenuePerDateA — суммарная выручка в выбранную дату в группе A;\n",
    "    ordersPerDateB — количество заказов в выбранную дату в группе B;\n",
    "    revenuePerDateB — суммарная выручка в выбранную дату в группе B;\n",
    "    ordersCummulativeA — суммарное число заказов до выбранной даты включительно в группе A;\n",
    "    revenueCummulativeA — суммарная выручка до выбранной даты включительно в группе A;\n",
    "    ordersCummulativeB — суммарное количество заказов до выбранной даты включительно в группе B;\n",
    "    revenueCummulativeB — суммарная выручка до выбранной даты включительно в группе B;\n",
    "    visitorsPerDateA — количество пользователей в выбранную дату в группе A;\n",
    "    visitorsPerDateB — количество пользователей в выбранную дату в группе B;\n",
    "    visitorsCummulativeA — количество пользователей до выбранной даты включительно в группе A;\n",
    "    visitorsCummulativeB — количество пользователей до выбранной даты включительно в группе B."
   ]
  },
  {
   "cell_type": "code",
   "execution_count": 17,
   "id": "39be2d59-fea4-4b9f-91b9-b715d1ccf6a9",
   "metadata": {},
   "outputs": [
    {
     "name": "stdout",
     "output_type": "stream",
     "text": [
      "2019-08-01 00:00:00 2019-08-31 00:00:00\n"
     ]
    }
   ],
   "source": [
    "#данные даны за один месяц, для удобства отображения на графики представим дату как день месяца  \n",
    "print(data['date'].min(), data['date'].max())\n",
    "data['day'] = pd.DatetimeIndex(data['date']).day"
   ]
  },
  {
   "cell_type": "code",
   "execution_count": 18,
   "id": "6d6a9723-5f6e-4d42-8fae-d92b5d3dc8a5",
   "metadata": {},
   "outputs": [
    {
     "data": {
      "image/png": "[encoded data removed]",
      "text/plain": [
       "<Figure size 432x288 with 1 Axes>"
      ]
     },
     "metadata": {
      "needs_background": "light"
     },
     "output_type": "display_data"
    }
   ],
   "source": [
    "# Строим график выручки группы А\n",
    "plt.plot(data['day'], data['revenueCummulativeA'], label='A')\n",
    "# Строим график выручки группы B\n",
    "plt.plot(data['day'], data['revenueCummulativeB'], label='B')\n",
    "plt.legend() \n",
    "plt.title('График кумулятивной выручки по группам')\n",
    "plt.show()"
   ]
  },
  {
   "cell_type": "markdown",
   "id": "5b984179-53e2-4013-8451-92ed29644b8d",
   "metadata": {},
   "source": [
    "Кумулятивная выручка в середине месяца в группе 'B' начинает расти быстрее чем в группе 'A'."
   ]
  },
  {
   "cell_type": "code",
   "execution_count": 19,
   "id": "cc62a35c-2b9d-4608-a29d-01edac2370b4",
   "metadata": {},
   "outputs": [
    {
     "data": {
      "image/png": "[encoded data removed]",
      "text/plain": [
       "<Figure size 432x288 with 1 Axes>"
      ]
     },
     "metadata": {
      "needs_background": "light"
     },
     "output_type": "display_data"
    }
   ],
   "source": [
    "# графики среднего чека по группам — разделим кумулятивную выручку на кумулятивное число заказов\n",
    "plt.plot( data['day'], data['revenueCummulativeA']/data['ordersCummulativeA'], label='A')\n",
    "plt.plot( data['day'], data['revenueCummulativeB']/data['ordersCummulativeB'], label='B')\n",
    "plt.legend() \n",
    "plt.title('Кумулятивный средний чек по группам')\n",
    "plt.show()"
   ]
  },
  {
   "cell_type": "markdown",
   "id": "06078dfb-7469-42b1-a04d-bba6f9ae883a",
   "metadata": {},
   "source": [
    "На двадцатый день тестирования резко увеличился средний чек группы 'B', и дальнейшее его снижение было не существенным."
   ]
  },
  {
   "cell_type": "code",
   "execution_count": 20,
   "id": "fc3b8511-facd-4824-8435-f1f55426a02b",
   "metadata": {},
   "outputs": [
    {
     "data": {
      "image/png": "[encoded data removed]",
      "text/plain": [
       "<Figure size 432x288 with 1 Axes>"
      ]
     },
     "metadata": {
      "needs_background": "light"
     },
     "output_type": "display_data"
    }
   ],
   "source": [
    "# Построим график относительного различия для среднего чека. \n",
    "# Добавим горизонтальную ось методом axhline() (от англ. horizontal line across the axis*, «горизонтальная линия поперек оси»)\n",
    "\n",
    "# cтроим отношение средних чеков\n",
    "plt.plot(data['day'], (data['revenueCummulativeB']/data['ordersCummulativeB'])\\\n",
    "                         /(data['revenueCummulativeA']/data['ordersCummulativeA'])-1)\n",
    "\n",
    "# добавляем ось X\n",
    "plt.axhline(y=0, color='black', linestyle='--')\n",
    "plt.title('Относительный кумулятивный средний чек группы В к группе А')\n",
    "plt.show()"
   ]
  },
  {
   "cell_type": "markdown",
   "id": "b1e6355d-9de3-4315-8d33-f80102459442",
   "metadata": {},
   "source": [
    "Подтверждает предыдущие график. Если в начале недели наблюдались колебания вокруг нулевой оси, то в конце показатели группы 'B' относительно группы 'A' были стабильно выше. "
   ]
  },
  {
   "cell_type": "code",
   "execution_count": 21,
   "id": "ba1d1939-583c-45c3-b3c3-7c064e9096a8",
   "metadata": {},
   "outputs": [
    {
     "data": {
      "image/png": "[encoded data removed]",
      "text/plain": [
       "<Figure size 432x288 with 1 Axes>"
      ]
     },
     "metadata": {
      "needs_background": "light"
     },
     "output_type": "display_data"
    }
   ],
   "source": [
    "# Аналогично проанализируем график кумулятивного среднего количества заказов на посетителя по группам. \n",
    "\n",
    "# считаем среднее количество заказов на посетителя с накоплением \n",
    "data['conversionA'] = data['ordersCummulativeA']/data['visitorsCummulativeA']\n",
    "data['conversionB'] = data['ordersCummulativeB']/data['visitorsCummulativeB']\n",
    "\n",
    "# строим графики\n",
    "plt.plot(data['day'], data['conversionA'], label='A')\n",
    "plt.plot(data['day'], data['conversionB'], label='B')\n",
    "plt.legend()\n",
    "plt.title('График кумулятивного среднего количества заказов на посетителя по группам')\n",
    "plt.show()"
   ]
  },
  {
   "cell_type": "markdown",
   "id": "7d2435f0-6dbe-497a-84f0-fba35a0cd2f6",
   "metadata": {},
   "source": [
    "Среднее кумулятивное количество заказов на пользователя после колебаний в первые дни после 5 дня у группы 'B' в оставшийся период был высоким, а у группы 'A' низким. "
   ]
  },
  {
   "cell_type": "code",
   "execution_count": 22,
   "id": "2adc05c6-4772-4d42-aeec-f1cff1215f06",
   "metadata": {},
   "outputs": [
    {
     "data": {
      "image/png": "[encoded data removed]",
      "text/plain": [
       "<Figure size 432x288 with 1 Axes>"
      ]
     },
     "metadata": {
      "needs_background": "light"
     },
     "output_type": "display_data"
    }
   ],
   "source": [
    "# Построим график изменения кумулятивного среднего количества заказов на посетителя группы B к группе A:\n",
    "\n",
    "plt.plot(data['day'], data['conversionB']/data['conversionA']-1, label=\"Относительный прирост\")\n",
    "plt.legend()#'Относительный прирост кумулятивного среднего количества заказов на посетителя группы B относительно группы A')\n",
    "\n",
    "plt.axhline(y=0, color='black', linestyle='--')\n",
    "plt.axhline(y=0.2, color='grey', linestyle='--')\n",
    "plt.title('График относительного изменения кумулятивного среднего количества заказов на посетителя группы B к группе A')\n",
    "plt.show()"
   ]
  },
  {
   "cell_type": "markdown",
   "id": "474f85e1-e871-42e0-81b5-7bef9e19fc18",
   "metadata": {},
   "source": [
    "На этом графике хорошо видно превосходство кумулятивного среднего количества заказов группы 'B' по отношению к группе 'A'. "
   ]
  },
  {
   "cell_type": "code",
   "execution_count": 23,
   "id": "0bddd6b1-35d5-4b39-af6e-f328930e76b0",
   "metadata": {},
   "outputs": [],
   "source": [
    "# сгруппируем общее количество заказов по пользователям\n",
    "transactionid_count = orders.groupby(\n",
    "                'visitorId', \n",
    "                as_index=False\n",
    "                )\\\n",
    "            .agg(  \n",
    "                visitorid_count = ('transactionId', 'count')\n",
    "                )\n",
    "    "
   ]
  },
  {
   "cell_type": "code",
   "execution_count": 24,
   "id": "8cfa05b7-47f1-43d0-9877-bb0e2277f693",
   "metadata": {},
   "outputs": [
    {
     "data": {
      "image/png": "[encoded data removed]",
      "text/plain": [
       "<Figure size 1008x432 with 2 Axes>"
      ]
     },
     "metadata": {
      "needs_background": "light"
     },
     "output_type": "display_data"
    }
   ],
   "source": [
    "fig, (ax1, ax2) = plt.subplots(1, 2, figsize=(14, 6))\n",
    "\n",
    "ax1.hist(transactionid_count['visitorid_count'])\n",
    "ax1.grid(True)\n",
    "ax1.set_title('Распределение заказов по пользователям')\n",
    "ax1.set_xlabel('Количество заказаов')\n",
    "ax1.set_ylabel('Число пользователей')\n",
    "\n",
    "x_values = pd.Series(range(0,len(transactionid_count)))\n",
    "ax2.scatter(transactionid_count.index, transactionid_count['visitorid_count'], label='Количество заказов')\n",
    "ax2.grid(True)\n",
    "ax2.legend()\n",
    "plt.show()"
   ]
  },
  {
   "cell_type": "markdown",
   "id": "08eeb825-93a3-40af-b9bb-4f3444c78b4f",
   "metadata": {},
   "source": [
    "Большинство пользователей делают один заказ, существенно ниже два и более. Но есть пользователи с 8 и 10 заказами. "
   ]
  },
  {
   "cell_type": "code",
   "execution_count": 25,
   "id": "5fe50af4-6a8d-47ab-8e06-348e3d5ba671",
   "metadata": {},
   "outputs": [
    {
     "data": {
      "text/plain": [
       "array([1., 2.])"
      ]
     },
     "execution_count": 25,
     "metadata": {},
     "output_type": "execute_result"
    }
   ],
   "source": [
    "# пункт 7 95-й и 99-й перцентили количества заказов на пользователя\n",
    "np.percentile(transactionid_count['visitorid_count'], [95, 99])"
   ]
  },
  {
   "cell_type": "markdown",
   "id": "8d8dcf8b-3276-4549-bbc5-f651e414b764",
   "metadata": {},
   "source": [
    "95% пользователей делают не более двух заказоа, 99% не более 4. Пользователей с заказами более 2 штук можно исключить из рассмотрения.  "
   ]
  },
  {
   "cell_type": "code",
   "execution_count": 26,
   "id": "bd3eae08-fb10-48cb-996d-af6aca27965c",
   "metadata": {},
   "outputs": [
    {
     "name": "stdout",
     "output_type": "stream",
     "text": [
      "p-значение:  0.0\n",
      "Отвергаем нулевую гипотезу: распределение не нормально\n"
     ]
    }
   ],
   "source": [
    "alpha = 0.05  # критический уровень статистической значимости\n",
    "\n",
    "results = st.shapiro(transactionid_count['visitorid_count'])\n",
    "p_value = results[1]  # второе значение в массиве результатов (с индексом 1) - p-value\n",
    "\n",
    "print('p-значение: ', p_value)\n",
    "\n",
    "if p_value < alpha:\n",
    "    print('Отвергаем нулевую гипотезу: распределение не нормально')\n",
    "else:\n",
    "    print('Не получилось отвергнуть нулевую гипотезу, всё нормально')"
   ]
  },
  {
   "cell_type": "code",
   "execution_count": 27,
   "id": "303a9126-c0b2-49aa-8e5d-d3e34a40a68e",
   "metadata": {},
   "outputs": [
    {
     "data": {
      "image/png": "[encoded data removed]",
      "text/plain": [
       "<Figure size 1008x432 with 2 Axes>"
      ]
     },
     "metadata": {
      "needs_background": "light"
     },
     "output_type": "display_data"
    }
   ],
   "source": [
    "# Точечный график стоимостей заказов.\n",
    "fig, (ax1, ax2) = plt.subplots(1, 2, figsize=(14, 6))\n",
    "\n",
    "ax1.hist(orders['revenue'])\n",
    "ax1.grid(True)\n",
    "ax1.set_title('Распределение выручки по заказам')\n",
    "ax1.set_xlabel('Выручка')\n",
    "ax1.set_ylabel('Число заказов')\n",
    "\n",
    "x_values = pd.Series(range(0,len(orders)))\n",
    "ax2.scatter(x_values, orders['revenue'], label='Выручка')\n",
    "ax2.grid(True)\n",
    "ax2.legend()\n",
    "plt.show()"
   ]
  },
  {
   "cell_type": "markdown",
   "id": "44921e9a-b631-4a8d-8331-446f725101fe",
   "metadata": {},
   "source": [
    "Стоимость большинство заказов не превышают 20 тысяч, но есть один очень большой заказ.  "
   ]
  },
  {
   "cell_type": "code",
   "execution_count": 28,
   "id": "3f9c04b0-5c93-453f-8f74-8f4ffbaab39f",
   "metadata": {},
   "outputs": [
    {
     "data": {
      "text/plain": [
       "array([26785., 53904.])"
      ]
     },
     "execution_count": 28,
     "metadata": {},
     "output_type": "execute_result"
    }
   ],
   "source": [
    "# Посчитать 95-й и 99-й перцентили стоимости заказов.\n",
    "np.percentile(orders['revenue'], [95, 99])"
   ]
  },
  {
   "cell_type": "markdown",
   "id": "6fe809c9-9d5b-4f1b-8c1c-d16273ee9312",
   "metadata": {},
   "source": [
    "95 процентов заказов не превышают сумму в 28 тысяч, 99 не более 58 тысяч. Заказы более 28 тысяч можно исключить. "
   ]
  },
  {
   "cell_type": "code",
   "execution_count": 29,
   "id": "c164c344-d02f-47e5-b6b2-c84421d91ec7",
   "metadata": {},
   "outputs": [
    {
     "name": "stdout",
     "output_type": "stream",
     "text": [
      "p-значение:  0.0\n",
      "Отвергаем нулевую гипотезу: распределение не нормально\n"
     ]
    }
   ],
   "source": [
    "alpha = 0.05  # критический уровень статистической значимости\n",
    "\n",
    "results = st.shapiro(orders['revenue'])\n",
    "p_value = results[1]  # второе значение в массиве результатов (с индексом 1) - p-value\n",
    "\n",
    "print('p-значение: ', p_value)\n",
    "\n",
    "if p_value < alpha:\n",
    "    print('Отвергаем нулевую гипотезу: распределение не нормально')\n",
    "else:\n",
    "    print('Не получилось отвергнуть нулевую гипотезу, всё нормально')"
   ]
  },
  {
   "cell_type": "markdown",
   "id": "4fa59cf4-177d-4922-bb73-042d2cbc4227",
   "metadata": {},
   "source": [
    "Посчитаем статистическую значимость различий в среднем числе заказов на пользователя и среднем чеке между группами  с помощью  критерия __Манна-Уитни__, потому что есть выбросы и распределения не являются нормальными."
   ]
  },
  {
   "cell_type": "code",
   "execution_count": 30,
   "id": "2cdae503-30aa-4c46-a4b5-9ca027f288ca",
   "metadata": {},
   "outputs": [],
   "source": [
    "# расчет статистической значимости различий в среднем количестве заказов на посетителя между группами\n",
    "def calculation_p_value_orders(data_, ordersByUsersA_, ordersByUsersB_, abnormalUsers_=[]):\n",
    "     \n",
    "    sampleA = pd.concat(\n",
    "        [\n",
    "            ordersByUsersA_[\n",
    "                            np.logical_not(ordersByUsersA_['userId'].isin(abnormalUsers_))\n",
    "                          ]\n",
    "            ['orders'],\n",
    "            pd.Series(\n",
    "                0,\n",
    "                index=np.arange(\n",
    "                    data_['visitorsPerDateA'].sum() - len(ordersByUsersA_['orders'])\n",
    "                ),\n",
    "                name='orders',\n",
    "            ),\n",
    "        ],\n",
    "        axis=0,\n",
    "    )\n",
    "\n",
    "    sampleB = pd.concat(\n",
    "        [\n",
    "            ordersByUsersB_[\n",
    "                            np.logical_not(ordersByUsersB_['userId'].isin(abnormalUsers_))\n",
    "                          ]\n",
    "            ['orders'],\n",
    "            pd.Series(\n",
    "                0,\n",
    "                index=np.arange(\n",
    "                    data_['visitorsPerDateB'].sum() - len(ordersByUsersB_['orders'])\n",
    "                ),\n",
    "                name='orders',\n",
    "            ),\n",
    "        ],\n",
    "        axis=0,\n",
    "    )\n",
    "    \n",
    "    alpha = 0.05  # критический уровень статистической значимости\n",
    "    \n",
    "    results = stats.mannwhitneyu(sampleA, sampleB)\n",
    "    print(\"p-значение: {0:.3f}\".format(results[1]))\n",
    "\n",
    "    if results.pvalue < alpha:\n",
    "        print('Отвергаем нулевую гипотезу: разница статистически значима')\n",
    "    else:\n",
    "        print('Не получилось отвергнуть нулевую гипотезу, вывод о различии сделать нельзя')\n",
    "    \n",
    "    print(\"Относительное различие групп 'B' к 'A' {0:.0%}\".format(sampleB.mean() / sampleA.mean() - 1))"
   ]
  },
  {
   "cell_type": "code",
   "execution_count": 31,
   "id": "7124d444-35e6-4a0b-93fb-b89c7b3c0692",
   "metadata": {
    "tags": []
   },
   "outputs": [],
   "source": [
    "# расчет статистической значимости различий в среднем чеке заказа между группами\n",
    "def calculation_p_value_revenue(orders_, abnormalUsers_=[]):\n",
    "    \n",
    "    sampleA = orders_[\n",
    "                np.logical_and(\n",
    "                    orders_['group'] == 'A',\n",
    "                    np.logical_not(orders['visitorId'].isin(abnormalUsers_)),\n",
    "                )\n",
    "            ]['revenue']\n",
    "    \n",
    "\n",
    "    sampleB = orders_[\n",
    "                np.logical_and(\n",
    "                    orders['group'] == 'B',\n",
    "                    np.logical_not(orders_['visitorId'].isin(abnormalUsers_)),\n",
    "                )\n",
    "            ]['revenue']\n",
    "    \n",
    "     \n",
    "    alpha = 0.05  # критический уровень статистической значимости\n",
    "    \n",
    "    results = stats.mannwhitneyu(sampleA, sampleB)\n",
    "    print(\"p-значение: {0:.3f}\".format(results[1]))\n",
    "\n",
    "    if results.pvalue < alpha:\n",
    "        print('Отвергаем нулевую гипотезу: разница статистически значима')\n",
    "    else:\n",
    "        print('Не получилось отвергнуть нулевую гипотезу, вывод о различии сделать нельзя')\n",
    "    \n",
    "    print(\"Относительное различие групп 'B' к 'A' {0:.0%}\".format(sampleB.mean() / sampleA.mean() - 1))"
   ]
  },
  {
   "cell_type": "code",
   "execution_count": 32,
   "id": "c3336087-f082-4ad6-90fb-83c44f60fef6",
   "metadata": {},
   "outputs": [],
   "source": [
    "ordersByUsersA = (\n",
    "    orders[orders['group'] == 'A']\n",
    "    .groupby('visitorId', as_index=False)\n",
    "    .agg({'transactionId': pd.Series.nunique})\n",
    ")\n",
    "ordersByUsersA.columns = ['userId', 'orders']\n",
    "\n",
    "ordersByUsersB = (\n",
    "    orders[orders['group'] == 'B']\n",
    "    .groupby('visitorId', as_index=False)\n",
    "    .agg({'transactionId': pd.Series.nunique})\n",
    ")\n",
    "ordersByUsersB.columns = ['userId', 'orders'] "
   ]
  },
  {
   "cell_type": "code",
   "execution_count": 33,
   "id": "e4ee6196-b1c3-4368-bb0e-5d5ee17ab0a2",
   "metadata": {},
   "outputs": [
    {
     "name": "stdout",
     "output_type": "stream",
     "text": [
      "p-значение: 0.011\n",
      "Отвергаем нулевую гипотезу: разница статистически значима\n",
      "Относительное различие групп 'B' к 'A' 16%\n"
     ]
    }
   ],
   "source": [
    "calculation_p_value_orders(data, ordersByUsersA, ordersByUsersB)"
   ]
  },
  {
   "cell_type": "markdown",
   "id": "8ad2c391-6328-4669-b043-faf40173b402",
   "metadata": {},
   "source": [
    "P-value меньше 0.05, нулевую гипотезу отвергаем. Анализ «сырых данных» сообщает, что в среднем количестве заказов между группами есть статистически значимые различия. Относительное различие среднего группы \"B\" к группы \"A\" равен 14%. "
   ]
  },
  {
   "cell_type": "code",
   "execution_count": 34,
   "id": "bd35cdc5-015d-4cea-bd4b-8fcf2fe8e470",
   "metadata": {},
   "outputs": [
    {
     "name": "stdout",
     "output_type": "stream",
     "text": [
      "p-значение: 0.829\n",
      "Не получилось отвергнуть нулевую гипотезу, вывод о различии сделать нельзя\n",
      "Относительное различие групп 'B' к 'A' 29%\n"
     ]
    }
   ],
   "source": [
    "calculation_p_value_revenue(orders)"
   ]
  },
  {
   "cell_type": "markdown",
   "id": "53050c03-ca8b-4f0c-8e49-76dcdcafe2e1",
   "metadata": {},
   "source": [
    "P-value больше 0.05. Значит, причин отвергать нулевую гипотезу и считать, что в среднем чеке есть различия, нет. \n",
    "Однако, средний чек группы B выше среднего чека группы A на 26%."
   ]
  },
  {
   "cell_type": "markdown",
   "id": "5fc29f96-108a-4e8a-ba2a-9c5f5b3b724e",
   "metadata": {},
   "source": [
    "Ранее было установлено, что 95% пользователей делают не более 2 заказов и 95% заказов не превышают сумму 28 000. Введем эти ограничения."
   ]
  },
  {
   "cell_type": "code",
   "execution_count": 35,
   "id": "6414b5f0-ef62-4262-a61f-712fe8fc0ede",
   "metadata": {},
   "outputs": [
    {
     "name": "stdout",
     "output_type": "stream",
     "text": [
      "Количество аномальных пользователей 86\n"
     ]
    }
   ],
   "source": [
    "usersWithManyOrders = pd.concat(\n",
    "    [\n",
    "        ordersByUsersA[ordersByUsersA['orders'] > np.percentile(ordersByUsersA['orders'], 95)]['userId'],\n",
    "        ordersByUsersB[ordersByUsersB['orders'] > np.percentile(ordersByUsersB['orders'], 95)]['userId'],\n",
    "    ],\n",
    "    axis=0,\n",
    ")\n",
    "\n",
    "revenue_lim = np.percentile(orders['revenue'], 95)\n",
    "usersWithExpensiveOrders = orders[orders['revenue'] > revenue_lim]['visitorId']\n",
    "\n",
    "abnormalUsers = (\n",
    "    pd.concat([usersWithManyOrders, usersWithExpensiveOrders], axis=0)\n",
    "    .drop_duplicates()\n",
    "    .sort_values()\n",
    ")\n",
    "# print(abnormalUsers.head(5))\n",
    "print('Количество аномальных пользователей', abnormalUsers.shape[0]) "
   ]
  },
  {
   "cell_type": "code",
   "execution_count": 36,
   "id": "6464ba0a-e051-444f-a105-4b9397bfea42",
   "metadata": {},
   "outputs": [
    {
     "name": "stdout",
     "output_type": "stream",
     "text": [
      "p-значение: 0.016\n",
      "Отвергаем нулевую гипотезу: разница статистически значима\n",
      "Относительное различие групп 'B' к 'A' 17%\n"
     ]
    }
   ],
   "source": [
    "calculation_p_value_orders(data, ordersByUsersA, ordersByUsersB, abnormalUsers)"
   ]
  },
  {
   "cell_type": "markdown",
   "id": "cfda97bb-6718-4cf4-8020-33e76af6e521",
   "metadata": {},
   "source": [
    "Результаты по среднему количеству заказов на пользователя изменились не сильно. Как и в случае с сырыми данными, статистическая значимость достигнута, p-значение сократилось еще больше.  Относительный прирост среднего группы \"B\" к группы \"A\" увеличился до 14%.  \n",
    "Группа B лучше группы A."
   ]
  },
  {
   "cell_type": "code",
   "execution_count": 37,
   "id": "3c9d4fa3-8504-47e1-b4d1-4bf63de32f7a",
   "metadata": {},
   "outputs": [
    {
     "name": "stdout",
     "output_type": "stream",
     "text": [
      "p-значение: 0.727\n",
      "Не получилось отвергнуть нулевую гипотезу, вывод о различии сделать нельзя\n",
      "Относительное различие групп 'B' к 'A' -3%\n"
     ]
    }
   ],
   "source": [
    "calculation_p_value_revenue(orders, abnormalUsers)"
   ]
  },
  {
   "cell_type": "markdown",
   "id": "4588b283-97c2-4e96-a8ca-5f66cff23f79",
   "metadata": {},
   "source": [
    "P-value по-прежнему больше 0.05. Нулевую гипотезу не отвергаем и по прежнему считаем, что в среднем чеке различий нет. \n",
    "При этом относительная разница среднего чека группы B к группе A стал отрицательным."
   ]
  },
  {
   "cell_type": "markdown",
   "id": "0f00bd8e-92ef-4e35-b7f4-f3f084c54e70",
   "metadata": {
    "tags": []
   },
   "source": [
    "### __Выводы__  "
   ]
  },
  {
   "cell_type": "markdown",
   "id": "6230a5b6-edf8-4ba8-8aa9-1939811fe171",
   "metadata": {},
   "source": [
    "Кумулятивные метрики выручки, среднего чека и отношение среднего чека группы B к группе A после волатильности в начале месяца к концу месяца стабилизировались и показали преимущество группы В.    \n",
    "Те же показатели количества заказов на одного пользователя так же после колебаний в начале, к концу стабилизировались, и так же показали преимущество группы В.  \n",
    "Временной период, за который были взяты данные достаточен для проведения А/В тестирования.  \n",
    "Анализ аномальных показателей показал наличие выбросов как по количеству заказов, так и по их стоимости.   \n",
    "\n",
    "А/В тестирование на неочищенных данных:  \n",
    "\n",
    "\t- различие в количестве заказов на одного пользователя по группам статистически значимо, относительное различие – 14%;\n",
    "\t- различие в среднем чеке оказалось не существенным, при этом относительная разница среднего показала превышение группы В на 25%, что странно.\n",
    "    \n",
    "А/В тестирование на очищенных данных:  \n",
    "\n",
    "    - подтвердили выводы тестирования на неочищенных данных;\n",
    "\t- как и на неочищенных данных различие в среднем чеке оказалось не существенным и на очищенных данных, при этом относительная разница среднего группы В стала отрицательной, что сходится с результатами проверки гипотезы.  \n",
    "    \n",
    "Тестироваине можно остановить и зафиксировать победу группы В в части роста заказов на одного пользователя. \n",
    "\n",
    "А/В тестирование показало увеличения количества заказов у пользователей из группы В. При этом разница среднего чека в двух группах не обнаружена. Рост выручки группы В в середине месяца обусловлен случайным очень большим заказом, не характеризующим всю группу. Повторное исследование куммулятивных метрик ниже это подтвердили. \n"
   ]
  },
  {
   "cell_type": "markdown",
   "id": "4b388268-8a28-4f3d-add0-564e59372b6b",
   "metadata": {
    "tags": []
   },
   "source": [
    "## Пересчет кумулятивных метрик по очищенным данным."
   ]
  },
  {
   "cell_type": "code",
   "execution_count": 38,
   "id": "e9d85fef-72fe-4054-a9dc-2004e3bc8c7e",
   "metadata": {},
   "outputs": [
    {
     "data": {
      "text/html": [
       "<div>\n",
       "<style scoped>\n",
       "    .dataframe tbody tr th:only-of-type {\n",
       "        vertical-align: middle;\n",
       "    }\n",
       "\n",
       "    .dataframe tbody tr th {\n",
       "        vertical-align: top;\n",
       "    }\n",
       "\n",
       "    .dataframe thead th {\n",
       "        text-align: right;\n",
       "    }\n",
       "</style>\n",
       "<table border=\"1\" class=\"dataframe\">\n",
       "  <thead>\n",
       "    <tr style=\"text-align: right;\">\n",
       "      <th></th>\n",
       "      <th>transactionId</th>\n",
       "      <th>visitorId</th>\n",
       "      <th>date</th>\n",
       "      <th>revenue</th>\n",
       "      <th>group</th>\n",
       "    </tr>\n",
       "  </thead>\n",
       "  <tbody>\n",
       "    <tr>\n",
       "      <th>425</th>\n",
       "      <td>590470918</td>\n",
       "      <td>1920142716</td>\n",
       "      <td>2019-08-19</td>\n",
       "      <td>1294500</td>\n",
       "      <td>B</td>\n",
       "    </tr>\n",
       "    <tr>\n",
       "      <th>1196</th>\n",
       "      <td>3936777065</td>\n",
       "      <td>2108080724</td>\n",
       "      <td>2019-08-15</td>\n",
       "      <td>202740</td>\n",
       "      <td>B</td>\n",
       "    </tr>\n",
       "    <tr>\n",
       "      <th>1136</th>\n",
       "      <td>666610489</td>\n",
       "      <td>1307669133</td>\n",
       "      <td>2019-08-13</td>\n",
       "      <td>92550</td>\n",
       "      <td>A</td>\n",
       "    </tr>\n",
       "    <tr>\n",
       "      <th>744</th>\n",
       "      <td>3668308183</td>\n",
       "      <td>888512513</td>\n",
       "      <td>2019-08-27</td>\n",
       "      <td>86620</td>\n",
       "      <td>B</td>\n",
       "    </tr>\n",
       "    <tr>\n",
       "      <th>743</th>\n",
       "      <td>3603576309</td>\n",
       "      <td>4133034833</td>\n",
       "      <td>2019-08-09</td>\n",
       "      <td>67990</td>\n",
       "      <td>A</td>\n",
       "    </tr>\n",
       "  </tbody>\n",
       "</table>\n",
       "</div>"
      ],
      "text/plain": [
       "      transactionId   visitorId       date  revenue group\n",
       "425       590470918  1920142716 2019-08-19  1294500     B\n",
       "1196     3936777065  2108080724 2019-08-15   202740     B\n",
       "1136      666610489  1307669133 2019-08-13    92550     A\n",
       "744      3668308183   888512513 2019-08-27    86620     B\n",
       "743      3603576309  4133034833 2019-08-09    67990     A"
      ]
     },
     "execution_count": 38,
     "metadata": {},
     "output_type": "execute_result"
    }
   ],
   "source": [
    "orders.sort_values(by = 'revenue', ascending=False).head(5)"
   ]
  },
  {
   "cell_type": "markdown",
   "id": "93e55856-e653-4788-8cb8-3841537953c0",
   "metadata": {},
   "source": [
    "Выброс по стоимости заказа как раз приходится на 19 число и относится к группе В, что и обуславливало рост кумулятивных метрик группы В  в середине месяца. "
   ]
  },
  {
   "cell_type": "code",
   "execution_count": 39,
   "id": "69dabedc-2c8a-49d1-ad05-69d571ea6a8a",
   "metadata": {},
   "outputs": [
    {
     "data": {
      "text/html": [
       "<div>\n",
       "<style scoped>\n",
       "    .dataframe tbody tr th:only-of-type {\n",
       "        vertical-align: middle;\n",
       "    }\n",
       "\n",
       "    .dataframe tbody tr th {\n",
       "        vertical-align: top;\n",
       "    }\n",
       "\n",
       "    .dataframe thead th {\n",
       "        text-align: right;\n",
       "    }\n",
       "</style>\n",
       "<table border=\"1\" class=\"dataframe\">\n",
       "  <thead>\n",
       "    <tr style=\"text-align: right;\">\n",
       "      <th></th>\n",
       "      <th>0</th>\n",
       "      <th>1</th>\n",
       "      <th>2</th>\n",
       "      <th>3</th>\n",
       "      <th>4</th>\n",
       "    </tr>\n",
       "  </thead>\n",
       "  <tbody>\n",
       "    <tr>\n",
       "      <th>date</th>\n",
       "      <td>2019-08-01 00:00:00</td>\n",
       "      <td>2019-08-02 00:00:00</td>\n",
       "      <td>2019-08-03 00:00:00</td>\n",
       "      <td>2019-08-04 00:00:00</td>\n",
       "      <td>2019-08-05 00:00:00</td>\n",
       "    </tr>\n",
       "    <tr>\n",
       "      <th>ordersPerDateA</th>\n",
       "      <td>13</td>\n",
       "      <td>15</td>\n",
       "      <td>24</td>\n",
       "      <td>10</td>\n",
       "      <td>20</td>\n",
       "    </tr>\n",
       "    <tr>\n",
       "      <th>revenuePerDateA</th>\n",
       "      <td>31869</td>\n",
       "      <td>46483</td>\n",
       "      <td>112473</td>\n",
       "      <td>41066</td>\n",
       "      <td>79593</td>\n",
       "    </tr>\n",
       "    <tr>\n",
       "      <th>ordersPerDateB</th>\n",
       "      <td>17</td>\n",
       "      <td>18</td>\n",
       "      <td>14</td>\n",
       "      <td>11</td>\n",
       "      <td>20</td>\n",
       "    </tr>\n",
       "    <tr>\n",
       "      <th>revenuePerDateB</th>\n",
       "      <td>59758</td>\n",
       "      <td>84864</td>\n",
       "      <td>67049</td>\n",
       "      <td>52690</td>\n",
       "      <td>61558</td>\n",
       "    </tr>\n",
       "    <tr>\n",
       "      <th>ordersCummulativeA</th>\n",
       "      <td>13</td>\n",
       "      <td>28</td>\n",
       "      <td>52</td>\n",
       "      <td>62</td>\n",
       "      <td>82</td>\n",
       "    </tr>\n",
       "    <tr>\n",
       "      <th>revenueCummulativeA</th>\n",
       "      <td>31869</td>\n",
       "      <td>78352</td>\n",
       "      <td>190825</td>\n",
       "      <td>231891</td>\n",
       "      <td>311484</td>\n",
       "    </tr>\n",
       "    <tr>\n",
       "      <th>ordersCummulativeB</th>\n",
       "      <td>17</td>\n",
       "      <td>35</td>\n",
       "      <td>49</td>\n",
       "      <td>60</td>\n",
       "      <td>80</td>\n",
       "    </tr>\n",
       "    <tr>\n",
       "      <th>revenueCummulativeB</th>\n",
       "      <td>59758</td>\n",
       "      <td>144622</td>\n",
       "      <td>211671</td>\n",
       "      <td>264361</td>\n",
       "      <td>325919</td>\n",
       "    </tr>\n",
       "    <tr>\n",
       "      <th>visitorsPerDateA</th>\n",
       "      <td>719</td>\n",
       "      <td>619</td>\n",
       "      <td>507</td>\n",
       "      <td>717</td>\n",
       "      <td>756</td>\n",
       "    </tr>\n",
       "    <tr>\n",
       "      <th>visitorsPerDateB</th>\n",
       "      <td>713</td>\n",
       "      <td>581</td>\n",
       "      <td>509</td>\n",
       "      <td>770</td>\n",
       "      <td>707</td>\n",
       "    </tr>\n",
       "    <tr>\n",
       "      <th>visitorsCummulativeA</th>\n",
       "      <td>719</td>\n",
       "      <td>1338</td>\n",
       "      <td>1845</td>\n",
       "      <td>2562</td>\n",
       "      <td>3318</td>\n",
       "    </tr>\n",
       "    <tr>\n",
       "      <th>visitorsCummulativeB</th>\n",
       "      <td>713</td>\n",
       "      <td>1294</td>\n",
       "      <td>1803</td>\n",
       "      <td>2573</td>\n",
       "      <td>3280</td>\n",
       "    </tr>\n",
       "  </tbody>\n",
       "</table>\n",
       "</div>"
      ],
      "text/plain": [
       "                                        0                    1  \\\n",
       "date                  2019-08-01 00:00:00  2019-08-02 00:00:00   \n",
       "ordersPerDateA                         13                   15   \n",
       "revenuePerDateA                     31869                46483   \n",
       "ordersPerDateB                         17                   18   \n",
       "revenuePerDateB                     59758                84864   \n",
       "ordersCummulativeA                     13                   28   \n",
       "revenueCummulativeA                 31869                78352   \n",
       "ordersCummulativeB                     17                   35   \n",
       "revenueCummulativeB                 59758               144622   \n",
       "visitorsPerDateA                      719                  619   \n",
       "visitorsPerDateB                      713                  581   \n",
       "visitorsCummulativeA                  719                 1338   \n",
       "visitorsCummulativeB                  713                 1294   \n",
       "\n",
       "                                        2                    3  \\\n",
       "date                  2019-08-03 00:00:00  2019-08-04 00:00:00   \n",
       "ordersPerDateA                         24                   10   \n",
       "revenuePerDateA                    112473                41066   \n",
       "ordersPerDateB                         14                   11   \n",
       "revenuePerDateB                     67049                52690   \n",
       "ordersCummulativeA                     52                   62   \n",
       "revenueCummulativeA                190825               231891   \n",
       "ordersCummulativeB                     49                   60   \n",
       "revenueCummulativeB                211671               264361   \n",
       "visitorsPerDateA                      507                  717   \n",
       "visitorsPerDateB                      509                  770   \n",
       "visitorsCummulativeA                 1845                 2562   \n",
       "visitorsCummulativeB                 1803                 2573   \n",
       "\n",
       "                                        4  \n",
       "date                  2019-08-05 00:00:00  \n",
       "ordersPerDateA                         20  \n",
       "revenuePerDateA                     79593  \n",
       "ordersPerDateB                         20  \n",
       "revenuePerDateB                     61558  \n",
       "ordersCummulativeA                     82  \n",
       "revenueCummulativeA                311484  \n",
       "ordersCummulativeB                     80  \n",
       "revenueCummulativeB                325919  \n",
       "visitorsPerDateA                      756  \n",
       "visitorsPerDateB                      707  \n",
       "visitorsCummulativeA                 3318  \n",
       "visitorsCummulativeB                 3280  "
      ]
     },
     "execution_count": 39,
     "metadata": {},
     "output_type": "execute_result"
    }
   ],
   "source": [
    "ordersADaily = (\n",
    "                orders[\n",
    "                        np.logical_and(\n",
    "                                        orders['group'] == 'A',\n",
    "                                        np.logical_not(orders['visitorId'].isin(abnormalUsers)),\n",
    "                                        )\n",
    "    ][['date', 'transactionId', 'visitorId', 'revenue']]\n",
    "    .groupby('date', as_index=False)\n",
    "    .agg({'transactionId': pd.Series.nunique, 'revenue': 'sum'})\n",
    ")\n",
    "ordersADaily.columns = ['date', 'ordersPerDateA', 'revenuePerDateA']\n",
    "\n",
    "ordersACummulative = ordersADaily.apply(\n",
    "    lambda x: ordersADaily[ordersADaily['date'] <= x['date']].agg(\n",
    "        {'date': 'max', 'ordersPerDateA': 'sum', 'revenuePerDateA': 'sum'}\n",
    "    ),\n",
    "    axis=1,\n",
    ").sort_values(by=['date'])\n",
    "ordersACummulative.columns = [\n",
    "    'date',\n",
    "    'ordersCummulativeA',\n",
    "    'revenueCummulativeA',\n",
    "]\n",
    "\n",
    "ordersBDaily = (\n",
    "    orders[\n",
    "            np.logical_and(\n",
    "                                        orders['group'] == 'B',\n",
    "                                        np.logical_not(orders['visitorId'].isin(abnormalUsers)),\n",
    "                                        )][['date', 'transactionId', 'visitorId', 'revenue']]\n",
    "    .groupby('date', as_index=False)\n",
    "    .agg({'transactionId': pd.Series.nunique, 'revenue': 'sum'})\n",
    ")\n",
    "ordersBDaily.columns = ['date', 'ordersPerDateB', 'revenuePerDateB']\n",
    "\n",
    "ordersBCummulative = ordersBDaily.apply(\n",
    "    lambda x: ordersBDaily[ordersBDaily['date'] <= x['date']].agg(\n",
    "        {'date': 'max', 'ordersPerDateB': 'sum', 'revenuePerDateB': 'sum'}\n",
    "    ),\n",
    "    axis=1,\n",
    ").sort_values(by=['date'])\n",
    "ordersBCummulative.columns = [\n",
    "    'date',\n",
    "    'ordersCummulativeB',\n",
    "    'revenueCummulativeB',\n",
    "]\n",
    "\n",
    "data = (\n",
    "    ordersADaily.merge(\n",
    "        ordersBDaily, left_on='date', right_on='date', how='left'\n",
    "    )\n",
    "    .merge(ordersACummulative, left_on='date', right_on='date', how='left')\n",
    "    .merge(ordersBCummulative, left_on='date', right_on='date', how='left')\n",
    "    .merge(visitorsADaily, left_on='date', right_on='date', how='left')\n",
    "    .merge(visitorsBDaily, left_on='date', right_on='date', how='left')\n",
    "    .merge(visitorsACummulative, left_on='date', right_on='date', how='left')\n",
    "    .merge(visitorsBCummulative, left_on='date', right_on='date', how='left')\n",
    ")\n",
    "\n",
    "data.head(5).T "
   ]
  },
  {
   "cell_type": "code",
   "execution_count": 40,
   "id": "648eef10-a921-4e2a-ad0d-38579d9cee14",
   "metadata": {},
   "outputs": [
    {
     "name": "stdout",
     "output_type": "stream",
     "text": [
      "2019-08-01 00:00:00 2019-08-31 00:00:00\n"
     ]
    }
   ],
   "source": [
    "#данные даны за один месяц, для удобства отображения на графики представим дату как день месяца  \n",
    "print(data['date'].min(), data['date'].max())\n",
    "data['day'] = pd.DatetimeIndex(data['date']).day"
   ]
  },
  {
   "cell_type": "code",
   "execution_count": 41,
   "id": "2e649d2e-733b-4135-9599-169b9edae460",
   "metadata": {},
   "outputs": [
    {
     "data": {
      "image/png": "[encoded data removed]",
      "text/plain": [
       "<Figure size 432x288 with 1 Axes>"
      ]
     },
     "metadata": {
      "needs_background": "light"
     },
     "output_type": "display_data"
    }
   ],
   "source": [
    "# Строим график выручки группы А\n",
    "plt.plot(data['day'], data['revenueCummulativeA'], label='A')\n",
    "# Строим график выручки группы B\n",
    "plt.plot(data['day'], data['revenueCummulativeB'], label='B')\n",
    "plt.legend() \n",
    "plt.title('График кумулятивной выручки по группам')\n",
    "plt.show()"
   ]
  },
  {
   "cell_type": "markdown",
   "id": "9b55f6ef-1cca-4e44-8688-c35b047235ad",
   "metadata": {},
   "source": [
    "Кумулятивная выручка в очищенных данных по группе 'B' немного превышает по группе 'A'."
   ]
  },
  {
   "cell_type": "code",
   "execution_count": 42,
   "id": "0f16c1fa-b10f-4726-861b-ae04526dd4bf",
   "metadata": {},
   "outputs": [
    {
     "data": {
      "image/png": "[encoded data removed]",
      "text/plain": [
       "<Figure size 432x288 with 1 Axes>"
      ]
     },
     "metadata": {
      "needs_background": "light"
     },
     "output_type": "display_data"
    }
   ],
   "source": [
    "# графики среднего чека по группам — разделим кумулятивную выручку на кумулятивное число заказов\n",
    "plt.plot( data['day'], data['revenueCummulativeA']/data['ordersCummulativeA'], label='A')\n",
    "plt.plot( data['day'], data['revenueCummulativeB']/data['ordersCummulativeB'], label='B')\n",
    "plt.legend() \n",
    "plt.title('Кумулятивный средний чек по группам')\n",
    "plt.show()"
   ]
  },
  {
   "cell_type": "markdown",
   "id": "a374e32a-9dea-4e7b-a95b-589a9290f35f",
   "metadata": {},
   "source": [
    "На очищенныъ данных средний чек группы 'B' и группы 'B' близки."
   ]
  },
  {
   "cell_type": "code",
   "execution_count": 43,
   "id": "791d662d-ad3e-480c-a9e3-78bd7f1d29e4",
   "metadata": {},
   "outputs": [
    {
     "data": {
      "image/png": "[encoded data removed]",
      "text/plain": [
       "<Figure size 432x288 with 1 Axes>"
      ]
     },
     "metadata": {
      "needs_background": "light"
     },
     "output_type": "display_data"
    }
   ],
   "source": [
    "# Построим график относительного различия для среднего чека. \n",
    "# Добавим горизонтальную ось методом axhline() (от англ. horizontal line across the axis*, «горизонтальная линия поперек оси»)\n",
    "\n",
    "# cтроим отношение средних чеков\n",
    "plt.plot(data['day'], (data['revenueCummulativeB']/data['ordersCummulativeB'])\\\n",
    "                         /(data['revenueCummulativeA']/data['ordersCummulativeA'])-1)\n",
    "\n",
    "# добавляем ось X\n",
    "plt.axhline(y=0, color='black', linestyle='--')\n",
    "plt.title('Относительный кумулятивный средний чек группы В к группе А')\n",
    "plt.show()"
   ]
  },
  {
   "cell_type": "markdown",
   "id": "8427ebf6-4af8-4812-9437-dcf73bd6efee",
   "metadata": {},
   "source": [
    "Относительное различие к концу месяца маленькое."
   ]
  },
  {
   "cell_type": "code",
   "execution_count": 44,
   "id": "a0e1cef6-1620-4c0f-8173-fa8644dda8fd",
   "metadata": {},
   "outputs": [
    {
     "data": {
      "image/png": "[encoded data removed]",
      "text/plain": [
       "<Figure size 432x288 with 1 Axes>"
      ]
     },
     "metadata": {
      "needs_background": "light"
     },
     "output_type": "display_data"
    }
   ],
   "source": [
    "# Аналогично проанализируем график кумулятивного среднего количества заказов на посетителя по группам. \n",
    "\n",
    "# считаем среднее количество заказов на посетителя с накоплением \n",
    "data['conversionA'] = data['ordersCummulativeA']/data['visitorsCummulativeA']\n",
    "data['conversionB'] = data['ordersCummulativeB']/data['visitorsCummulativeB']\n",
    "\n",
    "# строим графики\n",
    "plt.plot(data['day'], data['conversionA'], label='A')\n",
    "plt.plot(data['day'], data['conversionB'], label='B')\n",
    "plt.legend()\n",
    "plt.title('График кумулятивного среднего количества заказов на посетителя по группам')\n",
    "plt.show()"
   ]
  },
  {
   "cell_type": "code",
   "execution_count": 45,
   "id": "81708428-af03-40aa-b4ac-4afe8f8bdac6",
   "metadata": {},
   "outputs": [
    {
     "data": {
      "image/png": "[encoded data removed]",
      "text/plain": [
       "<Figure size 432x288 with 1 Axes>"
      ]
     },
     "metadata": {
      "needs_background": "light"
     },
     "output_type": "display_data"
    }
   ],
   "source": [
    "# Построим график изменения кумулятивного среднего количества заказов на посетителя группы B к группе A:\n",
    "\n",
    "plt.plot(data['day'], data['conversionB']/data['conversionA']-1, label=\"Относительный прирост\")\n",
    "plt.legend()#'Относительный прирост кумулятивного среднего количества заказов на посетителя группы B относительно группы A')\n",
    "\n",
    "plt.axhline(y=0, color='black', linestyle='--')\n",
    "plt.axhline(y=0.2, color='grey', linestyle='--')\n",
    "plt.title('График относительного изменения кумулятивного среднего количества заказов на посетителя группы B к группе A')\n",
    "plt.show()"
   ]
  },
  {
   "cell_type": "markdown",
   "id": "74b47b33-d3c0-4502-9f4b-42a8916c7933",
   "metadata": {},
   "source": [
    "Данные по среднему количеству заказов на пользователя не изменились."
   ]
  }
 ],
 "metadata": {
  "ExecuteTimeLog": [
   {
    "duration": 1148,
    "start_time": "2024-03-27T13:22:02.909Z"
   },
   {
    "duration": 28,
    "start_time": "2024-03-27T13:22:04.059Z"
   },
   {
    "duration": 7,
    "start_time": "2024-03-27T13:22:04.090Z"
   },
   {
    "duration": 33,
    "start_time": "2024-03-27T13:22:04.099Z"
   },
   {
    "duration": 6,
    "start_time": "2024-03-27T13:22:04.134Z"
   },
   {
    "duration": 23,
    "start_time": "2024-03-27T13:22:04.141Z"
   },
   {
    "duration": 44,
    "start_time": "2024-03-27T13:22:04.166Z"
   },
   {
    "duration": 65,
    "start_time": "2024-03-27T13:22:04.212Z"
   },
   {
    "duration": 23,
    "start_time": "2024-03-27T13:22:04.279Z"
   },
   {
    "duration": 48,
    "start_time": "2024-03-27T13:22:04.303Z"
   },
   {
    "duration": 88,
    "start_time": "2024-03-27T13:22:04.353Z"
   },
   {
    "duration": 158,
    "start_time": "2024-03-27T13:22:04.443Z"
   },
   {
    "duration": 6,
    "start_time": "2024-03-27T13:22:04.603Z"
   },
   {
    "duration": 211,
    "start_time": "2024-03-27T13:22:04.612Z"
   },
   {
    "duration": 159,
    "start_time": "2024-03-27T13:22:04.825Z"
   },
   {
    "duration": 246,
    "start_time": "2024-03-27T13:22:04.986Z"
   },
   {
    "duration": 190,
    "start_time": "2024-03-27T13:22:05.234Z"
   },
   {
    "duration": 275,
    "start_time": "2024-03-27T13:22:05.425Z"
   },
   {
    "duration": 11,
    "start_time": "2024-03-27T13:22:05.701Z"
   },
   {
    "duration": 338,
    "start_time": "2024-03-27T13:22:05.714Z"
   },
   {
    "duration": 6,
    "start_time": "2024-03-27T13:22:06.054Z"
   },
   {
    "duration": 6,
    "start_time": "2024-03-27T13:22:06.074Z"
   },
   {
    "duration": 336,
    "start_time": "2024-03-27T13:22:06.082Z"
   },
   {
    "duration": 5,
    "start_time": "2024-03-27T13:22:06.420Z"
   },
   {
    "duration": 10,
    "start_time": "2024-03-27T13:22:06.426Z"
   },
   {
    "duration": 6,
    "start_time": "2024-03-27T13:22:06.438Z"
   },
   {
    "duration": 13,
    "start_time": "2024-03-27T13:22:06.445Z"
   },
   {
    "duration": 158,
    "start_time": "2024-03-27T13:22:06.459Z"
   },
   {
    "duration": 30,
    "start_time": "2024-03-27T13:22:06.619Z"
   },
   {
    "duration": 28,
    "start_time": "2024-03-27T13:22:06.651Z"
   },
   {
    "duration": 5,
    "start_time": "2024-03-27T13:22:06.682Z"
   },
   {
    "duration": 6,
    "start_time": "2024-03-27T13:22:06.689Z"
   },
   {
    "duration": 13,
    "start_time": "2024-03-27T13:22:06.697Z"
   },
   {
    "duration": 43,
    "start_time": "2024-03-27T13:22:06.711Z"
   },
   {
    "duration": 21,
    "start_time": "2024-03-27T13:22:06.756Z"
   },
   {
    "duration": 14,
    "start_time": "2024-03-27T13:22:06.779Z"
   },
   {
    "duration": 157,
    "start_time": "2024-03-27T13:22:06.794Z"
   },
   {
    "duration": 5,
    "start_time": "2024-03-27T13:22:06.953Z"
   },
   {
    "duration": 201,
    "start_time": "2024-03-27T13:22:06.959Z"
   },
   {
    "duration": 247,
    "start_time": "2024-03-27T13:22:07.162Z"
   },
   {
    "duration": 230,
    "start_time": "2024-03-27T13:22:07.414Z"
   },
   {
    "duration": 195,
    "start_time": "2024-03-27T13:22:07.646Z"
   },
   {
    "duration": 336,
    "start_time": "2024-03-27T13:22:07.843Z"
   },
   {
    "duration": 1357,
    "start_time": "2024-03-28T15:42:46.234Z"
   },
   {
    "duration": 2,
    "start_time": "2024-03-28T15:42:47.594Z"
   },
   {
    "duration": 75,
    "start_time": "2024-03-28T15:42:47.598Z"
   },
   {
    "duration": 6,
    "start_time": "2024-03-28T15:42:47.675Z"
   },
   {
    "duration": 28,
    "start_time": "2024-03-28T15:42:47.684Z"
   },
   {
    "duration": 9,
    "start_time": "2024-03-28T15:42:47.714Z"
   },
   {
    "duration": 81,
    "start_time": "2024-03-28T15:42:47.725Z"
   },
   {
    "duration": 151,
    "start_time": "2024-03-28T15:42:47.807Z"
   },
   {
    "duration": 22,
    "start_time": "2024-03-28T15:42:47.959Z"
   },
   {
    "duration": 21,
    "start_time": "2024-03-28T15:42:47.983Z"
   },
   {
    "duration": 7,
    "start_time": "2024-03-28T15:42:48.006Z"
   },
   {
    "duration": 8,
    "start_time": "2024-03-28T15:42:48.015Z"
   },
   {
    "duration": 5,
    "start_time": "2024-03-28T15:42:48.024Z"
   },
   {
    "duration": 6,
    "start_time": "2024-03-28T15:42:48.032Z"
   },
   {
    "duration": 131,
    "start_time": "2024-03-28T15:42:48.039Z"
   },
   {
    "duration": 160,
    "start_time": "2024-03-28T15:42:48.171Z"
   },
   {
    "duration": 5,
    "start_time": "2024-03-28T15:42:48.332Z"
   },
   {
    "duration": 166,
    "start_time": "2024-03-28T15:42:48.339Z"
   },
   {
    "duration": 158,
    "start_time": "2024-03-28T15:42:48.506Z"
   },
   {
    "duration": 287,
    "start_time": "2024-03-28T15:42:48.665Z"
   },
   {
    "duration": 184,
    "start_time": "2024-03-28T15:42:48.954Z"
   },
   {
    "duration": 262,
    "start_time": "2024-03-28T15:42:49.140Z"
   },
   {
    "duration": 10,
    "start_time": "2024-03-28T15:42:49.403Z"
   },
   {
    "duration": 354,
    "start_time": "2024-03-28T15:42:49.415Z"
   },
   {
    "duration": 11,
    "start_time": "2024-03-28T15:42:49.771Z"
   },
   {
    "duration": 4,
    "start_time": "2024-03-28T15:42:49.784Z"
   },
   {
    "duration": 377,
    "start_time": "2024-03-28T15:42:49.789Z"
   },
   {
    "duration": 5,
    "start_time": "2024-03-28T15:42:50.168Z"
   },
   {
    "duration": 11,
    "start_time": "2024-03-28T15:42:50.174Z"
   },
   {
    "duration": 6,
    "start_time": "2024-03-28T15:42:50.186Z"
   },
   {
    "duration": 5,
    "start_time": "2024-03-28T15:42:50.194Z"
   },
   {
    "duration": 142,
    "start_time": "2024-03-28T15:42:50.200Z"
   },
   {
    "duration": 44,
    "start_time": "2024-03-28T15:42:50.343Z"
   },
   {
    "duration": 14,
    "start_time": "2024-03-28T15:42:50.389Z"
   },
   {
    "duration": 13,
    "start_time": "2024-03-28T15:42:50.406Z"
   },
   {
    "duration": 69,
    "start_time": "2024-03-28T15:42:50.421Z"
   },
   {
    "duration": 11,
    "start_time": "2024-03-28T15:42:50.492Z"
   },
   {
    "duration": 14,
    "start_time": "2024-03-28T15:42:50.505Z"
   },
   {
    "duration": 202,
    "start_time": "2024-03-28T15:42:50.521Z"
   },
   {
    "duration": 7,
    "start_time": "2024-03-28T15:42:50.725Z"
   },
   {
    "duration": 156,
    "start_time": "2024-03-28T15:42:50.737Z"
   },
   {
    "duration": 160,
    "start_time": "2024-03-28T15:42:50.895Z"
   },
   {
    "duration": 265,
    "start_time": "2024-03-28T15:42:51.056Z"
   },
   {
    "duration": 153,
    "start_time": "2024-03-28T15:42:51.323Z"
   },
   {
    "duration": 293,
    "start_time": "2024-03-28T15:42:51.477Z"
   },
   {
    "duration": 1367,
    "start_time": "2024-03-29T11:47:10.970Z"
   },
   {
    "duration": 3,
    "start_time": "2024-03-29T11:47:12.340Z"
   },
   {
    "duration": 95,
    "start_time": "2024-03-29T11:47:12.344Z"
   },
   {
    "duration": 6,
    "start_time": "2024-03-29T11:47:12.441Z"
   },
   {
    "duration": 45,
    "start_time": "2024-03-29T11:47:12.449Z"
   },
   {
    "duration": 7,
    "start_time": "2024-03-29T11:47:12.496Z"
   },
   {
    "duration": 53,
    "start_time": "2024-03-29T11:47:12.504Z"
   },
   {
    "duration": 163,
    "start_time": "2024-03-29T11:47:12.558Z"
   },
   {
    "duration": 32,
    "start_time": "2024-03-29T11:47:12.723Z"
   },
   {
    "duration": 21,
    "start_time": "2024-03-29T11:47:12.758Z"
   },
   {
    "duration": 34,
    "start_time": "2024-03-29T11:47:12.781Z"
   },
   {
    "duration": 24,
    "start_time": "2024-03-29T11:47:12.817Z"
   },
   {
    "duration": 7,
    "start_time": "2024-03-29T11:47:12.844Z"
   },
   {
    "duration": 9,
    "start_time": "2024-03-29T11:47:12.852Z"
   },
   {
    "duration": 120,
    "start_time": "2024-03-29T11:47:12.862Z"
   },
   {
    "duration": 171,
    "start_time": "2024-03-29T11:47:12.985Z"
   },
   {
    "duration": 5,
    "start_time": "2024-03-29T11:47:13.158Z"
   },
   {
    "duration": 170,
    "start_time": "2024-03-29T11:47:13.165Z"
   },
   {
    "duration": 167,
    "start_time": "2024-03-29T11:47:13.337Z"
   },
   {
    "duration": 292,
    "start_time": "2024-03-29T11:47:13.506Z"
   },
   {
    "duration": 174,
    "start_time": "2024-03-29T11:47:13.800Z"
   },
   {
    "duration": 384,
    "start_time": "2024-03-29T11:47:13.976Z"
   },
   {
    "duration": 12,
    "start_time": "2024-03-29T11:47:14.414Z"
   },
   {
    "duration": 728,
    "start_time": "2024-03-29T11:47:14.427Z"
   },
   {
    "duration": 58,
    "start_time": "2024-03-29T11:47:15.156Z"
   },
   {
    "duration": 5,
    "start_time": "2024-03-29T11:47:15.217Z"
   },
   {
    "duration": 679,
    "start_time": "2024-03-29T11:47:15.223Z"
   },
   {
    "duration": 5,
    "start_time": "2024-03-29T11:47:15.915Z"
   },
   {
    "duration": 6,
    "start_time": "2024-03-29T11:47:15.923Z"
   },
   {
    "duration": 17,
    "start_time": "2024-03-29T11:47:15.931Z"
   },
   {
    "duration": 6,
    "start_time": "2024-03-29T11:47:15.950Z"
   },
   {
    "duration": 139,
    "start_time": "2024-03-29T11:47:15.958Z"
   },
   {
    "duration": 33,
    "start_time": "2024-03-29T11:47:16.099Z"
   },
   {
    "duration": 10,
    "start_time": "2024-03-29T11:47:16.134Z"
   },
   {
    "duration": 10,
    "start_time": "2024-03-29T11:47:16.145Z"
   },
   {
    "duration": 26,
    "start_time": "2024-03-29T11:47:16.157Z"
   },
   {
    "duration": 36,
    "start_time": "2024-03-29T11:47:16.185Z"
   },
   {
    "duration": 9,
    "start_time": "2024-03-29T11:47:16.223Z"
   },
   {
    "duration": 161,
    "start_time": "2024-03-29T11:47:16.234Z"
   },
   {
    "duration": 5,
    "start_time": "2024-03-29T11:47:16.396Z"
   },
   {
    "duration": 157,
    "start_time": "2024-03-29T11:47:16.414Z"
   },
   {
    "duration": 152,
    "start_time": "2024-03-29T11:47:16.572Z"
   },
   {
    "duration": 276,
    "start_time": "2024-03-29T11:47:16.726Z"
   },
   {
    "duration": 174,
    "start_time": "2024-03-29T11:47:17.003Z"
   },
   {
    "duration": 314,
    "start_time": "2024-03-29T11:47:17.179Z"
   },
   {
    "duration": 114,
    "start_time": "2024-03-29T12:14:02.674Z"
   }
  ],
  "kernelspec": {
   "display_name": "Python 3 (ipykernel)",
   "language": "python",
   "name": "python3"
  },
  "language_info": {
   "codemirror_mode": {
    "name": "ipython",
    "version": 3
   },
   "file_extension": ".py",
   "mimetype": "text/x-python",
   "name": "python",
   "nbconvert_exporter": "python",
   "pygments_lexer": "ipython3",
   "version": "3.9.13"
  },
  "toc": {
   "base_numbering": 1,
   "nav_menu": {},
   "number_sections": true,
   "sideBar": true,
   "skip_h1_title": true,
   "title_cell": "Table of Contents",
   "title_sidebar": "Contents",
   "toc_cell": false,
   "toc_position": {
    "height": "calc(100% - 180px)",
    "left": "10px",
    "top": "150px",
    "width": "165px"
   },
   "toc_section_display": true,
   "toc_window_display": true
  }
 },
 "nbformat": 4,
 "nbformat_minor": 5
}
