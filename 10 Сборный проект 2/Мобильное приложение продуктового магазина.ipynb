{
 "cells": [
  {
   "cell_type": "markdown",
   "id": "b7533b17",
   "metadata": {},
   "source": [
    "<div style=\"border:solid Chocolate 2px; padding: 40px\">\n",
    "Андрей, привет, меня зовут Станислав, и я буду проверять твой проект. Предлагаю общаться на «ты», но если это неудобно - дай знать, и мы перейдем на «вы».\n",
    "Это учебный проект и здесь не стоит бояться делать ошибки, я хочу поделиться своим опытом и помочь тебе стать аналитиком данных.\n",
    "Уже выполнена большая работа над проектом, давай сделаем его еще лучше. Ниже ты найдешь мои комментарии - пожалуйста, не перемещай, не изменяй и не удаляй их. Я буду использовать цветовую разметку:\n",
    "\n",
    "<div class=\"alert alert-danger\">\n",
    "<b>Комментарий с замечанием ревьюера:</b> Так выделены самые важные замечания. Как только ты их исправишь проект будет принят. </div>\n",
    "\n",
    "<div class=\"alert alert-warning\">\n",
    "<b>Комментарий с небольшим замечанием или советом ревьюера:</b> Так выделены небольшие замечания или советы. \n",
    "</div>\n",
    "\n",
    "<div class=\"alert alert-success\">\n",
    "<b>Комментарий с комплиментом ревьюера:</b> Так я выделяю все остальные комментарии.</div>\n",
    "\n",
    "Давай работать над проектом в диалоге: если ты что-то меняешь в проекте или отвечаешь на мои комментарии — пиши об этом.\n",
    "Мне будет легче отследить изменения, если ты выделишь свои комментарии:\n",
    "<div class=\"alert alert-info\"> <b>Комментарий студента:</b> Например, вот так.</div>\n",
    "\n",
    "Всё это поможет выполнить повторную проверку твоего проекта оперативнее.\n",
    "</div>\n"
   ]
  },
  {
   "cell_type": "markdown",
   "id": "97b8e7c1",
   "metadata": {},
   "source": [
    "<div style=\"border:solid Chocolate 2px; padding: 40px\">\n",
    "\n",
    "# Общий вывод ревьюера по проекту\n",
    "\n",
    "<div class=\"alert alert-success\">\n",
    "\n",
    "Проделана хорошая аналитическая работа. Код написан чисто, соблюдена структура проекта и написаны качественные аналитические выводы. Проект выполнен на хорошем аналитическом уровне, поэтому замечаний не много. Я отметил в проекте моменты, на которые необходимо обратить внимание, исправь их и проект будет принят.\n",
    "\n",
    "- по ссылкам ниже ты найдешь интересные материалы по А/В тестам\n",
    "  \n",
    "    \n",
    "https://habr.com/ru/company/avito/blog/571094/\n",
    "\n",
    "https://habr.com/ru/company/yandex/blog/476826/\n",
    "\n",
    "https://academy.yandex.ru/journal/kak-provesti-a-b-testirovanie-6-prostykh-shagov\n",
    "\n",
    "https://habr.com/ru/company/yandex/blog/342704/\n",
    "\n",
    "https://r-analytics.blogspot.com/2013/10/blog-post_13.html \n",
    "\n",
    "</div>\n",
    "\n",
    "<div class=\"alert alert-danger\">\n",
    "\n",
    "  \n",
    "- скорректируй, пожалуйста, формулировку гипотезы Н1\n",
    "- узнай, пожалуйста, много ли пользователей мы потеряли, отбросив старые данные\n",
    "- добавь, пожалуйста, заголовок для графика и подписи осей на русском языке.\n",
    "</div>\n",
    "</div>\n",
    "\n",
    "\n",
    "\n",
    "\n"
   ]
  },
  {
   "cell_type": "markdown",
   "id": "0d329775-d712-4931-9488-872058163505",
   "metadata": {
    "tags": []
   },
   "source": [
    "<div class=\"alert alert-info\"> <b>Комментарий студента:</b> \n",
    "    \n",
    "    Спасибо за ссылки. \n",
    "</div>\n"
   ]
  },
  {
   "cell_type": "markdown",
   "id": "7de485aa-7eca-4cbc-bd40-6221e39082c3",
   "metadata": {},
   "source": [
    "# Приложение продажи продуктов. Воронка событий и А/В тестирование. "
   ]
  },
  {
   "cell_type": "markdown",
   "id": "10370f43-cc0e-4c32-90d1-acd719598e40",
   "metadata": {},
   "source": [
    "__Описание проекта__\n",
    "\n",
    "Фирма по продажи продуктов онлайн проводит исследование поведения пользователей в приложении.\n",
    "\n",
    "Необходимо изучить воронку событий в приложении.\n",
    "\n",
    "Провести А/В тестирования старого и нового дизайна.\n",
    "\n",
    "Представлены данные о событиях, совершаемых пользователями, с разделением на группы пользователей.  \n"
   ]
  },
  {
   "cell_type": "markdown",
   "id": "d549ea49-f8cf-422d-8d58-4e83838cfbed",
   "metadata": {},
   "source": [
    "__Описание данных__\n",
    "\n",
    "Каждая запись в логе — это действие пользователя, или событие. \n",
    "\n",
    "    •\tEventName — название события;\n",
    "    •\tDeviceIDHash — уникальный идентификатор пользователя;\n",
    "    •\tEventTimestamp — время события;\n",
    "    •\tExpId — номер эксперимента: 246 и 247 — контрольные группы, а 248 — экспериментальная.\n"
   ]
  },
  {
   "cell_type": "markdown",
   "id": "61b3f40d",
   "metadata": {},
   "source": [
    "<div class=\"alert alert-success\">\n",
    "<b>Комментарий с комплиментом ревьюера:</b> \n",
    "    \n",
    "Здорово, что выделено содержание, описана цель и данные. 👍\n",
    "    \n",
    "Еще можно добавить заголовок, который будет отражать основную суть проекта.\n",
    "</div>\n"
   ]
  },
  {
   "cell_type": "code",
   "execution_count": 176,
   "id": "a2f0fe21-9163-4024-a30d-efbae9062556",
   "metadata": {
    "tags": []
   },
   "outputs": [],
   "source": [
    "import pandas as pd\n",
    "import numpy as np\n",
    "import matplotlib.pyplot as plt\n",
    "import seaborn as sns\n",
    "from plotly import graph_objects as go\n",
    "from scipy import stats as st\n",
    "import math as mth\n",
    "from statsmodels.stats.proportion import proportions_ztest\n",
    "from plotly import graph_objects as go"
   ]
  },
  {
   "cell_type": "markdown",
   "id": "4f823181-6eca-47bb-95c6-76a8feaca8bd",
   "metadata": {
    "tags": []
   },
   "source": [
    "# Шаг 1. Озор данных"
   ]
  },
  {
   "cell_type": "code",
   "execution_count": 177,
   "id": "75b75e8e-11f7-4d88-b601-463475bf0dc4",
   "metadata": {
    "tags": []
   },
   "outputs": [],
   "source": [
    "try: df = pd.read_csv(r'/datasets/logs_exp.csv', sep = '\\t')\n",
    "except: df = pd.read_csv('logs_exp.csv', sep = '\\t')"
   ]
  },
  {
   "cell_type": "code",
   "execution_count": 178,
   "id": "49f7f740-13b3-4d0a-aa85-97146312e921",
   "metadata": {
    "tags": []
   },
   "outputs": [
    {
     "name": "stdout",
     "output_type": "stream",
     "text": [
      "<class 'pandas.core.frame.DataFrame'>\n",
      "RangeIndex: 244126 entries, 0 to 244125\n",
      "Data columns (total 4 columns):\n",
      " #   Column          Non-Null Count   Dtype \n",
      "---  ------          --------------   ----- \n",
      " 0   EventName       244126 non-null  object\n",
      " 1   DeviceIDHash    244126 non-null  int64 \n",
      " 2   EventTimestamp  244126 non-null  int64 \n",
      " 3   ExpId           244126 non-null  int64 \n",
      "dtypes: int64(3), object(1)\n",
      "memory usage: 7.5+ MB\n"
     ]
    }
   ],
   "source": [
    "df.info()"
   ]
  },
  {
   "cell_type": "code",
   "execution_count": 179,
   "id": "455085ab-aa2c-421e-9f29-e95751842828",
   "metadata": {
    "tags": []
   },
   "outputs": [
    {
     "data": {
      "text/html": [
       "<div>\n",
       "<style scoped>\n",
       "    .dataframe tbody tr th:only-of-type {\n",
       "        vertical-align: middle;\n",
       "    }\n",
       "\n",
       "    .dataframe tbody tr th {\n",
       "        vertical-align: top;\n",
       "    }\n",
       "\n",
       "    .dataframe thead th {\n",
       "        text-align: right;\n",
       "    }\n",
       "</style>\n",
       "<table border=\"1\" class=\"dataframe\">\n",
       "  <thead>\n",
       "    <tr style=\"text-align: right;\">\n",
       "      <th></th>\n",
       "      <th>EventName</th>\n",
       "      <th>DeviceIDHash</th>\n",
       "      <th>EventTimestamp</th>\n",
       "      <th>ExpId</th>\n",
       "    </tr>\n",
       "  </thead>\n",
       "  <tbody>\n",
       "    <tr>\n",
       "      <th>0</th>\n",
       "      <td>MainScreenAppear</td>\n",
       "      <td>4575588528974610257</td>\n",
       "      <td>1564029816</td>\n",
       "      <td>246</td>\n",
       "    </tr>\n",
       "    <tr>\n",
       "      <th>1</th>\n",
       "      <td>MainScreenAppear</td>\n",
       "      <td>7416695313311560658</td>\n",
       "      <td>1564053102</td>\n",
       "      <td>246</td>\n",
       "    </tr>\n",
       "    <tr>\n",
       "      <th>2</th>\n",
       "      <td>PaymentScreenSuccessful</td>\n",
       "      <td>3518123091307005509</td>\n",
       "      <td>1564054127</td>\n",
       "      <td>248</td>\n",
       "    </tr>\n",
       "    <tr>\n",
       "      <th>3</th>\n",
       "      <td>CartScreenAppear</td>\n",
       "      <td>3518123091307005509</td>\n",
       "      <td>1564054127</td>\n",
       "      <td>248</td>\n",
       "    </tr>\n",
       "    <tr>\n",
       "      <th>4</th>\n",
       "      <td>PaymentScreenSuccessful</td>\n",
       "      <td>6217807653094995999</td>\n",
       "      <td>1564055322</td>\n",
       "      <td>248</td>\n",
       "    </tr>\n",
       "  </tbody>\n",
       "</table>\n",
       "</div>"
      ],
      "text/plain": [
       "                 EventName         DeviceIDHash  EventTimestamp  ExpId\n",
       "0         MainScreenAppear  4575588528974610257      1564029816    246\n",
       "1         MainScreenAppear  7416695313311560658      1564053102    246\n",
       "2  PaymentScreenSuccessful  3518123091307005509      1564054127    248\n",
       "3         CartScreenAppear  3518123091307005509      1564054127    248\n",
       "4  PaymentScreenSuccessful  6217807653094995999      1564055322    248"
      ]
     },
     "execution_count": 179,
     "metadata": {},
     "output_type": "execute_result"
    }
   ],
   "source": [
    "df.head(5)"
   ]
  },
  {
   "cell_type": "markdown",
   "id": "f2e4b3a4-98d4-4faa-bfe5-cda43a43875e",
   "metadata": {},
   "source": [
    "Название событий в строковым типе. Дата события, ИД пользователя и номер эксперимента в целочисленном формате.  "
   ]
  },
  {
   "cell_type": "markdown",
   "id": "0703d183",
   "metadata": {},
   "source": [
    "<div class=\"alert alert-success\">\n",
    "<b>Комментарий с комплиментом ревьюера:</b> \n",
    "      \n",
    "Отличный предварительный анализ 👍\n",
    "</div>\n"
   ]
  },
  {
   "cell_type": "markdown",
   "id": "5193db64-f70e-459b-8d38-577532c47785",
   "metadata": {
    "tags": []
   },
   "source": [
    "# Шаг 2. Подготовка данные"
   ]
  },
  {
   "cell_type": "code",
   "execution_count": 180,
   "id": "3c123398-7b9d-4885-bfd7-4b1784a0140c",
   "metadata": {
    "tags": []
   },
   "outputs": [],
   "source": [
    "df = df.rename(columns={'EventName': 'event_name', \n",
    "                        'DeviceIDHash':'user_id', \n",
    "                        'EventTimestamp':'event_timestamp', \n",
    "                        'ExpId':'exp_id'})"
   ]
  },
  {
   "cell_type": "code",
   "execution_count": 181,
   "id": "e7aab4fd-3fbe-4791-bb9c-a742dded74b9",
   "metadata": {
    "tags": []
   },
   "outputs": [],
   "source": [
    "df['event_timestamp'] = pd.to_datetime(df['event_timestamp'], unit='s')"
   ]
  },
  {
   "cell_type": "code",
   "execution_count": 182,
   "id": "98a2fcc1-6cfc-418a-91c5-a8ce4de13fbe",
   "metadata": {
    "tags": []
   },
   "outputs": [],
   "source": [
    "df['date'] = df['event_timestamp'].dt.round('1D') # округлить до 1 дня"
   ]
  },
  {
   "cell_type": "code",
   "execution_count": 183,
   "id": "b73a16f6-27c7-4025-803b-1c1bb5135d53",
   "metadata": {
    "tags": []
   },
   "outputs": [],
   "source": [
    "df['exp_id'] = df['exp_id'].astype('str')"
   ]
  },
  {
   "cell_type": "code",
   "execution_count": 184,
   "id": "1d400aef-5e08-495b-8106-78a4c7a888e4",
   "metadata": {
    "tags": []
   },
   "outputs": [
    {
     "data": {
      "text/plain": [
       "event_name         0\n",
       "user_id            0\n",
       "event_timestamp    0\n",
       "exp_id             0\n",
       "date               0\n",
       "dtype: int64"
      ]
     },
     "execution_count": 184,
     "metadata": {},
     "output_type": "execute_result"
    }
   ],
   "source": [
    "df.isna().sum()"
   ]
  },
  {
   "cell_type": "code",
   "execution_count": 185,
   "id": "8ae0538d-dfee-4e06-86db-d59994353604",
   "metadata": {
    "scrolled": true,
    "tags": []
   },
   "outputs": [
    {
     "data": {
      "text/plain": [
       "'Количество дублей 413, что составляет 0.17% от всего объема данных'"
      ]
     },
     "metadata": {},
     "output_type": "display_data"
    }
   ],
   "source": [
    "display('Количество дублей {0}, что составляет {1}% от всего объема данных'.format(\n",
    "    df.duplicated(subset=['event_name', 'user_id', 'event_timestamp']).sum(), \n",
    "    round(100*df.duplicated(subset=['event_name', 'user_id', 'event_timestamp']).sum()/df['user_id'].count(), 2)\n",
    ")\n",
    ")"
   ]
  },
  {
   "cell_type": "markdown",
   "id": "94ae4c5b",
   "metadata": {},
   "source": [
    "<div class=\"alert alert-warning\">\n",
    "<b>Комментарий с советом ревьюера:</b> \n",
    "    \n",
    "Для понимания того, какую часть составляют дубликаты и какой объем ты удаляешь, лучше дополнительно посчитать долю.\n",
    " </div>\n",
    "\n"
   ]
  },
  {
   "cell_type": "code",
   "execution_count": 186,
   "id": "5a96696c-8c28-4f29-8cc2-6de92f16cd26",
   "metadata": {
    "tags": []
   },
   "outputs": [],
   "source": [
    "df = df.drop_duplicates().reset_index(drop=True)"
   ]
  },
  {
   "cell_type": "code",
   "execution_count": 187,
   "id": "22e3b5e4-c44a-43d2-9e1f-f4e15811cd3d",
   "metadata": {
    "tags": []
   },
   "outputs": [
    {
     "name": "stdout",
     "output_type": "stream",
     "text": [
      "<class 'pandas.core.frame.DataFrame'>\n",
      "RangeIndex: 243713 entries, 0 to 243712\n",
      "Data columns (total 5 columns):\n",
      " #   Column           Non-Null Count   Dtype         \n",
      "---  ------           --------------   -----         \n",
      " 0   event_name       243713 non-null  object        \n",
      " 1   user_id          243713 non-null  int64         \n",
      " 2   event_timestamp  243713 non-null  datetime64[ns]\n",
      " 3   exp_id           243713 non-null  object        \n",
      " 4   date             243713 non-null  datetime64[ns]\n",
      "dtypes: datetime64[ns](2), int64(1), object(2)\n",
      "memory usage: 9.3+ MB\n"
     ]
    }
   ],
   "source": [
    "df.info()"
   ]
  },
  {
   "cell_type": "markdown",
   "id": "6666effc-2385-4a92-81c8-a642a397e659",
   "metadata": {},
   "source": [
    "Названия заголовков приведены к общеприемлемому виду.  \n",
    "Пропусков нет. Дубли 413 штук (0.17% от всего объема) - удалены.   \n",
    "Время событий приведено к datetime, номер эксперимента к строковому.   \n",
    "Добавлена колонка с датой, округленной до дня."
   ]
  },
  {
   "cell_type": "markdown",
   "id": "51869c05",
   "metadata": {},
   "source": [
    "<div class=\"alert alert-success\">\n",
    "<b>Комментарий с комплиментом ревьюера:</b> \n",
    "\n",
    "Данные подготовлены верно, молодец. 👍\n",
    "\n",
    "Молодец, что используешь метод info() для изучения данных, корректируешь типы данных, проверяешь на дубликаты и корректно переименовываешь названия столбцов.</div>\n",
    "\n",
    "\n"
   ]
  },
  {
   "cell_type": "markdown",
   "id": "7ba3bc1a-42b7-4ebb-9efe-e74ccbdc073f",
   "metadata": {
    "tags": []
   },
   "source": [
    "# Шаг 3. Изучение и проверка данных"
   ]
  },
  {
   "cell_type": "code",
   "execution_count": 188,
   "id": "d4ccfdf6-7e62-46e6-8c23-361154f1c3d4",
   "metadata": {
    "tags": []
   },
   "outputs": [
    {
     "data": {
      "text/plain": [
       "event_name\n",
       "MainScreenAppear           119101\n",
       "OffersScreenAppear          46808\n",
       "CartScreenAppear            42668\n",
       "PaymentScreenSuccessful     34118\n",
       "Tutorial                     1018\n",
       "Name: count, dtype: int64"
      ]
     },
     "execution_count": 188,
     "metadata": {},
     "output_type": "execute_result"
    }
   ],
   "source": [
    "df['event_name'].value_counts()"
   ]
  },
  {
   "cell_type": "markdown",
   "id": "7ba93a89-0380-4b66-b5dd-c6aee0b6f80c",
   "metadata": {},
   "source": [
    "Всего пять видов событий:\n",
    "    \n",
    "    Главном экран           119 205\n",
    "    Экране предложения       46 825\n",
    "    Экране корзины           42 731\n",
    "    Экране успешной оплаты   34 313\n",
    "    Руководство               1 018\n",
    "\n",
    "Руководство ни кто не читает"
   ]
  },
  {
   "cell_type": "code",
   "execution_count": 189,
   "id": "a7a105f7-42c9-44f0-8f7c-2e0d82bc9f82",
   "metadata": {
    "tags": []
   },
   "outputs": [
    {
     "data": {
      "text/plain": [
       "7551"
      ]
     },
     "execution_count": 189,
     "metadata": {},
     "output_type": "execute_result"
    }
   ],
   "source": [
    "df['user_id'].nunique()"
   ]
  },
  {
   "cell_type": "markdown",
   "id": "091d5c00-11bf-4b45-9895-b841ed07a79b",
   "metadata": {},
   "source": [
    "Всего 7551 уникальный пользователь"
   ]
  },
  {
   "cell_type": "code",
   "execution_count": 190,
   "id": "ace57ecd-205d-40a0-983e-8b54672f6a60",
   "metadata": {
    "tags": []
   },
   "outputs": [],
   "source": [
    "df_event_name_count = (\n",
    "    df\n",
    "    .groupby('user_id', #группировка\n",
    "            as_index=False) #переиндексирует\n",
    "    .agg(  #агригирующие процедуры\n",
    "           event_name_count = ('event_name', 'count'), # колоичество             \n",
    "        )\n",
    "       \n",
    ")"
   ]
  },
  {
   "cell_type": "code",
   "execution_count": 191,
   "id": "c873318d-9143-4a62-abd1-f2b0ec0eabb8",
   "metadata": {
    "tags": []
   },
   "outputs": [
    {
     "data": {
      "image/png": "[encoded data removed]",
      "text/plain": [
       "<Figure size 640x480 with 1 Axes>"
      ]
     },
     "metadata": {},
     "output_type": "display_data"
    }
   ],
   "source": [
    "df_event_name_count.plot(kind='box', \n",
    "        column='event_name_count', # диаграммы ящик с усами\n",
    "         )\n",
    "\n",
    "plt.xticks([1], ['количество событий'])\n",
    "plt.title('Бокс плот количества событий на одного пользователя')\n",
    "\n",
    "plt.show()"
   ]
  },
  {
   "cell_type": "code",
   "execution_count": 192,
   "id": "e8409c2d-f2a4-4f5d-925a-d456d6a2a79e",
   "metadata": {
    "tags": []
   },
   "outputs": [
    {
     "data": {
      "text/plain": [
       "count    7551.000000\n",
       "mean       32.275593\n",
       "std        65.154219\n",
       "min         1.000000\n",
       "25%         9.000000\n",
       "50%        20.000000\n",
       "75%        37.000000\n",
       "max      2307.000000\n",
       "Name: event_name_count, dtype: float64"
      ]
     },
     "execution_count": 192,
     "metadata": {},
     "output_type": "execute_result"
    }
   ],
   "source": [
    "df_event_name_count['event_name_count'].describe()"
   ]
  },
  {
   "cell_type": "code",
   "execution_count": 193,
   "id": "f4958489-d7ff-48bf-b9fd-307ad274f059",
   "metadata": {
    "tags": []
   },
   "outputs": [
    {
     "data": {
      "text/plain": [
       "array([ 64. ,  89. , 200.5])"
      ]
     },
     "execution_count": 193,
     "metadata": {},
     "output_type": "execute_result"
    }
   ],
   "source": [
    "# выбросы\n",
    "np.percentile(df_event_name_count['event_name_count'], [90, 95, 99])"
   ]
  },
  {
   "cell_type": "code",
   "execution_count": 194,
   "id": "7737c143-f0ad-425b-9389-5a0395258972",
   "metadata": {
    "tags": []
   },
   "outputs": [
    {
     "data": {
      "text/plain": [
       "user_id             372\n",
       "event_name_count    372\n",
       "dtype: int64"
      ]
     },
     "execution_count": 194,
     "metadata": {},
     "output_type": "execute_result"
    }
   ],
   "source": [
    "df_event_name_count[df_event_name_count['event_name_count']>89].count()"
   ]
  },
  {
   "cell_type": "code",
   "execution_count": 195,
   "id": "49b95978-ec1a-4ad0-9fff-f373a7e16722",
   "metadata": {
    "tags": []
   },
   "outputs": [
    {
     "data": {
      "text/plain": [
       "20.0"
      ]
     },
     "execution_count": 195,
     "metadata": {},
     "output_type": "execute_result"
    }
   ],
   "source": [
    "df_event_name_count['event_name_count'].median()"
   ]
  },
  {
   "cell_type": "markdown",
   "id": "b0797850-034d-447c-bfe1-0cb343556ed5",
   "metadata": {},
   "source": [
    "В среднем на одного пользователя приходтися около 32 событий. Но есть выбросы по количеству событий на одного пользователя. О чем свидетельствует боксплот. Максимальное число событий у одного пользователя 2307, явно что-то не так.  \n",
    "95% пользователей совершили менее 89 событий, а 75% менее - 37 событий. Распределение явно смещено. Более правильной оценкой в данном случае будет медиана, которая равна 20 и сильно отличимая от среднего. Около 20 событий приходится на одного пользователя.     "
   ]
  },
  {
   "cell_type": "markdown",
   "id": "290a7900",
   "metadata": {},
   "source": [
    "<div class=\"alert alert-warning\">\n",
    "<b>Комментарий с советом или небольшим замечанием ревьюера:</b>\n",
    "\n",
    "Когда нас просят взглянуть на среднее значение, для начала важно определить, есть ли в данных выбросы. В случае присутствия выбросов лучше использовать медиану, чем среднее, поскольку выбросы на нее не влияют. Для того, чтобы определить есть ли в данных выбросы или нет, необходимо сгруппировать по пользователям, посчитать количество событие на пользователя и по этим данным построить график box plot и посмотреть распределение или использовать метод describe(). \n",
    " </div>\n"
   ]
  },
  {
   "cell_type": "code",
   "execution_count": 196,
   "id": "741916ab-6d97-41bb-a47f-643318d39f01",
   "metadata": {
    "tags": []
   },
   "outputs": [
    {
     "name": "stdout",
     "output_type": "stream",
     "text": [
      "Данные за период 2019-07-25 04:43:36 - 2019-08-07 21:15:17\n"
     ]
    }
   ],
   "source": [
    "print('Данные за период {0} - {1}'.format(df['event_timestamp'].min(), df['event_timestamp'].max()))"
   ]
  },
  {
   "cell_type": "code",
   "execution_count": 197,
   "id": "b414610a-d5f1-4022-93ac-662eb270514d",
   "metadata": {
    "tags": []
   },
   "outputs": [],
   "source": [
    "gr_df = (\n",
    "    df\n",
    "    .groupby('date', #группировка\n",
    "             as_index=False) #переиндексирует\n",
    "    .agg(  #агригирующие процедуры\n",
    "           event_name_count = ('event_name', 'count'), # колоичество     \n",
    "                \n",
    "        )#.set_index('date')\n",
    ")"
   ]
  },
  {
   "cell_type": "code",
   "execution_count": 198,
   "id": "3407bfd2-b0f5-47d5-9cf1-93cdbccb59e4",
   "metadata": {
    "tags": []
   },
   "outputs": [],
   "source": [
    "gr_df['date'] = gr_df['date'].astype('str')"
   ]
  },
  {
   "cell_type": "code",
   "execution_count": 200,
   "id": "8f9ccf47-41d8-49bd-b23a-50df90df65d7",
   "metadata": {
    "tags": []
   },
   "outputs": [
    {
     "data": {
      "image/png": "[encoded data removed]",
      "text/plain": [
       "<Figure size 640x480 with 1 Axes>"
      ]
     },
     "metadata": {},
     "output_type": "display_data"
    }
   ],
   "source": [
    "gr_df['date'] = gr_df['date'].astype('str')\n",
    "ax1 = (\n",
    "        gr_df.plot(# возвращает оси ax которые можно использовать в дальнейшем\n",
    "                      kind='bar', \n",
    "                      y='event_name_count',\n",
    "                      x='date',  \n",
    "                      label='Количество событий в день', # название линии\n",
    "                      rot = 45,\n",
    "                      # xticks=list(gr_df['date'])\n",
    "                    )\n",
    ")\n",
    "plt.title('Распределение событий по днями за период эксперемента')\n",
    "plt.xlabel('Даты периода')\n",
    "plt.show()"
   ]
  },
  {
   "cell_type": "markdown",
   "id": "e2e1b337",
   "metadata": {},
   "source": [
    "<div class=\"alert alert-danger\">\n",
    "❌<b>Комментарий с замечанием ревьюера:</b> \n",
    "\n",
    "Оформление графиков - очень важный скилл для аналитика, поэтому предлагаю поработать над этим.\n",
    "    \n",
    "У графика должно быть название, которое будет точно описывать суть графика. \n",
    "    \n",
    "У графика должны быть подписаны оси на том языке, на котором сделан весь проект\n",
    "    \n",
    "Легенда должна нести смысловую нагрузку, просто так не следует ее размещать.\n",
    "    \n",
    "Удобно читаемая ориентация отметок значений на осях (к примеру даты можно расположить под углом 30-45 градусов)\n",
    "</div>\n"
   ]
  },
  {
   "cell_type": "code",
   "execution_count": 201,
   "id": "d876cc26-6239-4b4f-ba90-339f8d849eb3",
   "metadata": {
    "tags": []
   },
   "outputs": [
    {
     "name": "stdout",
     "output_type": "stream",
     "text": [
      "Доля событий из предыдущего периода 1.16%\n"
     ]
    }
   ],
   "source": [
    "# dola = gr_df[gr_df['date'] < '2019-08-01']['event_name_count'].sum()/gr_df['event_name_count'].sum()\n",
    "dola = len(df[df['event_timestamp']<'2019-08-01'])/len(df)\n",
    "print(f'Доля событий из предыдущего периода {dola:.2%}')"
   ]
  },
  {
   "cell_type": "code",
   "execution_count": 202,
   "id": "f334e531-685e-477f-9d00-bd8c87301bbf",
   "metadata": {
    "tags": []
   },
   "outputs": [],
   "source": [
    "user_before = len(df.user_id.unique())\n",
    "df = df[df['event_timestamp'] >= '2019-08-01']\n",
    "user_after = len(df.user_id.unique())"
   ]
  },
  {
   "cell_type": "markdown",
   "id": "5ba9b636-f19b-4b4b-a39a-4d3a4b59a777",
   "metadata": {},
   "source": [
    "В датафрейме есть ряд записи по днями из предыдущего периода, этих записей немного.  \n",
    "Их доля 1.16% от общего количества.  \n",
    "Их можно удалить. "
   ]
  },
  {
   "cell_type": "code",
   "execution_count": 203,
   "id": "55efdfa6-245f-48c9-bf2b-1a5342ee9aa4",
   "metadata": {
    "tags": []
   },
   "outputs": [
    {
     "name": "stdout",
     "output_type": "stream",
     "text": [
      "<class 'pandas.core.frame.DataFrame'>\n",
      "Index: 240887 entries, 2826 to 243712\n",
      "Data columns (total 5 columns):\n",
      " #   Column           Non-Null Count   Dtype         \n",
      "---  ------           --------------   -----         \n",
      " 0   event_name       240887 non-null  object        \n",
      " 1   user_id          240887 non-null  int64         \n",
      " 2   event_timestamp  240887 non-null  datetime64[ns]\n",
      " 3   exp_id           240887 non-null  object        \n",
      " 4   date             240887 non-null  datetime64[ns]\n",
      "dtypes: datetime64[ns](2), int64(1), object(2)\n",
      "memory usage: 11.0+ MB\n"
     ]
    }
   ],
   "source": [
    "df.info()"
   ]
  },
  {
   "cell_type": "code",
   "execution_count": 205,
   "id": "bef3f87a-dd02-4990-a392-f1db0d09306e",
   "metadata": {
    "tags": []
   },
   "outputs": [
    {
     "name": "stdout",
     "output_type": "stream",
     "text": [
      "Количество потеряных уникальных пользоватлей 17, это 0.23%\n"
     ]
    }
   ],
   "source": [
    "print(f'Количество потеряных уникальных пользоватлей {user_before-user_after}, это {(user_before-user_after)/user_before:.2%}')"
   ]
  },
  {
   "cell_type": "markdown",
   "id": "69532217",
   "metadata": {},
   "source": [
    "<div class=\"alert alert-danger\">\n",
    "<b>Комментарий с замечанием ревьюера:</b>\n",
    "\n",
    "Согласно заданию, также надо узнать много ли <b>пользователей</b> мы потеряли, отбросив старые данные?\n"
   ]
  },
  {
   "cell_type": "code",
   "execution_count": 206,
   "id": "76a4a3ae-1857-4969-94bf-d4f7f40c0878",
   "metadata": {
    "tags": []
   },
   "outputs": [],
   "source": [
    "# число уникальных пользователей по группам и количество событий по группам\n",
    "gr_df = (\n",
    "     df\n",
    "    .groupby('exp_id', #группировка\n",
    "            as_index=False) #переиндексирует\n",
    "    .agg(  #агригирующие процедуры\n",
    "           user_id_count = ('user_id', 'count'), # колоичество \n",
    "           user_id_nunique = ('user_id', 'nunique')\n",
    "                \n",
    "        )\n",
    ")  "
   ]
  },
  {
   "cell_type": "code",
   "execution_count": 207,
   "id": "10f3ec16-8954-4b58-95d0-1e1cd51644e6",
   "metadata": {
    "tags": []
   },
   "outputs": [
    {
     "data": {
      "text/html": [
       "<div>\n",
       "<style scoped>\n",
       "    .dataframe tbody tr th:only-of-type {\n",
       "        vertical-align: middle;\n",
       "    }\n",
       "\n",
       "    .dataframe tbody tr th {\n",
       "        vertical-align: top;\n",
       "    }\n",
       "\n",
       "    .dataframe thead th {\n",
       "        text-align: right;\n",
       "    }\n",
       "</style>\n",
       "<table border=\"1\" class=\"dataframe\">\n",
       "  <thead>\n",
       "    <tr style=\"text-align: right;\">\n",
       "      <th></th>\n",
       "      <th>exp_id</th>\n",
       "      <th>user_id_count</th>\n",
       "      <th>user_id_nunique</th>\n",
       "    </tr>\n",
       "  </thead>\n",
       "  <tbody>\n",
       "    <tr>\n",
       "      <th>0</th>\n",
       "      <td>246</td>\n",
       "      <td>79302</td>\n",
       "      <td>2484</td>\n",
       "    </tr>\n",
       "    <tr>\n",
       "      <th>1</th>\n",
       "      <td>247</td>\n",
       "      <td>77022</td>\n",
       "      <td>2513</td>\n",
       "    </tr>\n",
       "    <tr>\n",
       "      <th>2</th>\n",
       "      <td>248</td>\n",
       "      <td>84563</td>\n",
       "      <td>2537</td>\n",
       "    </tr>\n",
       "  </tbody>\n",
       "</table>\n",
       "</div>"
      ],
      "text/plain": [
       "  exp_id  user_id_count  user_id_nunique\n",
       "0    246          79302             2484\n",
       "1    247          77022             2513\n",
       "2    248          84563             2537"
      ]
     },
     "execution_count": 207,
     "metadata": {},
     "output_type": "execute_result"
    }
   ],
   "source": [
    "gr_df"
   ]
  },
  {
   "cell_type": "code",
   "execution_count": 208,
   "id": "2cffa77c-41dc-457d-86cb-2907080846da",
   "metadata": {
    "tags": []
   },
   "outputs": [
    {
     "name": "stdout",
     "output_type": "stream",
     "text": [
      "Совпадающие пользователи в группах: 0\n"
     ]
    }
   ],
   "source": [
    "users_match = len(\\\n",
    "                    df[df['exp_id']=='246']\\\n",
    "                    .merge(\n",
    "                            df[df['exp_id']=='247'], \n",
    "                            on='user_id', \n",
    "                            how='inner', \n",
    "                            )\\\n",
    "                    .merge(\n",
    "                            df[df['exp_id']=='248'], \n",
    "                            on='user_id', \n",
    "                            how='inner', \n",
    "                            )\n",
    "                  )\n",
    "print('Совпадающие пользователи в группах: {0}'.format(users_match))"
   ]
  },
  {
   "cell_type": "markdown",
   "id": "5da26d90-7ed3-4322-934d-ac1992f67e8f",
   "metadata": {},
   "source": [
    "Во всех группах примерное одинаковое количество событий и пользователей. Пересекающихся пользователей нет."
   ]
  },
  {
   "cell_type": "markdown",
   "id": "21effe9d",
   "metadata": {},
   "source": [
    "<div class=\"alert alert-success\">\n",
    "<b>Комментарий с комплиментом ревьюера:</b>\n",
    "    \n",
    "Отличный анализ, здорово, что проверено пересечение пользователей, это важный момент.  👍\n",
    "</div>\n"
   ]
  },
  {
   "cell_type": "markdown",
   "id": "d3d5e12a-9900-4cec-8524-5246f1a42de4",
   "metadata": {
    "tags": []
   },
   "source": [
    "# Шаг 4. Воронка событий"
   ]
  },
  {
   "cell_type": "code",
   "execution_count": 209,
   "id": "235b235e-103c-48e3-ac2f-cd829cdd0b04",
   "metadata": {
    "tags": []
   },
   "outputs": [
    {
     "data": {
      "text/plain": [
       "event_name\n",
       "MainScreenAppear           117328\n",
       "OffersScreenAppear          46333\n",
       "CartScreenAppear            42303\n",
       "PaymentScreenSuccessful     33918\n",
       "Tutorial                     1005\n",
       "Name: count, dtype: int64"
      ]
     },
     "execution_count": 209,
     "metadata": {},
     "output_type": "execute_result"
    }
   ],
   "source": [
    "df['event_name'].value_counts()"
   ]
  },
  {
   "cell_type": "markdown",
   "id": "1b9f5135-706c-46f5-bc19-e9647c37cec6",
   "metadata": {},
   "source": [
    "Всего пять видов событий:\n",
    "    \n",
    "    На главном экране          117 328\n",
    "    На экране предложения       46 333\n",
    "    На экране корзины           42 303\n",
    "    На экране успешной оплаты   33 918\n",
    "    Руководство                  1 005\n",
    "\n",
    "Все равно руководство ни кто не читает "
   ]
  },
  {
   "cell_type": "code",
   "execution_count": 210,
   "id": "c4e4b209-2ef9-4530-b3d0-b81be5c1c536",
   "metadata": {
    "tags": []
   },
   "outputs": [
    {
     "name": "stdout",
     "output_type": "stream",
     "text": [
      "Количество уникальных пользователей^ 7534, всего событий с пользователями 240887\n"
     ]
    }
   ],
   "source": [
    "nunique_users = df.user_id.nunique()\n",
    "count_users = df.user_id.count()\n",
    "print(f'Количество уникальных пользователей^ {nunique_users}, всего событий с пользователями {count_users}')"
   ]
  },
  {
   "cell_type": "code",
   "execution_count": 211,
   "id": "fbd86474-492d-489f-ad0f-ac3ce8390920",
   "metadata": {
    "tags": []
   },
   "outputs": [],
   "source": [
    "df_v = (\n",
    "    df\n",
    "    .groupby('event_name', #группировка\n",
    "            as_index=False) #переиндексирует\n",
    "    .agg(  #агригирующие процедуры\n",
    "            user_nunique = ('user_id', 'nunique'), # колоичество различны   \n",
    "            # event_count = ('event_name', 'count'), # колоичество \n",
    "        ).sort_values(by='user_nunique', ascending=False)\n",
    "        ).assign (\n",
    "                    user_share_nunique=lambda df: round(\n",
    "                                                    100*df[\"user_nunique\"]/nunique_users, \n",
    "                                                    2\n",
    "                                                    ),\n",
    "                    # user_share_count=lambda df: round(\n",
    "                    #                                 100*df[\"event_count\"]/count_users, \n",
    "                    #                                 2\n",
    "                    #                                 ),\n",
    "                    user_share_to = lambda df:  round(100*df['user_nunique']/df['user_nunique'].shift()) \n",
    "                    )    "
   ]
  },
  {
   "cell_type": "code",
   "execution_count": 212,
   "id": "c5d10cc3-c21a-4dba-a52f-c2a571cd7591",
   "metadata": {
    "tags": []
   },
   "outputs": [
    {
     "data": {
      "text/html": [
       "<div>\n",
       "<style scoped>\n",
       "    .dataframe tbody tr th:only-of-type {\n",
       "        vertical-align: middle;\n",
       "    }\n",
       "\n",
       "    .dataframe tbody tr th {\n",
       "        vertical-align: top;\n",
       "    }\n",
       "\n",
       "    .dataframe thead th {\n",
       "        text-align: right;\n",
       "    }\n",
       "</style>\n",
       "<table border=\"1\" class=\"dataframe\">\n",
       "  <thead>\n",
       "    <tr style=\"text-align: right;\">\n",
       "      <th></th>\n",
       "      <th>event_name</th>\n",
       "      <th>user_nunique</th>\n",
       "      <th>user_share_nunique</th>\n",
       "      <th>user_share_to</th>\n",
       "    </tr>\n",
       "  </thead>\n",
       "  <tbody>\n",
       "    <tr>\n",
       "      <th>1</th>\n",
       "      <td>MainScreenAppear</td>\n",
       "      <td>7419</td>\n",
       "      <td>98.47</td>\n",
       "      <td>NaN</td>\n",
       "    </tr>\n",
       "    <tr>\n",
       "      <th>2</th>\n",
       "      <td>OffersScreenAppear</td>\n",
       "      <td>4593</td>\n",
       "      <td>60.96</td>\n",
       "      <td>62.0</td>\n",
       "    </tr>\n",
       "    <tr>\n",
       "      <th>0</th>\n",
       "      <td>CartScreenAppear</td>\n",
       "      <td>3734</td>\n",
       "      <td>49.56</td>\n",
       "      <td>81.0</td>\n",
       "    </tr>\n",
       "    <tr>\n",
       "      <th>3</th>\n",
       "      <td>PaymentScreenSuccessful</td>\n",
       "      <td>3539</td>\n",
       "      <td>46.97</td>\n",
       "      <td>95.0</td>\n",
       "    </tr>\n",
       "    <tr>\n",
       "      <th>4</th>\n",
       "      <td>Tutorial</td>\n",
       "      <td>840</td>\n",
       "      <td>11.15</td>\n",
       "      <td>24.0</td>\n",
       "    </tr>\n",
       "  </tbody>\n",
       "</table>\n",
       "</div>"
      ],
      "text/plain": [
       "                event_name  user_nunique  user_share_nunique  user_share_to\n",
       "1         MainScreenAppear          7419               98.47            NaN\n",
       "2       OffersScreenAppear          4593               60.96           62.0\n",
       "0         CartScreenAppear          3734               49.56           81.0\n",
       "3  PaymentScreenSuccessful          3539               46.97           95.0\n",
       "4                 Tutorial           840               11.15           24.0"
      ]
     },
     "execution_count": 212,
     "metadata": {},
     "output_type": "execute_result"
    }
   ],
   "source": [
    "df_v"
   ]
  },
  {
   "cell_type": "markdown",
   "id": "d2e6397d-a285-492b-9f8b-76e732a80188",
   "metadata": {},
   "source": [
    "98 с половиной процентов пользователей зашли на главный экран, \n",
    "    \n",
    "    61% - экран предложения или 61% от предыдущего этапа, \n",
    "    50% - экран корзины или 81% от предыдущего этапа, \n",
    "    47% - экран успешной продажи или 95% от предыдущего этапа \n",
    "    11% посмотрели руководства."
   ]
  },
  {
   "cell_type": "markdown",
   "id": "2a583210-0a60-48c6-aac4-b6d670a8db4d",
   "metadata": {},
   "source": [
    "Четыре события выстраиваются в последовательную цепочку, это:\n",
    "    \n",
    "    просмотр главного экрана, \n",
    "    экрана предложения, \n",
    "    экран корзины \n",
    "    экран успешной покупки. \n",
    "   \n",
    "Экран Руководство не вписывается в эту последовательность.\n"
   ]
  },
  {
   "cell_type": "code",
   "execution_count": 213,
   "id": "c4fd9af8-9c92-4878-9ef4-13ef10f3e8f5",
   "metadata": {
    "tags": []
   },
   "outputs": [
    {
     "data": {
      "application/vnd.plotly.v1+json": {
       "config": {
        "plotlyServerURL": "https://plot.ly"
       },
       "data": [
        {
         "type": "funnel",
         "x": [
          98.47,
          60.96,
          49.56,
          46.97,
          11.15
         ],
         "y": [
          "Главный экран",
          "Экран предложения",
          "Экран корзины",
          "Экран успешной покупки"
         ]
        }
       ],
       "layout": {
        "autosize": true,
        "template": {
         "data": {
          "bar": [
           {
            "error_x": {
             "color": "#2a3f5f"
            },
            "error_y": {
             "color": "#2a3f5f"
            },
            "marker": {
             "line": {
              "color": "#E5ECF6",
              "width": 0.5
             },
             "pattern": {
              "fillmode": "overlay",
              "size": 10,
              "solidity": 0.2
             }
            },
            "type": "bar"
           }
          ],
          "barpolar": [
           {
            "marker": {
             "line": {
              "color": "#E5ECF6",
              "width": 0.5
             },
             "pattern": {
              "fillmode": "overlay",
              "size": 10,
              "solidity": 0.2
             }
            },
            "type": "barpolar"
           }
          ],
          "carpet": [
           {
            "aaxis": {
             "endlinecolor": "#2a3f5f",
             "gridcolor": "white",
             "linecolor": "white",
             "minorgridcolor": "white",
             "startlinecolor": "#2a3f5f"
            },
            "baxis": {
             "endlinecolor": "#2a3f5f",
             "gridcolor": "white",
             "linecolor": "white",
             "minorgridcolor": "white",
             "startlinecolor": "#2a3f5f"
            },
            "type": "carpet"
           }
          ],
          "choropleth": [
           {
            "colorbar": {
             "outlinewidth": 0,
             "ticks": ""
            },
            "type": "choropleth"
           }
          ],
          "contour": [
           {
            "colorbar": {
             "outlinewidth": 0,
             "ticks": ""
            },
            "colorscale": [
             [
              0,
              "#0d0887"
             ],
             [
              0.1111111111111111,
              "#46039f"
             ],
             [
              0.2222222222222222,
              "#7201a8"
             ],
             [
              0.3333333333333333,
              "#9c179e"
             ],
             [
              0.4444444444444444,
              "#bd3786"
             ],
             [
              0.5555555555555556,
              "#d8576b"
             ],
             [
              0.6666666666666666,
              "#ed7953"
             ],
             [
              0.7777777777777778,
              "#fb9f3a"
             ],
             [
              0.8888888888888888,
              "#fdca26"
             ],
             [
              1,
              "#f0f921"
             ]
            ],
            "type": "contour"
           }
          ],
          "contourcarpet": [
           {
            "colorbar": {
             "outlinewidth": 0,
             "ticks": ""
            },
            "type": "contourcarpet"
           }
          ],
          "heatmap": [
           {
            "colorbar": {
             "outlinewidth": 0,
             "ticks": ""
            },
            "colorscale": [
             [
              0,
              "#0d0887"
             ],
             [
              0.1111111111111111,
              "#46039f"
             ],
             [
              0.2222222222222222,
              "#7201a8"
             ],
             [
              0.3333333333333333,
              "#9c179e"
             ],
             [
              0.4444444444444444,
              "#bd3786"
             ],
             [
              0.5555555555555556,
              "#d8576b"
             ],
             [
              0.6666666666666666,
              "#ed7953"
             ],
             [
              0.7777777777777778,
              "#fb9f3a"
             ],
             [
              0.8888888888888888,
              "#fdca26"
             ],
             [
              1,
              "#f0f921"
             ]
            ],
            "type": "heatmap"
           }
          ],
          "heatmapgl": [
           {
            "colorbar": {
             "outlinewidth": 0,
             "ticks": ""
            },
            "colorscale": [
             [
              0,
              "#0d0887"
             ],
             [
              0.1111111111111111,
              "#46039f"
             ],
             [
              0.2222222222222222,
              "#7201a8"
             ],
             [
              0.3333333333333333,
              "#9c179e"
             ],
             [
              0.4444444444444444,
              "#bd3786"
             ],
             [
              0.5555555555555556,
              "#d8576b"
             ],
             [
              0.6666666666666666,
              "#ed7953"
             ],
             [
              0.7777777777777778,
              "#fb9f3a"
             ],
             [
              0.8888888888888888,
              "#fdca26"
             ],
             [
              1,
              "#f0f921"
             ]
            ],
            "type": "heatmapgl"
           }
          ],
          "histogram": [
           {
            "marker": {
             "pattern": {
              "fillmode": "overlay",
              "size": 10,
              "solidity": 0.2
             }
            },
            "type": "histogram"
           }
          ],
          "histogram2d": [
           {
            "colorbar": {
             "outlinewidth": 0,
             "ticks": ""
            },
            "colorscale": [
             [
              0,
              "#0d0887"
             ],
             [
              0.1111111111111111,
              "#46039f"
             ],
             [
              0.2222222222222222,
              "#7201a8"
             ],
             [
              0.3333333333333333,
              "#9c179e"
             ],
             [
              0.4444444444444444,
              "#bd3786"
             ],
             [
              0.5555555555555556,
              "#d8576b"
             ],
             [
              0.6666666666666666,
              "#ed7953"
             ],
             [
              0.7777777777777778,
              "#fb9f3a"
             ],
             [
              0.8888888888888888,
              "#fdca26"
             ],
             [
              1,
              "#f0f921"
             ]
            ],
            "type": "histogram2d"
           }
          ],
          "histogram2dcontour": [
           {
            "colorbar": {
             "outlinewidth": 0,
             "ticks": ""
            },
            "colorscale": [
             [
              0,
              "#0d0887"
             ],
             [
              0.1111111111111111,
              "#46039f"
             ],
             [
              0.2222222222222222,
              "#7201a8"
             ],
             [
              0.3333333333333333,
              "#9c179e"
             ],
             [
              0.4444444444444444,
              "#bd3786"
             ],
             [
              0.5555555555555556,
              "#d8576b"
             ],
             [
              0.6666666666666666,
              "#ed7953"
             ],
             [
              0.7777777777777778,
              "#fb9f3a"
             ],
             [
              0.8888888888888888,
              "#fdca26"
             ],
             [
              1,
              "#f0f921"
             ]
            ],
            "type": "histogram2dcontour"
           }
          ],
          "mesh3d": [
           {
            "colorbar": {
             "outlinewidth": 0,
             "ticks": ""
            },
            "type": "mesh3d"
           }
          ],
          "parcoords": [
           {
            "line": {
             "colorbar": {
              "outlinewidth": 0,
              "ticks": ""
             }
            },
            "type": "parcoords"
           }
          ],
          "pie": [
           {
            "automargin": true,
            "type": "pie"
           }
          ],
          "scatter": [
           {
            "fillpattern": {
             "fillmode": "overlay",
             "size": 10,
             "solidity": 0.2
            },
            "type": "scatter"
           }
          ],
          "scatter3d": [
           {
            "line": {
             "colorbar": {
              "outlinewidth": 0,
              "ticks": ""
             }
            },
            "marker": {
             "colorbar": {
              "outlinewidth": 0,
              "ticks": ""
             }
            },
            "type": "scatter3d"
           }
          ],
          "scattercarpet": [
           {
            "marker": {
             "colorbar": {
              "outlinewidth": 0,
              "ticks": ""
             }
            },
            "type": "scattercarpet"
           }
          ],
          "scattergeo": [
           {
            "marker": {
             "colorbar": {
              "outlinewidth": 0,
              "ticks": ""
             }
            },
            "type": "scattergeo"
           }
          ],
          "scattergl": [
           {
            "marker": {
             "colorbar": {
              "outlinewidth": 0,
              "ticks": ""
             }
            },
            "type": "scattergl"
           }
          ],
          "scattermapbox": [
           {
            "marker": {
             "colorbar": {
              "outlinewidth": 0,
              "ticks": ""
             }
            },
            "type": "scattermapbox"
           }
          ],
          "scatterpolar": [
           {
            "marker": {
             "colorbar": {
              "outlinewidth": 0,
              "ticks": ""
             }
            },
            "type": "scatterpolar"
           }
          ],
          "scatterpolargl": [
           {
            "marker": {
             "colorbar": {
              "outlinewidth": 0,
              "ticks": ""
             }
            },
            "type": "scatterpolargl"
           }
          ],
          "scatterternary": [
           {
            "marker": {
             "colorbar": {
              "outlinewidth": 0,
              "ticks": ""
             }
            },
            "type": "scatterternary"
           }
          ],
          "surface": [
           {
            "colorbar": {
             "outlinewidth": 0,
             "ticks": ""
            },
            "colorscale": [
             [
              0,
              "#0d0887"
             ],
             [
              0.1111111111111111,
              "#46039f"
             ],
             [
              0.2222222222222222,
              "#7201a8"
             ],
             [
              0.3333333333333333,
              "#9c179e"
             ],
             [
              0.4444444444444444,
              "#bd3786"
             ],
             [
              0.5555555555555556,
              "#d8576b"
             ],
             [
              0.6666666666666666,
              "#ed7953"
             ],
             [
              0.7777777777777778,
              "#fb9f3a"
             ],
             [
              0.8888888888888888,
              "#fdca26"
             ],
             [
              1,
              "#f0f921"
             ]
            ],
            "type": "surface"
           }
          ],
          "table": [
           {
            "cells": {
             "fill": {
              "color": "#EBF0F8"
             },
             "line": {
              "color": "white"
             }
            },
            "header": {
             "fill": {
              "color": "#C8D4E3"
             },
             "line": {
              "color": "white"
             }
            },
            "type": "table"
           }
          ]
         },
         "layout": {
          "annotationdefaults": {
           "arrowcolor": "#2a3f5f",
           "arrowhead": 0,
           "arrowwidth": 1
          },
          "autotypenumbers": "strict",
          "coloraxis": {
           "colorbar": {
            "outlinewidth": 0,
            "ticks": ""
           }
          },
          "colorscale": {
           "diverging": [
            [
             0,
             "#8e0152"
            ],
            [
             0.1,
             "#c51b7d"
            ],
            [
             0.2,
             "#de77ae"
            ],
            [
             0.3,
             "#f1b6da"
            ],
            [
             0.4,
             "#fde0ef"
            ],
            [
             0.5,
             "#f7f7f7"
            ],
            [
             0.6,
             "#e6f5d0"
            ],
            [
             0.7,
             "#b8e186"
            ],
            [
             0.8,
             "#7fbc41"
            ],
            [
             0.9,
             "#4d9221"
            ],
            [
             1,
             "#276419"
            ]
           ],
           "sequential": [
            [
             0,
             "#0d0887"
            ],
            [
             0.1111111111111111,
             "#46039f"
            ],
            [
             0.2222222222222222,
             "#7201a8"
            ],
            [
             0.3333333333333333,
             "#9c179e"
            ],
            [
             0.4444444444444444,
             "#bd3786"
            ],
            [
             0.5555555555555556,
             "#d8576b"
            ],
            [
             0.6666666666666666,
             "#ed7953"
            ],
            [
             0.7777777777777778,
             "#fb9f3a"
            ],
            [
             0.8888888888888888,
             "#fdca26"
            ],
            [
             1,
             "#f0f921"
            ]
           ],
           "sequentialminus": [
            [
             0,
             "#0d0887"
            ],
            [
             0.1111111111111111,
             "#46039f"
            ],
            [
             0.2222222222222222,
             "#7201a8"
            ],
            [
             0.3333333333333333,
             "#9c179e"
            ],
            [
             0.4444444444444444,
             "#bd3786"
            ],
            [
             0.5555555555555556,
             "#d8576b"
            ],
            [
             0.6666666666666666,
             "#ed7953"
            ],
            [
             0.7777777777777778,
             "#fb9f3a"
            ],
            [
             0.8888888888888888,
             "#fdca26"
            ],
            [
             1,
             "#f0f921"
            ]
           ]
          },
          "colorway": [
           "#636efa",
           "#EF553B",
           "#00cc96",
           "#ab63fa",
           "#FFA15A",
           "#19d3f3",
           "#FF6692",
           "#B6E880",
           "#FF97FF",
           "#FECB52"
          ],
          "font": {
           "color": "#2a3f5f"
          },
          "geo": {
           "bgcolor": "white",
           "lakecolor": "white",
           "landcolor": "#E5ECF6",
           "showlakes": true,
           "showland": true,
           "subunitcolor": "white"
          },
          "hoverlabel": {
           "align": "left"
          },
          "hovermode": "closest",
          "mapbox": {
           "style": "light"
          },
          "paper_bgcolor": "white",
          "plot_bgcolor": "#E5ECF6",
          "polar": {
           "angularaxis": {
            "gridcolor": "white",
            "linecolor": "white",
            "ticks": ""
           },
           "bgcolor": "#E5ECF6",
           "radialaxis": {
            "gridcolor": "white",
            "linecolor": "white",
            "ticks": ""
           }
          },
          "scene": {
           "xaxis": {
            "backgroundcolor": "#E5ECF6",
            "gridcolor": "white",
            "gridwidth": 2,
            "linecolor": "white",
            "showbackground": true,
            "ticks": "",
            "zerolinecolor": "white"
           },
           "yaxis": {
            "backgroundcolor": "#E5ECF6",
            "gridcolor": "white",
            "gridwidth": 2,
            "linecolor": "white",
            "showbackground": true,
            "ticks": "",
            "zerolinecolor": "white"
           },
           "zaxis": {
            "backgroundcolor": "#E5ECF6",
            "gridcolor": "white",
            "gridwidth": 2,
            "linecolor": "white",
            "showbackground": true,
            "ticks": "",
            "zerolinecolor": "white"
           }
          },
          "shapedefaults": {
           "line": {
            "color": "#2a3f5f"
           }
          },
          "ternary": {
           "aaxis": {
            "gridcolor": "white",
            "linecolor": "white",
            "ticks": ""
           },
           "baxis": {
            "gridcolor": "white",
            "linecolor": "white",
            "ticks": ""
           },
           "bgcolor": "#E5ECF6",
           "caxis": {
            "gridcolor": "white",
            "linecolor": "white",
            "ticks": ""
           }
          },
          "title": {
           "x": 0.05
          },
          "xaxis": {
           "automargin": true,
           "gridcolor": "white",
           "linecolor": "white",
           "ticks": "",
           "title": {
            "standoff": 15
           },
           "zerolinecolor": "white",
           "zerolinewidth": 2
          },
          "yaxis": {
           "automargin": true,
           "gridcolor": "white",
           "linecolor": "white",
           "ticks": "",
           "title": {
            "standoff": 15
           },
           "zerolinecolor": "white",
           "zerolinewidth": 2
          }
         }
        },
        "title": {
         "text": "Воронка событий",
         "x": 0.55,
         "xanchor": "center"
        },
        "xaxis": {
         "autorange": true,
         "range": [
          -54.705555555555556,
          54.705555555555556
         ],
         "type": "linear"
        },
        "yaxis": {
         "autorange": true,
         "range": [
          3.5,
          -0.5
         ],
         "type": "category"
        }
       }
      },
      "image/png": "[encoded data removed]",
      "text/html": [
       "<div>                            <div id=\"b4e7662f-443b-48e7-9482-6271df478bf0\" class=\"plotly-graph-div\" style=\"height:525px; width:100%;\"></div>            <script type=\"text/javascript\">                require([\"plotly\"], function(Plotly) {                    window.PLOTLYENV=window.PLOTLYENV || {};                                    if (document.getElementById(\"b4e7662f-443b-48e7-9482-6271df478bf0\")) {                    Plotly.newPlot(                        \"b4e7662f-443b-48e7-9482-6271df478bf0\",                        [{\"x\":[98.47,60.96,49.56,46.97,11.15],\"y\":[\"\\u0413\\u043b\\u0430\\u0432\\u043d\\u044b\\u0439 \\u044d\\u043a\\u0440\\u0430\\u043d\",\"\\u042d\\u043a\\u0440\\u0430\\u043d \\u043f\\u0440\\u0435\\u0434\\u043b\\u043e\\u0436\\u0435\\u043d\\u0438\\u044f\",\"\\u042d\\u043a\\u0440\\u0430\\u043d \\u043a\\u043e\\u0440\\u0437\\u0438\\u043d\\u044b\",\"\\u042d\\u043a\\u0440\\u0430\\u043d \\u0443\\u0441\\u043f\\u0435\\u0448\\u043d\\u043e\\u0439 \\u043f\\u043e\\u043a\\u0443\\u043f\\u043a\\u0438\"],\"type\":\"funnel\"}],                        {\"template\":{\"data\":{\"histogram2dcontour\":[{\"type\":\"histogram2dcontour\",\"colorbar\":{\"outlinewidth\":0,\"ticks\":\"\"},\"colorscale\":[[0.0,\"#0d0887\"],[0.1111111111111111,\"#46039f\"],[0.2222222222222222,\"#7201a8\"],[0.3333333333333333,\"#9c179e\"],[0.4444444444444444,\"#bd3786\"],[0.5555555555555556,\"#d8576b\"],[0.6666666666666666,\"#ed7953\"],[0.7777777777777778,\"#fb9f3a\"],[0.8888888888888888,\"#fdca26\"],[1.0,\"#f0f921\"]]}],\"choropleth\":[{\"type\":\"choropleth\",\"colorbar\":{\"outlinewidth\":0,\"ticks\":\"\"}}],\"histogram2d\":[{\"type\":\"histogram2d\",\"colorbar\":{\"outlinewidth\":0,\"ticks\":\"\"},\"colorscale\":[[0.0,\"#0d0887\"],[0.1111111111111111,\"#46039f\"],[0.2222222222222222,\"#7201a8\"],[0.3333333333333333,\"#9c179e\"],[0.4444444444444444,\"#bd3786\"],[0.5555555555555556,\"#d8576b\"],[0.6666666666666666,\"#ed7953\"],[0.7777777777777778,\"#fb9f3a\"],[0.8888888888888888,\"#fdca26\"],[1.0,\"#f0f921\"]]}],\"heatmap\":[{\"type\":\"heatmap\",\"colorbar\":{\"outlinewidth\":0,\"ticks\":\"\"},\"colorscale\":[[0.0,\"#0d0887\"],[0.1111111111111111,\"#46039f\"],[0.2222222222222222,\"#7201a8\"],[0.3333333333333333,\"#9c179e\"],[0.4444444444444444,\"#bd3786\"],[0.5555555555555556,\"#d8576b\"],[0.6666666666666666,\"#ed7953\"],[0.7777777777777778,\"#fb9f3a\"],[0.8888888888888888,\"#fdca26\"],[1.0,\"#f0f921\"]]}],\"heatmapgl\":[{\"type\":\"heatmapgl\",\"colorbar\":{\"outlinewidth\":0,\"ticks\":\"\"},\"colorscale\":[[0.0,\"#0d0887\"],[0.1111111111111111,\"#46039f\"],[0.2222222222222222,\"#7201a8\"],[0.3333333333333333,\"#9c179e\"],[0.4444444444444444,\"#bd3786\"],[0.5555555555555556,\"#d8576b\"],[0.6666666666666666,\"#ed7953\"],[0.7777777777777778,\"#fb9f3a\"],[0.8888888888888888,\"#fdca26\"],[1.0,\"#f0f921\"]]}],\"contourcarpet\":[{\"type\":\"contourcarpet\",\"colorbar\":{\"outlinewidth\":0,\"ticks\":\"\"}}],\"contour\":[{\"type\":\"contour\",\"colorbar\":{\"outlinewidth\":0,\"ticks\":\"\"},\"colorscale\":[[0.0,\"#0d0887\"],[0.1111111111111111,\"#46039f\"],[0.2222222222222222,\"#7201a8\"],[0.3333333333333333,\"#9c179e\"],[0.4444444444444444,\"#bd3786\"],[0.5555555555555556,\"#d8576b\"],[0.6666666666666666,\"#ed7953\"],[0.7777777777777778,\"#fb9f3a\"],[0.8888888888888888,\"#fdca26\"],[1.0,\"#f0f921\"]]}],\"surface\":[{\"type\":\"surface\",\"colorbar\":{\"outlinewidth\":0,\"ticks\":\"\"},\"colorscale\":[[0.0,\"#0d0887\"],[0.1111111111111111,\"#46039f\"],[0.2222222222222222,\"#7201a8\"],[0.3333333333333333,\"#9c179e\"],[0.4444444444444444,\"#bd3786\"],[0.5555555555555556,\"#d8576b\"],[0.6666666666666666,\"#ed7953\"],[0.7777777777777778,\"#fb9f3a\"],[0.8888888888888888,\"#fdca26\"],[1.0,\"#f0f921\"]]}],\"mesh3d\":[{\"type\":\"mesh3d\",\"colorbar\":{\"outlinewidth\":0,\"ticks\":\"\"}}],\"scatter\":[{\"fillpattern\":{\"fillmode\":\"overlay\",\"size\":10,\"solidity\":0.2},\"type\":\"scatter\"}],\"parcoords\":[{\"type\":\"parcoords\",\"line\":{\"colorbar\":{\"outlinewidth\":0,\"ticks\":\"\"}}}],\"scatterpolargl\":[{\"type\":\"scatterpolargl\",\"marker\":{\"colorbar\":{\"outlinewidth\":0,\"ticks\":\"\"}}}],\"bar\":[{\"error_x\":{\"color\":\"#2a3f5f\"},\"error_y\":{\"color\":\"#2a3f5f\"},\"marker\":{\"line\":{\"color\":\"#E5ECF6\",\"width\":0.5},\"pattern\":{\"fillmode\":\"overlay\",\"size\":10,\"solidity\":0.2}},\"type\":\"bar\"}],\"scattergeo\":[{\"type\":\"scattergeo\",\"marker\":{\"colorbar\":{\"outlinewidth\":0,\"ticks\":\"\"}}}],\"scatterpolar\":[{\"type\":\"scatterpolar\",\"marker\":{\"colorbar\":{\"outlinewidth\":0,\"ticks\":\"\"}}}],\"histogram\":[{\"marker\":{\"pattern\":{\"fillmode\":\"overlay\",\"size\":10,\"solidity\":0.2}},\"type\":\"histogram\"}],\"scattergl\":[{\"type\":\"scattergl\",\"marker\":{\"colorbar\":{\"outlinewidth\":0,\"ticks\":\"\"}}}],\"scatter3d\":[{\"type\":\"scatter3d\",\"line\":{\"colorbar\":{\"outlinewidth\":0,\"ticks\":\"\"}},\"marker\":{\"colorbar\":{\"outlinewidth\":0,\"ticks\":\"\"}}}],\"scattermapbox\":[{\"type\":\"scattermapbox\",\"marker\":{\"colorbar\":{\"outlinewidth\":0,\"ticks\":\"\"}}}],\"scatterternary\":[{\"type\":\"scatterternary\",\"marker\":{\"colorbar\":{\"outlinewidth\":0,\"ticks\":\"\"}}}],\"scattercarpet\":[{\"type\":\"scattercarpet\",\"marker\":{\"colorbar\":{\"outlinewidth\":0,\"ticks\":\"\"}}}],\"carpet\":[{\"aaxis\":{\"endlinecolor\":\"#2a3f5f\",\"gridcolor\":\"white\",\"linecolor\":\"white\",\"minorgridcolor\":\"white\",\"startlinecolor\":\"#2a3f5f\"},\"baxis\":{\"endlinecolor\":\"#2a3f5f\",\"gridcolor\":\"white\",\"linecolor\":\"white\",\"minorgridcolor\":\"white\",\"startlinecolor\":\"#2a3f5f\"},\"type\":\"carpet\"}],\"table\":[{\"cells\":{\"fill\":{\"color\":\"#EBF0F8\"},\"line\":{\"color\":\"white\"}},\"header\":{\"fill\":{\"color\":\"#C8D4E3\"},\"line\":{\"color\":\"white\"}},\"type\":\"table\"}],\"barpolar\":[{\"marker\":{\"line\":{\"color\":\"#E5ECF6\",\"width\":0.5},\"pattern\":{\"fillmode\":\"overlay\",\"size\":10,\"solidity\":0.2}},\"type\":\"barpolar\"}],\"pie\":[{\"automargin\":true,\"type\":\"pie\"}]},\"layout\":{\"autotypenumbers\":\"strict\",\"colorway\":[\"#636efa\",\"#EF553B\",\"#00cc96\",\"#ab63fa\",\"#FFA15A\",\"#19d3f3\",\"#FF6692\",\"#B6E880\",\"#FF97FF\",\"#FECB52\"],\"font\":{\"color\":\"#2a3f5f\"},\"hovermode\":\"closest\",\"hoverlabel\":{\"align\":\"left\"},\"paper_bgcolor\":\"white\",\"plot_bgcolor\":\"#E5ECF6\",\"polar\":{\"bgcolor\":\"#E5ECF6\",\"angularaxis\":{\"gridcolor\":\"white\",\"linecolor\":\"white\",\"ticks\":\"\"},\"radialaxis\":{\"gridcolor\":\"white\",\"linecolor\":\"white\",\"ticks\":\"\"}},\"ternary\":{\"bgcolor\":\"#E5ECF6\",\"aaxis\":{\"gridcolor\":\"white\",\"linecolor\":\"white\",\"ticks\":\"\"},\"baxis\":{\"gridcolor\":\"white\",\"linecolor\":\"white\",\"ticks\":\"\"},\"caxis\":{\"gridcolor\":\"white\",\"linecolor\":\"white\",\"ticks\":\"\"}},\"coloraxis\":{\"colorbar\":{\"outlinewidth\":0,\"ticks\":\"\"}},\"colorscale\":{\"sequential\":[[0.0,\"#0d0887\"],[0.1111111111111111,\"#46039f\"],[0.2222222222222222,\"#7201a8\"],[0.3333333333333333,\"#9c179e\"],[0.4444444444444444,\"#bd3786\"],[0.5555555555555556,\"#d8576b\"],[0.6666666666666666,\"#ed7953\"],[0.7777777777777778,\"#fb9f3a\"],[0.8888888888888888,\"#fdca26\"],[1.0,\"#f0f921\"]],\"sequentialminus\":[[0.0,\"#0d0887\"],[0.1111111111111111,\"#46039f\"],[0.2222222222222222,\"#7201a8\"],[0.3333333333333333,\"#9c179e\"],[0.4444444444444444,\"#bd3786\"],[0.5555555555555556,\"#d8576b\"],[0.6666666666666666,\"#ed7953\"],[0.7777777777777778,\"#fb9f3a\"],[0.8888888888888888,\"#fdca26\"],[1.0,\"#f0f921\"]],\"diverging\":[[0,\"#8e0152\"],[0.1,\"#c51b7d\"],[0.2,\"#de77ae\"],[0.3,\"#f1b6da\"],[0.4,\"#fde0ef\"],[0.5,\"#f7f7f7\"],[0.6,\"#e6f5d0\"],[0.7,\"#b8e186\"],[0.8,\"#7fbc41\"],[0.9,\"#4d9221\"],[1,\"#276419\"]]},\"xaxis\":{\"gridcolor\":\"white\",\"linecolor\":\"white\",\"ticks\":\"\",\"title\":{\"standoff\":15},\"zerolinecolor\":\"white\",\"automargin\":true,\"zerolinewidth\":2},\"yaxis\":{\"gridcolor\":\"white\",\"linecolor\":\"white\",\"ticks\":\"\",\"title\":{\"standoff\":15},\"zerolinecolor\":\"white\",\"automargin\":true,\"zerolinewidth\":2},\"scene\":{\"xaxis\":{\"backgroundcolor\":\"#E5ECF6\",\"gridcolor\":\"white\",\"linecolor\":\"white\",\"showbackground\":true,\"ticks\":\"\",\"zerolinecolor\":\"white\",\"gridwidth\":2},\"yaxis\":{\"backgroundcolor\":\"#E5ECF6\",\"gridcolor\":\"white\",\"linecolor\":\"white\",\"showbackground\":true,\"ticks\":\"\",\"zerolinecolor\":\"white\",\"gridwidth\":2},\"zaxis\":{\"backgroundcolor\":\"#E5ECF6\",\"gridcolor\":\"white\",\"linecolor\":\"white\",\"showbackground\":true,\"ticks\":\"\",\"zerolinecolor\":\"white\",\"gridwidth\":2}},\"shapedefaults\":{\"line\":{\"color\":\"#2a3f5f\"}},\"annotationdefaults\":{\"arrowcolor\":\"#2a3f5f\",\"arrowhead\":0,\"arrowwidth\":1},\"geo\":{\"bgcolor\":\"white\",\"landcolor\":\"#E5ECF6\",\"subunitcolor\":\"white\",\"showland\":true,\"showlakes\":true,\"lakecolor\":\"white\"},\"title\":{\"x\":0.05},\"mapbox\":{\"style\":\"light\"}}},\"title\":{\"text\":\"\\u0412\\u043e\\u0440\\u043e\\u043d\\u043a\\u0430 \\u0441\\u043e\\u0431\\u044b\\u0442\\u0438\\u0439\",\"x\":0.55,\"xanchor\":\"center\"}},                        {\"responsive\": true}                    ).then(function(){\n",
       "                            \n",
       "var gd = document.getElementById('b4e7662f-443b-48e7-9482-6271df478bf0');\n",
       "var x = new MutationObserver(function (mutations, observer) {{\n",
       "        var display = window.getComputedStyle(gd).display;\n",
       "        if (!display || display === 'none') {{\n",
       "            console.log([gd, 'removed!']);\n",
       "            Plotly.purge(gd);\n",
       "            observer.disconnect();\n",
       "        }}\n",
       "}});\n",
       "\n",
       "// Listen for the removal of the full notebook cells\n",
       "var notebookContainer = gd.closest('#notebook-container');\n",
       "if (notebookContainer) {{\n",
       "    x.observe(notebookContainer, {childList: true});\n",
       "}}\n",
       "\n",
       "// Listen for the clearing of the current output cell\n",
       "var outputEl = gd.closest('.output');\n",
       "if (outputEl) {{\n",
       "    x.observe(outputEl, {childList: true});\n",
       "}}\n",
       "\n",
       "                        })                };                });            </script>        </div>"
      ]
     },
     "metadata": {},
     "output_type": "display_data"
    }
   ],
   "source": [
    "\n",
    "fig = go.Figure(\n",
    "    go.Funnel(\n",
    "        y=[\n",
    "            'Главный экран',\n",
    "            'Экран предложения',\n",
    "            'Экран корзины',\n",
    "            'Экран успешной покупки',\n",
    "        ],\n",
    "        x=df_v.loc[:4,'user_share_nunique'],\n",
    "    )\n",
    ")\n",
    "fig.update_layout(title={'text' :'Воронка событий', 'x':0.55, 'xanchor': 'center'})\n",
    "\n",
    "fig.show() "
   ]
  },
  {
   "cell_type": "markdown",
   "id": "4a579927",
   "metadata": {},
   "source": [
    "<div class=\"alert alert-success\">\n",
    "<b>Комментарий с комплиментом ревьюера:</b>\n",
    "    \n",
    "Доля пользователей, которые совершали каждое из этих событий посчитана правильно. \n",
    "\n",
    "    \n",
    "Доля пользователей, которые проходят на следующий шаг воронки посчитана правильно.\n",
    "\n",
    "Здорово, что данные визуализированы – построен график воронки.\n",
    "    "
   ]
  },
  {
   "cell_type": "markdown",
   "id": "3ab839b2-be5a-4996-9110-d18fd4cc2ffe",
   "metadata": {},
   "source": [
    "Больше всего пользователей теряется на первом шаге Главный экран-Экран предложения."
   ]
  },
  {
   "cell_type": "code",
   "execution_count": 214,
   "id": "b8357417-3f63-49a0-b9d7-4e84b83cbf05",
   "metadata": {
    "tags": []
   },
   "outputs": [
    {
     "name": "stdout",
     "output_type": "stream",
     "text": [
      "Доля пользователей, прошедшая путь от первого события до последнего: 47.70%\n"
     ]
    },
    {
     "name": "stderr",
     "output_type": "stream",
     "text": [
      "C:\\Users\\Андрей.LAPTOP-NRKA66DP\\AppData\\Local\\Temp\\ipykernel_6616\\2303284977.py:1: FutureWarning:\n",
      "\n",
      "Calling int on a single element Series is deprecated and will raise a TypeError in the future. Use int(ser.iloc[0]) instead\n",
      "\n",
      "C:\\Users\\Андрей.LAPTOP-NRKA66DP\\AppData\\Local\\Temp\\ipykernel_6616\\2303284977.py:2: FutureWarning:\n",
      "\n",
      "Calling int on a single element Series is deprecated and will raise a TypeError in the future. Use int(ser.iloc[0]) instead\n",
      "\n"
     ]
    }
   ],
   "source": [
    "col_paym = int(df_v[df_v['event_name']=='PaymentScreenSuccessful']['user_nunique'])\n",
    "col_main = int(df_v[df_v['event_name']=='MainScreenAppear']['user_nunique'])            \n",
    "print(f'Доля пользователей, прошедшая путь от первого события до последнего: {col_paym/col_main:.2%}')"
   ]
  },
  {
   "cell_type": "markdown",
   "id": "65d46a01-c294-4797-bb4a-2efa1572dc23",
   "metadata": {},
   "source": [
    "Весь путь от просмотра главного экрана до экрана успешной покупки проходит чуть меньше половины пользователей - 47%.  \n",
    "Больше всего пользователей теряется на первом шаге Главный экран-Экран предложения. \n",
    "\n",
    "Только 62% процента пользователей, зашедших на главный экран, потом переходят в раздел предложения."
   ]
  },
  {
   "cell_type": "markdown",
   "id": "97807801",
   "metadata": {},
   "source": [
    "<div class=\"alert alert-success\">\n",
    "<b>Комментарий с комплиментом ревьюера:</b>\n",
    "    \n",
    "Доля пользователей от первого события до оплаты посчитана верно.\n",
    "\n",
    "Как ты думаешь, что нужно сделать, чтобы не было провала на шаге от MainScreenAppear к OffersScreenAppear ?\n",
    "</div>\n"
   ]
  },
  {
   "cell_type": "markdown",
   "id": "6812887b-ae1f-4f8a-888d-7a1058834110",
   "metadata": {},
   "source": [
    "# Шаг 5.  Проверка результатов ксперимента"
   ]
  },
  {
   "cell_type": "code",
   "execution_count": 215,
   "id": "d2d9fed5-a7be-4e0a-947f-fcde41993590",
   "metadata": {
    "tags": []
   },
   "outputs": [
    {
     "data": {
      "text/html": [
       "<div>\n",
       "<style scoped>\n",
       "    .dataframe tbody tr th:only-of-type {\n",
       "        vertical-align: middle;\n",
       "    }\n",
       "\n",
       "    .dataframe tbody tr th {\n",
       "        vertical-align: top;\n",
       "    }\n",
       "\n",
       "    .dataframe thead th {\n",
       "        text-align: right;\n",
       "    }\n",
       "</style>\n",
       "<table border=\"1\" class=\"dataframe\">\n",
       "  <thead>\n",
       "    <tr style=\"text-align: right;\">\n",
       "      <th></th>\n",
       "      <th>exp_id</th>\n",
       "      <th>user_id_count</th>\n",
       "      <th>user_id_nunique</th>\n",
       "    </tr>\n",
       "  </thead>\n",
       "  <tbody>\n",
       "    <tr>\n",
       "      <th>0</th>\n",
       "      <td>246</td>\n",
       "      <td>79302</td>\n",
       "      <td>2484</td>\n",
       "    </tr>\n",
       "    <tr>\n",
       "      <th>1</th>\n",
       "      <td>247</td>\n",
       "      <td>77022</td>\n",
       "      <td>2513</td>\n",
       "    </tr>\n",
       "    <tr>\n",
       "      <th>2</th>\n",
       "      <td>248</td>\n",
       "      <td>84563</td>\n",
       "      <td>2537</td>\n",
       "    </tr>\n",
       "  </tbody>\n",
       "</table>\n",
       "</div>"
      ],
      "text/plain": [
       "  exp_id  user_id_count  user_id_nunique\n",
       "0    246          79302             2484\n",
       "1    247          77022             2513\n",
       "2    248          84563             2537"
      ]
     },
     "execution_count": 215,
     "metadata": {},
     "output_type": "execute_result"
    }
   ],
   "source": [
    "gr_df"
   ]
  },
  {
   "cell_type": "markdown",
   "id": "df7ae3b1-257a-4668-9467-8e20bf9011e0",
   "metadata": {},
   "source": [
    "В каждой экспериментальной группе примерно равное количество пользователей и событий.\n",
    "    \n",
    "    В группе 246 уникальных пользователей 2484, событий 79302\n",
    "    В группе 247 уникальных пользователей 2513, событий 77022\n",
    "    В группе 248 уникальных пользователей 2537, событий 84563\n"
   ]
  },
  {
   "cell_type": "markdown",
   "id": "1d40da0a-83e0-4fa6-b16e-ec8713bf87ad",
   "metadata": {},
   "source": [
    "Для проверки эксперемента сравнивним доли пользователей, совершивших событие от общего количества пользователей в группе.  \n",
    "Для сравнение долей применяем __z-тест__.\n",
    "\n",
    "__Определение гипотез__  \n",
    "Н0 нулевая гипотеза - нет разности между долями пользователей разных групп, соврешавших события.  \n",
    "Н1 альтернативная гипотеза - есть статистически значимая разность между долями пользователей разных групп, соврешавших события. Новый дизайн способствовал росту продаж."
   ]
  },
  {
   "cell_type": "markdown",
   "id": "66cb9b3d",
   "metadata": {},
   "source": [
    "<div class=\"alert alert-danger\">\n",
    "<b>Комментарий с замечанием ревьюера:</b>\n",
    "\n",
    "Скорректируй, пожалуйста, название гипотезы Н1, она называется альтернативная.\n",
    "    \n",
    "</div>\n"
   ]
  },
  {
   "cell_type": "code",
   "execution_count": 216,
   "id": "252cf275-337e-4bd4-972a-a04166e3e665",
   "metadata": {
    "tags": []
   },
   "outputs": [],
   "source": [
    "# Z-тест\n",
    "def z_тест (successes, trials):  \n",
    "\n",
    "    # пропорция успехов в первой группе:\n",
    "    p1 = successes[0]/trials[0]\n",
    "\n",
    "    # пропорция успехов во второй группе:\n",
    "    p2 = successes[1]/trials[1]\n",
    "\n",
    "    # пропорция успехов в комбинированном датасете:\n",
    "    p_combined = (successes[0] + successes[1]) / (trials[0] + trials[1])\n",
    "\n",
    "    # разница пропорций в датасетах\n",
    "    difference = p1 - p2\n",
    "\n",
    "    # считаем статистику в ст.отклонениях стандартного нормального распределения\n",
    "    z_value = difference / mth.sqrt(p_combined * (1 - p_combined) * (1/trials[0] + 1/trials[1]))\n",
    "\n",
    "    # задаем стандартное нормальное распределение (среднее 0, ст.отклонение 1)\n",
    "    distr = st.norm(0, 1) \n",
    "\n",
    "    p_value = (1 - distr.cdf(abs(z_value))) * 2\n",
    "\n",
    "    return p_value "
   ]
  },
  {
   "cell_type": "code",
   "execution_count": 217,
   "id": "dd13b817-1630-4bee-b59b-b3489e51ba3c",
   "metadata": {
    "tags": []
   },
   "outputs": [],
   "source": [
    "def z_test_proportions_ztest(successes, trials):\n",
    "\n",
    "    # Генерируем две выборки данных (пример)\n",
    "    # Например, результаты эксперимента: количество успехов в двух группах\n",
    "    successes_group1 = successes[0]  # Количество успехов в первой группе\n",
    "    total_group1 = trials[0]     # Общее количество испытаний в первой группе\n",
    "\n",
    "    successes_group2 = successes[1]  # Количество успехов во второй группе\n",
    "    total_group2 = trials[1]     # Общее количество испытаний во второй группе\n",
    "\n",
    "    # Выполняем Z-тест для разности долей\n",
    "    z_statistic, p_value = proportions_ztest([successes_group1, successes_group2], [total_group1, total_group2])\n",
    "\n",
    "    return p_value "
   ]
  },
  {
   "cell_type": "code",
   "execution_count": 218,
   "id": "e12ed3d1-5ab3-4d4e-80aa-b22c1fb46d37",
   "metadata": {
    "tags": []
   },
   "outputs": [],
   "source": [
    "def test_A_B(gr_1_s, gr_2_s, gr_1_t, gr_2_t, alpha = .05, met=True):\n",
    "    p=[]\n",
    "    for name_event in ['MainScreenAppear', 'OffersScreenAppear', 'CartScreenAppear', 'PaymentScreenSuccessful']:\n",
    "        str_df = df_[df_['event_name']==name_event]\n",
    "\n",
    "        successes = np.array([str_df[gr_1_s], str_df[gr_2_s]])\n",
    "        trials = np.array([str_df[gr_1_t], str_df[gr_2_t]])\n",
    "\n",
    "        if met:\n",
    "            p_value = z_test_proportions_ztest(successes, trials)\n",
    "        else:\n",
    "            p_value = z_тест(successes, trials)\n",
    "\n",
    "        if p_value < alpha:\n",
    "            str_H = \"Отвергаем Н0\"\n",
    "        else:\n",
    "            str_H = \"Не отвергаем Н0\"       \n",
    "            \n",
    "        p.append([gr_1_s, gr_2_s, name_event, round(p_value[0], 4), str_H, alpha])\n",
    "    \n",
    "    return p      \n",
    "    \n",
    "        "
   ]
  },
  {
   "cell_type": "code",
   "execution_count": 219,
   "id": "36bbdb93-453f-47de-8491-d0896e8769ed",
   "metadata": {
    "tags": []
   },
   "outputs": [],
   "source": [
    "# число уникальных пользователей по группам и событиям\n",
    "df_ = (\n",
    "    df.query('event_name != \"Tutorial\"')\n",
    "    .groupby(['event_name', 'exp_id'], \n",
    "            as_index=False) \n",
    "            .agg(  \n",
    "                   user_id_nunique = ('user_id', 'nunique'),  \n",
    "                )\n",
    "        ).pivot_table(index='event_name', columns='exp_id', values='user_id_nunique', aggfunc='sum').reset_index(\n",
    "        ).sort_values(by='246', ascending=False)\n",
    "df_['246_247'] = df_['246']+df_['247']"
   ]
  },
  {
   "cell_type": "code",
   "execution_count": 220,
   "id": "7d22ff33-7c2b-4eea-a1ee-0679b2d3a03e",
   "metadata": {
    "tags": []
   },
   "outputs": [],
   "source": [
    "for index, row in gr_df.iterrows():\n",
    "    df_['total_'+row['exp_id']+'_u'] = row['user_id_nunique']\n",
    "    \n",
    "df_['total_246_247_u'] = df_['total_246_u']+df_['total_247_u'] "
   ]
  },
  {
   "cell_type": "code",
   "execution_count": 221,
   "id": "c6a7e853-bf85-415f-88e3-87e59643cb88",
   "metadata": {
    "tags": []
   },
   "outputs": [
    {
     "data": {
      "text/html": [
       "<div>\n",
       "<style scoped>\n",
       "    .dataframe tbody tr th:only-of-type {\n",
       "        vertical-align: middle;\n",
       "    }\n",
       "\n",
       "    .dataframe tbody tr th {\n",
       "        vertical-align: top;\n",
       "    }\n",
       "\n",
       "    .dataframe thead th {\n",
       "        text-align: right;\n",
       "    }\n",
       "</style>\n",
       "<table border=\"1\" class=\"dataframe\">\n",
       "  <thead>\n",
       "    <tr style=\"text-align: right;\">\n",
       "      <th>exp_id</th>\n",
       "      <th>event_name</th>\n",
       "      <th>246</th>\n",
       "      <th>247</th>\n",
       "      <th>248</th>\n",
       "      <th>246_247</th>\n",
       "      <th>total_246_u</th>\n",
       "      <th>total_247_u</th>\n",
       "      <th>total_248_u</th>\n",
       "      <th>total_246_247_u</th>\n",
       "    </tr>\n",
       "  </thead>\n",
       "  <tbody>\n",
       "    <tr>\n",
       "      <th>1</th>\n",
       "      <td>MainScreenAppear</td>\n",
       "      <td>2450</td>\n",
       "      <td>2476</td>\n",
       "      <td>2493</td>\n",
       "      <td>4926</td>\n",
       "      <td>2484</td>\n",
       "      <td>2513</td>\n",
       "      <td>2537</td>\n",
       "      <td>4997</td>\n",
       "    </tr>\n",
       "    <tr>\n",
       "      <th>2</th>\n",
       "      <td>OffersScreenAppear</td>\n",
       "      <td>1542</td>\n",
       "      <td>1520</td>\n",
       "      <td>1531</td>\n",
       "      <td>3062</td>\n",
       "      <td>2484</td>\n",
       "      <td>2513</td>\n",
       "      <td>2537</td>\n",
       "      <td>4997</td>\n",
       "    </tr>\n",
       "    <tr>\n",
       "      <th>0</th>\n",
       "      <td>CartScreenAppear</td>\n",
       "      <td>1266</td>\n",
       "      <td>1238</td>\n",
       "      <td>1230</td>\n",
       "      <td>2504</td>\n",
       "      <td>2484</td>\n",
       "      <td>2513</td>\n",
       "      <td>2537</td>\n",
       "      <td>4997</td>\n",
       "    </tr>\n",
       "    <tr>\n",
       "      <th>3</th>\n",
       "      <td>PaymentScreenSuccessful</td>\n",
       "      <td>1200</td>\n",
       "      <td>1158</td>\n",
       "      <td>1181</td>\n",
       "      <td>2358</td>\n",
       "      <td>2484</td>\n",
       "      <td>2513</td>\n",
       "      <td>2537</td>\n",
       "      <td>4997</td>\n",
       "    </tr>\n",
       "  </tbody>\n",
       "</table>\n",
       "</div>"
      ],
      "text/plain": [
       "exp_id               event_name   246   247   248  246_247  total_246_u  \\\n",
       "1              MainScreenAppear  2450  2476  2493     4926         2484   \n",
       "2            OffersScreenAppear  1542  1520  1531     3062         2484   \n",
       "0              CartScreenAppear  1266  1238  1230     2504         2484   \n",
       "3       PaymentScreenSuccessful  1200  1158  1181     2358         2484   \n",
       "\n",
       "exp_id  total_247_u  total_248_u  total_246_247_u  \n",
       "1              2513         2537             4997  \n",
       "2              2513         2537             4997  \n",
       "0              2513         2537             4997  \n",
       "3              2513         2537             4997  "
      ]
     },
     "execution_count": 221,
     "metadata": {},
     "output_type": "execute_result"
    }
   ],
   "source": [
    "df_"
   ]
  },
  {
   "cell_type": "markdown",
   "id": "59a63ab4-bb6d-4552-bea6-98c9509a78f1",
   "metadata": {},
   "source": [
    "Сформировал таблицу в разрезе событий и групп. Описание групп:\n",
    "\n",
    "    246 – количество уникальных пользователей группы 246, совершивших данное событие\n",
    "    247 – количество уникальных пользователей группы 247, совершивших данное событие\n",
    "    248 – количество уникальных пользователей группы 248, совершившихданное событие\n",
    "    246_247 – сумма уникальных пользователей групп 246 и 247, совершивших данное событие\n",
    "    \n",
    "    total_246_u – общее количество уникальных пользователей группы 246 \t\n",
    "    total_247_u – общее количество уникальных пользователей группы 247\t\n",
    "    total_248_u – общее количество уникальных пользователей группы 248\t\n",
    "    "
   ]
  },
  {
   "cell_type": "code",
   "execution_count": 222,
   "id": "11cd84d4-e6a3-4bb0-be81-c93cf7bb7dd9",
   "metadata": {
    "tags": []
   },
   "outputs": [
    {
     "data": {
      "text/html": [
       "<div>\n",
       "<style scoped>\n",
       "    .dataframe tbody tr th:only-of-type {\n",
       "        vertical-align: middle;\n",
       "    }\n",
       "\n",
       "    .dataframe tbody tr th {\n",
       "        vertical-align: top;\n",
       "    }\n",
       "\n",
       "    .dataframe thead th {\n",
       "        text-align: right;\n",
       "    }\n",
       "</style>\n",
       "<table border=\"1\" class=\"dataframe\">\n",
       "  <thead>\n",
       "    <tr style=\"text-align: right;\">\n",
       "      <th></th>\n",
       "      <th>group_1</th>\n",
       "      <th>group_2</th>\n",
       "      <th>event</th>\n",
       "      <th>p_value</th>\n",
       "      <th>H0</th>\n",
       "      <th>alpha</th>\n",
       "    </tr>\n",
       "  </thead>\n",
       "  <tbody>\n",
       "    <tr>\n",
       "      <th>0</th>\n",
       "      <td>246</td>\n",
       "      <td>247</td>\n",
       "      <td>MainScreenAppear</td>\n",
       "      <td>0.7571</td>\n",
       "      <td>Не отвергаем Н0</td>\n",
       "      <td>0.01</td>\n",
       "    </tr>\n",
       "    <tr>\n",
       "      <th>1</th>\n",
       "      <td>246</td>\n",
       "      <td>247</td>\n",
       "      <td>OffersScreenAppear</td>\n",
       "      <td>0.2481</td>\n",
       "      <td>Не отвергаем Н0</td>\n",
       "      <td>0.01</td>\n",
       "    </tr>\n",
       "    <tr>\n",
       "      <th>2</th>\n",
       "      <td>246</td>\n",
       "      <td>247</td>\n",
       "      <td>CartScreenAppear</td>\n",
       "      <td>0.2288</td>\n",
       "      <td>Не отвергаем Н0</td>\n",
       "      <td>0.01</td>\n",
       "    </tr>\n",
       "    <tr>\n",
       "      <th>3</th>\n",
       "      <td>246</td>\n",
       "      <td>247</td>\n",
       "      <td>PaymentScreenSuccessful</td>\n",
       "      <td>0.1146</td>\n",
       "      <td>Не отвергаем Н0</td>\n",
       "      <td>0.01</td>\n",
       "    </tr>\n",
       "  </tbody>\n",
       "</table>\n",
       "</div>"
      ],
      "text/plain": [
       "  group_1 group_2                    event  p_value               H0  alpha\n",
       "0     246     247         MainScreenAppear   0.7571  Не отвергаем Н0   0.01\n",
       "1     246     247       OffersScreenAppear   0.2481  Не отвергаем Н0   0.01\n",
       "2     246     247         CartScreenAppear   0.2288  Не отвергаем Н0   0.01\n",
       "3     246     247  PaymentScreenSuccessful   0.1146  Не отвергаем Н0   0.01"
      ]
     },
     "execution_count": 222,
     "metadata": {},
     "output_type": "execute_result"
    }
   ],
   "source": [
    "test_df = pd.DataFrame(\n",
    "    test_A_B('246', '247', 'total_246_u', 'total_247_u', 0.01), \n",
    "    columns=['group_1', 'group_2', 'event', 'p_value', 'H0', 'alpha'])\n",
    "test_df"
   ]
  },
  {
   "cell_type": "markdown",
   "id": "57dfc117-95ef-479b-b271-fb3261e714b5",
   "metadata": {},
   "source": [
    "Z-тест не показал статистической значимой разности в долях пользователе первой и второй группы по разным событиям. \n",
    "\n",
    "А/А тест прошел успешно, нулевая гипотеза не было опровергнута. Между группами нет разности."
   ]
  },
  {
   "cell_type": "code",
   "execution_count": 223,
   "id": "78d215be-1fb6-4d39-8237-bf655755a754",
   "metadata": {
    "tags": []
   },
   "outputs": [
    {
     "data": {
      "text/html": [
       "<div>\n",
       "<style scoped>\n",
       "    .dataframe tbody tr th:only-of-type {\n",
       "        vertical-align: middle;\n",
       "    }\n",
       "\n",
       "    .dataframe tbody tr th {\n",
       "        vertical-align: top;\n",
       "    }\n",
       "\n",
       "    .dataframe thead th {\n",
       "        text-align: right;\n",
       "    }\n",
       "</style>\n",
       "<table border=\"1\" class=\"dataframe\">\n",
       "  <thead>\n",
       "    <tr style=\"text-align: right;\">\n",
       "      <th></th>\n",
       "      <th>group_1</th>\n",
       "      <th>group_2</th>\n",
       "      <th>event</th>\n",
       "      <th>p_value</th>\n",
       "      <th>H0</th>\n",
       "      <th>alpha</th>\n",
       "    </tr>\n",
       "  </thead>\n",
       "  <tbody>\n",
       "    <tr>\n",
       "      <th>0</th>\n",
       "      <td>246</td>\n",
       "      <td>248</td>\n",
       "      <td>MainScreenAppear</td>\n",
       "      <td>0.2950</td>\n",
       "      <td>Не отвергаем Н0</td>\n",
       "      <td>0.01</td>\n",
       "    </tr>\n",
       "    <tr>\n",
       "      <th>1</th>\n",
       "      <td>246</td>\n",
       "      <td>248</td>\n",
       "      <td>OffersScreenAppear</td>\n",
       "      <td>0.2084</td>\n",
       "      <td>Не отвергаем Н0</td>\n",
       "      <td>0.01</td>\n",
       "    </tr>\n",
       "    <tr>\n",
       "      <th>2</th>\n",
       "      <td>246</td>\n",
       "      <td>248</td>\n",
       "      <td>CartScreenAppear</td>\n",
       "      <td>0.0784</td>\n",
       "      <td>Не отвергаем Н0</td>\n",
       "      <td>0.01</td>\n",
       "    </tr>\n",
       "    <tr>\n",
       "      <th>3</th>\n",
       "      <td>246</td>\n",
       "      <td>248</td>\n",
       "      <td>PaymentScreenSuccessful</td>\n",
       "      <td>0.2123</td>\n",
       "      <td>Не отвергаем Н0</td>\n",
       "      <td>0.01</td>\n",
       "    </tr>\n",
       "  </tbody>\n",
       "</table>\n",
       "</div>"
      ],
      "text/plain": [
       "  group_1 group_2                    event  p_value               H0  alpha\n",
       "0     246     248         MainScreenAppear   0.2950  Не отвергаем Н0   0.01\n",
       "1     246     248       OffersScreenAppear   0.2084  Не отвергаем Н0   0.01\n",
       "2     246     248         CartScreenAppear   0.0784  Не отвергаем Н0   0.01\n",
       "3     246     248  PaymentScreenSuccessful   0.2123  Не отвергаем Н0   0.01"
      ]
     },
     "execution_count": 223,
     "metadata": {},
     "output_type": "execute_result"
    }
   ],
   "source": [
    "test_df = pd.DataFrame(\n",
    "    test_A_B('246', '248', 'total_246_u', 'total_248_u', 0.01), \n",
    "    columns=['group_1', 'group_2', 'event', 'p_value', 'H0', 'alpha'])\n",
    "test_df"
   ]
  },
  {
   "cell_type": "markdown",
   "id": "a268e490-1f8d-43f5-a33d-8c6553882bd1",
   "metadata": {},
   "source": [
    "В этом тесте Z-тест так же не показал статистической значимой разности в долях пользователе первой и третьей группы по разным событиям. \n",
    "\n",
    "А/В не опроверг нулевую гипотезу о статистически значимой разности между контрольной группой и экспериментальной. Между группами нет разности, новый дизайн приложения не повлиял на продажи."
   ]
  },
  {
   "cell_type": "code",
   "execution_count": 224,
   "id": "26ff9b42-afff-4e98-9d8b-025028970754",
   "metadata": {
    "tags": []
   },
   "outputs": [
    {
     "data": {
      "text/html": [
       "<div>\n",
       "<style scoped>\n",
       "    .dataframe tbody tr th:only-of-type {\n",
       "        vertical-align: middle;\n",
       "    }\n",
       "\n",
       "    .dataframe tbody tr th {\n",
       "        vertical-align: top;\n",
       "    }\n",
       "\n",
       "    .dataframe thead th {\n",
       "        text-align: right;\n",
       "    }\n",
       "</style>\n",
       "<table border=\"1\" class=\"dataframe\">\n",
       "  <thead>\n",
       "    <tr style=\"text-align: right;\">\n",
       "      <th></th>\n",
       "      <th>group_1</th>\n",
       "      <th>group_2</th>\n",
       "      <th>event</th>\n",
       "      <th>p_value</th>\n",
       "      <th>H0</th>\n",
       "      <th>alpha</th>\n",
       "    </tr>\n",
       "  </thead>\n",
       "  <tbody>\n",
       "    <tr>\n",
       "      <th>0</th>\n",
       "      <td>247</td>\n",
       "      <td>248</td>\n",
       "      <td>MainScreenAppear</td>\n",
       "      <td>0.4587</td>\n",
       "      <td>Не отвергаем Н0</td>\n",
       "      <td>0.01</td>\n",
       "    </tr>\n",
       "    <tr>\n",
       "      <th>1</th>\n",
       "      <td>247</td>\n",
       "      <td>248</td>\n",
       "      <td>OffersScreenAppear</td>\n",
       "      <td>0.9198</td>\n",
       "      <td>Не отвергаем Н0</td>\n",
       "      <td>0.01</td>\n",
       "    </tr>\n",
       "    <tr>\n",
       "      <th>2</th>\n",
       "      <td>247</td>\n",
       "      <td>248</td>\n",
       "      <td>CartScreenAppear</td>\n",
       "      <td>0.5786</td>\n",
       "      <td>Не отвергаем Н0</td>\n",
       "      <td>0.01</td>\n",
       "    </tr>\n",
       "    <tr>\n",
       "      <th>3</th>\n",
       "      <td>247</td>\n",
       "      <td>248</td>\n",
       "      <td>PaymentScreenSuccessful</td>\n",
       "      <td>0.7373</td>\n",
       "      <td>Не отвергаем Н0</td>\n",
       "      <td>0.01</td>\n",
       "    </tr>\n",
       "  </tbody>\n",
       "</table>\n",
       "</div>"
      ],
      "text/plain": [
       "  group_1 group_2                    event  p_value               H0  alpha\n",
       "0     247     248         MainScreenAppear   0.4587  Не отвергаем Н0   0.01\n",
       "1     247     248       OffersScreenAppear   0.9198  Не отвергаем Н0   0.01\n",
       "2     247     248         CartScreenAppear   0.5786  Не отвергаем Н0   0.01\n",
       "3     247     248  PaymentScreenSuccessful   0.7373  Не отвергаем Н0   0.01"
      ]
     },
     "execution_count": 224,
     "metadata": {},
     "output_type": "execute_result"
    }
   ],
   "source": [
    "test_df = pd.DataFrame(\n",
    "    test_A_B('247', '248', 'total_247_u', 'total_248_u', 0.01), \n",
    "    columns=['group_1', 'group_2', 'event', 'p_value', 'H0', 'alpha'])\n",
    "test_df"
   ]
  },
  {
   "cell_type": "code",
   "execution_count": 225,
   "id": "90deaa62-a52c-4a7b-9b9d-e227f64d55e8",
   "metadata": {
    "tags": []
   },
   "outputs": [
    {
     "data": {
      "text/html": [
       "<div>\n",
       "<style scoped>\n",
       "    .dataframe tbody tr th:only-of-type {\n",
       "        vertical-align: middle;\n",
       "    }\n",
       "\n",
       "    .dataframe tbody tr th {\n",
       "        vertical-align: top;\n",
       "    }\n",
       "\n",
       "    .dataframe thead th {\n",
       "        text-align: right;\n",
       "    }\n",
       "</style>\n",
       "<table border=\"1\" class=\"dataframe\">\n",
       "  <thead>\n",
       "    <tr style=\"text-align: right;\">\n",
       "      <th></th>\n",
       "      <th>group_1</th>\n",
       "      <th>group_2</th>\n",
       "      <th>event</th>\n",
       "      <th>p_value</th>\n",
       "      <th>H0</th>\n",
       "      <th>alpha</th>\n",
       "    </tr>\n",
       "  </thead>\n",
       "  <tbody>\n",
       "    <tr>\n",
       "      <th>0</th>\n",
       "      <td>246_247</td>\n",
       "      <td>248</td>\n",
       "      <td>MainScreenAppear</td>\n",
       "      <td>0.2942</td>\n",
       "      <td>Не отвергаем Н0</td>\n",
       "      <td>0.01</td>\n",
       "    </tr>\n",
       "    <tr>\n",
       "      <th>1</th>\n",
       "      <td>246_247</td>\n",
       "      <td>248</td>\n",
       "      <td>OffersScreenAppear</td>\n",
       "      <td>0.4343</td>\n",
       "      <td>Не отвергаем Н0</td>\n",
       "      <td>0.01</td>\n",
       "    </tr>\n",
       "    <tr>\n",
       "      <th>2</th>\n",
       "      <td>246_247</td>\n",
       "      <td>248</td>\n",
       "      <td>CartScreenAppear</td>\n",
       "      <td>0.1818</td>\n",
       "      <td>Не отвергаем Н0</td>\n",
       "      <td>0.01</td>\n",
       "    </tr>\n",
       "    <tr>\n",
       "      <th>3</th>\n",
       "      <td>246_247</td>\n",
       "      <td>248</td>\n",
       "      <td>PaymentScreenSuccessful</td>\n",
       "      <td>0.6004</td>\n",
       "      <td>Не отвергаем Н0</td>\n",
       "      <td>0.01</td>\n",
       "    </tr>\n",
       "  </tbody>\n",
       "</table>\n",
       "</div>"
      ],
      "text/plain": [
       "   group_1 group_2                    event  p_value               H0  alpha\n",
       "0  246_247     248         MainScreenAppear   0.2942  Не отвергаем Н0   0.01\n",
       "1  246_247     248       OffersScreenAppear   0.4343  Не отвергаем Н0   0.01\n",
       "2  246_247     248         CartScreenAppear   0.1818  Не отвергаем Н0   0.01\n",
       "3  246_247     248  PaymentScreenSuccessful   0.6004  Не отвергаем Н0   0.01"
      ]
     },
     "execution_count": 225,
     "metadata": {},
     "output_type": "execute_result"
    }
   ],
   "source": [
    "test_df = pd.DataFrame(\n",
    "    test_A_B('246_247', '248', 'total_246_247_u', 'total_248_u', 0.01), \n",
    "    columns=['group_1', 'group_2', 'event', 'p_value', 'H0', 'alpha'])\n",
    "test_df"
   ]
  },
  {
   "cell_type": "markdown",
   "id": "b9b1daa9-ebeb-44a3-9078-d44decb3d497",
   "metadata": {},
   "source": [
    "Было выполнено в общем итого 12 экспериментов, четыре между группой 1 и 3, четыре между 2 и 3, и четыре между 1+2 и 3 группами. Все не опровергли нулевую гипотезу."
   ]
  },
  {
   "cell_type": "markdown",
   "id": "65b4ce79-9cac-46fd-a482-461739a3c742",
   "metadata": {},
   "source": [
    "Изменим коэффициент статистической значимости с поправкой Бонферрони"
   ]
  },
  {
   "cell_type": "code",
   "execution_count": 226,
   "id": "c2a810d4-8b53-420a-aaf5-0933ad634048",
   "metadata": {
    "tags": []
   },
   "outputs": [],
   "source": [
    "alpha = 0.01/12"
   ]
  },
  {
   "cell_type": "code",
   "execution_count": 227,
   "id": "5d3576d4-7ada-4670-ab03-7a53585c202f",
   "metadata": {
    "tags": []
   },
   "outputs": [
    {
     "data": {
      "text/html": [
       "<div>\n",
       "<style scoped>\n",
       "    .dataframe tbody tr th:only-of-type {\n",
       "        vertical-align: middle;\n",
       "    }\n",
       "\n",
       "    .dataframe tbody tr th {\n",
       "        vertical-align: top;\n",
       "    }\n",
       "\n",
       "    .dataframe thead th {\n",
       "        text-align: right;\n",
       "    }\n",
       "</style>\n",
       "<table border=\"1\" class=\"dataframe\">\n",
       "  <thead>\n",
       "    <tr style=\"text-align: right;\">\n",
       "      <th></th>\n",
       "      <th>group_1</th>\n",
       "      <th>group_2</th>\n",
       "      <th>event</th>\n",
       "      <th>p_value</th>\n",
       "      <th>H0</th>\n",
       "      <th>alpha</th>\n",
       "    </tr>\n",
       "  </thead>\n",
       "  <tbody>\n",
       "    <tr>\n",
       "      <th>0</th>\n",
       "      <td>246</td>\n",
       "      <td>248</td>\n",
       "      <td>MainScreenAppear</td>\n",
       "      <td>0.2950</td>\n",
       "      <td>Не отвергаем Н0</td>\n",
       "      <td>0.000833</td>\n",
       "    </tr>\n",
       "    <tr>\n",
       "      <th>1</th>\n",
       "      <td>246</td>\n",
       "      <td>248</td>\n",
       "      <td>OffersScreenAppear</td>\n",
       "      <td>0.2084</td>\n",
       "      <td>Не отвергаем Н0</td>\n",
       "      <td>0.000833</td>\n",
       "    </tr>\n",
       "    <tr>\n",
       "      <th>2</th>\n",
       "      <td>246</td>\n",
       "      <td>248</td>\n",
       "      <td>CartScreenAppear</td>\n",
       "      <td>0.0784</td>\n",
       "      <td>Не отвергаем Н0</td>\n",
       "      <td>0.000833</td>\n",
       "    </tr>\n",
       "    <tr>\n",
       "      <th>3</th>\n",
       "      <td>246</td>\n",
       "      <td>248</td>\n",
       "      <td>PaymentScreenSuccessful</td>\n",
       "      <td>0.2123</td>\n",
       "      <td>Не отвергаем Н0</td>\n",
       "      <td>0.000833</td>\n",
       "    </tr>\n",
       "  </tbody>\n",
       "</table>\n",
       "</div>"
      ],
      "text/plain": [
       "  group_1 group_2                    event  p_value               H0     alpha\n",
       "0     246     248         MainScreenAppear   0.2950  Не отвергаем Н0  0.000833\n",
       "1     246     248       OffersScreenAppear   0.2084  Не отвергаем Н0  0.000833\n",
       "2     246     248         CartScreenAppear   0.0784  Не отвергаем Н0  0.000833\n",
       "3     246     248  PaymentScreenSuccessful   0.2123  Не отвергаем Н0  0.000833"
      ]
     },
     "metadata": {},
     "output_type": "display_data"
    },
    {
     "data": {
      "text/html": [
       "<div>\n",
       "<style scoped>\n",
       "    .dataframe tbody tr th:only-of-type {\n",
       "        vertical-align: middle;\n",
       "    }\n",
       "\n",
       "    .dataframe tbody tr th {\n",
       "        vertical-align: top;\n",
       "    }\n",
       "\n",
       "    .dataframe thead th {\n",
       "        text-align: right;\n",
       "    }\n",
       "</style>\n",
       "<table border=\"1\" class=\"dataframe\">\n",
       "  <thead>\n",
       "    <tr style=\"text-align: right;\">\n",
       "      <th></th>\n",
       "      <th>group_1</th>\n",
       "      <th>group_2</th>\n",
       "      <th>event</th>\n",
       "      <th>p_value</th>\n",
       "      <th>H0</th>\n",
       "      <th>alpha</th>\n",
       "    </tr>\n",
       "  </thead>\n",
       "  <tbody>\n",
       "    <tr>\n",
       "      <th>0</th>\n",
       "      <td>247</td>\n",
       "      <td>248</td>\n",
       "      <td>MainScreenAppear</td>\n",
       "      <td>0.4587</td>\n",
       "      <td>Не отвергаем Н0</td>\n",
       "      <td>0.000833</td>\n",
       "    </tr>\n",
       "    <tr>\n",
       "      <th>1</th>\n",
       "      <td>247</td>\n",
       "      <td>248</td>\n",
       "      <td>OffersScreenAppear</td>\n",
       "      <td>0.9198</td>\n",
       "      <td>Не отвергаем Н0</td>\n",
       "      <td>0.000833</td>\n",
       "    </tr>\n",
       "    <tr>\n",
       "      <th>2</th>\n",
       "      <td>247</td>\n",
       "      <td>248</td>\n",
       "      <td>CartScreenAppear</td>\n",
       "      <td>0.5786</td>\n",
       "      <td>Не отвергаем Н0</td>\n",
       "      <td>0.000833</td>\n",
       "    </tr>\n",
       "    <tr>\n",
       "      <th>3</th>\n",
       "      <td>247</td>\n",
       "      <td>248</td>\n",
       "      <td>PaymentScreenSuccessful</td>\n",
       "      <td>0.7373</td>\n",
       "      <td>Не отвергаем Н0</td>\n",
       "      <td>0.000833</td>\n",
       "    </tr>\n",
       "  </tbody>\n",
       "</table>\n",
       "</div>"
      ],
      "text/plain": [
       "  group_1 group_2                    event  p_value               H0     alpha\n",
       "0     247     248         MainScreenAppear   0.4587  Не отвергаем Н0  0.000833\n",
       "1     247     248       OffersScreenAppear   0.9198  Не отвергаем Н0  0.000833\n",
       "2     247     248         CartScreenAppear   0.5786  Не отвергаем Н0  0.000833\n",
       "3     247     248  PaymentScreenSuccessful   0.7373  Не отвергаем Н0  0.000833"
      ]
     },
     "metadata": {},
     "output_type": "display_data"
    },
    {
     "data": {
      "text/html": [
       "<div>\n",
       "<style scoped>\n",
       "    .dataframe tbody tr th:only-of-type {\n",
       "        vertical-align: middle;\n",
       "    }\n",
       "\n",
       "    .dataframe tbody tr th {\n",
       "        vertical-align: top;\n",
       "    }\n",
       "\n",
       "    .dataframe thead th {\n",
       "        text-align: right;\n",
       "    }\n",
       "</style>\n",
       "<table border=\"1\" class=\"dataframe\">\n",
       "  <thead>\n",
       "    <tr style=\"text-align: right;\">\n",
       "      <th></th>\n",
       "      <th>group_1</th>\n",
       "      <th>group_2</th>\n",
       "      <th>event</th>\n",
       "      <th>p_value</th>\n",
       "      <th>H0</th>\n",
       "      <th>alpha</th>\n",
       "    </tr>\n",
       "  </thead>\n",
       "  <tbody>\n",
       "    <tr>\n",
       "      <th>0</th>\n",
       "      <td>246_247</td>\n",
       "      <td>248</td>\n",
       "      <td>MainScreenAppear</td>\n",
       "      <td>0.2942</td>\n",
       "      <td>Не отвергаем Н0</td>\n",
       "      <td>0.000833</td>\n",
       "    </tr>\n",
       "    <tr>\n",
       "      <th>1</th>\n",
       "      <td>246_247</td>\n",
       "      <td>248</td>\n",
       "      <td>OffersScreenAppear</td>\n",
       "      <td>0.4343</td>\n",
       "      <td>Не отвергаем Н0</td>\n",
       "      <td>0.000833</td>\n",
       "    </tr>\n",
       "    <tr>\n",
       "      <th>2</th>\n",
       "      <td>246_247</td>\n",
       "      <td>248</td>\n",
       "      <td>CartScreenAppear</td>\n",
       "      <td>0.1818</td>\n",
       "      <td>Не отвергаем Н0</td>\n",
       "      <td>0.000833</td>\n",
       "    </tr>\n",
       "    <tr>\n",
       "      <th>3</th>\n",
       "      <td>246_247</td>\n",
       "      <td>248</td>\n",
       "      <td>PaymentScreenSuccessful</td>\n",
       "      <td>0.6004</td>\n",
       "      <td>Не отвергаем Н0</td>\n",
       "      <td>0.000833</td>\n",
       "    </tr>\n",
       "  </tbody>\n",
       "</table>\n",
       "</div>"
      ],
      "text/plain": [
       "   group_1 group_2                    event  p_value               H0  \\\n",
       "0  246_247     248         MainScreenAppear   0.2942  Не отвергаем Н0   \n",
       "1  246_247     248       OffersScreenAppear   0.4343  Не отвергаем Н0   \n",
       "2  246_247     248         CartScreenAppear   0.1818  Не отвергаем Н0   \n",
       "3  246_247     248  PaymentScreenSuccessful   0.6004  Не отвергаем Н0   \n",
       "\n",
       "      alpha  \n",
       "0  0.000833  \n",
       "1  0.000833  \n",
       "2  0.000833  \n",
       "3  0.000833  "
      ]
     },
     "metadata": {},
     "output_type": "display_data"
    }
   ],
   "source": [
    "test_df = pd.DataFrame(\n",
    "    test_A_B('246', '248', 'total_246_u', 'total_248_u', alpha), \n",
    "    columns=['group_1', 'group_2', 'event', 'p_value', 'H0', 'alpha'])\n",
    "display(test_df)\n",
    "\n",
    "test_df = pd.DataFrame(\n",
    "    test_A_B('247', '248', 'total_247_u', 'total_248_u', alpha), \n",
    "    columns=['group_1', 'group_2', 'event', 'p_value', 'H0', 'alpha'])\n",
    "display(test_df)\n",
    "\n",
    "test_df = pd.DataFrame(\n",
    "    test_A_B('246_247', '248', 'total_246_247_u', 'total_248_u', alpha), \n",
    "    columns=['group_1', 'group_2', 'event', 'p_value', 'H0', 'alpha'])\n",
    "display(test_df)"
   ]
  },
  {
   "cell_type": "markdown",
   "id": "80974b58-7d9b-4030-bb8b-b5fed6cb5b7f",
   "metadata": {},
   "source": [
    "Как и в предыдущем случае все эксперименты не опровергли нулевую гипотезу.  "
   ]
  },
  {
   "cell_type": "markdown",
   "id": "101bdbd6",
   "metadata": {},
   "source": [
    "<div class=\"alert alert-success\">\n",
    "<b>Комментарий с комплиментом ревьюера:</b>\n",
    "    \n",
    "Гипотезы проверены верно, молодец.\n",
    "</div>\n"
   ]
  },
  {
   "cell_type": "markdown",
   "id": "a36e3581-1b89-4a3e-993b-719d02aab899",
   "metadata": {},
   "source": [
    "# Выводы"
   ]
  },
  {
   "cell_type": "markdown",
   "id": "5e7f0974-2d35-4d71-b5e6-176c68719a84",
   "metadata": {},
   "source": [
    "\n",
    "В ходе исследований было выявлено, что воронка событий содержит четыре шага, просмотр главного экрана, экрана предложения, заказа и успешной покупки. От главного экрана до экрана успешной покупки доходит только 46%. Наибольшая потеря происходит на первом шаге, только 60% пользователей с главного экрана переходят в раздел предложений.\n",
    "\n",
    "Проверка влияния нового дизайна показала, что группы разбиты корректно, А/А тестирование не опровергло нулевой гипотезы. Для пользователей, совершивших события, в двух контрольных группах не имеют статистически значимого различия.  \n",
    "\n",
    "А/В  тестирование между контрольными группами и тестовой группой так же не показало статистически значимых различий ни между группами по отдельности, ни между объединенной группой и тестовой.  \n",
    "Поправкой Бонферрони для многогрупповых тестирований не изменила результата. Новый дизайн не внес изменений пользовательскую статистику.\n",
    "\n",
    "Для тестирования использовался z-тест, в котором нулевая гипотеза звучала, как равенство долей пользователь разных групп, совершающих соответствующие события. Не нулевая гипотеза – между долями есть статистически значимая разность.\n"
   ]
  },
  {
   "cell_type": "markdown",
   "id": "eced6784",
   "metadata": {},
   "source": [
    "<div class=\"alert alert-success\">\n",
    "<b>Комментарий с комплиментом ревьюера:</b> \n",
    "    \n",
    "Хороший аналитический вывод, который можно предоставить менеджерам. Верно, изменение шрифтов никак не повлияло на поведение пользователей.\n",
    "\n",
    "</div>\n"
   ]
  },
  {
   "cell_type": "markdown",
   "id": "214e74f2",
   "metadata": {},
   "source": [
    "<div style=\"border:solid Chocolate 2px; padding: 40px\">\n",
    "\n",
    "# Общий вывод ревьюера по проекту\n",
    "\n",
    "<div class=\"alert alert-success\">\n",
    "\n",
    "Проделана хорошая аналитическая работа. Код написан чисто, соблюдена структура проекта и написаны качественные аналитические выводы. Проект выполнен на хорошем аналитическом уровне, поэтому замечаний не много. Я отметил в проекте моменты, на которые необходимо обратить внимание, исправь их и проект будет принят.\n",
    "\n",
    "- по ссылкам ниже ты найдешь интересные материалы по А/В тестам\n",
    "  \n",
    "    \n",
    "https://habr.com/ru/company/avito/blog/571094/\n",
    "\n",
    "https://habr.com/ru/company/yandex/blog/476826/\n",
    "\n",
    "https://academy.yandex.ru/journal/kak-provesti-a-b-testirovanie-6-prostykh-shagov\n",
    "\n",
    "https://habr.com/ru/company/yandex/blog/342704/\n",
    "\n",
    "https://r-analytics.blogspot.com/2013/10/blog-post_13.html \n",
    "\n",
    "</div>\n",
    "\n",
    "<div class=\"alert alert-danger\">\n",
    "\n",
    "  \n",
    "- скорректируй, пожалуйста, формулировку гипотезы Н1\n",
    "- узнай, пожалуйста, много ли пользователей мы потеряли, отбросив старые данные\n",
    "- добавь, пожалуйста, заголовок для графика и подписи осей на русском языке.\n",
    "</div>\n",
    "</div>\n",
    "\n",
    "\n",
    "\n",
    "\n"
   ]
  },
  {
   "cell_type": "code",
   "execution_count": null,
   "id": "9887dc30",
   "metadata": {},
   "outputs": [],
   "source": []
  }
 ],
 "metadata": {
  "ExecuteTimeLog": [
   {
    "duration": 1340,
    "start_time": "2024-04-05T14:11:19.747Z"
   },
   {
    "duration": 806,
    "start_time": "2024-04-05T14:11:21.090Z"
   },
   {
    "duration": 24,
    "start_time": "2024-04-05T14:11:21.898Z"
   },
   {
    "duration": 11,
    "start_time": "2024-04-05T14:11:21.924Z"
   },
   {
    "duration": 10,
    "start_time": "2024-04-05T14:11:21.937Z"
   },
   {
    "duration": 21,
    "start_time": "2024-04-05T14:11:21.949Z"
   },
   {
    "duration": 15,
    "start_time": "2024-04-05T14:11:21.972Z"
   },
   {
    "duration": 180,
    "start_time": "2024-04-05T14:11:21.988Z"
   },
   {
    "duration": 28,
    "start_time": "2024-04-05T14:11:22.170Z"
   },
   {
    "duration": 72,
    "start_time": "2024-04-05T14:11:22.199Z"
   },
   {
    "duration": 111,
    "start_time": "2024-04-05T14:11:22.272Z"
   },
   {
    "duration": 29,
    "start_time": "2024-04-05T14:11:22.384Z"
   },
   {
    "duration": 24,
    "start_time": "2024-04-05T14:11:22.415Z"
   },
   {
    "duration": 21,
    "start_time": "2024-04-05T14:11:22.442Z"
   },
   {
    "duration": 25,
    "start_time": "2024-04-05T14:11:22.465Z"
   },
   {
    "duration": 4,
    "start_time": "2024-04-05T14:11:22.492Z"
   },
   {
    "duration": 31,
    "start_time": "2024-04-05T14:11:22.498Z"
   },
   {
    "duration": 6,
    "start_time": "2024-04-05T14:11:22.531Z"
   },
   {
    "duration": 233,
    "start_time": "2024-04-05T14:11:22.538Z"
   },
   {
    "duration": 5,
    "start_time": "2024-04-05T14:11:22.772Z"
   },
   {
    "duration": 25,
    "start_time": "2024-04-05T14:11:22.778Z"
   },
   {
    "duration": 30,
    "start_time": "2024-04-05T14:11:22.804Z"
   },
   {
    "duration": 60,
    "start_time": "2024-04-05T14:11:22.835Z"
   },
   {
    "duration": 7,
    "start_time": "2024-04-05T14:11:22.896Z"
   },
   {
    "duration": 92,
    "start_time": "2024-04-05T14:11:22.904Z"
   },
   {
    "duration": 24,
    "start_time": "2024-04-05T14:11:22.998Z"
   },
   {
    "duration": 10,
    "start_time": "2024-04-05T14:11:23.024Z"
   },
   {
    "duration": 69,
    "start_time": "2024-04-05T14:11:23.035Z"
   },
   {
    "duration": 8,
    "start_time": "2024-04-05T14:11:23.105Z"
   },
   {
    "duration": 315,
    "start_time": "2024-04-05T14:11:23.115Z"
   },
   {
    "duration": 6,
    "start_time": "2024-04-05T14:11:23.432Z"
   },
   {
    "duration": 21,
    "start_time": "2024-04-05T14:11:23.440Z"
   },
   {
    "duration": 13,
    "start_time": "2024-04-05T14:11:23.463Z"
   },
   {
    "duration": 12,
    "start_time": "2024-04-05T14:11:23.478Z"
   },
   {
    "duration": 11,
    "start_time": "2024-04-05T14:11:23.492Z"
   },
   {
    "duration": 187,
    "start_time": "2024-04-05T14:11:23.505Z"
   },
   {
    "duration": 5,
    "start_time": "2024-04-05T14:11:23.694Z"
   },
   {
    "duration": 9,
    "start_time": "2024-04-05T14:11:23.701Z"
   },
   {
    "duration": 17,
    "start_time": "2024-04-05T14:11:23.711Z"
   },
   {
    "duration": 38,
    "start_time": "2024-04-05T14:11:23.729Z"
   },
   {
    "duration": 13,
    "start_time": "2024-04-05T14:11:23.771Z"
   },
   {
    "duration": 13,
    "start_time": "2024-04-05T14:11:23.785Z"
   },
   {
    "duration": 3,
    "start_time": "2024-04-05T14:11:23.800Z"
   },
   {
    "duration": 67,
    "start_time": "2024-04-05T14:11:23.804Z"
   }
  ],
  "kernelspec": {
   "display_name": "Python 3 (ipykernel)",
   "language": "python",
   "name": "python3"
  },
  "language_info": {
   "codemirror_mode": {
    "name": "ipython",
    "version": 3
   },
   "file_extension": ".py",
   "mimetype": "text/x-python",
   "name": "python",
   "nbconvert_exporter": "python",
   "pygments_lexer": "ipython3",
   "version": "3.9.13"
  },
  "toc": {
   "base_numbering": 1,
   "nav_menu": {},
   "number_sections": true,
   "sideBar": true,
   "skip_h1_title": true,
   "title_cell": "Table of Contents",
   "title_sidebar": "Contents",
   "toc_cell": false,
   "toc_position": {},
   "toc_section_display": true,
   "toc_window_display": false
  }
 },
 "nbformat": 4,
 "nbformat_minor": 5
}
