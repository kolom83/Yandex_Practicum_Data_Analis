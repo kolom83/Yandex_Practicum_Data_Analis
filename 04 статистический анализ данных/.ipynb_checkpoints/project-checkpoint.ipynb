{
 "cells": [
  {
   "cell_type": "markdown",
   "id": "130a567f-bb81-4655-a04e-737e8e36bb58",
   "metadata": {},
   "source": [
    "План работы.\n",
    "\n",
    "    1.\tЗагрузить и посмотреть данные.\n",
    "    2.\tОбработать данные, привести типы, проверить наличие пропущенных значений и дубликатов. \n",
    "    3.\tОписать и визуализировать данные о пользователях и поездках.\n",
    "    4.\tОбъединить данные о пользователях, поездках и тарифах. \n",
    "    5.\tАгрегировать данные и рассчитать выручку по месяцам.\n",
    "    6.\tПроверить гипотезы о соотношениях продолжительности поездок и выручки групп пользователей с подпиской и без.\n",
    "    7.\t  \n"
   ]
  },
  {
   "cell_type": "code",
   "execution_count": 132,
   "id": "72576667",
   "metadata": {
    "tags": []
   },
   "outputs": [],
   "source": [
    "import pandas as pd\n",
    "import matplotlib.pyplot as plt \n",
    "import seaborn as sns\n",
    "import math\n",
    "import numpy as np\n",
    "from scipy import stats as st\n",
    "import random\n",
    "import numpy as np\n",
    "import matplotlib.pyplot as plt\n",
    "from math import sqrt\n",
    "from scipy.stats import binom, norm\n",
    "from scipy import stats # подключение модуля stats из библиотеки scipy"
   ]
  },
  {
   "cell_type": "markdown",
   "id": "c42cbe00",
   "metadata": {},
   "source": [
    "#### Шаг 1. Загрузка данных"
   ]
  },
  {
   "cell_type": "code",
   "execution_count": 133,
   "id": "e49e40fe-c633-4889-9d0b-d1c10b468e10",
   "metadata": {
    "tags": []
   },
   "outputs": [
    {
     "name": "stdout",
     "output_type": "stream",
     "text": [
      "   user_id        name  age            city subscription_type\n",
      "0        1        Кира   22          Тюмень             ultra\n",
      "1        2   Станислав   31            Омск             ultra\n",
      "2        3     Алексей   20          Москва             ultra\n",
      "3        4  Константин   26  Ростов-на-Дону             ultra\n",
      "4        5       Адель   28            Омск             ultra\n",
      "\n",
      "<class 'pandas.core.frame.DataFrame'>\n",
      "RangeIndex: 1565 entries, 0 to 1564\n",
      "Data columns (total 5 columns):\n",
      " #   Column             Non-Null Count  Dtype \n",
      "---  ------             --------------  ----- \n",
      " 0   user_id            1565 non-null   int64 \n",
      " 1   name               1565 non-null   object\n",
      " 2   age                1565 non-null   int64 \n",
      " 3   city               1565 non-null   object\n",
      " 4   subscription_type  1565 non-null   object\n",
      "dtypes: int64(2), object(3)\n",
      "memory usage: 61.3+ KB\n"
     ]
    }
   ],
   "source": [
    "try:\n",
    "    users_go = pd.read_csv('/datasets/users_go.csv')\n",
    "except:\n",
    "    users_go = pd.read_csv('datasets/users_go.csv')\n",
    "\n",
    "print(users_go.head(5))\n",
    "print()\n",
    "users_go.info()"
   ]
  },
  {
   "cell_type": "code",
   "execution_count": 134,
   "id": "bdd42c35-1dce-4515-97fa-4f3d065b00dd",
   "metadata": {
    "tags": []
   },
   "outputs": [
    {
     "name": "stdout",
     "output_type": "stream",
     "text": [
      "   user_id     distance   duration        date\n",
      "0        1  4409.919140  25.599769  2021-01-01\n",
      "1        1  2617.592153  15.816871  2021-01-18\n",
      "2        1   754.159807   6.232113  2021-04-20\n",
      "3        1  2694.783254  18.511000  2021-08-11\n",
      "4        1  4028.687306  26.265803  2021-08-28\n",
      "\n",
      "<class 'pandas.core.frame.DataFrame'>\n",
      "RangeIndex: 18068 entries, 0 to 18067\n",
      "Data columns (total 4 columns):\n",
      " #   Column    Non-Null Count  Dtype  \n",
      "---  ------    --------------  -----  \n",
      " 0   user_id   18068 non-null  int64  \n",
      " 1   distance  18068 non-null  float64\n",
      " 2   duration  18068 non-null  float64\n",
      " 3   date      18068 non-null  object \n",
      "dtypes: float64(2), int64(1), object(1)\n",
      "memory usage: 564.8+ KB\n"
     ]
    }
   ],
   "source": [
    "try:\n",
    "    rides_go = pd.read_csv('/datasets/rides_go.csv')\n",
    "except:\n",
    "    rides_go = pd.read_csv('datasets/rides_go.csv')\n",
    "\n",
    "print(rides_go.head(5))\n",
    "print()\n",
    "rides_go.info()"
   ]
  },
  {
   "cell_type": "code",
   "execution_count": 135,
   "id": "dc1e2736-7871-4034-9641-0448d0963943",
   "metadata": {
    "tags": []
   },
   "outputs": [
    {
     "name": "stdout",
     "output_type": "stream",
     "text": [
      "  subscription_type  minute_price  start_ride_price  subscription_fee\n",
      "0              free             8                50                 0\n",
      "1             ultra             6                 0               199\n",
      "\n",
      "<class 'pandas.core.frame.DataFrame'>\n",
      "RangeIndex: 2 entries, 0 to 1\n",
      "Data columns (total 4 columns):\n",
      " #   Column             Non-Null Count  Dtype \n",
      "---  ------             --------------  ----- \n",
      " 0   subscription_type  2 non-null      object\n",
      " 1   minute_price       2 non-null      int64 \n",
      " 2   start_ride_price   2 non-null      int64 \n",
      " 3   subscription_fee   2 non-null      int64 \n",
      "dtypes: int64(3), object(1)\n",
      "memory usage: 192.0+ bytes\n"
     ]
    }
   ],
   "source": [
    "try:\n",
    "    subscriptions_go = pd.read_csv('/datasets/subscriptions_go.csv')\n",
    "except:\n",
    "    subscriptions_go = pd.read_csv('datasets/subscriptions_go.csv')\n",
    "\n",
    "print(subscriptions_go.head(5))\n",
    "print()\n",
    "subscriptions_go.info()"
   ]
  },
  {
   "cell_type": "markdown",
   "id": "9edeba31-e832-4690-aadd-434cfcf7d869",
   "metadata": {},
   "source": [
    "Данные представлены тремя таблицами, описывающих пользователей, поездки пользователей и тарифы. "
   ]
  },
  {
   "cell_type": "markdown",
   "id": "e95ebca7",
   "metadata": {},
   "source": [
    "#### Шаг 2. Предобработка данных"
   ]
  },
  {
   "cell_type": "code",
   "execution_count": 136,
   "id": "af6d202c",
   "metadata": {
    "tags": []
   },
   "outputs": [],
   "source": [
    "# Приведите столбец date к типу даты pandas.\n",
    "rides_go.date = pd.to_datetime(rides_go.date, format='%Y-%m-%d')"
   ]
  },
  {
   "cell_type": "code",
   "execution_count": 137,
   "id": "ff21122f-e2fb-48b0-9cae-535d946a2d98",
   "metadata": {
    "tags": []
   },
   "outputs": [],
   "source": [
    "# Создайте новый столбец с номером месяца на основе столбца date\n",
    "rides_go['month_number'] = pd.DatetimeIndex(rides_go.date).month"
   ]
  },
  {
   "cell_type": "code",
   "execution_count": 138,
   "id": "1a3f9ff8-d081-4157-8428-d10c76f4677e",
   "metadata": {
    "tags": []
   },
   "outputs": [
    {
     "name": "stdout",
     "output_type": "stream",
     "text": [
      "   user_id     distance   duration       date  month_number\n",
      "0        1  4409.919140  25.599769 2021-01-01             1\n",
      "1        1  2617.592153  15.816871 2021-01-18             1\n",
      "2        1   754.159807   6.232113 2021-04-20             4\n",
      "3        1  2694.783254  18.511000 2021-08-11             8\n",
      "4        1  4028.687306  26.265803 2021-08-28             8\n",
      "\n",
      "<class 'pandas.core.frame.DataFrame'>\n",
      "RangeIndex: 18068 entries, 0 to 18067\n",
      "Data columns (total 5 columns):\n",
      " #   Column        Non-Null Count  Dtype         \n",
      "---  ------        --------------  -----         \n",
      " 0   user_id       18068 non-null  int64         \n",
      " 1   distance      18068 non-null  float64       \n",
      " 2   duration      18068 non-null  float64       \n",
      " 3   date          18068 non-null  datetime64[ns]\n",
      " 4   month_number  18068 non-null  int64         \n",
      "dtypes: datetime64[ns](1), float64(2), int64(2)\n",
      "memory usage: 705.9 KB\n"
     ]
    }
   ],
   "source": [
    "print(rides_go.head(5))\n",
    "print()\n",
    "rides_go.info()"
   ]
  },
  {
   "cell_type": "code",
   "execution_count": 139,
   "id": "e3a4274c",
   "metadata": {
    "tags": []
   },
   "outputs": [
    {
     "data": {
      "text/plain": [
       "user_id              0.0\n",
       "name                 0.0\n",
       "age                  0.0\n",
       "city                 0.0\n",
       "subscription_type    0.0\n",
       "dtype: float64"
      ]
     },
     "execution_count": 139,
     "metadata": {},
     "output_type": "execute_result"
    }
   ],
   "source": [
    "# проверяем пустые занчения\n",
    "users_go.isna().mean()*100"
   ]
  },
  {
   "cell_type": "code",
   "execution_count": 140,
   "id": "15d67de2-0bf8-4715-a083-a3b0c86c20c9",
   "metadata": {
    "tags": []
   },
   "outputs": [
    {
     "data": {
      "text/plain": [
       "31"
      ]
     },
     "execution_count": 140,
     "metadata": {},
     "output_type": "execute_result"
    }
   ],
   "source": [
    "# проверяем явные дубли\n",
    "users_go.duplicated().sum()"
   ]
  },
  {
   "cell_type": "code",
   "execution_count": 141,
   "id": "0eef9583-b3d3-4739-b603-11a8a84a5b1f",
   "metadata": {
    "tags": []
   },
   "outputs": [],
   "source": [
    "# удаляем явные дубли с переиндексаций без создания столбца со старыми индексами \n",
    "users_go = users_go.drop_duplicates().reset_index(drop=True)"
   ]
  },
  {
   "cell_type": "code",
   "execution_count": 142,
   "id": "93db7a24-8c99-4ad0-929e-4ae5568e0264",
   "metadata": {
    "tags": []
   },
   "outputs": [
    {
     "data": {
      "text/plain": [
       "user_id         0.0\n",
       "distance        0.0\n",
       "duration        0.0\n",
       "date            0.0\n",
       "month_number    0.0\n",
       "dtype: float64"
      ]
     },
     "execution_count": 142,
     "metadata": {},
     "output_type": "execute_result"
    }
   ],
   "source": [
    "rides_go.isna().mean()*100"
   ]
  },
  {
   "cell_type": "code",
   "execution_count": 143,
   "id": "9e2e04e7-2f93-4b2e-92b2-619cafaaaa3d",
   "metadata": {
    "tags": []
   },
   "outputs": [
    {
     "data": {
      "text/plain": [
       "0"
      ]
     },
     "execution_count": 143,
     "metadata": {},
     "output_type": "execute_result"
    }
   ],
   "source": [
    "rides_go.duplicated().sum()"
   ]
  },
  {
   "cell_type": "code",
   "execution_count": 144,
   "id": "8acbf131-5db2-4690-b736-9a8976a9f074",
   "metadata": {},
   "outputs": [],
   "source": [
    "# округлим продолжительность в большую сторону\n",
    "rides_go['duration'] = np.ceil(rides_go['duration']) "
   ]
  },
  {
   "cell_type": "code",
   "execution_count": 145,
   "id": "e051d705-2ba2-4c09-9a31-283139d2cead",
   "metadata": {},
   "outputs": [
    {
     "data": {
      "text/plain": [
       "array(['Тюмень', 'Омск', 'Москва', 'Ростов-на-Дону', 'Краснодар',\n",
       "       'Пятигорск', 'Екатеринбург', 'Сочи'], dtype=object)"
      ]
     },
     "execution_count": 145,
     "metadata": {},
     "output_type": "execute_result"
    }
   ],
   "source": [
    "# проверка на неявные дубли\n",
    "users_go['city'].unique()"
   ]
  },
  {
   "cell_type": "markdown",
   "id": "52e94d8d-a5b6-4f67-b109-d5dd02a73d7e",
   "metadata": {},
   "source": [
    "В таблице о поездках информация о дате поездки была приведена к формату datetime и добавлена колонка с номером месяца поездки.\n",
    "\n",
    "В таблице пользователей были обнаружены и удалены явные дубли. Неявных дублей в колонке city типа object нет.\n",
    "\n",
    "Продолжительность поездки была округлена до целого числа в большую сторону. \n"
   ]
  },
  {
   "cell_type": "markdown",
   "id": "212593c7",
   "metadata": {},
   "source": [
    "#### Шаг 3. Исследовательский анализ данных"
   ]
  },
  {
   "cell_type": "code",
   "execution_count": 146,
   "id": "2c7e0c00-4a84-48c4-acd6-9787b8977136",
   "metadata": {
    "tags": []
   },
   "outputs": [
    {
     "data": {
      "image/png": "[encoded data removed]",
      "text/plain": [
       "<Figure size 1000x600 with 1 Axes>"
      ]
     },
     "metadata": {},
     "output_type": "display_data"
    }
   ],
   "source": [
    "plt.figure(figsize=(10, 6))  # Размер графика (опционально)\n",
    "\n",
    "users_go['city'].value_counts().plot(kind='bar', color='skyblue')\n",
    "\n",
    "plt.title('Гистограмма по городам')\n",
    "plt.xlabel('Города')\n",
    "plt.ylabel('Частота')\n",
    "plt.show()"
   ]
  },
  {
   "cell_type": "markdown",
   "id": "79759063-e67e-498d-8200-a9995b4fcfc0",
   "metadata": {},
   "source": [
    "Построена гистограмма чистоты городов из таблицы о пользователях. Согласно ей, больше любителей покатятся на самокате среди жителей южных городов.  "
   ]
  },
  {
   "cell_type": "code",
   "execution_count": 147,
   "id": "6435491c-035c-48b5-a837-d30015b480f6",
   "metadata": {
    "tags": []
   },
   "outputs": [
    {
     "name": "stdout",
     "output_type": "stream",
     "text": [
      "free     0.544329\n",
      "ultra    0.455671\n",
      "Name: subscription_type, dtype: float64\n"
     ]
    },
    {
     "data": {
      "image/png": "[encoded data removed]",
      "text/plain": [
       "<Figure size 1000x600 with 1 Axes>"
      ]
     },
     "metadata": {},
     "output_type": "display_data"
    }
   ],
   "source": [
    "plt.figure(figsize=(10, 6))  # Размер графика (опционально)\n",
    "\n",
    "subscription_type_counts = users_go['subscription_type'].value_counts()\n",
    "subscription_type_proportions = subscription_type_counts/len(users_go)\n",
    "subscription_type_proportions.plot(kind='bar', color='skyblue')\n",
    "print(subscription_type_proportions)\n",
    "plt.title('Соотношение типов подписок')\n",
    "plt.xlabel('Типы подписок')\n",
    "plt.ylabel('Доли')\n",
    "plt.show()"
   ]
  },
  {
   "cell_type": "markdown",
   "id": "723e7ade-38de-4ad2-b60e-f3cafe88cd19",
   "metadata": {},
   "source": [
    "Соотношение пользователей с подпиской и без подписки с небольшим перевесом в пользу вторых. 55% пользователей не подписаны. "
   ]
  },
  {
   "cell_type": "code",
   "execution_count": 148,
   "id": "a8be1359-4f4b-4ac2-8372-f62d912a8c81",
   "metadata": {
    "tags": []
   },
   "outputs": [
    {
     "data": {
      "image/png": "[encoded data removed]",
      "text/plain": [
       "<Figure size 640x480 with 1 Axes>"
      ]
     },
     "metadata": {},
     "output_type": "display_data"
    }
   ],
   "source": [
    "plt.hist(users_go['age'], bins=20, color='skyblue', edgecolor='black')\n",
    "plt.title('Гистограмма возрастов')\n",
    "plt.xlabel('Возраст')\n",
    "plt.ylabel('Частота')\n",
    "plt.show()"
   ]
  },
  {
   "cell_type": "code",
   "execution_count": 149,
   "id": "aeb65fe1-5bd6-4842-bfe2-67ff0aeee76b",
   "metadata": {
    "tags": []
   },
   "outputs": [
    {
     "data": {
      "image/png": "[encoded data removed]",
      "text/plain": [
       "<Figure size 640x480 with 1 Axes>"
      ]
     },
     "metadata": {},
     "output_type": "display_data"
    }
   ],
   "source": [
    "sns.boxplot(x=users_go['age'], color='skyblue')\n",
    "plt.title('Ящик с усами для возрастов')\n",
    "plt.xlabel('Возраст')\n",
    "plt.show()"
   ]
  },
  {
   "cell_type": "code",
   "execution_count": 150,
   "id": "24385753-2923-4593-ba7f-69b1738fc50c",
   "metadata": {
    "tags": []
   },
   "outputs": [
    {
     "data": {
      "image/png": "[encoded data removed]",
      "text/plain": [
       "<Figure size 640x480 with 1 Axes>"
      ]
     },
     "metadata": {},
     "output_type": "display_data"
    }
   ],
   "source": [
    "sns.kdeplot(users_go['age'], fill=True, color='skyblue')\n",
    "plt.title('Оценка плотности ядра для возрастов')\n",
    "plt.xlabel('Возраст')\n",
    "plt.show()"
   ]
  },
  {
   "cell_type": "markdown",
   "id": "0cad8dbb-f0f3-47b9-b65e-fa3ad0b68477",
   "metadata": {},
   "source": [
    "<div class=\"alert alert-block alert-info\">\n",
    "    \n",
    "Этот график подсказал искусственный интеллект\n",
    "    \n",
    "</div>"
   ]
  },
  {
   "cell_type": "code",
   "execution_count": 151,
   "id": "093def3d-ad07-4706-bf41-e8735c19a7c9",
   "metadata": {},
   "outputs": [
    {
     "data": {
      "text/plain": [
       "count    1534.000000\n",
       "mean       24.903520\n",
       "std         4.572367\n",
       "min        12.000000\n",
       "25%        22.000000\n",
       "50%        25.000000\n",
       "75%        28.000000\n",
       "max        43.000000\n",
       "Name: age, dtype: float64"
      ]
     },
     "execution_count": 151,
     "metadata": {},
     "output_type": "execute_result"
    }
   ],
   "source": [
    "users_go['age'].describe()"
   ]
  },
  {
   "cell_type": "code",
   "execution_count": 152,
   "id": "855dad13-7f89-4512-b24c-2818fea4c12a",
   "metadata": {},
   "outputs": [
    {
     "name": "stdout",
     "output_type": "stream",
     "text": [
      "Медиана 25.0\n",
      "Мода 25\n",
      "10-й процентиль 19.0\n",
      "99-й процентиль 35.0\n",
      "Межквартильный размах 6.0\n"
     ]
    }
   ],
   "source": [
    "seria = users_go['age']\n",
    "print('Медиана', seria.median())\n",
    "print('Мода', seria.mode()[0])\n",
    "print('10-й процентиль', np.percentile(seria, 10))\n",
    "print('99-й процентиль', np.percentile(seria, 99))\n",
    "print('Межквартильный размах', stats.iqr(seria))"
   ]
  },
  {
   "cell_type": "markdown",
   "id": "c8e6384e-92c5-4dea-9dc6-5ccc7bcf2099",
   "metadata": {},
   "source": [
    "<div class=\"alert alert-block alert-info\">\n",
    "    \n",
    "Может есть какая то функция, которая возвращает эти показатели и дисперсию?\n",
    "    \n",
    "</div>"
   ]
  },
  {
   "cell_type": "markdown",
   "id": "51169b32-1c87-41b3-b381-1e9c9a88effa",
   "metadata": {
    "tags": []
   },
   "source": [
    "Средний возраст пользователей 25 лет, медиана и мода такие же, межквартильный размах не большой, можно сказать, что распределена по возрасту нормального типа. Есть редкие выбросы. Катаются в основном молодые. "
   ]
  },
  {
   "cell_type": "code",
   "execution_count": 153,
   "id": "8229a2e4-5af0-465c-aec5-c84a9dce66c8",
   "metadata": {
    "tags": []
   },
   "outputs": [
    {
     "data": {
      "image/png": "[encoded data removed]",
      "text/plain": [
       "<Figure size 640x480 with 1 Axes>"
      ]
     },
     "metadata": {},
     "output_type": "display_data"
    }
   ],
   "source": [
    "plt.hist(rides_go['distance'], bins=20, color='skyblue', edgecolor='black')\n",
    "plt.title('Гистограмма дистанции')\n",
    "plt.xlabel('Дистанция')\n",
    "plt.ylabel('Метры')\n",
    "plt.show()"
   ]
  },
  {
   "cell_type": "code",
   "execution_count": 154,
   "id": "6c271272-ef59-42cc-b9bc-a41806a46896",
   "metadata": {
    "tags": []
   },
   "outputs": [
    {
     "data": {
      "image/png": "[encoded data removed]",
      "text/plain": [
       "<Figure size 640x480 with 1 Axes>"
      ]
     },
     "metadata": {},
     "output_type": "display_data"
    }
   ],
   "source": [
    "sns.boxplot(x=rides_go['distance'], color='skyblue')\n",
    "plt.title('Ящик с усами по дистанции')\n",
    "plt.xlabel('Возраст')\n",
    "plt.show()"
   ]
  },
  {
   "cell_type": "code",
   "execution_count": 155,
   "id": "ec4cac02-8566-46ab-96fe-f4ef4ec21921",
   "metadata": {},
   "outputs": [
    {
     "data": {
      "text/plain": [
       "count    18068.000000\n",
       "mean      3070.659976\n",
       "std       1116.831209\n",
       "min          0.855683\n",
       "25%       2543.226360\n",
       "50%       3133.609994\n",
       "75%       3776.222735\n",
       "max       7211.007745\n",
       "Name: distance, dtype: float64"
      ]
     },
     "execution_count": 155,
     "metadata": {},
     "output_type": "execute_result"
    }
   ],
   "source": [
    "rides_go['distance'].describe()"
   ]
  },
  {
   "cell_type": "code",
   "execution_count": 156,
   "id": "3c62901c-afd7-48e5-964f-f386facd13f8",
   "metadata": {},
   "outputs": [
    {
     "name": "stdout",
     "output_type": "stream",
     "text": [
      "Медиана 3133.6099936787664\n",
      "Мода 0.855682925681208\n",
      "10-й процентиль 1517.693301584887\n",
      "99-й процентиль 5478.621527829257\n",
      "Межквартильный размах 1232.9963753558854\n"
     ]
    }
   ],
   "source": [
    "seria = rides_go['distance']\n",
    "print('Медиана', seria.median())\n",
    "print('Мода', seria.mode()[0])\n",
    "print('10-й процентиль', np.percentile(seria, 10))\n",
    "print('99-й процентиль', np.percentile(seria, 99))\n",
    "print('Межквартильный размах', stats.iqr(seria))"
   ]
  },
  {
   "cell_type": "markdown",
   "id": "0e090d27-74f5-4026-a1e5-43886c270130",
   "metadata": {},
   "source": [
    "Расстояние, которое пользователь преодолел за одну поездку. Есть два пика, первый небольшой совпадает с модой, второй с средним значением. Можно сказать, что есть не большая группа, которая только пробует новый вид транспорта и проезжает не большое расстояние. При этом ситуация, когда мода и медиана лежать по разные стороны от среднего требует дополнительного исследования. "
   ]
  },
  {
   "cell_type": "code",
   "execution_count": 157,
   "id": "c4a9ce51-6a75-4439-8e0a-f62321c4696a",
   "metadata": {
    "tags": []
   },
   "outputs": [
    {
     "data": {
      "image/png": "[encoded data removed]",
      "text/plain": [
       "<Figure size 640x480 with 1 Axes>"
      ]
     },
     "metadata": {},
     "output_type": "display_data"
    }
   ],
   "source": [
    "plt.hist(rides_go['duration'], bins=20, color='skyblue', edgecolor='black')\n",
    "plt.title('Гистограмма продолжительности поездки')\n",
    "plt.xlabel('Минуты')\n",
    "plt.ylabel('Частота')\n",
    "plt.show()"
   ]
  },
  {
   "cell_type": "code",
   "execution_count": 158,
   "id": "d98c07d0-0735-452e-8b12-efa2b344b9e4",
   "metadata": {
    "tags": []
   },
   "outputs": [
    {
     "data": {
      "image/png": "[encoded data removed]",
      "text/plain": [
       "<Figure size 640x480 with 1 Axes>"
      ]
     },
     "metadata": {},
     "output_type": "display_data"
    }
   ],
   "source": [
    "sns.boxplot(x=rides_go['duration'], color='skyblue')\n",
    "plt.title('Ящик с усами продолжительности поездки')\n",
    "plt.xlabel('Продолжительность')\n",
    "plt.show()"
   ]
  },
  {
   "cell_type": "code",
   "execution_count": 159,
   "id": "750d493b-c14d-4746-b1c4-c4dcf178626a",
   "metadata": {},
   "outputs": [
    {
     "data": {
      "text/plain": [
       "count    18068.000000\n",
       "mean        18.303520\n",
       "std          6.094928\n",
       "min          1.000000\n",
       "25%         14.000000\n",
       "50%         18.000000\n",
       "75%         22.000000\n",
       "max         41.000000\n",
       "Name: duration, dtype: float64"
      ]
     },
     "execution_count": 159,
     "metadata": {},
     "output_type": "execute_result"
    }
   ],
   "source": [
    "rides_go['duration'].describe()"
   ]
  },
  {
   "cell_type": "code",
   "execution_count": 160,
   "id": "704fa21a-a988-4e15-a034-1d396436b5fa",
   "metadata": {},
   "outputs": [
    {
     "name": "stdout",
     "output_type": "stream",
     "text": [
      "Медиана 18.0\n",
      "Мода 19.0\n",
      "10-й процентиль 11.0\n",
      "99-й процентиль 40.0\n",
      "Межквартильный размах 8.0\n"
     ]
    }
   ],
   "source": [
    "seria = rides_go['duration']\n",
    "print('Медиана', seria.median())\n",
    "print('Мода', seria.mode()[0])\n",
    "print('10-й процентиль', np.percentile(seria, 10))\n",
    "print('99-й процентиль', np.percentile(seria, 99.99))\n",
    "print('Межквартильный размах', stats.iqr(seria))"
   ]
  },
  {
   "cell_type": "markdown",
   "id": "64caeeae-6128-4c41-b9ef-09d4d62134cf",
   "metadata": {},
   "source": [
    "Продолжительность поездок имеет нормальное распределение, мода, медиана, среднее совпадают. До 40 минут катается очень мало. "
   ]
  },
  {
   "cell_type": "markdown",
   "id": "4ef51331",
   "metadata": {},
   "source": [
    "#### Шаг 4. Объединение данных"
   ]
  },
  {
   "cell_type": "code",
   "execution_count": 161,
   "id": "6bf288b5",
   "metadata": {
    "tags": []
   },
   "outputs": [
    {
     "name": "stdout",
     "output_type": "stream",
     "text": [
      "   user_id  name  age    city subscription_type     distance  duration  \\\n",
      "0        1  Кира   22  Тюмень             ultra  4409.919140      26.0   \n",
      "1        1  Кира   22  Тюмень             ultra  2617.592153      16.0   \n",
      "2        1  Кира   22  Тюмень             ultra   754.159807       7.0   \n",
      "3        1  Кира   22  Тюмень             ultra  2694.783254      19.0   \n",
      "4        1  Кира   22  Тюмень             ultra  4028.687306      27.0   \n",
      "5        1  Кира   22  Тюмень             ultra  2770.890808      17.0   \n",
      "6        1  Кира   22  Тюмень             ultra  3039.020292      15.0   \n",
      "7        1  Кира   22  Тюмень             ultra  2842.118050      24.0   \n",
      "8        1  Кира   22  Тюмень             ultra  3412.690668      16.0   \n",
      "9        1  Кира   22  Тюмень             ultra   748.690645      16.0   \n",
      "\n",
      "        date  month_number  minute_price  start_ride_price  subscription_fee  \n",
      "0 2021-01-01             1             6                 0               199  \n",
      "1 2021-01-18             1             6                 0               199  \n",
      "2 2021-04-20             4             6                 0               199  \n",
      "3 2021-08-11             8             6                 0               199  \n",
      "4 2021-08-28             8             6                 0               199  \n",
      "5 2021-10-09            10             6                 0               199  \n",
      "6 2021-10-19            10             6                 0               199  \n",
      "7 2021-11-06            11             6                 0               199  \n",
      "8 2021-11-14            11             6                 0               199  \n",
      "9 2021-11-22            11             6                 0               199  \n",
      "\n",
      "<class 'pandas.core.frame.DataFrame'>\n",
      "Int64Index: 18068 entries, 0 to 18067\n",
      "Data columns (total 12 columns):\n",
      " #   Column             Non-Null Count  Dtype         \n",
      "---  ------             --------------  -----         \n",
      " 0   user_id            18068 non-null  int64         \n",
      " 1   name               18068 non-null  object        \n",
      " 2   age                18068 non-null  int64         \n",
      " 3   city               18068 non-null  object        \n",
      " 4   subscription_type  18068 non-null  object        \n",
      " 5   distance           18068 non-null  float64       \n",
      " 6   duration           18068 non-null  float64       \n",
      " 7   date               18068 non-null  datetime64[ns]\n",
      " 8   month_number       18068 non-null  int64         \n",
      " 9   minute_price       18068 non-null  int64         \n",
      " 10  start_ride_price   18068 non-null  int64         \n",
      " 11  subscription_fee   18068 non-null  int64         \n",
      "dtypes: datetime64[ns](1), float64(2), int64(6), object(3)\n",
      "memory usage: 1.8+ MB\n"
     ]
    }
   ],
   "source": [
    "merged_df = pd.merge(users_go, rides_go, on='user_id', how='inner').merge(subscriptions_go, on='subscription_type', how='left')\n",
    "print(merged_df.head(10))\n",
    "print()\n",
    "merged_df.info()"
   ]
  },
  {
   "cell_type": "markdown",
   "id": "3a5f79e6-ab4e-4bbd-a309-e04d48c06c14",
   "metadata": {},
   "source": [
    "Объединяем таблицы. Самая большая и основная таблица, то данные о поездках, к ней присоединяем таблицу с данными о пользователях по колонке 'user_id' правым соединением,  левым соединением к этим таблицам присоединяем таблицу с тарифами по полю 'subscription_type'."
   ]
  },
  {
   "cell_type": "code",
   "execution_count": 162,
   "id": "adc69fc4-d273-48ce-b3d2-ea22800a1807",
   "metadata": {
    "tags": []
   },
   "outputs": [
    {
     "data": {
      "text/plain": [
       "0"
      ]
     },
     "execution_count": 162,
     "metadata": {},
     "output_type": "execute_result"
    }
   ],
   "source": [
    "merged_df.duplicated().sum()"
   ]
  },
  {
   "cell_type": "code",
   "execution_count": 163,
   "id": "d4cbb418-0317-4b55-aee2-7ad7385d550e",
   "metadata": {},
   "outputs": [
    {
     "data": {
      "text/plain": [
       "user_id              0.0\n",
       "name                 0.0\n",
       "age                  0.0\n",
       "city                 0.0\n",
       "subscription_type    0.0\n",
       "distance             0.0\n",
       "duration             0.0\n",
       "date                 0.0\n",
       "month_number         0.0\n",
       "minute_price         0.0\n",
       "start_ride_price     0.0\n",
       "subscription_fee     0.0\n",
       "dtype: float64"
      ]
     },
     "execution_count": 163,
     "metadata": {},
     "output_type": "execute_result"
    }
   ],
   "source": [
    "merged_df.isna().mean()*100"
   ]
  },
  {
   "cell_type": "markdown",
   "id": "0cc33d4a-6d70-4208-8c14-060ec9fd7b76",
   "metadata": {},
   "source": [
    "Проверяем на дубли и пустые значения. "
   ]
  },
  {
   "cell_type": "code",
   "execution_count": 164,
   "id": "9e756f7b-244b-4f29-b635-c26e98da369a",
   "metadata": {
    "tags": []
   },
   "outputs": [
    {
     "name": "stdout",
     "output_type": "stream",
     "text": [
      "<class 'pandas.core.frame.DataFrame'>\n",
      "RangeIndex: 11568 entries, 0 to 11567\n",
      "Data columns (total 12 columns):\n",
      " #   Column             Non-Null Count  Dtype         \n",
      "---  ------             --------------  -----         \n",
      " 0   user_id            11568 non-null  int64         \n",
      " 1   name               11568 non-null  object        \n",
      " 2   age                11568 non-null  int64         \n",
      " 3   city               11568 non-null  object        \n",
      " 4   subscription_type  11568 non-null  object        \n",
      " 5   distance           11568 non-null  float64       \n",
      " 6   duration           11568 non-null  float64       \n",
      " 7   date               11568 non-null  datetime64[ns]\n",
      " 8   month_number       11568 non-null  int64         \n",
      " 9   minute_price       11568 non-null  int64         \n",
      " 10  start_ride_price   11568 non-null  int64         \n",
      " 11  subscription_fee   11568 non-null  int64         \n",
      "dtypes: datetime64[ns](1), float64(2), int64(6), object(3)\n",
      "memory usage: 1.1+ MB\n"
     ]
    }
   ],
   "source": [
    "free_df = merged_df.query('subscription_type == \"free\"').reset_index(drop=True) \n",
    "free_df.info()"
   ]
  },
  {
   "cell_type": "code",
   "execution_count": 165,
   "id": "9393f719-95b9-4929-a8c6-a3220be2e08e",
   "metadata": {
    "tags": []
   },
   "outputs": [
    {
     "name": "stdout",
     "output_type": "stream",
     "text": [
      "<class 'pandas.core.frame.DataFrame'>\n",
      "RangeIndex: 6500 entries, 0 to 6499\n",
      "Data columns (total 12 columns):\n",
      " #   Column             Non-Null Count  Dtype         \n",
      "---  ------             --------------  -----         \n",
      " 0   user_id            6500 non-null   int64         \n",
      " 1   name               6500 non-null   object        \n",
      " 2   age                6500 non-null   int64         \n",
      " 3   city               6500 non-null   object        \n",
      " 4   subscription_type  6500 non-null   object        \n",
      " 5   distance           6500 non-null   float64       \n",
      " 6   duration           6500 non-null   float64       \n",
      " 7   date               6500 non-null   datetime64[ns]\n",
      " 8   month_number       6500 non-null   int64         \n",
      " 9   minute_price       6500 non-null   int64         \n",
      " 10  start_ride_price   6500 non-null   int64         \n",
      " 11  subscription_fee   6500 non-null   int64         \n",
      "dtypes: datetime64[ns](1), float64(2), int64(6), object(3)\n",
      "memory usage: 609.5+ KB\n"
     ]
    }
   ],
   "source": [
    "ultra_df = merged_df.query('subscription_type == \"ultra\"').reset_index(drop=True) \n",
    "ultra_df.info()"
   ]
  },
  {
   "cell_type": "markdown",
   "id": "6645c3c7-4487-4945-86a7-09ad338e5ae5",
   "metadata": {},
   "source": [
    "Создаем две таблицы с отбором по subscription_type."
   ]
  },
  {
   "cell_type": "code",
   "execution_count": 166,
   "id": "b31bdc8e-6a8d-44b2-8e66-e08dc8104d2a",
   "metadata": {
    "tags": []
   },
   "outputs": [
    {
     "data": {
      "image/png": "[encoded data removed]",
      "text/plain": [
       "<Figure size 1000x600 with 1 Axes>"
      ]
     },
     "metadata": {},
     "output_type": "display_data"
    }
   ],
   "source": [
    "# Построение гистограммы\n",
    "plt.figure(figsize=(10, 6))  # Размер графика (опционально)\n",
    "\n",
    "# Замените 'column_name' на название вашей колонки\n",
    "plt.hist([free_df['distance'], ultra_df['distance']], bins=10, label=['free_df', 'ultra_df'], color=['skyblue', 'orange'])\n",
    "\n",
    "plt.title('Гистограмма дистанции')\n",
    "plt.xlabel('Значения')\n",
    "plt.ylabel('Метры')\n",
    "plt.legend()\n",
    "plt.show()"
   ]
  },
  {
   "cell_type": "code",
   "execution_count": 167,
   "id": "97e8acd6-ff63-4884-bf0f-840244781c21",
   "metadata": {
    "tags": []
   },
   "outputs": [
    {
     "data": {
      "image/png": "[encoded data removed]",
      "text/plain": [
       "<Figure size 1000x600 with 1 Axes>"
      ]
     },
     "metadata": {},
     "output_type": "display_data"
    }
   ],
   "source": [
    "# Построение гистограммы\n",
    "plt.figure(figsize=(10, 6))  # Размер графика (опционально)\n",
    "\n",
    "plt.hist([free_df['duration'], ultra_df['duration']], bins=10, label=['free_df', 'ultra_df'], color=['skyblue', 'orange'])\n",
    "\n",
    "plt.title('Гистограмма продолжительности')\n",
    "plt.xlabel('Значения')\n",
    "plt.ylabel('Минуты')\n",
    "plt.legend()\n",
    "plt.show()"
   ]
  },
  {
   "cell_type": "code",
   "execution_count": 168,
   "id": "9524d61e-a73d-4806-b2be-fec7ce357024",
   "metadata": {},
   "outputs": [
    {
     "data": {
      "text/html": [
       "<div>\n",
       "<style scoped>\n",
       "    .dataframe tbody tr th:only-of-type {\n",
       "        vertical-align: middle;\n",
       "    }\n",
       "\n",
       "    .dataframe tbody tr th {\n",
       "        vertical-align: top;\n",
       "    }\n",
       "\n",
       "    .dataframe thead tr th {\n",
       "        text-align: left;\n",
       "    }\n",
       "\n",
       "    .dataframe thead tr:last-of-type th {\n",
       "        text-align: right;\n",
       "    }\n",
       "</style>\n",
       "<table border=\"1\" class=\"dataframe\">\n",
       "  <thead>\n",
       "    <tr>\n",
       "      <th></th>\n",
       "      <th colspan=\"2\" halign=\"left\">mean</th>\n",
       "      <th colspan=\"2\" halign=\"left\">median</th>\n",
       "      <th colspan=\"2\" halign=\"left\">std</th>\n",
       "      <th colspan=\"2\" halign=\"left\">var</th>\n",
       "    </tr>\n",
       "    <tr>\n",
       "      <th></th>\n",
       "      <th>distance</th>\n",
       "      <th>duration</th>\n",
       "      <th>distance</th>\n",
       "      <th>duration</th>\n",
       "      <th>distance</th>\n",
       "      <th>duration</th>\n",
       "      <th>distance</th>\n",
       "      <th>duration</th>\n",
       "    </tr>\n",
       "    <tr>\n",
       "      <th>subscription_type</th>\n",
       "      <th></th>\n",
       "      <th></th>\n",
       "      <th></th>\n",
       "      <th></th>\n",
       "      <th></th>\n",
       "      <th></th>\n",
       "      <th></th>\n",
       "      <th></th>\n",
       "    </tr>\n",
       "  </thead>\n",
       "  <tbody>\n",
       "    <tr>\n",
       "      <th>free</th>\n",
       "      <td>3045.495282</td>\n",
       "      <td>17.890992</td>\n",
       "      <td>3114.648465</td>\n",
       "      <td>18</td>\n",
       "      <td>1246.173806</td>\n",
       "      <td>6.330250</td>\n",
       "      <td>1.552949e+06</td>\n",
       "      <td>40.072062</td>\n",
       "    </tr>\n",
       "    <tr>\n",
       "      <th>ultra</th>\n",
       "      <td>3115.445388</td>\n",
       "      <td>19.037692</td>\n",
       "      <td>3148.637229</td>\n",
       "      <td>19</td>\n",
       "      <td>836.895330</td>\n",
       "      <td>5.577439</td>\n",
       "      <td>7.003938e+05</td>\n",
       "      <td>31.107827</td>\n",
       "    </tr>\n",
       "  </tbody>\n",
       "</table>\n",
       "</div>"
      ],
      "text/plain": [
       "                          mean                  median                   std  \\\n",
       "                      distance   duration     distance duration     distance   \n",
       "subscription_type                                                              \n",
       "free               3045.495282  17.890992  3114.648465       18  1246.173806   \n",
       "ultra              3115.445388  19.037692  3148.637229       19   836.895330   \n",
       "\n",
       "                                      var             \n",
       "                   duration      distance   duration  \n",
       "subscription_type                                     \n",
       "free               6.330250  1.552949e+06  40.072062  \n",
       "ultra              5.577439  7.003938e+05  31.107827  "
      ]
     },
     "execution_count": 168,
     "metadata": {},
     "output_type": "execute_result"
    }
   ],
   "source": [
    "merged_df.pivot_table(index='subscription_type', \n",
    "                      values=[\"distance\", \"duration\"],\n",
    "                      aggfunc=[\"mean\", \"median\", \"std\", \"var\"],\n",
    "                      fill_value=0)"
   ]
  },
  {
   "cell_type": "markdown",
   "id": "7209ac8f-cda5-4489-934d-107701346182",
   "metadata": {},
   "source": [
    "Из визуализации информацию о расстоянии и времени поездок для пользователей обеих категорий можно сказать, что пользователи без подписки проезжают меньшее расстояние.\n",
    "По средней и медиане, пользователи с подпиской катаются немного дольше и дальше, а судя по стандартному отклонения и дисперсии пользователи с подпиской более стабильны во времени и дистанции. \n"
   ]
  },
  {
   "cell_type": "markdown",
   "id": "402d620f",
   "metadata": {},
   "source": [
    "#### Шаг 5. Подсчёт выручки"
   ]
  },
  {
   "cell_type": "code",
   "execution_count": 169,
   "id": "310f4927-4765-4bb6-8272-20b47239ad7e",
   "metadata": {
    "tags": []
   },
   "outputs": [
    {
     "name": "stdout",
     "output_type": "stream",
     "text": [
      "                              sum             count         \n",
      "                         distance duration distance duration\n",
      "month_number user_id                                        \n",
      "1            1        7027.511294     42.0        2        2\n",
      "             3        3061.777147     13.0        1        1\n",
      "             5        3914.646990     13.0        1        1\n",
      "             7        6478.080979     28.0        2        2\n",
      "             12       3577.151148     33.0        1        1\n",
      "...                           ...      ...      ...      ...\n",
      "12           1525     4597.854350     34.0        1        1\n",
      "             1526     3644.121544     23.0        1        1\n",
      "             1528     3998.569324     11.0        1        1\n",
      "             1532     6111.889853     42.0        2        2\n",
      "             1534     2371.711192     16.0        1        1\n",
      "\n",
      "[11331 rows x 4 columns]\n"
     ]
    }
   ],
   "source": [
    "# сводная таблица агрегированных данных\n",
    "pt_df = pd.pivot_table(merged_df,\n",
    "               index=['month_number', 'user_id'],\n",
    "               values=[\"distance\", \"duration\"],\n",
    "               aggfunc=[\"sum\", \"count\"]\n",
    "                       )\n",
    "\n",
    "print(pt_df)"
   ]
  },
  {
   "cell_type": "code",
   "execution_count": 170,
   "id": "97e9313d-91d9-4fc3-aa76-06a9d972a42d",
   "metadata": {
    "tags": []
   },
   "outputs": [
    {
     "name": "stdout",
     "output_type": "stream",
     "text": [
      "       month_number  user_id  total_distance  total_duration  \\\n",
      "0                 1        1     7027.511294            42.0   \n",
      "1                 1        3     3061.777147            13.0   \n",
      "2                 1        5     3914.646990            13.0   \n",
      "3                 1        7     6478.080979            28.0   \n",
      "4                 1       12     3577.151148            33.0   \n",
      "...             ...      ...             ...             ...   \n",
      "11326            12     1525     4597.854350            34.0   \n",
      "11327            12     1526     3644.121544            23.0   \n",
      "11328            12     1528     3998.569324            11.0   \n",
      "11329            12     1532     6111.889853            42.0   \n",
      "11330            12     1534     2371.711192            16.0   \n",
      "\n",
      "      subscription_type  trip_count  \n",
      "0                 ultra           2  \n",
      "1                 ultra           1  \n",
      "2                 ultra           1  \n",
      "3                 ultra           2  \n",
      "4                 ultra           1  \n",
      "...                 ...         ...  \n",
      "11326              free           1  \n",
      "11327              free           1  \n",
      "11328              free           1  \n",
      "11329              free           2  \n",
      "11330              free           1  \n",
      "\n",
      "[11331 rows x 6 columns]\n"
     ]
    }
   ],
   "source": [
    "# таблица сгруппированных данных \n",
    "agg_df = merged_df.groupby(['month_number', 'user_id']).agg({\n",
    "    'distance': 'sum',\n",
    "    'duration': 'sum',\n",
    "    'subscription_type': 'max'\n",
    "}).reset_index()\n",
    "#  добавляем колонку с киличеством элементов в группе\n",
    "agg_df['trip_count'] = merged_df.groupby(['month_number', 'user_id']).size().reset_index(name='trip_count')['trip_count']\n",
    "\n",
    "# Переименование столбцов для ясности\n",
    "agg_df = agg_df.rename(columns={\n",
    "    'distance': 'total_distance',\n",
    "    'duration': 'total_duration'\n",
    "})\n",
    "\n",
    "# Вывод агрегированных данных\n",
    "print(agg_df)"
   ]
  },
  {
   "cell_type": "code",
   "execution_count": 171,
   "id": "d5739e45-7eb9-4479-8255-f750c115c1ce",
   "metadata": {},
   "outputs": [],
   "source": [
    "def monthly_income_calculation(row):\n",
    "    \n",
    "    subscription_type = row['subscription_type']\n",
    "    total_duration = row['total_duration']\n",
    "    trip_count = row['trip_count']\n",
    "   \n",
    "    if subscription_type == 'ultra':\n",
    "        return round((199 + 6*total_duration), 2)\n",
    "    elif subscription_type == 'free':\n",
    "        return round((8*total_duration + 50*trip_count), 2)\n",
    "    else:\n",
    "        return 0\n",
    "    \n",
    "    "
   ]
  },
  {
   "cell_type": "code",
   "execution_count": 172,
   "id": "9fae2402-b589-466e-8b4a-c0536d78d80c",
   "metadata": {
    "tags": []
   },
   "outputs": [
    {
     "name": "stdout",
     "output_type": "stream",
     "text": [
      "   month_number  user_id  total_distance  total_duration subscription_type  \\\n",
      "0             1        1     7027.511294            42.0             ultra   \n",
      "1             1        3     3061.777147            13.0             ultra   \n",
      "2             1        5     3914.646990            13.0             ultra   \n",
      "3             1        7     6478.080979            28.0             ultra   \n",
      "4             1       12     3577.151148            33.0             ultra   \n",
      "\n",
      "   trip_count  monthly_revenue  \n",
      "0           2            451.0  \n",
      "1           1            277.0  \n",
      "2           1            277.0  \n",
      "3           2            367.0  \n",
      "4           1            397.0  \n"
     ]
    }
   ],
   "source": [
    "agg_df['monthly_revenue'] = agg_df.apply(monthly_income_calculation, axis=1)\n",
    "print(agg_df.head(5))"
   ]
  },
  {
   "cell_type": "markdown",
   "id": "6fbf3248-3cc1-48c5-a3ea-c7af99a045f0",
   "metadata": {},
   "source": [
    "Формируем агрегированную таблицу с группировкой по номеру месяца и пользователю с агрегированием по дистанции, продолжительности поездки и количеству поездок в месяц.\n",
    "\n",
    "На основе этих данных рассчитываем прибыль в зависимости от тарифов (дистанцию округлили в самом начале). \n"
   ]
  },
  {
   "cell_type": "code",
   "execution_count": 173,
   "id": "507c75e1-a2ec-4b26-9273-8f7726d958c7",
   "metadata": {},
   "outputs": [
    {
     "data": {
      "text/html": [
       "<div>\n",
       "<style scoped>\n",
       "    .dataframe tbody tr th:only-of-type {\n",
       "        vertical-align: middle;\n",
       "    }\n",
       "\n",
       "    .dataframe tbody tr th {\n",
       "        vertical-align: top;\n",
       "    }\n",
       "\n",
       "    .dataframe thead tr th {\n",
       "        text-align: left;\n",
       "    }\n",
       "\n",
       "    .dataframe thead tr:last-of-type th {\n",
       "        text-align: right;\n",
       "    }\n",
       "</style>\n",
       "<table border=\"1\" class=\"dataframe\">\n",
       "  <thead>\n",
       "    <tr>\n",
       "      <th></th>\n",
       "      <th>mean</th>\n",
       "      <th>sum</th>\n",
       "      <th>count</th>\n",
       "    </tr>\n",
       "    <tr>\n",
       "      <th></th>\n",
       "      <th>monthly_revenue</th>\n",
       "      <th>monthly_revenue</th>\n",
       "      <th>monthly_revenue</th>\n",
       "    </tr>\n",
       "    <tr>\n",
       "      <th>month_number</th>\n",
       "      <th></th>\n",
       "      <th></th>\n",
       "      <th></th>\n",
       "    </tr>\n",
       "  </thead>\n",
       "  <tbody>\n",
       "    <tr>\n",
       "      <th>1</th>\n",
       "      <td>341.371717</td>\n",
       "      <td>337958.0</td>\n",
       "      <td>990</td>\n",
       "    </tr>\n",
       "    <tr>\n",
       "      <th>2</th>\n",
       "      <td>328.910532</td>\n",
       "      <td>290428.0</td>\n",
       "      <td>883</td>\n",
       "    </tr>\n",
       "    <tr>\n",
       "      <th>3</th>\n",
       "      <td>346.451681</td>\n",
       "      <td>329822.0</td>\n",
       "      <td>952</td>\n",
       "    </tr>\n",
       "    <tr>\n",
       "      <th>4</th>\n",
       "      <td>348.345200</td>\n",
       "      <td>322916.0</td>\n",
       "      <td>927</td>\n",
       "    </tr>\n",
       "    <tr>\n",
       "      <th>5</th>\n",
       "      <td>344.851738</td>\n",
       "      <td>337265.0</td>\n",
       "      <td>978</td>\n",
       "    </tr>\n",
       "    <tr>\n",
       "      <th>6</th>\n",
       "      <td>340.403242</td>\n",
       "      <td>335978.0</td>\n",
       "      <td>987</td>\n",
       "    </tr>\n",
       "    <tr>\n",
       "      <th>7</th>\n",
       "      <td>345.067227</td>\n",
       "      <td>328504.0</td>\n",
       "      <td>952</td>\n",
       "    </tr>\n",
       "    <tr>\n",
       "      <th>8</th>\n",
       "      <td>343.150685</td>\n",
       "      <td>325650.0</td>\n",
       "      <td>949</td>\n",
       "    </tr>\n",
       "    <tr>\n",
       "      <th>9</th>\n",
       "      <td>346.606223</td>\n",
       "      <td>323037.0</td>\n",
       "      <td>932</td>\n",
       "    </tr>\n",
       "    <tr>\n",
       "      <th>10</th>\n",
       "      <td>342.410423</td>\n",
       "      <td>315360.0</td>\n",
       "      <td>921</td>\n",
       "    </tr>\n",
       "    <tr>\n",
       "      <th>11</th>\n",
       "      <td>336.217822</td>\n",
       "      <td>305622.0</td>\n",
       "      <td>909</td>\n",
       "    </tr>\n",
       "    <tr>\n",
       "      <th>12</th>\n",
       "      <td>342.903260</td>\n",
       "      <td>326101.0</td>\n",
       "      <td>951</td>\n",
       "    </tr>\n",
       "  </tbody>\n",
       "</table>\n",
       "</div>"
      ],
      "text/plain": [
       "                        mean             sum           count\n",
       "             monthly_revenue monthly_revenue monthly_revenue\n",
       "month_number                                                \n",
       "1                 341.371717        337958.0             990\n",
       "2                 328.910532        290428.0             883\n",
       "3                 346.451681        329822.0             952\n",
       "4                 348.345200        322916.0             927\n",
       "5                 344.851738        337265.0             978\n",
       "6                 340.403242        335978.0             987\n",
       "7                 345.067227        328504.0             952\n",
       "8                 343.150685        325650.0             949\n",
       "9                 346.606223        323037.0             932\n",
       "10                342.410423        315360.0             921\n",
       "11                336.217822        305622.0             909\n",
       "12                342.903260        326101.0             951"
      ]
     },
     "execution_count": 173,
     "metadata": {},
     "output_type": "execute_result"
    }
   ],
   "source": [
    "pd.pivot_table(agg_df, index=[\"month_number\"], \n",
    "               values=[\"monthly_revenue\"],\n",
    "              aggfunc=[\"mean\", \"sum\", \"count\"])"
   ]
  },
  {
   "cell_type": "markdown",
   "id": "6d791495-a315-4e63-a127-58da0f0e6d28",
   "metadata": {},
   "source": [
    "По месяцам ни средняя, ни общая прибыль сильно не отличается. Транспорт всесезонный. "
   ]
  },
  {
   "cell_type": "markdown",
   "id": "94d68baa-6697-409a-97da-944a3997af21",
   "metadata": {},
   "source": [
    "<div class=\"alert alert-block alert-info\">\n",
    "    \n",
    "Как построить гистограмму, что бы по X были месяцы, по Y прибыль?\n",
    "Получается на оборот.\n",
    "    \n",
    "</div>"
   ]
  },
  {
   "cell_type": "markdown",
   "id": "41545ac0",
   "metadata": {},
   "source": [
    "#### Шаг 6. Проверка гипотез"
   ]
  },
  {
   "cell_type": "code",
   "execution_count": 175,
   "id": "025db45c-3ccc-4922-b07f-1180d0c92abe",
   "metadata": {},
   "outputs": [],
   "source": [
    "# количество поездок в разных группах не равно, из меньшей группы возьмём все значения, \n",
    "# из большей случайным образом количество строк, соответствующих меньшей группе.\n",
    "\n",
    "if len(ultra_df) > len(free_df):\n",
    "    sample_size = len(free_df)\n",
    "    selection_1 = free_df\n",
    "    selection_2 = ultra_df.copy()\n",
    "    all_indexes = ultra_df.index.values\n",
    "else:\n",
    "    sample_size = len(ultra_df)\n",
    "    selection_1 = ultra_df\n",
    "    selection_2 = free_df.copy()\n",
    "    all_indexes = free_df.index.values\n",
    "\n",
    "random_indexes = np.random.choice(all_indexes, size=sample_size, replace=False)\n",
    "\n",
    "selection_2 = selection_2.iloc[random_indexes]    "
   ]
  },
  {
   "cell_type": "markdown",
   "id": "942e1d86-3c77-4144-a4ee-e180a266a1b6",
   "metadata": {},
   "source": [
    "Для равенства количества записей в выборках делаем одну выборку из всех записей меньшей таблицы, а другую из случайных записей большей таблицы в количестве, равной количеству меньшей таблицы."
   ]
  },
  {
   "cell_type": "code",
   "execution_count": 176,
   "id": "23ea867b",
   "metadata": {},
   "outputs": [
    {
     "name": "stdout",
     "output_type": "stream",
     "text": [
      "p-значение: 2.081925036352986e-25\n",
      "Отвергаем нулевую гипотезу о равенстве среднего продолжительности поездки\n"
     ]
    }
   ],
   "source": [
    "# проверим гипотезу, что пользователи с подпиской катаются дольше, чем без\n",
    "# нулевая гипотеза звучит так, средняя продолжительность поездки пользователей с подпиской и без одинакова\n",
    "# альтернативная, что продолжительность поездок группы с подпиской дольше\n",
    "\n",
    "alpha = 0.05# задайте уровень стат. значимости\n",
    "ultra_df['duration']\n",
    "\n",
    "results = st.ttest_rel(selection_1['duration'], selection_2['duration'])\n",
    "                       # , alternative='greater'\n",
    "                      # ) # проведите тест и посчитайте p-значение\n",
    "\n",
    "# выведите на экран полученное p-значение\n",
    "print('p-значение:', results.pvalue)\n",
    "\n",
    "if results.pvalue < alpha:\n",
    "    print('Отвергаем нулевую гипотезу о равенстве среднего продолжительности поездки')\n",
    "else:\n",
    "    print('Не получилось отвергнуть нулевую гипотезу о равенстве среднего продолжительности поездки')"
   ]
  },
  {
   "cell_type": "markdown",
   "id": "ce7b6cf9-6bef-4fe5-9328-976aad460e37",
   "metadata": {},
   "source": [
    "Проверим гипотезу, что пользователи с подпиской катаются дольше, чем без. \n",
    "Нулевая гипотеза звучит так, средняя продолжительность поездки пользователей с подпиской и без одинакова. Это сравнение двух не зависимых выборок и двухсторонняя гипотеза, используем метод ttest_rel. Гипотеза не подтвердилась. \n"
   ]
  },
  {
   "cell_type": "code",
   "execution_count": 177,
   "id": "41b52213-62fc-4796-9e54-832a617c972d",
   "metadata": {},
   "outputs": [
    {
     "name": "stdout",
     "output_type": "stream",
     "text": [
      "p-значение: 1.0\n",
      "Проверяем альтернативную левостороннею гипотезу    о превышении средней продолжительности поездки пользователей с подпиской    по сравнению с пользователями без подписки.\n",
      "Не получилось отвергнуть\n"
     ]
    }
   ],
   "source": [
    "alpha = 0.05# задайте уровень стат. значимости\n",
    "ultra_df['duration']\n",
    "\n",
    "results = st.ttest_rel(selection_1['duration'], selection_2['duration']\n",
    "                        ,alternative='less'\n",
    "                         ) # проведите тест и посчитайте p-значение\n",
    "\n",
    "# выведите на экран полученное p-значение\n",
    "print('p-значение:', results.pvalue)\n",
    "\n",
    "print('Проверяем альтернативную левостороннею гипотезу\\\n",
    "    о превышении средней продолжительности поездки пользователей с подпиской\\\n",
    "    по сравнению с пользователями без подписки.')\n",
    "if results.pvalue < alpha:\n",
    "    print('Отвергаем')\n",
    "else:\n",
    "    print('Не получилось отвергнуть')"
   ]
  },
  {
   "cell_type": "markdown",
   "id": "8da88a92-5b02-4727-9875-5383020d5311",
   "metadata": {},
   "source": [
    "Теперь проверяем альтернативную левостороннею гипотезу  о превышении средней продолжительности поездки пользователей с подпиской по сравнению с пользователями без подписки ( ttest_rel( ,alternative='less') ).\n",
    "Гипотеза подтвердилась. \n"
   ]
  },
  {
   "cell_type": "code",
   "execution_count": 178,
   "id": "9e8aa140-4398-41f8-80da-cbc24ce7e245",
   "metadata": {},
   "outputs": [
    {
     "data": {
      "text/html": [
       "<div>\n",
       "<style scoped>\n",
       "    .dataframe tbody tr th:only-of-type {\n",
       "        vertical-align: middle;\n",
       "    }\n",
       "\n",
       "    .dataframe tbody tr th {\n",
       "        vertical-align: top;\n",
       "    }\n",
       "\n",
       "    .dataframe thead tr th {\n",
       "        text-align: left;\n",
       "    }\n",
       "\n",
       "    .dataframe thead tr:last-of-type th {\n",
       "        text-align: right;\n",
       "    }\n",
       "</style>\n",
       "<table border=\"1\" class=\"dataframe\">\n",
       "  <thead>\n",
       "    <tr>\n",
       "      <th></th>\n",
       "      <th>mean</th>\n",
       "    </tr>\n",
       "    <tr>\n",
       "      <th></th>\n",
       "      <th>duration</th>\n",
       "    </tr>\n",
       "    <tr>\n",
       "      <th>subscription_type</th>\n",
       "      <th></th>\n",
       "    </tr>\n",
       "  </thead>\n",
       "  <tbody>\n",
       "    <tr>\n",
       "      <th>free</th>\n",
       "      <td>17.890992</td>\n",
       "    </tr>\n",
       "    <tr>\n",
       "      <th>ultra</th>\n",
       "      <td>19.037692</td>\n",
       "    </tr>\n",
       "  </tbody>\n",
       "</table>\n",
       "</div>"
      ],
      "text/plain": [
       "                        mean\n",
       "                    duration\n",
       "subscription_type           \n",
       "free               17.890992\n",
       "ultra              19.037692"
      ]
     },
     "execution_count": 178,
     "metadata": {},
     "output_type": "execute_result"
    }
   ],
   "source": [
    "merged_df.pivot_table(index='subscription_type', values=\"duration\", aggfunc=[\"mean\"])"
   ]
  },
  {
   "cell_type": "markdown",
   "id": "12205b66-a7e6-45d8-bee4-0fff435b262e",
   "metadata": {},
   "source": [
    "Просто сравним среднюю продолжительность поездок. Видно что пользователи с подпиской ездят дольше. Что и подтвердили проверки гипотез. "
   ]
  },
  {
   "cell_type": "code",
   "execution_count": 179,
   "id": "480e832e-b317-4ef9-8c6c-d0fa6e0da740",
   "metadata": {},
   "outputs": [],
   "source": [
    "screens = ultra_df['distance']"
   ]
  },
  {
   "cell_type": "code",
   "execution_count": 180,
   "id": "ab8d06ff-f959-4960-a1c3-b0969ad6f44d",
   "metadata": {},
   "outputs": [
    {
     "name": "stdout",
     "output_type": "stream",
     "text": [
      "p-значение: 0.9195368847849785\n",
      "Не отвергаем нулевую гипотезу\n",
      "Среднее: 3115.445388037025\n"
     ]
    }
   ],
   "source": [
    "\n",
    "optimal_mileage = 3130\n",
    "\n",
    "alpha = 0.05 # уровень статистической значимости\n",
    "\n",
    "#Для проведения одностороннего теста используйте alternative='greater' или alternative='less'.\n",
    "results = st.ttest_1samp(\n",
    "    screens, \n",
    "    optimal_mileage,\n",
    "    alternative='greater') #истинное среднее больше предполагаемого значения\n",
    "\n",
    "print('p-значение:', results.pvalue)\n",
    "\n",
    "if (results.pvalue < alpha):\n",
    "    print('Отвергаем нулевую гипотезу')\n",
    "else:\n",
    "    print('Не отвергаем нулевую гипотезу') \n",
    "    \n",
    "print('Среднее:', screens.mean())   "
   ]
  },
  {
   "cell_type": "markdown",
   "id": "cdd1cd4a-8434-4838-ace7-e1fe06d20493",
   "metadata": {},
   "source": [
    "Проверяем гипотезу, что среднее расстояние, которое проезжают пользователи с подпиской за одну поездку, не превышает 3130 метров. Правосторонняя гипотеза с одной выборкой о том, что истинное среднее больше предполагаемого значения. Нулевая гипотеза не отвергнута. "
   ]
  },
  {
   "cell_type": "code",
   "execution_count": 181,
   "id": "acb5e968-f939-4070-96c2-60ba5405d010",
   "metadata": {},
   "outputs": [],
   "source": [
    "# agg_df[agg_df['subscription_type'] == 'ultra']['monthly_revenue']"
   ]
  },
  {
   "cell_type": "code",
   "execution_count": 182,
   "id": "94c46a64-546f-4622-b8ea-c7f28a3e26ae",
   "metadata": {},
   "outputs": [
    {
     "data": {
      "text/plain": [
       "MultiIndex([('mean', 'monthly_revenue',  'free'),\n",
       "            ('mean', 'monthly_revenue', 'ultra')],\n",
       "           names=[None, None, 'subscription_type'])"
      ]
     },
     "execution_count": 182,
     "metadata": {},
     "output_type": "execute_result"
    }
   ],
   "source": [
    "# сводная таблица агрегированных данных\n",
    "pt_df = pd.pivot_table(agg_df,\n",
    "               index=['month_number'],\n",
    "               columns=[\"subscription_type\"],\n",
    "               values=[\"monthly_revenue\"],\n",
    "               aggfunc=[\"mean\"],\n",
    "               fill_value=0        \n",
    "                       )\n",
    "\n",
    "pt_df.columns"
   ]
  },
  {
   "cell_type": "code",
   "execution_count": 183,
   "id": "ce80c4aa-8abb-46bd-b927-d563e6d4bd3a",
   "metadata": {},
   "outputs": [],
   "source": [
    "# Переименование столбцов для ясности\n",
    "pt_df = pt_df.rename(columns={\n",
    "    ('mean', 'monthly_revenue',  'free'): 'free',\n",
    "    ('mean', 'monthly_revenue', 'ultra'): 'ultra'\n",
    "})"
   ]
  },
  {
   "cell_type": "code",
   "execution_count": 184,
   "id": "42eb73fb-be1b-4166-be00-be80d7667a5b",
   "metadata": {},
   "outputs": [
    {
     "data": {
      "text/html": [
       "<div>\n",
       "<style scoped>\n",
       "    .dataframe tbody tr th:only-of-type {\n",
       "        vertical-align: middle;\n",
       "    }\n",
       "\n",
       "    .dataframe tbody tr th {\n",
       "        vertical-align: top;\n",
       "    }\n",
       "\n",
       "    .dataframe thead tr th {\n",
       "        text-align: left;\n",
       "    }\n",
       "\n",
       "    .dataframe thead tr:last-of-type th {\n",
       "        text-align: right;\n",
       "    }\n",
       "</style>\n",
       "<table border=\"1\" class=\"dataframe\">\n",
       "  <thead>\n",
       "    <tr>\n",
       "      <th></th>\n",
       "      <th colspan=\"2\" halign=\"left\">mean</th>\n",
       "    </tr>\n",
       "    <tr>\n",
       "      <th></th>\n",
       "      <th colspan=\"2\" halign=\"left\">monthly_revenue</th>\n",
       "    </tr>\n",
       "    <tr>\n",
       "      <th>subscription_type</th>\n",
       "      <th>free</th>\n",
       "      <th>ultra</th>\n",
       "    </tr>\n",
       "    <tr>\n",
       "      <th>month_number</th>\n",
       "      <th></th>\n",
       "      <th></th>\n",
       "    </tr>\n",
       "  </thead>\n",
       "  <tbody>\n",
       "    <tr>\n",
       "      <th>1</th>\n",
       "      <td>323.083333</td>\n",
       "      <td>369.507692</td>\n",
       "    </tr>\n",
       "    <tr>\n",
       "      <th>2</th>\n",
       "      <td>313.527410</td>\n",
       "      <td>351.898305</td>\n",
       "    </tr>\n",
       "    <tr>\n",
       "      <th>3</th>\n",
       "      <td>336.715827</td>\n",
       "      <td>360.121212</td>\n",
       "    </tr>\n",
       "    <tr>\n",
       "      <th>4</th>\n",
       "      <td>335.620253</td>\n",
       "      <td>367.160428</td>\n",
       "    </tr>\n",
       "    <tr>\n",
       "      <th>5</th>\n",
       "      <td>328.150087</td>\n",
       "      <td>368.481481</td>\n",
       "    </tr>\n",
       "    <tr>\n",
       "      <th>6</th>\n",
       "      <td>326.220713</td>\n",
       "      <td>361.391960</td>\n",
       "    </tr>\n",
       "    <tr>\n",
       "      <th>7</th>\n",
       "      <td>329.249110</td>\n",
       "      <td>367.861538</td>\n",
       "    </tr>\n",
       "    <tr>\n",
       "      <th>8</th>\n",
       "      <td>331.178761</td>\n",
       "      <td>360.765625</td>\n",
       "    </tr>\n",
       "    <tr>\n",
       "      <th>9</th>\n",
       "      <td>335.701906</td>\n",
       "      <td>364.329577</td>\n",
       "    </tr>\n",
       "    <tr>\n",
       "      <th>10</th>\n",
       "      <td>330.469945</td>\n",
       "      <td>360.032258</td>\n",
       "    </tr>\n",
       "    <tr>\n",
       "      <th>11</th>\n",
       "      <td>322.659459</td>\n",
       "      <td>357.474576</td>\n",
       "    </tr>\n",
       "    <tr>\n",
       "      <th>12</th>\n",
       "      <td>330.600000</td>\n",
       "      <td>363.011080</td>\n",
       "    </tr>\n",
       "  </tbody>\n",
       "</table>\n",
       "</div>"
      ],
      "text/plain": [
       "                             mean            \n",
       "                  monthly_revenue            \n",
       "subscription_type            free       ultra\n",
       "month_number                                 \n",
       "1                      323.083333  369.507692\n",
       "2                      313.527410  351.898305\n",
       "3                      336.715827  360.121212\n",
       "4                      335.620253  367.160428\n",
       "5                      328.150087  368.481481\n",
       "6                      326.220713  361.391960\n",
       "7                      329.249110  367.861538\n",
       "8                      331.178761  360.765625\n",
       "9                      335.701906  364.329577\n",
       "10                     330.469945  360.032258\n",
       "11                     322.659459  357.474576\n",
       "12                     330.600000  363.011080"
      ]
     },
     "execution_count": 184,
     "metadata": {},
     "output_type": "execute_result"
    }
   ],
   "source": [
    "pt_df"
   ]
  },
  {
   "cell_type": "markdown",
   "id": "b68bc980-3ed2-4cf1-a93f-b2a53da551eb",
   "metadata": {},
   "source": [
    "Формируем сводную таблицу агрегированных данных по группам в отношении подписки. "
   ]
  },
  {
   "cell_type": "code",
   "execution_count": 185,
   "id": "663799d7-105b-41b5-9f00-41a33a6ed045",
   "metadata": {},
   "outputs": [],
   "source": [
    "# pt_df[('mean', 'monthly_revenue',  'free')]"
   ]
  },
  {
   "cell_type": "code",
   "execution_count": 186,
   "id": "e9926b7f-a3f7-40da-86a9-d8f9edc887cd",
   "metadata": {},
   "outputs": [
    {
     "name": "stdout",
     "output_type": "stream",
     "text": [
      "p-значение: 4.698964266853916e-10\n",
      "Проверяем гипотезу о том,     будет ли помесячная выручка от пользователей с подпиской по месяцам выше,     чем выручка от пользователей без подписки.\n",
      "Отвергаем\n"
     ]
    }
   ],
   "source": [
    "alpha = 0.05# задайте уровень стат. значимости\n",
    "\n",
    "results = st.ttest_rel(pt_df[('mean', 'monthly_revenue',  'free')], pt_df[('mean', 'monthly_revenue',  'ultra')]\n",
    "                        ,alternative='less'\n",
    "                         ) # проведите тест и посчитайте p-значение\n",
    "\n",
    "# выведите на экран полученное p-значение\n",
    "print('p-значение:', results.pvalue)\n",
    "\n",
    "print('Проверяем гипотезу о том, \\\n",
    "    будет ли помесячная выручка от пользователей с подпиской по месяцам выше, \\\n",
    "    чем выручка от пользователей без подписки.')\n",
    "if results.pvalue < alpha:\n",
    "    print('Отвергаем')\n",
    "else:\n",
    "    print('Не получилось отвергнуть')"
   ]
  },
  {
   "cell_type": "markdown",
   "id": "6c879f18-7187-4780-a2fd-40ecca1485cf",
   "metadata": {},
   "source": [
    "Проверяем левосторонняя альтернативная гипотеза о том, что истинное среднее генеральной совокупности, из которой взяли первую выборку, меньше, чем истинное среднее генеральной совокупности, из которой взяли вторую. То есть средняя выручка от пользователей без подписки меньше выручки от пользователей с подпиской. \n",
    "\n",
    "Гипотеза о том, что средняя выручка од подписок выше не подтвердилась.  "
   ]
  },
  {
   "cell_type": "code",
   "execution_count": 187,
   "id": "b79d420c-f66d-41fc-8635-de2e0ffdc51e",
   "metadata": {},
   "outputs": [],
   "source": [
    "# agg_df.groupby(\n",
    "#     ['month_number', 'subscription_type'], as_index=False\n",
    "# )['monthly_revenue'].sum().pivot_table(index='month_number', columns='subscription_type')"
   ]
  },
  {
   "cell_type": "markdown",
   "id": "7081fc0f-c39d-4ea3-9076-202ba49f7fb0",
   "metadata": {},
   "source": [
    "В случае гипотезы с зависимыми выборками необходимо использовать метод stats.ttest_rel с правосторонней гипотезай. Среднее из первой выборки больше чем из второй. "
   ]
  },
  {
   "cell_type": "markdown",
   "id": "61213c5e",
   "metadata": {},
   "source": [
    "#### Шаг 7. Распределения"
   ]
  },
  {
   "cell_type": "code",
   "execution_count": 188,
   "id": "95cd1d51",
   "metadata": {},
   "outputs": [
    {
     "name": "stderr",
     "output_type": "stream",
     "text": [
      "C:\\ProgramData\\Anaconda3\\lib\\site-packages\\scipy\\stats\\_discrete_distns.py:78: RuntimeWarning: divide by zero encountered in _binom_pdf\n",
      "  return _boost._binom_pdf(x, n, p)\n"
     ]
    },
    {
     "data": {
      "text/plain": [
       "<BarContainer object of 1169 artists>"
      ]
     },
     "execution_count": 188,
     "metadata": {},
     "output_type": "execute_result"
    },
    {
     "data": {
      "image/png": "[encoded data removed]",
      "text/plain": [
       "<Figure size 640x480 with 1 Axes>"
      ]
     },
     "metadata": {},
     "output_type": "display_data"
    }
   ],
   "source": [
    "from matplotlib import pyplot as plt\n",
    "from scipy.stats import binom\n",
    "\n",
    "n = 1168 # количество попыток\n",
    "p = 0.1 # вероятность успеха\n",
    "\n",
    "distr = []\n",
    "\n",
    "for k in range(0, n + 1):\n",
    "    \n",
    "    # probability mass function — функция для дискретных распределений, которая показывает вероятность каждого значения\n",
    "    current_value = binom.pmf(k, n, p) \n",
    "    distr.append(current_value)\n",
    "    \n",
    "plt.bar(range(0, n + 1), distr)"
   ]
  },
  {
   "cell_type": "code",
   "execution_count": 189,
   "id": "7a0d45ab-7d99-4df8-8a64-4514a7af1199",
   "metadata": {},
   "outputs": [
    {
     "name": "stdout",
     "output_type": "stream",
     "text": [
      "0.050650790692463\n"
     ]
    }
   ],
   "source": [
    "mu = n*p # рассчитайте параметры \n",
    "sigma = sqrt(n*p*(1-p)) # нормального распределения\n",
    "\n",
    "distr = st.norm(mu, sigma) # задайте нормальное распределение\n",
    "result = distr.cdf(100) # найдите вероятность\n",
    "print(result)"
   ]
  },
  {
   "cell_type": "markdown",
   "id": "fcf86e9c-ffda-4a4d-88cf-01a1ead5ab21",
   "metadata": {},
   "source": [
    "Формируем дискретное распределение вероятностей с помощью метода binom.pmf. Распределение имеет явный сдвиг в лево.\n",
    "Рассчитываем мат. ожидание и стандартное отклонение для формирования нормального распределения. На основе этого нормального распределения ищем вероятность не получения ста положительных результата в 5%. Методом перебора количества попыток получаем 1168. Надо раздать 1168 промокодов.    \n"
   ]
  },
  {
   "cell_type": "markdown",
   "id": "d6c64df2-3ae6-4ea9-84b5-df2c02d31443",
   "metadata": {},
   "source": [
    "<div class=\"alert alert-block alert-info\">\n",
    "    \n",
    "Не могу понять почему не искать 95% процентов исполнения. Пример брал из лекций?\n",
    "    \n",
    "</div>"
   ]
  },
  {
   "cell_type": "code",
   "execution_count": 190,
   "id": "80f693e8-7da2-4de1-80c6-d83dfec4db80",
   "metadata": {},
   "outputs": [
    {
     "name": "stdout",
     "output_type": "stream",
     "text": [
      "Вероятность открытия не более 399.5 тыс. пользователей: 0.1537\n"
     ]
    },
    {
     "data": {
      "image/png": "[encoded data removed]",
      "text/plain": [
       "<Figure size 640x480 with 1 Axes>"
      ]
     },
     "metadata": {},
     "output_type": "display_data"
    },
    {
     "name": "stdout",
     "output_type": "stream",
     "text": [
      "Условие выполняется\n"
     ]
    }
   ],
   "source": [
    "# Математическое ожидание и стандартное отклонение нормального распределения, \n",
    "# которым аппроксимируют биномиальное, просто берутся равными мат.ожиданию \n",
    "# и стандартному отклонению этого биномиального распределения.\n",
    "from math import sqrt\n",
    "import matplotlib.pyplot as plt\n",
    "from scipy.stats import binom, norm\n",
    " \n",
    "# зададим функцию, которая выдаёт <num> чисел,\n",
    "# равномерно распределённых от <start> до <stop>\n",
    "# (понадобится для визуализации нормального распределения)\n",
    "def linspace(start, stop, num):\n",
    "    step = (stop - start) / (num - 1)\n",
    "    result = []\n",
    "    for i in range(num):\n",
    "        result.append(start + step * i)\n",
    "    return result\n",
    " \n",
    "# задаём параметры биномиального распределения\n",
    "n = 1_000_000\n",
    "p = 0.4\n",
    "\n",
    "# границы промежутка, в котором будем строить аппроксимацию -\n",
    "# от n*p минус 4 ст.отклонения бином.распределения\n",
    "# до n*p плюс 4 ст.отклонения бином.распределения\n",
    "# (там, где вероятности значений почти не равны нулю)\n",
    "left = int(n * p - 4 * sqrt(n * p * (1 - p)))\n",
    "right = int(n * p + 4 * sqrt(n * p * (1 - p)))\n",
    " \n",
    "# зададим набор значений биномиальной величины на выбранном промежутке:\n",
    "# все неотрицательные целые числа от left до right\n",
    "x = list(range(max(0, left), right))\n",
    "# рисуем график биномиального распределения\n",
    "ax = plt.subplot()\n",
    "# используем синие о-образные маркеры и размер маркера 5\n",
    "ax.plot(x, binom.pmf(x, n, p), 'bo', ms=5,\n",
    "\t      label='вероятности биномиального распределения')\n",
    "\n",
    "# зададим мат.ожидание и ст.отклонение нормального распределения равными\n",
    "# мат.ожиданию и ст.отклонению биномиального распределения\n",
    "mu = n * p\n",
    "sigma = sqrt(n * p * (1 - p))\n",
    " \n",
    "# рисуем график нормального распределения:\n",
    "# получим список из 100 чисел от left до right\n",
    "x = linspace(left, right, 100)\n",
    "# используем красную линию ширины 3 и прозрачности 0.3\n",
    "ax.plot(x, norm.pdf(x, mu, sigma), 'r-', lw=3, alpha=0.3, label='плотность вероятности нормального распределения')\n",
    " \n",
    "# Оценка вероятности того, что не более 399.5 тыс. пользователей откроют уведомление\n",
    "probability = norm.cdf(399_500, mu, sigma)\n",
    "print(f\"Вероятность открытия не более 399.5 тыс. пользователей: {probability:.4f}\")\n",
    "\n",
    "# зададим подписи по оси x в пределах ± 3 ст.отклонений от мат.ожидания\n",
    "# (последний аргумент в методе range - интервал между подписями)\n",
    "x_ticks = list(range(int(mu - 3 * sigma), int(mu + 3 * sigma), 1))\n",
    "ax.set_xticks(x_ticks)\n",
    "\n",
    "# Отметка точки на графике\n",
    "plt.axvline(x=399500, color='red', linestyle='--', label='399.5k Users')\n",
    "\n",
    "# настраиваем оптимальное расположение легенды и выводим график\n",
    "ax.legend(loc='best')\n",
    "plt.show()\n",
    "\n",
    "# выводим, выполняется ли наше условие аппроксимации:\n",
    "# лежит ли mu ± 3 sigma в промежутке от 0 до n:\n",
    "if (mu - (3 * sigma) >= 0) and ((mu + (3 * sigma) <= n)):\n",
    "    print('Условие выполняется')\n",
    "else:\n",
    "    print('Условие не выполняется')"
   ]
  },
  {
   "cell_type": "markdown",
   "id": "6ee4c7fd-c6f9-4b5a-8fd3-d3516377da1e",
   "metadata": {},
   "source": [
    "Так как количество испытаний большое, да и вероятность не сильно маленькая, можно использовать аппроксимацию по нормальному распределению. Вероятность открытия не более 399.5 тыс. пользователей: 0.1537."
   ]
  },
  {
   "cell_type": "code",
   "execution_count": 191,
   "id": "a2ea9c13-bacd-4f29-8bb3-6d8e16040873",
   "metadata": {
    "tags": []
   },
   "outputs": [
    {
     "name": "stdout",
     "output_type": "stream",
     "text": [
      "Вероятность открытия не более 399.5 тыс. пользователей: 0.1537\n"
     ]
    },
    {
     "data": {
      "image/png": "[encoded data removed]",
      "text/plain": [
       "<Figure size 640x480 with 1 Axes>"
      ]
     },
     "metadata": {},
     "output_type": "display_data"
    }
   ],
   "source": [
    "import numpy as np\n",
    "import matplotlib.pyplot as plt\n",
    "from scipy.stats import norm\n",
    "\n",
    "# Параметры распределения\n",
    "p = 0.4  # Вероятность открытия уведомления\n",
    "n = 1_000_000  # Количество уведомлений\n",
    "\n",
    "# Математическое ожидание и стандартное отклонение\n",
    "mu = n * p\n",
    "sigma = np.sqrt(n * p * (1 - p))\n",
    "\n",
    "# Построение графика нормального распределения\n",
    "x = np.linspace(0, n, 1000)\n",
    "y = norm.pdf(x, mu, sigma)\n",
    "\n",
    "plt.plot(x, y, label='Нормальное распределение')\n",
    "\n",
    "# Оценка вероятности того, что не более 399.5 тыс. пользователей откроют уведомление\n",
    "probability = norm.cdf(399_500, mu, sigma)\n",
    "print(f\"Вероятность открытия не более 399.5 тыс. пользователей: {probability:.4f}\")\n",
    "\n",
    "# Отметка точки на графике\n",
    "plt.axvline(x=399500, color='red', linestyle='--', label='399.5k Users')\n",
    "\n",
    "plt.title('Approximate Normal Distribution of Notification Openings')\n",
    "plt.xlabel('Number of Users Opening Notification')\n",
    "plt.ylabel('Probability Density')\n",
    "plt.legend()\n",
    "plt.show()\n"
   ]
  },
  {
   "cell_type": "markdown",
   "id": "c0e2470f-56ac-4c26-a374-0e3d63668fe8",
   "metadata": {},
   "source": [
    "Для оценки вероятности того, что уведомление откроют не более 399,5 тыс. пользователей, можно использовать нормальное распределение, так как число пользователей, открывших уведомление, является результатом биномиального распределения, и при больших значениях \\(n\\) оно может быть аппроксимировано нормальным распределением.\n",
    "\n",
    "Давайте обозначим:\n",
    "- \\(p\\) - вероятность того, что клиент откроет уведомление (\\(p = 0.4\\)),\n",
    "- \\(n\\) - количество уведомлений (\\(n = 1,000,000\\)).\n",
    "\n",
    "Математическое ожидание \\(\\mu\\) и стандартное отклонение \\(\\sigma\\) для нормального распределения аппроксимации биномиального распределения находятся по формулам:\n",
    "$\\mu = np \\sigma = \\sqrt{np(1-p)}$\n",
    "Затем мы используем функцию распределения нормального распределения для оценки вероятности.\n",
    "\n",
    "В Python это может быть реализовано следующим образом:\n",
    "\n",
    "```python\n",
    "import numpy as np\n",
    "import matplotlib.pyplot as plt\n",
    "from scipy.stats import norm\n",
    "\n",
    "# Параметры распределения\n",
    "p = 0.4  # Вероятность открытия уведомления\n",
    "n = 1000000  # Количество уведомлений\n",
    "\n",
    "# Математическое ожидание и стандартное отклонение\n",
    "mu = n * p\n",
    "sigma = np.sqrt(n * p * (1 - p))\n",
    "\n",
    "# Построение графика нормального распределения\n",
    "x = np.linspace(0, n, 1000)\n",
    "y = norm.pdf(x, mu, sigma)\n",
    "\n",
    "plt.plot(x, y, label='Normal Distribution')\n",
    "\n",
    "# Оценка вероятности того, что не более 399.5 тыс. пользователей откроют уведомление\n",
    "probability = norm.cdf(399500, mu, sigma)\n",
    "print(f\"Вероятность открытия не более 399.5 тыс. пользователей: {probability:.4f}\")\n",
    "\n",
    "# Отметка точки на графике\n",
    "plt.axvline(x=399500, color='red', linestyle='--', label='399.5k Users')\n",
    "\n",
    "plt.title('Approximate Normal Distribution of Notification Openings')\n",
    "plt.xlabel('Number of Users Opening Notification')\n",
    "plt.ylabel('Probability Density')\n",
    "plt.legend()\n",
    "plt.show()\n",
    "```\n",
    "\n",
    "В результате выполнения кода будет построен график нормального распределения, и выведена вероятность того, что уведомление откроют не более 399,5 тыс. пользователей."
   ]
  },
  {
   "cell_type": "markdown",
   "id": "d92fffa8-dabf-4d26-9470-fdb3bf760e05",
   "metadata": {},
   "source": [
    "<div class=\"alert alert-block alert-info\">\n",
    "    \n",
    "Это решение подсказал ИИ. Попытался его адоптировал к примеру из лекции, вроде получилось. \n",
    "    \n",
    "Только не могу понять, чем этот механизм отличается от первого задания. Так же мы создаем нормальное распределение на данных о биноминальных. Только во втором случае нам задают количество испытаний, а в первом мы подбираем сами. И там и там аппроксимация, а поиск зависит только от поставленного вопроса. В первом надо найти количества, в во втором вероятность при заданном количестве. Второй вопрос даже проще получается.    \n",
    "    \n",
    "</div>"
   ]
  },
  {
   "cell_type": "markdown",
   "id": "ca012588-af77-4579-94ae-42ffb53c579f",
   "metadata": {},
   "source": [
    "Выводы\\\n",
    " 1.\tЗагрузить и посмотреть данные.\n",
    "\n",
    "Данные представлены тремя таблицами, описывающих пользователей, поездки пользователей и тарифы. \n",
    "\n",
    "2.\tОбработать данные, привести типы, проверить наличие пропущенных значений и дубликатов. \n",
    "\n",
    "В таблице пользователей были обнаружены и удалены явные дубли. Неявных дублей в колонке city типа object нет.\n",
    "\n",
    "3.\tОписать и визуализировать данные о пользователях и поездках.\n",
    "\n",
    "Больше любителей покатятся на самокате среди жителей южных городов.  \n",
    "\n",
    "Соотношение пользователей с подпиской и без подписки с небольшим перевесом в пользу вторых. 55% пользователей не подписаны. \n",
    "\n",
    "Средний возраст пользователей 25 лет. Катаются в основном молодые, но иногда и старшее поколение.  \n",
    " \n",
    "Есть не большая группа, которая только пробует новый вид транспорта и проезжает не большое расстояние. При этом ситуация, когда мода и медиана лежать по разные стороны от среднего требует дополнительного исследования. \n",
    "  \n",
    "Во основном катаются около 20 минут. До 40 минут катается очень мало. \n",
    "\n",
    "4.\tОбъединить данные о пользователях, поездках и тарифах. \n",
    "\n",
    "Из визуализации информацию о расстоянии и времени поездок для пользователей обеих категорий можно сказать, что пользователи без подписки проезжают меньшее расстояние.\n",
    "По средней и медиане, пользователи с подпиской катаются немного дольше и дальше, а судя по стандартному отклонения и дисперсии пользователи с подпиской более стабильны во времени и дистанции. \n",
    "\n",
    "5.\tАгрегировать данные и рассчитать выручку по месяцам.\n",
    "\n",
    "На основе этих данных рассчитываем прибыль в зависимости от тарифов (дистанцию округлили в самом начале). \n",
    "\n",
    "По месяцам ни средняя, ни общая прибыль сильно не отличается. Транспорт всесезонный. \n",
    "  \n",
    "6.\tПроверить гипотезы о соотношениях продолжительности поездок и выручки групп пользователей с подпиской и без.\n",
    "\n",
    "Проверим гипотезу, что пользователи с подпиской катаются дольше, чем без. Гипотеза не подтвердилась. \n",
    "\n",
    "Теперь проверяем альтернативную левостороннею гипотезу  о превышении средней продолжительности поездки пользователей с подпиской по сравнению с пользователями без подписки. Гипотеза подтвердилась. \n",
    "\n",
    "Проверяем гипотезу, что среднее расстояние, которое проезжают пользователи с подпиской за одну поездку, не превышает 3130 метров. Нулевая гипотеза не отвергнута. Возможно, что и не превышает. \n",
    " \n",
    "Следующая гипотеза о том, что средняя выручка от пользователей с подписками выше не подтвердилась.  \n",
    "\n",
    "7.\tРаспределение.\\\n",
    "\n",
    "Формируем дискретное распределение вероятностей с помощью метода binom.pmf. Распределение имеет явный сдвиг в лево.\n",
    "Для того, что бы вероятность не получения ста положительных результата = 5%, надо раздать 1168 промокодов. \n",
    "\n",
    "Для поиска вероятности так как количество испытаний большое, да и вероятность не сильно маленькая, можно использовать аппроксимацию по нормальному распределению. \n",
    "Вероятность открытия уведомлений не более 399.5 тыс. при рассылки одного миллиона равно 0.1537. Не густо.\n"
   ]
  }
 ],
 "metadata": {
  "kernelspec": {
   "display_name": "Python 3 (ipykernel)",
   "language": "python",
   "name": "python3"
  },
  "language_info": {
   "codemirror_mode": {
    "name": "ipython",
    "version": 3
   },
   "file_extension": ".py",
   "mimetype": "text/x-python",
   "name": "python",
   "nbconvert_exporter": "python",
   "pygments_lexer": "ipython3",
   "version": "3.9.13"
  },
  "toc": {
   "base_numbering": 1,
   "nav_menu": {},
   "number_sections": true,
   "sideBar": true,
   "skip_h1_title": true,
   "title_cell": "Table of Contents",
   "title_sidebar": "Contents",
   "toc_cell": false,
   "toc_position": {},
   "toc_section_display": true,
   "toc_window_display": false
  }
 },
 "nbformat": 4,
 "nbformat_minor": 5
}
