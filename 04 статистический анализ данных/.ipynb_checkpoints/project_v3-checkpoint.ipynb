{
 "cells": [
  {
   "cell_type": "markdown",
   "id": "8777fd9b",
   "metadata": {},
   "source": [
    "Андрей, привет! Меня зовут Ефимов Денис и сегодня я буду делать ревью твоего проекта!\\\n",
    "В Практикуме принято общаться на \"ты\", однако если это неудобно - дай знать, и можем перейти на более официальное общение.\n",
    "\n",
    "Ниже ты найдешь мои комментарии - пожалуйста, не перемещай, не изменяй и не удаляй их. Я буду использовать цветовую разметку: \n",
    "\n",
    "<div class=\"alert alert-block alert-success\">\n",
    "<b>✅Комментарий ревьюера:</b> Если все сделано хорошо. </div>\n",
    "\n",
    "<div class=\"alert alert-block alert-warning\">\n",
    "<b>🔁Комментарий ревьюера:</b> Некритичное замечание; если таких замечаний меньше трех — проект может быть принят без их отработки.</div>\n",
    "\n",
    "<div class=\"alert alert-block alert-danger\">\n",
    "<b>❌Комментарий ревьюера:</b> Грубая ошибка, необходимо исправить, иначе проект не будет принят.\n",
    "</div>\n",
    "\n",
    "Давай работать над проектом в диалоге: если ты что-то меняешь в проекте или отвечаешь на мои комментарии — пиши об этом. Мне будет легче отследить изменения, если ты выделишь свои комментарии:\n",
    "Например так:\n",
    "<div class=\"alert alert-block alert-info\">\n",
    "<b>🔄Комментарий студента:</b> \n",
    "Hello World! ✔\n",
    "</div>\n",
    "\n",
    "Или можешь использовать эту галочку ✔ в моих комментариях, если писать особо нечего.\n",
    "\n",
    "<div class=\"alert alert-block alert-warning\">\n",
    "<b>Общее впечатление:</b> \n",
    "    \n",
    "- Ты проделал огромную работу и проект получился впечатляющим:)\n",
    "- У меня есть несколько замечаний, исправив которые ты сделаешь проект еще лучше.\n",
    "- Пробегись по моим комментариям, исправь недочёты и всё будет отлично :)\n",
    "    \n",
    "</div>\n",
    "\n"
   ]
  },
  {
   "cell_type": "markdown",
   "id": "d4877bff",
   "metadata": {},
   "source": [
    "----------------------"
   ]
  },
  {
   "cell_type": "markdown",
   "id": "7cf06952",
   "metadata": {},
   "source": [
    "<div class=\"alert alert-block alert-danger\">\n",
    "<b>❌Комментарий ревьюера:</b> ✔\n",
    "    \n",
    " Любому проекту нужно название и введение - так ты поясняешь читателю, что вообще тут происходит. Также стоит задуматься, как еще его можно дополнить, чтобы сделать более ценным для читателя. Все инструкции по оформлению проекта есть на платформе в разделе \"Полезные инструкции для учебы\"\n",
    "    \n",
    "Также советую тебе взглянуть на <a href=\"https://www.kaggle.com/notebooks/\">работы</a> профессиональных аналитиков, чтобы оценить, как другие люди оформляют и проводят исследования.   \n",
    "\n",
    "</div>"
   ]
  },
  {
   "cell_type": "markdown",
   "id": "88af1be1",
   "metadata": {},
   "source": [
    "<div class=\"alert alert-block alert-warning\">\n",
    "<b>🔁Комментарий ревьюера 2:</b> ✔\n",
    "    \n",
    "А еще проекту нужно название\n",
    "</div>"
   ]
  },
  {
   "cell_type": "markdown",
   "id": "f97d71bc-c79a-431d-b5e3-460b485b5e27",
   "metadata": {},
   "source": [
    "Проектная работа: \"Анализ данных сервиса проката самокатов за 2021 год.\""
   ]
  },
  {
   "cell_type": "markdown",
   "id": "897bbbf8",
   "metadata": {},
   "source": [
    "В проектной работе представлены данные о работе сервиса по прокату самокатов из разных городов. Надо проанализировать данные и проверить ряд гипотез в отношении разных групп пользователей.\n",
    "\n",
    "Сервис имеет режим проката с подпиской и без подписки. Необходимо сравнить денежные и другие количественные показатели использования сервиса в этих режимах, выручку по месяцам, длительность и стоимотсь поездок в разных группах. \n",
    "\n",
    "Данные представлены в трех таблицах: пользователи, поездки, тарифы.   \n"
   ]
  },
  {
   "cell_type": "markdown",
   "id": "aff1a3b6",
   "metadata": {},
   "source": [
    "План работы.\n",
    "\n",
    "    1.\tЗагрузить и посмотреть данные.\n",
    "    2.\tОбработать данные, привести типы, проверить наличие пропущенных значений и дубликатов. \n",
    "    3.\tОписать и визуализировать данные о пользователях и поездках.\n",
    "    4.\tОбъединить данные о пользователях, поездках и тарифах. \n",
    "    5.\tАгрегировать данные и рассчитать выручку по месяцам.\n",
    "    6.\tПроверить гипотезы о соотношениях продолжительности поездок и выручки групп пользователей с подпиской и без.\n",
    "    7.\t  \n"
   ]
  },
  {
   "cell_type": "code",
   "execution_count": 69,
   "id": "f3bc74d9",
   "metadata": {
    "tags": []
   },
   "outputs": [],
   "source": [
    "import pandas as pd\n",
    "import matplotlib.pyplot as plt \n",
    "import seaborn as sns\n",
    "import math\n",
    "import numpy as np\n",
    "from scipy import stats as st\n",
    "import random\n",
    "import numpy as np\n",
    "import matplotlib.pyplot as plt\n",
    "from math import sqrt\n",
    "from scipy.stats import binom, norm\n",
    "from scipy import stats # подключение модуля stats из библиотеки scipy"
   ]
  },
  {
   "cell_type": "markdown",
   "id": "5c7ad235",
   "metadata": {},
   "source": [
    "#### Шаг 1. Загрузка данных"
   ]
  },
  {
   "cell_type": "code",
   "execution_count": 70,
   "id": "e9b38910",
   "metadata": {
    "tags": []
   },
   "outputs": [
    {
     "data": {
      "text/html": [
       "<div>\n",
       "<style scoped>\n",
       "    .dataframe tbody tr th:only-of-type {\n",
       "        vertical-align: middle;\n",
       "    }\n",
       "\n",
       "    .dataframe tbody tr th {\n",
       "        vertical-align: top;\n",
       "    }\n",
       "\n",
       "    .dataframe thead th {\n",
       "        text-align: right;\n",
       "    }\n",
       "</style>\n",
       "<table border=\"1\" class=\"dataframe\">\n",
       "  <thead>\n",
       "    <tr style=\"text-align: right;\">\n",
       "      <th></th>\n",
       "      <th>user_id</th>\n",
       "      <th>name</th>\n",
       "      <th>age</th>\n",
       "      <th>city</th>\n",
       "      <th>subscription_type</th>\n",
       "    </tr>\n",
       "  </thead>\n",
       "  <tbody>\n",
       "    <tr>\n",
       "      <th>0</th>\n",
       "      <td>1</td>\n",
       "      <td>Кира</td>\n",
       "      <td>22</td>\n",
       "      <td>Тюмень</td>\n",
       "      <td>ultra</td>\n",
       "    </tr>\n",
       "    <tr>\n",
       "      <th>1</th>\n",
       "      <td>2</td>\n",
       "      <td>Станислав</td>\n",
       "      <td>31</td>\n",
       "      <td>Омск</td>\n",
       "      <td>ultra</td>\n",
       "    </tr>\n",
       "    <tr>\n",
       "      <th>2</th>\n",
       "      <td>3</td>\n",
       "      <td>Алексей</td>\n",
       "      <td>20</td>\n",
       "      <td>Москва</td>\n",
       "      <td>ultra</td>\n",
       "    </tr>\n",
       "    <tr>\n",
       "      <th>3</th>\n",
       "      <td>4</td>\n",
       "      <td>Константин</td>\n",
       "      <td>26</td>\n",
       "      <td>Ростов-на-Дону</td>\n",
       "      <td>ultra</td>\n",
       "    </tr>\n",
       "    <tr>\n",
       "      <th>4</th>\n",
       "      <td>5</td>\n",
       "      <td>Адель</td>\n",
       "      <td>28</td>\n",
       "      <td>Омск</td>\n",
       "      <td>ultra</td>\n",
       "    </tr>\n",
       "  </tbody>\n",
       "</table>\n",
       "</div>"
      ],
      "text/plain": [
       "   user_id        name  age            city subscription_type\n",
       "0        1        Кира   22          Тюмень             ultra\n",
       "1        2   Станислав   31            Омск             ultra\n",
       "2        3     Алексей   20          Москва             ultra\n",
       "3        4  Константин   26  Ростов-на-Дону             ultra\n",
       "4        5       Адель   28            Омск             ultra"
      ]
     },
     "metadata": {},
     "output_type": "display_data"
    },
    {
     "name": "stdout",
     "output_type": "stream",
     "text": [
      "\n",
      "<class 'pandas.core.frame.DataFrame'>\n",
      "RangeIndex: 1565 entries, 0 to 1564\n",
      "Data columns (total 5 columns):\n",
      " #   Column             Non-Null Count  Dtype \n",
      "---  ------             --------------  ----- \n",
      " 0   user_id            1565 non-null   int64 \n",
      " 1   name               1565 non-null   object\n",
      " 2   age                1565 non-null   int64 \n",
      " 3   city               1565 non-null   object\n",
      " 4   subscription_type  1565 non-null   object\n",
      "dtypes: int64(2), object(3)\n",
      "memory usage: 61.3+ KB\n"
     ]
    }
   ],
   "source": [
    "try:\n",
    "    users_go = pd.read_csv('/datasets/users_go.csv')\n",
    "except:\n",
    "    users_go = pd.read_csv('datasets/users_go.csv')\n",
    "\n",
    "display(users_go.head(5))\n",
    "print()\n",
    "users_go.info()"
   ]
  },
  {
   "cell_type": "markdown",
   "id": "ab528f87",
   "metadata": {},
   "source": [
    "<div class=\"alert alert-block alert-success\">\n",
    "<b>✅Комментарий ревьюера:</b> Здорово, что используешь конструкцию try-except!  </div>"
   ]
  },
  {
   "cell_type": "markdown",
   "id": "15dd5666",
   "metadata": {},
   "source": [
    "<div class=\"alert alert-block alert-warning\"> ✔\n",
    "<b>🔁Комментарий ревьюера:</b> \n",
    "    \n",
    "Выводить датафрейм (или его части) на экран лучше в табличном виде (без использования функции `print()`), так будет гораздо понятнее и нагляднее. Можно использовать функцию `display()`. \n",
    "</div>"
   ]
  },
  {
   "cell_type": "markdown",
   "id": "8ea014ce",
   "metadata": {},
   "source": [
    "<div class=\"alert alert-block alert-success\">\n",
    "<b>✅Комментарий ревьюера 2:</b> Отлично, исправлено!👍  </div>"
   ]
  },
  {
   "cell_type": "code",
   "execution_count": 71,
   "id": "6f684f62",
   "metadata": {
    "tags": []
   },
   "outputs": [
    {
     "data": {
      "text/html": [
       "<div>\n",
       "<style scoped>\n",
       "    .dataframe tbody tr th:only-of-type {\n",
       "        vertical-align: middle;\n",
       "    }\n",
       "\n",
       "    .dataframe tbody tr th {\n",
       "        vertical-align: top;\n",
       "    }\n",
       "\n",
       "    .dataframe thead th {\n",
       "        text-align: right;\n",
       "    }\n",
       "</style>\n",
       "<table border=\"1\" class=\"dataframe\">\n",
       "  <thead>\n",
       "    <tr style=\"text-align: right;\">\n",
       "      <th></th>\n",
       "      <th>user_id</th>\n",
       "      <th>distance</th>\n",
       "      <th>duration</th>\n",
       "      <th>date</th>\n",
       "    </tr>\n",
       "  </thead>\n",
       "  <tbody>\n",
       "    <tr>\n",
       "      <th>0</th>\n",
       "      <td>1</td>\n",
       "      <td>4409.919140</td>\n",
       "      <td>25.599769</td>\n",
       "      <td>2021-01-01</td>\n",
       "    </tr>\n",
       "    <tr>\n",
       "      <th>1</th>\n",
       "      <td>1</td>\n",
       "      <td>2617.592153</td>\n",
       "      <td>15.816871</td>\n",
       "      <td>2021-01-18</td>\n",
       "    </tr>\n",
       "    <tr>\n",
       "      <th>2</th>\n",
       "      <td>1</td>\n",
       "      <td>754.159807</td>\n",
       "      <td>6.232113</td>\n",
       "      <td>2021-04-20</td>\n",
       "    </tr>\n",
       "    <tr>\n",
       "      <th>3</th>\n",
       "      <td>1</td>\n",
       "      <td>2694.783254</td>\n",
       "      <td>18.511000</td>\n",
       "      <td>2021-08-11</td>\n",
       "    </tr>\n",
       "    <tr>\n",
       "      <th>4</th>\n",
       "      <td>1</td>\n",
       "      <td>4028.687306</td>\n",
       "      <td>26.265803</td>\n",
       "      <td>2021-08-28</td>\n",
       "    </tr>\n",
       "  </tbody>\n",
       "</table>\n",
       "</div>"
      ],
      "text/plain": [
       "   user_id     distance   duration        date\n",
       "0        1  4409.919140  25.599769  2021-01-01\n",
       "1        1  2617.592153  15.816871  2021-01-18\n",
       "2        1   754.159807   6.232113  2021-04-20\n",
       "3        1  2694.783254  18.511000  2021-08-11\n",
       "4        1  4028.687306  26.265803  2021-08-28"
      ]
     },
     "metadata": {},
     "output_type": "display_data"
    },
    {
     "name": "stdout",
     "output_type": "stream",
     "text": [
      "\n",
      "<class 'pandas.core.frame.DataFrame'>\n",
      "RangeIndex: 18068 entries, 0 to 18067\n",
      "Data columns (total 4 columns):\n",
      " #   Column    Non-Null Count  Dtype  \n",
      "---  ------    --------------  -----  \n",
      " 0   user_id   18068 non-null  int64  \n",
      " 1   distance  18068 non-null  float64\n",
      " 2   duration  18068 non-null  float64\n",
      " 3   date      18068 non-null  object \n",
      "dtypes: float64(2), int64(1), object(1)\n",
      "memory usage: 564.8+ KB\n"
     ]
    }
   ],
   "source": [
    "try:\n",
    "    rides_go = pd.read_csv('/datasets/rides_go.csv')\n",
    "except:\n",
    "    rides_go = pd.read_csv('datasets/rides_go.csv')\n",
    "\n",
    "display(rides_go.head(5))\n",
    "print()\n",
    "rides_go.info()"
   ]
  },
  {
   "cell_type": "code",
   "execution_count": 72,
   "id": "e30a0186",
   "metadata": {
    "tags": []
   },
   "outputs": [
    {
     "data": {
      "text/html": [
       "<div>\n",
       "<style scoped>\n",
       "    .dataframe tbody tr th:only-of-type {\n",
       "        vertical-align: middle;\n",
       "    }\n",
       "\n",
       "    .dataframe tbody tr th {\n",
       "        vertical-align: top;\n",
       "    }\n",
       "\n",
       "    .dataframe thead th {\n",
       "        text-align: right;\n",
       "    }\n",
       "</style>\n",
       "<table border=\"1\" class=\"dataframe\">\n",
       "  <thead>\n",
       "    <tr style=\"text-align: right;\">\n",
       "      <th></th>\n",
       "      <th>subscription_type</th>\n",
       "      <th>minute_price</th>\n",
       "      <th>start_ride_price</th>\n",
       "      <th>subscription_fee</th>\n",
       "    </tr>\n",
       "  </thead>\n",
       "  <tbody>\n",
       "    <tr>\n",
       "      <th>0</th>\n",
       "      <td>free</td>\n",
       "      <td>8</td>\n",
       "      <td>50</td>\n",
       "      <td>0</td>\n",
       "    </tr>\n",
       "    <tr>\n",
       "      <th>1</th>\n",
       "      <td>ultra</td>\n",
       "      <td>6</td>\n",
       "      <td>0</td>\n",
       "      <td>199</td>\n",
       "    </tr>\n",
       "  </tbody>\n",
       "</table>\n",
       "</div>"
      ],
      "text/plain": [
       "  subscription_type  minute_price  start_ride_price  subscription_fee\n",
       "0              free             8                50                 0\n",
       "1             ultra             6                 0               199"
      ]
     },
     "metadata": {},
     "output_type": "display_data"
    },
    {
     "name": "stdout",
     "output_type": "stream",
     "text": [
      "\n",
      "<class 'pandas.core.frame.DataFrame'>\n",
      "RangeIndex: 2 entries, 0 to 1\n",
      "Data columns (total 4 columns):\n",
      " #   Column             Non-Null Count  Dtype \n",
      "---  ------             --------------  ----- \n",
      " 0   subscription_type  2 non-null      object\n",
      " 1   minute_price       2 non-null      int64 \n",
      " 2   start_ride_price   2 non-null      int64 \n",
      " 3   subscription_fee   2 non-null      int64 \n",
      "dtypes: int64(3), object(1)\n",
      "memory usage: 196.0+ bytes\n"
     ]
    }
   ],
   "source": [
    "try:\n",
    "    subscriptions_go = pd.read_csv('/datasets/subscriptions_go.csv')\n",
    "except:\n",
    "    subscriptions_go = pd.read_csv('datasets/subscriptions_go.csv')\n",
    "\n",
    "display(subscriptions_go.head(5))\n",
    "print()\n",
    "subscriptions_go.info()"
   ]
  },
  {
   "cell_type": "markdown",
   "id": "774f7830",
   "metadata": {},
   "source": [
    "Данные представлены тремя таблицами, описывающих пользователей, поездки пользователей и тарифы. \n",
    "\n",
    "Таблица о пользователях содержит пять колонок с корректными наименованиями и соответствующими типами, 1564 записи, пропусков нет.\n",
    "\n",
    "Таблица о поездках содержит четыре колонки с корректными наименованиями, тип данных колонки date не соответствует описанию и требует форматирования. Строк 18 068. Пропусков нет.\n",
    "\n",
    "Таблица тарифы состоит из двух строк и четырех столбцов. Наименования корректные, типы соответствуют описанию, пропусков нет.\n",
    "\n",
    "Все таблицы имею связующие данные для соединения.   \n"
   ]
  },
  {
   "cell_type": "markdown",
   "id": "cee4f2ec",
   "metadata": {},
   "source": [
    "<div class=\"alert alert-block alert-danger\">\n",
    "<b>❌Комментарий ревьюера:</b> ✔\n",
    "    \n",
    "Что мы можем сказать о данных после первичного знакомства  с ними? Стоит отметить объем и полноту данных, корректность наименования столбцов и соответствие типов данных.\n",
    "\n",
    "</div>"
   ]
  },
  {
   "cell_type": "markdown",
   "id": "7d98fb16",
   "metadata": {},
   "source": [
    "<div class=\"alert alert-block alert-success\">\n",
    "<b>✅Комментарий ревьюера 2:</b> Отлично, исправлено!👍  </div>"
   ]
  },
  {
   "cell_type": "markdown",
   "id": "9e1ff7f7",
   "metadata": {},
   "source": [
    "#### Шаг 2. Предобработка данных"
   ]
  },
  {
   "cell_type": "code",
   "execution_count": 73,
   "id": "e59aac93",
   "metadata": {
    "tags": []
   },
   "outputs": [],
   "source": [
    "# Приведите столбец date к типу даты pandas.\n",
    "rides_go.date = pd.to_datetime(rides_go.date, format='%Y-%m-%d')"
   ]
  },
  {
   "cell_type": "code",
   "execution_count": 74,
   "id": "05d644b5",
   "metadata": {
    "tags": []
   },
   "outputs": [
    {
     "name": "stdout",
     "output_type": "stream",
     "text": [
      "2021-01-01 00:00:00 2021-12-30 00:00:00\n"
     ]
    }
   ],
   "source": [
    "# данные представлены за один год\n",
    "print(rides_go.date.min(), rides_go.date.max())"
   ]
  },
  {
   "cell_type": "code",
   "execution_count": 75,
   "id": "650c3759",
   "metadata": {
    "tags": []
   },
   "outputs": [],
   "source": [
    "# Создайте новый столбец с номером месяца на основе столбца date\n",
    "rides_go['month_number'] = pd.DatetimeIndex(rides_go.date).month"
   ]
  },
  {
   "cell_type": "markdown",
   "id": "89aefd82",
   "metadata": {},
   "source": [
    "<div class=\"alert alert-block alert-warning\">\n",
    "<b>🔁Комментарий ревьюера:</b> ✔\n",
    "\n",
    "Дополнительно лучше проверить данные за какой период у нас имеются, чтобы в дальнейшем не допустить ошибок при группировке по месяцам.</div>"
   ]
  },
  {
   "cell_type": "markdown",
   "id": "cb1daa9c",
   "metadata": {},
   "source": [
    "<div class=\"alert alert-block alert-success\">\n",
    "<b>✅Комментарий ревьюера 2:</b> Отлично, исправлено!👍  </div>"
   ]
  },
  {
   "cell_type": "code",
   "execution_count": 76,
   "id": "25fc71bc",
   "metadata": {
    "tags": []
   },
   "outputs": [
    {
     "data": {
      "text/html": [
       "<div>\n",
       "<style scoped>\n",
       "    .dataframe tbody tr th:only-of-type {\n",
       "        vertical-align: middle;\n",
       "    }\n",
       "\n",
       "    .dataframe tbody tr th {\n",
       "        vertical-align: top;\n",
       "    }\n",
       "\n",
       "    .dataframe thead th {\n",
       "        text-align: right;\n",
       "    }\n",
       "</style>\n",
       "<table border=\"1\" class=\"dataframe\">\n",
       "  <thead>\n",
       "    <tr style=\"text-align: right;\">\n",
       "      <th></th>\n",
       "      <th>user_id</th>\n",
       "      <th>distance</th>\n",
       "      <th>duration</th>\n",
       "      <th>date</th>\n",
       "      <th>month_number</th>\n",
       "    </tr>\n",
       "  </thead>\n",
       "  <tbody>\n",
       "    <tr>\n",
       "      <th>0</th>\n",
       "      <td>1</td>\n",
       "      <td>4409.919140</td>\n",
       "      <td>25.599769</td>\n",
       "      <td>2021-01-01</td>\n",
       "      <td>1</td>\n",
       "    </tr>\n",
       "    <tr>\n",
       "      <th>1</th>\n",
       "      <td>1</td>\n",
       "      <td>2617.592153</td>\n",
       "      <td>15.816871</td>\n",
       "      <td>2021-01-18</td>\n",
       "      <td>1</td>\n",
       "    </tr>\n",
       "    <tr>\n",
       "      <th>2</th>\n",
       "      <td>1</td>\n",
       "      <td>754.159807</td>\n",
       "      <td>6.232113</td>\n",
       "      <td>2021-04-20</td>\n",
       "      <td>4</td>\n",
       "    </tr>\n",
       "    <tr>\n",
       "      <th>3</th>\n",
       "      <td>1</td>\n",
       "      <td>2694.783254</td>\n",
       "      <td>18.511000</td>\n",
       "      <td>2021-08-11</td>\n",
       "      <td>8</td>\n",
       "    </tr>\n",
       "    <tr>\n",
       "      <th>4</th>\n",
       "      <td>1</td>\n",
       "      <td>4028.687306</td>\n",
       "      <td>26.265803</td>\n",
       "      <td>2021-08-28</td>\n",
       "      <td>8</td>\n",
       "    </tr>\n",
       "  </tbody>\n",
       "</table>\n",
       "</div>"
      ],
      "text/plain": [
       "   user_id     distance   duration       date  month_number\n",
       "0        1  4409.919140  25.599769 2021-01-01             1\n",
       "1        1  2617.592153  15.816871 2021-01-18             1\n",
       "2        1   754.159807   6.232113 2021-04-20             4\n",
       "3        1  2694.783254  18.511000 2021-08-11             8\n",
       "4        1  4028.687306  26.265803 2021-08-28             8"
      ]
     },
     "metadata": {},
     "output_type": "display_data"
    },
    {
     "name": "stdout",
     "output_type": "stream",
     "text": [
      "\n",
      "<class 'pandas.core.frame.DataFrame'>\n",
      "RangeIndex: 18068 entries, 0 to 18067\n",
      "Data columns (total 5 columns):\n",
      " #   Column        Non-Null Count  Dtype         \n",
      "---  ------        --------------  -----         \n",
      " 0   user_id       18068 non-null  int64         \n",
      " 1   distance      18068 non-null  float64       \n",
      " 2   duration      18068 non-null  float64       \n",
      " 3   date          18068 non-null  datetime64[ns]\n",
      " 4   month_number  18068 non-null  int32         \n",
      "dtypes: datetime64[ns](1), float64(2), int32(1), int64(1)\n",
      "memory usage: 635.3 KB\n"
     ]
    }
   ],
   "source": [
    "display(rides_go.head(5))\n",
    "print()\n",
    "rides_go.info()"
   ]
  },
  {
   "cell_type": "code",
   "execution_count": 77,
   "id": "6f532829",
   "metadata": {
    "tags": []
   },
   "outputs": [
    {
     "data": {
      "text/plain": [
       "user_id              0.0\n",
       "name                 0.0\n",
       "age                  0.0\n",
       "city                 0.0\n",
       "subscription_type    0.0\n",
       "dtype: float64"
      ]
     },
     "execution_count": 77,
     "metadata": {},
     "output_type": "execute_result"
    }
   ],
   "source": [
    "# проверяем пустые занчения\n",
    "users_go.isna().mean()*100"
   ]
  },
  {
   "cell_type": "code",
   "execution_count": 78,
   "id": "4d7d84c0",
   "metadata": {
    "tags": []
   },
   "outputs": [
    {
     "data": {
      "text/plain": [
       "31"
      ]
     },
     "execution_count": 78,
     "metadata": {},
     "output_type": "execute_result"
    }
   ],
   "source": [
    "# проверяем явные дубли\n",
    "users_go.duplicated().sum()"
   ]
  },
  {
   "cell_type": "code",
   "execution_count": 79,
   "id": "886eb3d9",
   "metadata": {
    "tags": []
   },
   "outputs": [],
   "source": [
    "# удаляем явные дубли с переиндексаций без создания столбца со старыми индексами \n",
    "users_go = users_go.drop_duplicates().reset_index(drop=True)"
   ]
  },
  {
   "cell_type": "code",
   "execution_count": 80,
   "id": "ba7c1f96",
   "metadata": {
    "tags": []
   },
   "outputs": [
    {
     "data": {
      "text/plain": [
       "user_id         0.0\n",
       "distance        0.0\n",
       "duration        0.0\n",
       "date            0.0\n",
       "month_number    0.0\n",
       "dtype: float64"
      ]
     },
     "execution_count": 80,
     "metadata": {},
     "output_type": "execute_result"
    }
   ],
   "source": [
    "rides_go.isna().mean()*100"
   ]
  },
  {
   "cell_type": "code",
   "execution_count": 81,
   "id": "a93a0c94",
   "metadata": {
    "tags": []
   },
   "outputs": [
    {
     "data": {
      "text/plain": [
       "0"
      ]
     },
     "execution_count": 81,
     "metadata": {},
     "output_type": "execute_result"
    }
   ],
   "source": [
    "rides_go.duplicated().sum()"
   ]
  },
  {
   "cell_type": "code",
   "execution_count": 14,
   "id": "dbdb49b4",
   "metadata": {},
   "outputs": [],
   "source": [
    "# округлим продолжительность в большую сторону\n",
    "# rides_go['duration'] = np.ceil(rides_go['duration']) "
   ]
  },
  {
   "cell_type": "markdown",
   "id": "f635aebe",
   "metadata": {},
   "source": [
    "<div class=\"alert alert-block alert-warning\">\n",
    "<b>🔁Комментарий ревьюера:</b> ✔\n",
    "\n",
    "Продолжительность поездок лучше округлять непосредственно перед формированием сводной таблицы для расчета выручки (в объединенной таблице), чтобы не получить искажения значений при исследовательском анализе.</div>"
   ]
  },
  {
   "cell_type": "markdown",
   "id": "e1bc0b59",
   "metadata": {},
   "source": [
    "<div class=\"alert alert-block alert-success\">\n",
    "<b>✅Комментарий ревьюера 2:</b> Отлично, исправлено!👍  </div>"
   ]
  },
  {
   "cell_type": "code",
   "execution_count": 15,
   "id": "f3322fc0",
   "metadata": {},
   "outputs": [
    {
     "data": {
      "text/plain": [
       "array(['Тюмень', 'Омск', 'Москва', 'Ростов-на-Дону', 'Краснодар',\n",
       "       'Пятигорск', 'Екатеринбург', 'Сочи'], dtype=object)"
      ]
     },
     "execution_count": 15,
     "metadata": {},
     "output_type": "execute_result"
    }
   ],
   "source": [
    "# проверка на неявные дубли\n",
    "users_go['city'].unique()"
   ]
  },
  {
   "cell_type": "markdown",
   "id": "8ae8e3b0",
   "metadata": {},
   "source": [
    "В таблице о поездках информация о дате поездки была приведена к формату datetime и добавлена колонка с номером месяца поездки. \n",
    "\n",
    "Значения даты представлены в рамках одного года. \n",
    "\n",
    "В таблице пользователей были обнаружены и удалены явные дубли. Неявных дублей в колонке city типа object нет.\n"
   ]
  },
  {
   "cell_type": "markdown",
   "id": "ed358ccc",
   "metadata": {},
   "source": [
    "<div class=\"alert alert-block alert-success\">\n",
    "<b>✅Комментарий ревьюера:</b> Предобработка данных проведена успешно! Можно приступать к исследованию)</div>"
   ]
  },
  {
   "cell_type": "markdown",
   "id": "46d91452",
   "metadata": {},
   "source": [
    "#### Шаг 3. Исследовательский анализ данных"
   ]
  },
  {
   "cell_type": "code",
   "execution_count": 16,
   "id": "64accf9e",
   "metadata": {
    "tags": []
   },
   "outputs": [
    {
     "data": {
      "image/png": "[encoded data removed]",
      "text/plain": [
       "<Figure size 720x432 with 1 Axes>"
      ]
     },
     "metadata": {
      "needs_background": "light"
     },
     "output_type": "display_data"
    }
   ],
   "source": [
    "plt.figure(figsize=(10, 6))  # Размер графика (опционально)\n",
    "\n",
    "users_go['city'].value_counts().plot(kind='barh', color='skyblue', rot=0)\n",
    "\n",
    "plt.title('Гистограмма по городам')\n",
    "plt.xlabel('Города')\n",
    "plt.ylabel('Частота')\n",
    "# plt.rotate(90)\n",
    "plt.show()"
   ]
  },
  {
   "cell_type": "markdown",
   "id": "13eda30b",
   "metadata": {},
   "source": [
    "<div class=\"alert alert-block alert-warning\">\n",
    "<b>🔁Комментарий ревьюера:</b> ✔\n",
    "\n",
    "Для удобства можно повернуть график на 90 градусов</div>"
   ]
  },
  {
   "cell_type": "markdown",
   "id": "12fafca6",
   "metadata": {},
   "source": [
    "<div class=\"alert alert-block alert-success\">\n",
    "<b>✅Комментарий ревьюера 2:</b> Отлично, исправлено!👍  </div>"
   ]
  },
  {
   "cell_type": "markdown",
   "id": "b4bd06f3",
   "metadata": {},
   "source": [
    "Построена гистограмма чистоты городов из таблицы о пользователях. Согласно ей, больше любителей покатятся на самокате среди жителей южных городов.  "
   ]
  },
  {
   "cell_type": "code",
   "execution_count": 17,
   "id": "80b81d2a",
   "metadata": {
    "tags": []
   },
   "outputs": [
    {
     "data": {
      "image/png": "[encoded data removed]",
      "text/plain": [
       "<Figure size 360x360 with 1 Axes>"
      ]
     },
     "metadata": {},
     "output_type": "display_data"
    }
   ],
   "source": [
    "plt.figure(figsize=(10, 6))  # Размер графика (опционально)\n",
    "\n",
    "subscription_type_counts = users_go['subscription_type'].value_counts()\n",
    "subscription_type_proportions = subscription_type_counts/len(users_go)\n",
    "\n",
    "# subscription_type_proportions.plot(kind='bar', color='skyblue')\n",
    "subscription_type_proportions.plot(y='count', kind='pie', figsize=(5, 5), autopct='%1.1f%%',\n",
    "                                  labels = ['без подписки', 'с подпиской ultra']) #круговая диаграмма\n",
    "# display(subscription_type_proportions)\n",
    "# print(subscription_type_proportions)\n",
    "plt.title('Соотношение типов подписок')\n",
    "# plt.xlabel('Типы подписок')\n",
    "plt.ylabel('Типы подписок')\n",
    "# plt.labels = ['звонки', 'СМС']\n",
    "plt.show()"
   ]
  },
  {
   "cell_type": "markdown",
   "id": "78dac2fd",
   "metadata": {},
   "source": [
    "<div class=\"alert alert-block alert-warning\">\n",
    "<b>🔁Комментарий ревьюера:</b> ✔\n",
    "\n",
    "Тут отлично подошла бы круговая диаграмма с отображением на ней соотношения групп пользователей в %</div>"
   ]
  },
  {
   "cell_type": "markdown",
   "id": "debb1e69",
   "metadata": {},
   "source": [
    "<div class=\"alert alert-block alert-success\">\n",
    "<b>✅Комментарий ревьюера 2:</b> Отлично, исправлено!👍  </div>"
   ]
  },
  {
   "cell_type": "markdown",
   "id": "94cd5a08",
   "metadata": {},
   "source": [
    "Соотношение пользователей с подпиской и без подписки с небольшим перевесом в пользу вторых. 55% пользователей не подписаны. "
   ]
  },
  {
   "cell_type": "code",
   "execution_count": 18,
   "id": "f96da544",
   "metadata": {
    "tags": []
   },
   "outputs": [
    {
     "data": {
      "image/png": "[encoded data removed]",
      "text/plain": [
       "<Figure size 432x288 with 1 Axes>"
      ]
     },
     "metadata": {
      "needs_background": "light"
     },
     "output_type": "display_data"
    }
   ],
   "source": [
    "plt.hist(users_go['age'], bins=20, color='skyblue', edgecolor='black')\n",
    "plt.title('Гистограмма возрастов')\n",
    "plt.xlabel('Возраст')\n",
    "plt.ylabel('Частота')\n",
    "plt.show()"
   ]
  },
  {
   "cell_type": "markdown",
   "id": "1b0bc083",
   "metadata": {},
   "source": [
    "<div class=\"alert alert-block alert-success\">\n",
    "<b>✅Комментарий ревьюера:</b> Очень хорошо, что подписываешь графики и оси. </div>"
   ]
  },
  {
   "cell_type": "code",
   "execution_count": 19,
   "id": "10b2ca55",
   "metadata": {
    "tags": []
   },
   "outputs": [
    {
     "data": {
      "image/png": "[encoded data removed]",
      "text/plain": [
       "<Figure size 432x288 with 1 Axes>"
      ]
     },
     "metadata": {
      "needs_background": "light"
     },
     "output_type": "display_data"
    }
   ],
   "source": [
    "sns.boxplot(x=users_go['age'], color='skyblue')\n",
    "plt.title('Ящик с усами для возрастов')\n",
    "plt.xlabel('Возраст')\n",
    "plt.show()"
   ]
  },
  {
   "cell_type": "code",
   "execution_count": 20,
   "id": "9c4d838b",
   "metadata": {
    "tags": []
   },
   "outputs": [
    {
     "data": {
      "image/png": "[encoded data removed]",
      "text/plain": [
       "<Figure size 432x288 with 1 Axes>"
      ]
     },
     "metadata": {
      "needs_background": "light"
     },
     "output_type": "display_data"
    }
   ],
   "source": [
    "sns.kdeplot(users_go['age'], fill=True, color='skyblue')\n",
    "plt.title('Оценка плотности ядра для возрастов')\n",
    "plt.xlabel('Возраст')\n",
    "plt.show()"
   ]
  },
  {
   "cell_type": "markdown",
   "id": "dde29c91",
   "metadata": {},
   "source": [
    "<div class=\"alert alert-block alert-info\">\n",
    "    \n",
    "Этот график подсказал искусственный интеллект\n",
    "    \n",
    "</div>"
   ]
  },
  {
   "cell_type": "code",
   "execution_count": 21,
   "id": "6494ee90",
   "metadata": {},
   "outputs": [
    {
     "data": {
      "text/plain": [
       "count    1534.000000\n",
       "mean       24.903520\n",
       "std         4.572367\n",
       "min        12.000000\n",
       "25%        22.000000\n",
       "50%        25.000000\n",
       "75%        28.000000\n",
       "max        43.000000\n",
       "Name: age, dtype: float64"
      ]
     },
     "execution_count": 21,
     "metadata": {},
     "output_type": "execute_result"
    }
   ],
   "source": [
    "users_go['age'].describe()"
   ]
  },
  {
   "cell_type": "markdown",
   "id": "110c5fc4",
   "metadata": {},
   "source": [
    "<div class=\"alert alert-block alert-success\">\n",
    "<b>✅Комментарий ревьюера:</b> \n",
    "\n",
    "Здорово, что используешь метод `describe()` как дополнительный инструмент анализа.</div>"
   ]
  },
  {
   "cell_type": "code",
   "execution_count": 22,
   "id": "72cfd096",
   "metadata": {},
   "outputs": [
    {
     "name": "stdout",
     "output_type": "stream",
     "text": [
      "Медиана 25.0\n",
      "Мода 25\n",
      "10-й процентиль 19.0\n",
      "99-й процентиль 35.0\n",
      "Межквартильный размах 6.0\n"
     ]
    }
   ],
   "source": [
    "seria = users_go['age']\n",
    "print('Медиана', seria.median())\n",
    "print('Мода', seria.mode()[0])\n",
    "print('10-й процентиль', np.percentile(seria, 10))\n",
    "print('99-й процентиль', np.percentile(seria, 99))\n",
    "print('Межквартильный размах', stats.iqr(seria))"
   ]
  },
  {
   "cell_type": "markdown",
   "id": "2caf4060",
   "metadata": {},
   "source": [
    "<div class=\"alert alert-block alert-info\">\n",
    "    \n",
    "Может есть какая то функция, которая возвращает эти показатели и дисперсию?\n",
    "    \n",
    "</div>"
   ]
  },
  {
   "cell_type": "markdown",
   "id": "08e19313",
   "metadata": {},
   "source": [
    "<div class=\"alert alert-block alert-success\">\n",
    "<b>✅Комментарий ревьюера:</b> \n",
    "\n",
    "Такую функцию можно написать самому)</div>"
   ]
  },
  {
   "cell_type": "markdown",
   "id": "5a8fbeab",
   "metadata": {
    "tags": []
   },
   "source": [
    "Средний возраст пользователей 25 лет, медиана и мода такие же, межквартильный размах не большой, можно сказать, что распределена по возрасту нормального типа. Есть редкие выбросы. Катаются в основном молодые. "
   ]
  },
  {
   "cell_type": "code",
   "execution_count": 23,
   "id": "375d394c",
   "metadata": {
    "tags": []
   },
   "outputs": [
    {
     "data": {
      "image/png": "[encoded data removed]",
      "text/plain": [
       "<Figure size 432x288 with 1 Axes>"
      ]
     },
     "metadata": {
      "needs_background": "light"
     },
     "output_type": "display_data"
    }
   ],
   "source": [
    "plt.hist(rides_go['distance'], bins=30, color='skyblue', edgecolor='black')\n",
    "plt.title('Гистограмма дистанции')\n",
    "plt.xlabel('Дистанция')\n",
    "plt.ylabel('Метры')\n",
    "plt.show()"
   ]
  },
  {
   "cell_type": "code",
   "execution_count": 24,
   "id": "62c7885e",
   "metadata": {
    "tags": []
   },
   "outputs": [
    {
     "data": {
      "image/png": "[encoded data removed]",
      "text/plain": [
       "<Figure size 432x288 with 1 Axes>"
      ]
     },
     "metadata": {
      "needs_background": "light"
     },
     "output_type": "display_data"
    }
   ],
   "source": [
    "sns.boxplot(x=rides_go['distance'], color='skyblue')\n",
    "plt.title('Ящик с усами по дистанции')\n",
    "plt.xlabel('Возраст')\n",
    "plt.show()"
   ]
  },
  {
   "cell_type": "code",
   "execution_count": 25,
   "id": "ac5ef6d5",
   "metadata": {},
   "outputs": [
    {
     "data": {
      "text/plain": [
       "count    18068.000000\n",
       "mean      3070.659976\n",
       "std       1116.831209\n",
       "min          0.855683\n",
       "25%       2543.226360\n",
       "50%       3133.609994\n",
       "75%       3776.222735\n",
       "max       7211.007745\n",
       "Name: distance, dtype: float64"
      ]
     },
     "execution_count": 25,
     "metadata": {},
     "output_type": "execute_result"
    }
   ],
   "source": [
    "rides_go['distance'].describe()"
   ]
  },
  {
   "cell_type": "code",
   "execution_count": 26,
   "id": "3296d099",
   "metadata": {},
   "outputs": [
    {
     "name": "stdout",
     "output_type": "stream",
     "text": [
      "Медиана 3133.6099936787664\n",
      "Мода 0.855682925681208\n",
      "10-й процентиль 1517.693301584887\n",
      "99-й процентиль 5478.621527829257\n",
      "Межквартильный размах 1232.9963753558854\n"
     ]
    }
   ],
   "source": [
    "seria = rides_go['distance']\n",
    "print('Медиана', seria.median())\n",
    "print('Мода', seria.mode()[0])\n",
    "print('10-й процентиль', np.percentile(seria, 10))\n",
    "print('99-й процентиль', np.percentile(seria, 99))\n",
    "print('Межквартильный размах', stats.iqr(seria))"
   ]
  },
  {
   "cell_type": "markdown",
   "id": "fcc4073c",
   "metadata": {},
   "source": [
    "Расстояние, которое пользователь преодолел за одну поездку. Есть два пика, первый небольшой совпадает с модой, второй с средним значением. Можно сказать, что есть не большая группа, которая только пробует новый вид транспорта и проезжает не большое расстояние. При этом ситуация, когда мода и медиана лежать по разные стороны от среднего требует дополнительного исследования. "
   ]
  },
  {
   "cell_type": "markdown",
   "id": "26f2e911",
   "metadata": {},
   "source": [
    "<div class=\"alert alert-block alert-success\">\n",
    "<b>✅Комментарий ревьюера:</b> \n",
    "\n",
    "Здорово, что отметил два пика распределения</div>"
   ]
  },
  {
   "cell_type": "code",
   "execution_count": 27,
   "id": "2aebf80c",
   "metadata": {
    "tags": []
   },
   "outputs": [
    {
     "data": {
      "image/png": "[encoded data removed]",
      "text/plain": [
       "<Figure size 432x288 with 1 Axes>"
      ]
     },
     "metadata": {
      "needs_background": "light"
     },
     "output_type": "display_data"
    }
   ],
   "source": [
    "plt.hist(rides_go['duration'], bins=50, color='skyblue', edgecolor='black')\n",
    "plt.title('Гистограмма продолжительности поездки')\n",
    "plt.xlabel('Минуты')\n",
    "plt.ylabel('Частота')\n",
    "plt.show()"
   ]
  },
  {
   "cell_type": "markdown",
   "id": "f1f231ca",
   "metadata": {},
   "source": [
    "<div class=\"alert alert-block alert-warning\">\n",
    "<b>🔁Комментарий ревьюера:</b> ✔\n",
    "\n",
    "Лучше немного увеличить значение параметра bins. Тогда мы сможем заметить странный пик около 0. Строки с этими поездками и их параметры стоит рассмотреть подробнее на предмет аномалий.</div>"
   ]
  },
  {
   "cell_type": "markdown",
   "id": "3fed6e7b",
   "metadata": {},
   "source": [
    "<div class=\"alert alert-block alert-success\">\n",
    "<b>✅Комментарий ревьюера 2:</b> Отлично, исправлено!👍  </div>"
   ]
  },
  {
   "cell_type": "code",
   "execution_count": 28,
   "id": "bbd60213",
   "metadata": {
    "tags": []
   },
   "outputs": [
    {
     "data": {
      "image/png": "[encoded data removed]",
      "text/plain": [
       "<Figure size 432x288 with 1 Axes>"
      ]
     },
     "metadata": {
      "needs_background": "light"
     },
     "output_type": "display_data"
    }
   ],
   "source": [
    "sns.boxplot(x=rides_go['duration'], color='skyblue')\n",
    "plt.title('Ящик с усами продолжительности поездки')\n",
    "plt.xlabel('Продолжительность')\n",
    "plt.show()"
   ]
  },
  {
   "cell_type": "code",
   "execution_count": 29,
   "id": "8fc035cd",
   "metadata": {
    "tags": []
   },
   "outputs": [
    {
     "data": {
      "text/plain": [
       "count    18068.000000\n",
       "mean        17.805011\n",
       "std          6.091051\n",
       "min          0.500000\n",
       "25%         13.597563\n",
       "50%         17.678395\n",
       "75%         21.724800\n",
       "max         40.823963\n",
       "Name: duration, dtype: float64"
      ]
     },
     "execution_count": 29,
     "metadata": {},
     "output_type": "execute_result"
    }
   ],
   "source": [
    "rides_go['duration'].describe()"
   ]
  },
  {
   "cell_type": "code",
   "execution_count": 30,
   "id": "3df85731",
   "metadata": {},
   "outputs": [
    {
     "name": "stdout",
     "output_type": "stream",
     "text": [
      "Медиана 17.678394530393803\n",
      "Мода 0.5\n",
      "1-й процентиль 3.9821051350591543\n",
      "99-й процентиль 39.59372629546987\n",
      "Межквартильный размах 8.127237170546415\n"
     ]
    }
   ],
   "source": [
    "seria = rides_go['duration']\n",
    "print('Медиана', seria.median())\n",
    "print('Мода', seria.mode()[0])\n",
    "print('1-й процентиль', np.percentile(seria, 1))\n",
    "print('99-й процентиль', np.percentile(seria, 99.99))\n",
    "print('Межквартильный размах', stats.iqr(seria))"
   ]
  },
  {
   "cell_type": "markdown",
   "id": "b71659e1",
   "metadata": {},
   "source": [
    "Продолжительность поездок имеет нормальное распределение, мода, медиана, среднее совпадают. До 40 минут катается очень мало. Есть пик на продолжительности поездки в одну минуту, то есть пользователь начинает ехать и через минуту останавливается, это требует дополнительного исследование, сложность управления или неполадки оборудования.   "
   ]
  },
  {
   "cell_type": "markdown",
   "id": "7aefa553",
   "metadata": {},
   "source": [
    "#### Шаг 4. Объединение данных"
   ]
  },
  {
   "cell_type": "code",
   "execution_count": 82,
   "id": "8900ca6e",
   "metadata": {
    "tags": []
   },
   "outputs": [
    {
     "name": "stdout",
     "output_type": "stream",
     "text": [
      "   user_id  name  age    city subscription_type     distance   duration  \\\n",
      "0        1  Кира   22  Тюмень             ultra  4409.919140  25.599769   \n",
      "1        1  Кира   22  Тюмень             ultra  2617.592153  15.816871   \n",
      "2        1  Кира   22  Тюмень             ultra   754.159807   6.232113   \n",
      "3        1  Кира   22  Тюмень             ultra  2694.783254  18.511000   \n",
      "4        1  Кира   22  Тюмень             ultra  4028.687306  26.265803   \n",
      "5        1  Кира   22  Тюмень             ultra  2770.890808  16.650138   \n",
      "6        1  Кира   22  Тюмень             ultra  3039.020292  14.927879   \n",
      "7        1  Кира   22  Тюмень             ultra  2842.118050  23.117468   \n",
      "8        1  Кира   22  Тюмень             ultra  3412.690668  15.238072   \n",
      "9        1  Кира   22  Тюмень             ultra   748.690645  15.041884   \n",
      "\n",
      "        date  month_number  minute_price  start_ride_price  subscription_fee  \n",
      "0 2021-01-01             1             6                 0               199  \n",
      "1 2021-01-18             1             6                 0               199  \n",
      "2 2021-04-20             4             6                 0               199  \n",
      "3 2021-08-11             8             6                 0               199  \n",
      "4 2021-08-28             8             6                 0               199  \n",
      "5 2021-10-09            10             6                 0               199  \n",
      "6 2021-10-19            10             6                 0               199  \n",
      "7 2021-11-06            11             6                 0               199  \n",
      "8 2021-11-14            11             6                 0               199  \n",
      "9 2021-11-22            11             6                 0               199  \n",
      "\n",
      "<class 'pandas.core.frame.DataFrame'>\n",
      "RangeIndex: 18068 entries, 0 to 18067\n",
      "Data columns (total 12 columns):\n",
      " #   Column             Non-Null Count  Dtype         \n",
      "---  ------             --------------  -----         \n",
      " 0   user_id            18068 non-null  int64         \n",
      " 1   name               18068 non-null  object        \n",
      " 2   age                18068 non-null  int64         \n",
      " 3   city               18068 non-null  object        \n",
      " 4   subscription_type  18068 non-null  object        \n",
      " 5   distance           18068 non-null  float64       \n",
      " 6   duration           18068 non-null  float64       \n",
      " 7   date               18068 non-null  datetime64[ns]\n",
      " 8   month_number       18068 non-null  int32         \n",
      " 9   minute_price       18068 non-null  int64         \n",
      " 10  start_ride_price   18068 non-null  int64         \n",
      " 11  subscription_fee   18068 non-null  int64         \n",
      "dtypes: datetime64[ns](1), float64(2), int32(1), int64(5), object(3)\n",
      "memory usage: 1.6+ MB\n"
     ]
    }
   ],
   "source": [
    "merged_df = pd.merge(users_go, rides_go, on='user_id', how='inner').merge(subscriptions_go, on='subscription_type', how='left')\n",
    "print(merged_df.head(10))\n",
    "print()\n",
    "merged_df.info()"
   ]
  },
  {
   "cell_type": "markdown",
   "id": "a750d017",
   "metadata": {},
   "source": [
    "Объединяем таблицы. Самая большая и основная таблица, то данные о поездках, к ней присоединяем таблицу с данными о пользователях по колонке 'user_id' правым соединением,  левым соединением к этим таблицам присоединяем таблицу с тарифами по полю 'subscription_type'."
   ]
  },
  {
   "cell_type": "code",
   "execution_count": 15,
   "id": "a972c4ac",
   "metadata": {
    "tags": []
   },
   "outputs": [
    {
     "data": {
      "text/plain": [
       "0"
      ]
     },
     "execution_count": 15,
     "metadata": {},
     "output_type": "execute_result"
    }
   ],
   "source": [
    "merged_df.duplicated().sum()"
   ]
  },
  {
   "cell_type": "code",
   "execution_count": 16,
   "id": "dcee4c87",
   "metadata": {
    "tags": []
   },
   "outputs": [
    {
     "data": {
      "text/plain": [
       "user_id              0.0\n",
       "name                 0.0\n",
       "age                  0.0\n",
       "city                 0.0\n",
       "subscription_type    0.0\n",
       "distance             0.0\n",
       "duration             0.0\n",
       "date                 0.0\n",
       "month_number         0.0\n",
       "minute_price         0.0\n",
       "start_ride_price     0.0\n",
       "subscription_fee     0.0\n",
       "dtype: float64"
      ]
     },
     "execution_count": 16,
     "metadata": {},
     "output_type": "execute_result"
    }
   ],
   "source": [
    "merged_df.isna().mean()*100"
   ]
  },
  {
   "cell_type": "code",
   "execution_count": 83,
   "id": "0f189b3e",
   "metadata": {
    "tags": []
   },
   "outputs": [
    {
     "name": "stdout",
     "output_type": "stream",
     "text": [
      "Новая таблица: (18068, 12), поездки (18068, 5), пользователи: (1534, 5), тапифы: (2, 4)\n"
     ]
    }
   ],
   "source": [
    "print(f'Новая таблица: {merged_df.shape},\\\n",
    " поездки {rides_go.shape},\\\n",
    " пользователи: {users_go.shape},\\\n",
    " тапифы: {subscriptions_go.shape}')"
   ]
  },
  {
   "cell_type": "markdown",
   "id": "f5d7a8e4",
   "metadata": {},
   "source": [
    "Проверяем на дубли и пустые значения. Количество строк и колонок соответствует объединенным таблицам."
   ]
  },
  {
   "cell_type": "markdown",
   "id": "d265fb83",
   "metadata": {},
   "source": [
    "<div class=\"alert alert-block alert-warning\">\n",
    "<b>🔁Комментарий ревьюера:</b> ✔\n",
    "\n",
    "Тут еще стоит проверить количество строк полученной таблицы и сравнить ее с количеством строк таблиц до объединения, чтобы убедиться что мы ничего не потеряли и не добавили лишнего.\n",
    "\n",
    "</div>"
   ]
  },
  {
   "cell_type": "markdown",
   "id": "cdaf0aa6",
   "metadata": {},
   "source": [
    "<div class=\"alert alert-block alert-success\">\n",
    "<b>✅Комментарий ревьюера 2:</b> Отлично, исправлено!👍  </div>"
   ]
  },
  {
   "cell_type": "code",
   "execution_count": 84,
   "id": "21e4ff6e",
   "metadata": {
    "tags": []
   },
   "outputs": [
    {
     "name": "stdout",
     "output_type": "stream",
     "text": [
      "<class 'pandas.core.frame.DataFrame'>\n",
      "RangeIndex: 11568 entries, 0 to 11567\n",
      "Data columns (total 12 columns):\n",
      " #   Column             Non-Null Count  Dtype         \n",
      "---  ------             --------------  -----         \n",
      " 0   user_id            11568 non-null  int64         \n",
      " 1   name               11568 non-null  object        \n",
      " 2   age                11568 non-null  int64         \n",
      " 3   city               11568 non-null  object        \n",
      " 4   subscription_type  11568 non-null  object        \n",
      " 5   distance           11568 non-null  float64       \n",
      " 6   duration           11568 non-null  float64       \n",
      " 7   date               11568 non-null  datetime64[ns]\n",
      " 8   month_number       11568 non-null  int32         \n",
      " 9   minute_price       11568 non-null  int64         \n",
      " 10  start_ride_price   11568 non-null  int64         \n",
      " 11  subscription_fee   11568 non-null  int64         \n",
      "dtypes: datetime64[ns](1), float64(2), int32(1), int64(5), object(3)\n",
      "memory usage: 1.0+ MB\n"
     ]
    }
   ],
   "source": [
    "free_df = merged_df.query('subscription_type == \"free\"').reset_index(drop=True) \n",
    "free_df.info()"
   ]
  },
  {
   "cell_type": "code",
   "execution_count": 85,
   "id": "50f7f4b2",
   "metadata": {
    "tags": []
   },
   "outputs": [
    {
     "name": "stdout",
     "output_type": "stream",
     "text": [
      "<class 'pandas.core.frame.DataFrame'>\n",
      "RangeIndex: 6500 entries, 0 to 6499\n",
      "Data columns (total 12 columns):\n",
      " #   Column             Non-Null Count  Dtype         \n",
      "---  ------             --------------  -----         \n",
      " 0   user_id            6500 non-null   int64         \n",
      " 1   name               6500 non-null   object        \n",
      " 2   age                6500 non-null   int64         \n",
      " 3   city               6500 non-null   object        \n",
      " 4   subscription_type  6500 non-null   object        \n",
      " 5   distance           6500 non-null   float64       \n",
      " 6   duration           6500 non-null   float64       \n",
      " 7   date               6500 non-null   datetime64[ns]\n",
      " 8   month_number       6500 non-null   int32         \n",
      " 9   minute_price       6500 non-null   int64         \n",
      " 10  start_ride_price   6500 non-null   int64         \n",
      " 11  subscription_fee   6500 non-null   int64         \n",
      "dtypes: datetime64[ns](1), float64(2), int32(1), int64(5), object(3)\n",
      "memory usage: 584.1+ KB\n"
     ]
    }
   ],
   "source": [
    "ultra_df = merged_df.query('subscription_type == \"ultra\"').reset_index(drop=True) \n",
    "ultra_df.info()"
   ]
  },
  {
   "cell_type": "markdown",
   "id": "9106fe88",
   "metadata": {},
   "source": [
    "Создаем две таблицы с отбором по subscription_type."
   ]
  },
  {
   "cell_type": "markdown",
   "id": "dd52a9aa",
   "metadata": {},
   "source": [
    "<div class=\"alert alert-block alert-success\">\n",
    "<b>✅Комментарий ревьюера:</b> Таблицы созданы верно!  </div>"
   ]
  },
  {
   "cell_type": "code",
   "execution_count": 20,
   "id": "4cb69b20",
   "metadata": {
    "tags": []
   },
   "outputs": [
    {
     "data": {
      "image/png": "[encoded data removed]",
      "text/plain": [
       "<Figure size 1000x600 with 1 Axes>"
      ]
     },
     "metadata": {},
     "output_type": "display_data"
    }
   ],
   "source": [
    "# Построение гистограммы\n",
    "plt.figure(figsize=(10, 6))  # Размер графика (опционально)\n",
    "\n",
    "plt.hist([free_df['distance'], ultra_df['distance']], bins=30, label=['без подписки',\n",
    "                                                                      'с подпиской ultra'], \n",
    "         color=['skyblue', 'orange'])\n",
    "\n",
    "plt.title('Гистограмма дистанции')\n",
    "plt.xlabel('Поездки')\n",
    "plt.ylabel('Метры')\n",
    "plt.legend()\n",
    "plt.show()"
   ]
  },
  {
   "cell_type": "code",
   "execution_count": 21,
   "id": "9021068a",
   "metadata": {
    "tags": []
   },
   "outputs": [
    {
     "data": {
      "image/png": "[encoded data removed]",
      "text/plain": [
       "<Figure size 1000x600 with 1 Axes>"
      ]
     },
     "metadata": {},
     "output_type": "display_data"
    }
   ],
   "source": [
    "# Построение гистограммы\n",
    "plt.figure(figsize=(10, 6))  # Размер графика (опционально)\n",
    "\n",
    "plt.hist([free_df['duration'], ultra_df['duration']], bins=30, label=['без подписки',\n",
    "                                                                      'с подпиской ultra'], \n",
    "         color=['skyblue', 'orange'])\n",
    "\n",
    "plt.title('Гистограмма продолжительности')\n",
    "plt.xlabel('Поездки')\n",
    "plt.ylabel('Минуты')\n",
    "plt.legend()\n",
    "plt.show()"
   ]
  },
  {
   "cell_type": "markdown",
   "id": "15260caa",
   "metadata": {},
   "source": [
    "<div class=\"alert alert-block alert-warning\">\n",
    "<b>🔁Комментарий ревьюера:</b> ✔\n",
    "\n",
    "Стоит все-таки увеличить значение параметра bins на обоих распределениях для более точного их построения.</div>"
   ]
  },
  {
   "cell_type": "markdown",
   "id": "94808f3d",
   "metadata": {},
   "source": [
    "<div class=\"alert alert-block alert-success\">\n",
    "<b>✅Комментарий ревьюера 2:</b> Отлично, исправлено!👍  </div>"
   ]
  },
  {
   "cell_type": "code",
   "execution_count": 39,
   "id": "2875aca6",
   "metadata": {},
   "outputs": [
    {
     "data": {
      "text/html": [
       "<div>\n",
       "<style scoped>\n",
       "    .dataframe tbody tr th:only-of-type {\n",
       "        vertical-align: middle;\n",
       "    }\n",
       "\n",
       "    .dataframe tbody tr th {\n",
       "        vertical-align: top;\n",
       "    }\n",
       "\n",
       "    .dataframe thead tr th {\n",
       "        text-align: left;\n",
       "    }\n",
       "\n",
       "    .dataframe thead tr:last-of-type th {\n",
       "        text-align: right;\n",
       "    }\n",
       "</style>\n",
       "<table border=\"1\" class=\"dataframe\">\n",
       "  <thead>\n",
       "    <tr>\n",
       "      <th></th>\n",
       "      <th colspan=\"2\" halign=\"left\">mean</th>\n",
       "      <th colspan=\"2\" halign=\"left\">median</th>\n",
       "      <th colspan=\"2\" halign=\"left\">std</th>\n",
       "      <th colspan=\"2\" halign=\"left\">var</th>\n",
       "    </tr>\n",
       "    <tr>\n",
       "      <th></th>\n",
       "      <th>distance</th>\n",
       "      <th>duration</th>\n",
       "      <th>distance</th>\n",
       "      <th>duration</th>\n",
       "      <th>distance</th>\n",
       "      <th>duration</th>\n",
       "      <th>distance</th>\n",
       "      <th>duration</th>\n",
       "    </tr>\n",
       "    <tr>\n",
       "      <th>subscription_type</th>\n",
       "      <th></th>\n",
       "      <th></th>\n",
       "      <th></th>\n",
       "      <th></th>\n",
       "      <th></th>\n",
       "      <th></th>\n",
       "      <th></th>\n",
       "      <th></th>\n",
       "    </tr>\n",
       "  </thead>\n",
       "  <tbody>\n",
       "    <tr>\n",
       "      <th>free</th>\n",
       "      <td>3045.495282</td>\n",
       "      <td>17.390909</td>\n",
       "      <td>3114.648465</td>\n",
       "      <td>17.326890</td>\n",
       "      <td>1246.173806</td>\n",
       "      <td>6.326803</td>\n",
       "      <td>1.552949e+06</td>\n",
       "      <td>40.028434</td>\n",
       "    </tr>\n",
       "    <tr>\n",
       "      <th>ultra</th>\n",
       "      <td>3115.445388</td>\n",
       "      <td>18.541985</td>\n",
       "      <td>3148.637229</td>\n",
       "      <td>18.178153</td>\n",
       "      <td>836.895330</td>\n",
       "      <td>5.572048</td>\n",
       "      <td>7.003938e+05</td>\n",
       "      <td>31.047723</td>\n",
       "    </tr>\n",
       "  </tbody>\n",
       "</table>\n",
       "</div>"
      ],
      "text/plain": [
       "                          mean                  median             \\\n",
       "                      distance   duration     distance   duration   \n",
       "subscription_type                                                   \n",
       "free               3045.495282  17.390909  3114.648465  17.326890   \n",
       "ultra              3115.445388  18.541985  3148.637229  18.178153   \n",
       "\n",
       "                           std                     var             \n",
       "                      distance  duration      distance   duration  \n",
       "subscription_type                                                  \n",
       "free               1246.173806  6.326803  1.552949e+06  40.028434  \n",
       "ultra               836.895330  5.572048  7.003938e+05  31.047723  "
      ]
     },
     "execution_count": 39,
     "metadata": {},
     "output_type": "execute_result"
    }
   ],
   "source": [
    "merged_df.pivot_table(index='subscription_type', \n",
    "                      values=[\"distance\", \"duration\"],\n",
    "                      aggfunc=[\"mean\", \"median\", \"std\", \"var\"],\n",
    "                      fill_value=0)"
   ]
  },
  {
   "cell_type": "markdown",
   "id": "5e26e035",
   "metadata": {},
   "source": [
    "Из визуализации информацию о расстоянии и времени поездок для пользователей обеих категорий можно сказать, что пользователи без подписки проезжают меньшее расстояние.\n",
    "По средней и медиане, пользователи с подпиской катаются немного дольше и дальше, а судя по стандартному отклонения и дисперсии пользователи с подпиской более стабильны во времени и дистанции. \n"
   ]
  },
  {
   "cell_type": "markdown",
   "id": "ec47667f",
   "metadata": {},
   "source": [
    "#### Шаг 5. Подсчёт выручки"
   ]
  },
  {
   "cell_type": "code",
   "execution_count": 86,
   "id": "c45005d0",
   "metadata": {
    "tags": []
   },
   "outputs": [
    {
     "name": "stdout",
     "output_type": "stream",
     "text": [
      "                              sum               count         \n",
      "                         distance   duration distance duration\n",
      "month_number user_id                                          \n",
      "1            1        7027.511294  41.416640        2        2\n",
      "             3        3061.777147  12.654443        1        1\n",
      "             5        3914.646990  12.395153        1        1\n",
      "             7        6478.080979  27.653450        2        2\n",
      "             12       3577.151148  32.462907        1        1\n",
      "...                           ...        ...      ...      ...\n",
      "12           1525     4597.854350  33.220866        1        1\n",
      "             1526     3644.121544  22.665456        1        1\n",
      "             1528     3998.569324  10.272902        1        1\n",
      "             1532     6111.889853  40.128222        2        2\n",
      "             1534     2371.711192  15.893917        1        1\n",
      "\n",
      "[11331 rows x 4 columns]\n"
     ]
    }
   ],
   "source": [
    "# сводная таблица агрегированных данных\n",
    "pt_df = pd.pivot_table(merged_df,\n",
    "               index=['month_number', 'user_id'],\n",
    "               values=[\"distance\", \"duration\"],\n",
    "               aggfunc=[\"sum\", \"count\"]\n",
    "                       )\n",
    "\n",
    "print(pt_df)"
   ]
  },
  {
   "cell_type": "code",
   "execution_count": 87,
   "id": "a84ee19a-555b-4b00-9006-72eab3253aed",
   "metadata": {
    "tags": []
   },
   "outputs": [],
   "source": [
    "# округлим продолжительность в большую сторону\n",
    "merged_df['duration'] = np.ceil(merged_df['duration']) "
   ]
  },
  {
   "cell_type": "code",
   "execution_count": 88,
   "id": "6cecadb8",
   "metadata": {
    "tags": []
   },
   "outputs": [
    {
     "data": {
      "text/html": [
       "<div>\n",
       "<style scoped>\n",
       "    .dataframe tbody tr th:only-of-type {\n",
       "        vertical-align: middle;\n",
       "    }\n",
       "\n",
       "    .dataframe tbody tr th {\n",
       "        vertical-align: top;\n",
       "    }\n",
       "\n",
       "    .dataframe thead th {\n",
       "        text-align: right;\n",
       "    }\n",
       "</style>\n",
       "<table border=\"1\" class=\"dataframe\">\n",
       "  <thead>\n",
       "    <tr style=\"text-align: right;\">\n",
       "      <th></th>\n",
       "      <th>month_number</th>\n",
       "      <th>user_id</th>\n",
       "      <th>total_distance</th>\n",
       "      <th>total_duration</th>\n",
       "      <th>minute_price</th>\n",
       "      <th>start_ride_price</th>\n",
       "      <th>subscription_fee</th>\n",
       "      <th>subscription_type</th>\n",
       "      <th>trip_count</th>\n",
       "    </tr>\n",
       "  </thead>\n",
       "  <tbody>\n",
       "    <tr>\n",
       "      <th>0</th>\n",
       "      <td>1</td>\n",
       "      <td>1</td>\n",
       "      <td>7027.511294</td>\n",
       "      <td>42.0</td>\n",
       "      <td>6</td>\n",
       "      <td>0</td>\n",
       "      <td>199</td>\n",
       "      <td>ultra</td>\n",
       "      <td>2</td>\n",
       "    </tr>\n",
       "    <tr>\n",
       "      <th>1</th>\n",
       "      <td>1</td>\n",
       "      <td>3</td>\n",
       "      <td>3061.777147</td>\n",
       "      <td>13.0</td>\n",
       "      <td>6</td>\n",
       "      <td>0</td>\n",
       "      <td>199</td>\n",
       "      <td>ultra</td>\n",
       "      <td>1</td>\n",
       "    </tr>\n",
       "    <tr>\n",
       "      <th>2</th>\n",
       "      <td>1</td>\n",
       "      <td>5</td>\n",
       "      <td>3914.646990</td>\n",
       "      <td>13.0</td>\n",
       "      <td>6</td>\n",
       "      <td>0</td>\n",
       "      <td>199</td>\n",
       "      <td>ultra</td>\n",
       "      <td>1</td>\n",
       "    </tr>\n",
       "    <tr>\n",
       "      <th>3</th>\n",
       "      <td>1</td>\n",
       "      <td>7</td>\n",
       "      <td>6478.080979</td>\n",
       "      <td>28.0</td>\n",
       "      <td>6</td>\n",
       "      <td>0</td>\n",
       "      <td>199</td>\n",
       "      <td>ultra</td>\n",
       "      <td>2</td>\n",
       "    </tr>\n",
       "    <tr>\n",
       "      <th>4</th>\n",
       "      <td>1</td>\n",
       "      <td>12</td>\n",
       "      <td>3577.151148</td>\n",
       "      <td>33.0</td>\n",
       "      <td>6</td>\n",
       "      <td>0</td>\n",
       "      <td>199</td>\n",
       "      <td>ultra</td>\n",
       "      <td>1</td>\n",
       "    </tr>\n",
       "    <tr>\n",
       "      <th>...</th>\n",
       "      <td>...</td>\n",
       "      <td>...</td>\n",
       "      <td>...</td>\n",
       "      <td>...</td>\n",
       "      <td>...</td>\n",
       "      <td>...</td>\n",
       "      <td>...</td>\n",
       "      <td>...</td>\n",
       "      <td>...</td>\n",
       "    </tr>\n",
       "    <tr>\n",
       "      <th>11326</th>\n",
       "      <td>12</td>\n",
       "      <td>1525</td>\n",
       "      <td>4597.854350</td>\n",
       "      <td>34.0</td>\n",
       "      <td>8</td>\n",
       "      <td>50</td>\n",
       "      <td>0</td>\n",
       "      <td>free</td>\n",
       "      <td>1</td>\n",
       "    </tr>\n",
       "    <tr>\n",
       "      <th>11327</th>\n",
       "      <td>12</td>\n",
       "      <td>1526</td>\n",
       "      <td>3644.121544</td>\n",
       "      <td>23.0</td>\n",
       "      <td>8</td>\n",
       "      <td>50</td>\n",
       "      <td>0</td>\n",
       "      <td>free</td>\n",
       "      <td>1</td>\n",
       "    </tr>\n",
       "    <tr>\n",
       "      <th>11328</th>\n",
       "      <td>12</td>\n",
       "      <td>1528</td>\n",
       "      <td>3998.569324</td>\n",
       "      <td>11.0</td>\n",
       "      <td>8</td>\n",
       "      <td>50</td>\n",
       "      <td>0</td>\n",
       "      <td>free</td>\n",
       "      <td>1</td>\n",
       "    </tr>\n",
       "    <tr>\n",
       "      <th>11329</th>\n",
       "      <td>12</td>\n",
       "      <td>1532</td>\n",
       "      <td>6111.889853</td>\n",
       "      <td>42.0</td>\n",
       "      <td>8</td>\n",
       "      <td>50</td>\n",
       "      <td>0</td>\n",
       "      <td>free</td>\n",
       "      <td>2</td>\n",
       "    </tr>\n",
       "    <tr>\n",
       "      <th>11330</th>\n",
       "      <td>12</td>\n",
       "      <td>1534</td>\n",
       "      <td>2371.711192</td>\n",
       "      <td>16.0</td>\n",
       "      <td>8</td>\n",
       "      <td>50</td>\n",
       "      <td>0</td>\n",
       "      <td>free</td>\n",
       "      <td>1</td>\n",
       "    </tr>\n",
       "  </tbody>\n",
       "</table>\n",
       "<p>11331 rows × 9 columns</p>\n",
       "</div>"
      ],
      "text/plain": [
       "       month_number  user_id  total_distance  total_duration  minute_price  \\\n",
       "0                 1        1     7027.511294            42.0             6   \n",
       "1                 1        3     3061.777147            13.0             6   \n",
       "2                 1        5     3914.646990            13.0             6   \n",
       "3                 1        7     6478.080979            28.0             6   \n",
       "4                 1       12     3577.151148            33.0             6   \n",
       "...             ...      ...             ...             ...           ...   \n",
       "11326            12     1525     4597.854350            34.0             8   \n",
       "11327            12     1526     3644.121544            23.0             8   \n",
       "11328            12     1528     3998.569324            11.0             8   \n",
       "11329            12     1532     6111.889853            42.0             8   \n",
       "11330            12     1534     2371.711192            16.0             8   \n",
       "\n",
       "       start_ride_price  subscription_fee subscription_type  trip_count  \n",
       "0                     0               199             ultra           2  \n",
       "1                     0               199             ultra           1  \n",
       "2                     0               199             ultra           1  \n",
       "3                     0               199             ultra           2  \n",
       "4                     0               199             ultra           1  \n",
       "...                 ...               ...               ...         ...  \n",
       "11326                50                 0              free           1  \n",
       "11327                50                 0              free           1  \n",
       "11328                50                 0              free           1  \n",
       "11329                50                 0              free           2  \n",
       "11330                50                 0              free           1  \n",
       "\n",
       "[11331 rows x 9 columns]"
      ]
     },
     "metadata": {},
     "output_type": "display_data"
    },
    {
     "name": "stdout",
     "output_type": "stream",
     "text": [
      "<class 'pandas.core.frame.DataFrame'>\n",
      "RangeIndex: 11331 entries, 0 to 11330\n",
      "Data columns (total 9 columns):\n",
      " #   Column             Non-Null Count  Dtype  \n",
      "---  ------             --------------  -----  \n",
      " 0   month_number       11331 non-null  int32  \n",
      " 1   user_id            11331 non-null  int64  \n",
      " 2   total_distance     11331 non-null  float64\n",
      " 3   total_duration     11331 non-null  float64\n",
      " 4   minute_price       11331 non-null  int64  \n",
      " 5   start_ride_price   11331 non-null  int64  \n",
      " 6   subscription_fee   11331 non-null  int64  \n",
      " 7   subscription_type  11331 non-null  object \n",
      " 8   trip_count         11331 non-null  int64  \n",
      "dtypes: float64(2), int32(1), int64(5), object(1)\n",
      "memory usage: 752.6+ KB\n"
     ]
    }
   ],
   "source": [
    "# таблица сгруппированных данных \n",
    "agg_df = merged_df.groupby(['month_number', 'user_id']).agg({\n",
    "    'distance': 'sum',\n",
    "    'duration': 'sum',\n",
    "    'minute_price': 'first',\n",
    "    'start_ride_price': 'first',\n",
    "    'subscription_fee': 'first',\n",
    "    'subscription_type': 'max'\n",
    "}).reset_index()\n",
    "#  добавляем колонку с киличеством элементов в группе\n",
    "agg_df['trip_count'] = merged_df.groupby(['month_number', 'user_id']).size().reset_index(name='trip_count')['trip_count']\n",
    "\n",
    "# Переименование столбцов для ясности\n",
    "agg_df = agg_df.rename(columns={\n",
    "    'distance': 'total_distance',\n",
    "    'duration': 'total_duration'\n",
    "})\n",
    "\n",
    "# Вывод агрегированных данных\n",
    "display(agg_df)\n",
    "agg_df.info()"
   ]
  },
  {
   "cell_type": "markdown",
   "id": "3bdb7c30",
   "metadata": {},
   "source": [
    "В полученной таблице пропусков нет, типы советуют описанию, это важно в последующих расчетах"
   ]
  },
  {
   "cell_type": "code",
   "execution_count": 42,
   "id": "38ed781b",
   "metadata": {},
   "outputs": [],
   "source": [
    "# def monthly_income_calculation(row):\n",
    "    \n",
    "#     subscription_type = row['subscription_type']\n",
    "#     total_duration = row['total_duration']\n",
    "#     trip_count = row['trip_count']\n",
    "   \n",
    "#     if subscription_type == 'ultra':\n",
    "#         return round((199 + 6*total_duration), 2)\n",
    "#     elif subscription_type == 'free':\n",
    "#         return round((8*total_duration + 50*trip_count), 2)\n",
    "#     else:\n",
    "#         return 0\n",
    "    \n",
    "    "
   ]
  },
  {
   "cell_type": "code",
   "execution_count": 89,
   "id": "4dd55298",
   "metadata": {
    "tags": []
   },
   "outputs": [
    {
     "data": {
      "text/html": [
       "<div>\n",
       "<style scoped>\n",
       "    .dataframe tbody tr th:only-of-type {\n",
       "        vertical-align: middle;\n",
       "    }\n",
       "\n",
       "    .dataframe tbody tr th {\n",
       "        vertical-align: top;\n",
       "    }\n",
       "\n",
       "    .dataframe thead th {\n",
       "        text-align: right;\n",
       "    }\n",
       "</style>\n",
       "<table border=\"1\" class=\"dataframe\">\n",
       "  <thead>\n",
       "    <tr style=\"text-align: right;\">\n",
       "      <th></th>\n",
       "      <th>month_number</th>\n",
       "      <th>user_id</th>\n",
       "      <th>total_distance</th>\n",
       "      <th>total_duration</th>\n",
       "      <th>minute_price</th>\n",
       "      <th>start_ride_price</th>\n",
       "      <th>subscription_fee</th>\n",
       "      <th>subscription_type</th>\n",
       "      <th>trip_count</th>\n",
       "      <th>monthly_revenue</th>\n",
       "    </tr>\n",
       "  </thead>\n",
       "  <tbody>\n",
       "    <tr>\n",
       "      <th>0</th>\n",
       "      <td>1</td>\n",
       "      <td>1</td>\n",
       "      <td>7027.511294</td>\n",
       "      <td>42.0</td>\n",
       "      <td>6</td>\n",
       "      <td>0</td>\n",
       "      <td>199</td>\n",
       "      <td>ultra</td>\n",
       "      <td>2</td>\n",
       "      <td>451.0</td>\n",
       "    </tr>\n",
       "    <tr>\n",
       "      <th>1</th>\n",
       "      <td>1</td>\n",
       "      <td>3</td>\n",
       "      <td>3061.777147</td>\n",
       "      <td>13.0</td>\n",
       "      <td>6</td>\n",
       "      <td>0</td>\n",
       "      <td>199</td>\n",
       "      <td>ultra</td>\n",
       "      <td>1</td>\n",
       "      <td>277.0</td>\n",
       "    </tr>\n",
       "    <tr>\n",
       "      <th>2</th>\n",
       "      <td>1</td>\n",
       "      <td>5</td>\n",
       "      <td>3914.646990</td>\n",
       "      <td>13.0</td>\n",
       "      <td>6</td>\n",
       "      <td>0</td>\n",
       "      <td>199</td>\n",
       "      <td>ultra</td>\n",
       "      <td>1</td>\n",
       "      <td>277.0</td>\n",
       "    </tr>\n",
       "    <tr>\n",
       "      <th>3</th>\n",
       "      <td>1</td>\n",
       "      <td>7</td>\n",
       "      <td>6478.080979</td>\n",
       "      <td>28.0</td>\n",
       "      <td>6</td>\n",
       "      <td>0</td>\n",
       "      <td>199</td>\n",
       "      <td>ultra</td>\n",
       "      <td>2</td>\n",
       "      <td>367.0</td>\n",
       "    </tr>\n",
       "    <tr>\n",
       "      <th>4</th>\n",
       "      <td>1</td>\n",
       "      <td>12</td>\n",
       "      <td>3577.151148</td>\n",
       "      <td>33.0</td>\n",
       "      <td>6</td>\n",
       "      <td>0</td>\n",
       "      <td>199</td>\n",
       "      <td>ultra</td>\n",
       "      <td>1</td>\n",
       "      <td>397.0</td>\n",
       "    </tr>\n",
       "  </tbody>\n",
       "</table>\n",
       "</div>"
      ],
      "text/plain": [
       "   month_number  user_id  total_distance  total_duration  minute_price  \\\n",
       "0             1        1     7027.511294            42.0             6   \n",
       "1             1        3     3061.777147            13.0             6   \n",
       "2             1        5     3914.646990            13.0             6   \n",
       "3             1        7     6478.080979            28.0             6   \n",
       "4             1       12     3577.151148            33.0             6   \n",
       "\n",
       "   start_ride_price  subscription_fee subscription_type  trip_count  \\\n",
       "0                 0               199             ultra           2   \n",
       "1                 0               199             ultra           1   \n",
       "2                 0               199             ultra           1   \n",
       "3                 0               199             ultra           2   \n",
       "4                 0               199             ultra           1   \n",
       "\n",
       "   monthly_revenue  \n",
       "0            451.0  \n",
       "1            277.0  \n",
       "2            277.0  \n",
       "3            367.0  \n",
       "4            397.0  "
      ]
     },
     "metadata": {},
     "output_type": "display_data"
    }
   ],
   "source": [
    "# agg_df['monthly_revenue'] = agg_df.apply(monthly_income_calculation, axis=1)\n",
    "agg_df['monthly_revenue'] = round(                  # округление\n",
    "                            agg_df['subscription_fee']+ #тариф\n",
    "                            agg_df['total_duration']*agg_df['minute_price'] +  #повременная оплата\n",
    "                            agg_df['trip_count']*agg_df['start_ride_price'] #оплата старта\n",
    "                            , 2)\n",
    "display(agg_df.head(5))"
   ]
  },
  {
   "cell_type": "markdown",
   "id": "9bf776f8",
   "metadata": {},
   "source": [
    "<div class=\"alert alert-block alert-danger\">\n",
    "<b>❌Комментарий ревьюера 2:</b> ✔\n",
    "    \n",
    "Метод округления продолжительности поездок выбран верный, но округлять необходимо каждую поездку, то есть в исходной таблице до агрегирования.\n",
    "\n",
    "\n",
    "</div>"
   ]
  },
  {
   "cell_type": "markdown",
   "id": "d7669d2b",
   "metadata": {},
   "source": [
    "<div class=\"alert alert-block alert-warning\">\n",
    "<b>🔁Комментарий ревьюера:</b> ✔\n",
    "\n",
    "Метод apply применяет функцию построчно, это может быть критично на больших данных, код будет работать очень долго. Тут оптимальнее будет посчитать выручку с помощью простых векторных операций со столбцами (арифметические действия).\n",
    "\n",
    "\n",
    "Код всегда стоит писать более универсальным, без ручного внесения значений. В объединенной таблице у нас уже есть все значения по тарифам для расчета выручки, их можно перенести в сводную таблицу, указав при группировке для них агрегирующую функцию 'first' (или 'max', как это было сделано для типа подписки). Или можно к сводной таблице присоединить таблицу с подписками. Тогда все необходимые данные будут в сводной таблице и мы сможем посчитать выручку простыми арифметическими действиями со столбцами сводной таблицы и формула будет единой для обеих групп пользователей.</div>"
   ]
  },
  {
   "cell_type": "markdown",
   "id": "5693c6e5",
   "metadata": {},
   "source": [
    "<div class=\"alert alert-block alert-success\">\n",
    "<b>✅Комментарий ревьюера 2:</b> Отлично, исправлено!👍  </div>"
   ]
  },
  {
   "cell_type": "markdown",
   "id": "462a92a6",
   "metadata": {},
   "source": [
    "Формируем агрегированную таблицу с группировкой по номеру месяца и пользователю с агрегированием по дистанции, продолжительности поездки и количеству поездок в месяц.\n",
    "\n",
    "На основе этих данных рассчитываем прибыль в зависимости от тарифов (дистанцию округлили в самом начале). \n"
   ]
  },
  {
   "cell_type": "markdown",
   "id": "880f127a",
   "metadata": {},
   "source": [
    "<div class=\"alert alert-block alert-success\">\n",
    "<b>✅Комментарий ревьюера:</b> Значения выручки рассчитаны верно!  </div>"
   ]
  },
  {
   "cell_type": "code",
   "execution_count": 27,
   "id": "62117235",
   "metadata": {
    "tags": []
   },
   "outputs": [],
   "source": [
    "pv_mn = pd.DataFrame(\n",
    "            pd.pivot_table(agg_df, index=[\"month_number\"], \n",
    "               values=[\"monthly_revenue\"],\n",
    "               # columns=['monthly_revenue']\n",
    "               aggfunc=[\n",
    "                      # \"mean\", \n",
    "                       # \"sum\", \n",
    "                        \"count\"\n",
    "                      ]\n",
    "            )\n",
    "         )\n",
    "\n",
    "# pv_mn = pd.DataFrame(pv_mn)\n",
    "# print(pv_mn.info())\n",
    "# display(pv_mn)\n",
    "# pv_mn.columns()"
   ]
  },
  {
   "cell_type": "code",
   "execution_count": 28,
   "id": "391d8274",
   "metadata": {
    "tags": []
   },
   "outputs": [
    {
     "data": {
      "text/plain": [
       "<Axes: xlabel='None-None', ylabel='month_number'>"
      ]
     },
     "execution_count": 28,
     "metadata": {},
     "output_type": "execute_result"
    },
    {
     "data": {
      "image/png": "[encoded data removed]",
      "text/plain": [
       "<Figure size 640x480 with 2 Axes>"
      ]
     },
     "metadata": {},
     "output_type": "display_data"
    }
   ],
   "source": [
    "sns.heatmap(pv_mn)"
   ]
  },
  {
   "cell_type": "code",
   "execution_count": 29,
   "id": "03959fd9",
   "metadata": {
    "collapsed": true,
    "jupyter": {
     "outputs_hidden": true
    },
    "tags": []
   },
   "outputs": [],
   "source": [
    "#sns.barplot(data=pv_mn, x=('month_number'), y=('monthly_revenue'))"
   ]
  },
  {
   "cell_type": "markdown",
   "id": "9e372122",
   "metadata": {},
   "source": [
    "По месяцам ни средняя, ни общая прибыль сильно не отличается. Транспорт всесезонный.\n",
    "\n",
    "Наименьшее число катающихся в феврале, а наибольшее в январе и мае, праздники :)"
   ]
  },
  {
   "cell_type": "markdown",
   "id": "589c56ee",
   "metadata": {},
   "source": [
    "<div class=\"alert alert-block alert-info\">\n",
    "    \n",
    "Как построить гистограмму, что бы по X были месяцы, по Y прибыль?\n",
    "Получается на оборот.\n",
    "    \n",
    "</div>"
   ]
  },
  {
   "cell_type": "markdown",
   "id": "41ce6cef",
   "metadata": {},
   "source": [
    "<div class=\"alert alert-block alert-warning\">\n",
    "<b>🔁Комментарий ревьюера:</b> \n",
    "    \n",
    "Для этого нужно строить не гистограмму, а [барплот](https://seaborn.pydata.org/generated/seaborn.barplot.html)\n",
    "\n",
    "</div>"
   ]
  },
  {
   "cell_type": "markdown",
   "id": "3eb0d289",
   "metadata": {},
   "source": [
    "<div class=\"alert alert-block alert-info\">\n",
    "    \n",
    "V2 Барплот дает ошибку, хочет датафрем или массив, тепловая карта сработала\n",
    "    \n",
    "</div>"
   ]
  },
  {
   "cell_type": "markdown",
   "id": "a22212ab",
   "metadata": {},
   "source": [
    "<div class=\"alert alert-block alert-warning\">\n",
    "<b>🔁Комментарий ревьюера 2:</b> \n",
    "    \n",
    "Ошибка скорее всего из-за того, что в таблице есть двойные индексы и барплот просто не видит указанный столбец\n",
    "    \n",
    "    \n",
    "Не нужно отправлять на проверку неработающий код (я его закомментировал), это может быть причиной возврата работы без проверки.\n",
    "\n",
    "</div>"
   ]
  },
  {
   "cell_type": "markdown",
   "id": "f4cb9fdf",
   "metadata": {},
   "source": [
    "#### Шаг 6. Проверка гипотез"
   ]
  },
  {
   "cell_type": "code",
   "execution_count": 30,
   "id": "7a351021",
   "metadata": {
    "tags": []
   },
   "outputs": [
    {
     "data": {
      "text/plain": [
       "True"
      ]
     },
     "execution_count": 30,
     "metadata": {},
     "output_type": "execute_result"
    }
   ],
   "source": [
    "len(ultra_df) < len(free_df)"
   ]
  },
  {
   "cell_type": "code",
   "execution_count": 90,
   "id": "79ef7cf2",
   "metadata": {
    "tags": []
   },
   "outputs": [
    {
     "data": {
      "text/plain": [
       "True"
      ]
     },
     "execution_count": 90,
     "metadata": {},
     "output_type": "execute_result"
    }
   ],
   "source": [
    "# количество поездок в разных группах не равно, из меньшей группы возьмём все значения, \n",
    "# из большей случайным образом количество строк, соответствующих меньшей группе.\n",
    "\n",
    "# if len(ultra_df) > len(free_df):\n",
    "#     sample_size = len(free_df)\n",
    "#     selection_1 = free_df\n",
    "#     selection_2 = ultra_df.copy()\n",
    "#     all_indexes = ultra_df.index.values\n",
    "# else:\n",
    "sample_size = len(ultra_df)\n",
    "selection_ultra = ultra_df\n",
    "# selection_free = free_df.copy()\n",
    "all_indexes = free_df.index.values\n",
    "\n",
    "random_indexes = np.random.choice(all_indexes, size=sample_size, replace=False)\n",
    "\n",
    "selection_free = free_df.iloc[random_indexes]    \n",
    "\n",
    "len(selection_free) == len(selection_ultra)"
   ]
  },
  {
   "cell_type": "markdown",
   "id": "79751b4a",
   "metadata": {},
   "source": [
    "Для равенства количества записей в выборках делаем одну выборку из всех записей меньшей таблицы, а другую из случайных записей большей таблицы в количестве, равной количеству меньшей таблицы. Записей без подписок больше."
   ]
  },
  {
   "cell_type": "markdown",
   "id": "8f8a3ef1",
   "metadata": {},
   "source": [
    "<div class=\"alert alert-block alert-success\">\n",
    "<b>✅Комментарий ревьюера:</b> Здорово, что формулируешь гипотезы перед проверкой!</div>"
   ]
  },
  {
   "cell_type": "markdown",
   "id": "fc365235",
   "metadata": {},
   "source": [
    "<div class=\"alert alert-block alert-warning\">\n",
    "<b>🔁Комментарий ревьюера:</b> ✔\n",
    "\n",
    "Но делать это лучше в ячейках типа Markdown</div>"
   ]
  },
  {
   "cell_type": "markdown",
   "id": "c186cec2",
   "metadata": {},
   "source": [
    "Проверим гипотезу, что пользователи с подпиской катаются дольше, чем без. \n",
    "\n",
    "Нулевая гипотеза: средняя продолжительность поездок с подпиской равна продолжительность поездок без подписки.\n",
    "\n",
    "Альтернативная гипотеза: средняя продолжительность поездок с подпиской больше чем без подписки."
   ]
  },
  {
   "cell_type": "markdown",
   "id": "b2f01c3f",
   "metadata": {
    "id": "5766e785"
   },
   "source": [
    "<div class=\"alert alert-block alert-danger\">\n",
    "<b>❌Комментарий ревьюера 2:</b> ✔\n",
    "    \n",
    "Где же теперь формулировки нулевой и альтернативной гипотез?\n",
    "</div>"
   ]
  },
  {
   "cell_type": "code",
   "execution_count": 91,
   "id": "172d0cc4",
   "metadata": {
    "tags": []
   },
   "outputs": [
    {
     "name": "stdout",
     "output_type": "stream",
     "text": [
      "p-значение: 1.4981073193390723e-29\n",
      "Отвергаем нулевую гипотезу: есть статистически значимые различия (пользователи с подпиской ездят дольше).\n"
     ]
    }
   ],
   "source": [
    "alpha = 0.05# задайте уровень стат. значимости\n",
    "ultra_df['duration']\n",
    "\n",
    "results = st.ttest_ind(selection_ultra['duration'], selection_free['duration'] \n",
    "                        # ,alternative='less'\n",
    "                        ,alternative='greater'\n",
    "                         ) # проведите тест и посчитайте p-значение\n",
    "\n",
    "# выведите на экран полученное p-значение\n",
    "print('p-значение:', results.pvalue)\n",
    "# Вывод результатов теста\n",
    "# print(f\"T-статистика: {results}\")\n",
    "# print(f\"P-значение: {p_value}\")\n",
    "if results.pvalue < alpha:\n",
    "    print('Отвергаем нулевую гипотезу: есть статистически значимые различия (пользователи с подпиской ездят дольше).')\n",
    "else:\n",
    "    print('Не отвергаем нулевую гипотезу: статистически значимых различий нет (пользователи с подпиской не ездят дольше).')"
   ]
  },
  {
   "cell_type": "markdown",
   "id": "39a4230c",
   "metadata": {},
   "source": [
    "Проверяем нулевую о равенстве и альтернативную правостороннюю гипотезу о том, что истинное среднее генеральной совокупности, из которой взяли первую выборку (пользователи с подпиской), больше, чем истинное среднее генеральной совокупности, из которой взяли вторую (пользователи без подписки).\n",
    "\n",
    "Отвергаем нулевую гипотезу: есть статистически значимые различия (пользователи с подпиской ездят дольше)."
   ]
  },
  {
   "cell_type": "markdown",
   "id": "38336c9a-3b23-44f8-9704-81678ee68005",
   "metadata": {
    "tags": []
   },
   "source": [
    "<div class=\"alert alert-block alert-info\">\n",
    "    \n",
    "  V3 Разобрался, я думал, что отвергается альтернативная гипотеза, а отвергается нулевая в пользу указанной альтернативной. Верно?\n",
    "    \n",
    "</div>"
   ]
  },
  {
   "cell_type": "markdown",
   "id": "e4bca328",
   "metadata": {
    "id": "5766e785"
   },
   "source": [
    "<div class=\"alert alert-block alert-danger\">\n",
    "<b>❌Комментарий ревьюера 2:</b> ✔\n",
    "    \n",
    " - Вывод неверный\n",
    "    \n",
    " - Метод для проверки гипотезы выбран все еще неправильно. Разве выборки у нас являются зависимыми?\n",
    "</div>"
   ]
  },
  {
   "cell_type": "markdown",
   "id": "506f11c9",
   "metadata": {
    "id": "5766e785"
   },
   "source": [
    "<div class=\"alert alert-block alert-danger\">\n",
    "<b>❌Комментарий ревьюера:</b> ✔\n",
    "    \n",
    " - Проверку нам достаточно сделать один раз (односторонней гипотезы, с указанием параметра alternative\n",
    "    \n",
    " - Метод для проверки гипотезы выбран неверный\n",
    "    \n",
    " - Переменные, где хранятся выборки следует называть более осмысленно, чтобы было понятно в какой переменной какая выборка хранится. \n",
    "</div>"
   ]
  },
  {
   "cell_type": "code",
   "execution_count": 50,
   "id": "9da4c747",
   "metadata": {},
   "outputs": [
    {
     "data": {
      "text/html": [
       "<div>\n",
       "<style scoped>\n",
       "    .dataframe tbody tr th:only-of-type {\n",
       "        vertical-align: middle;\n",
       "    }\n",
       "\n",
       "    .dataframe tbody tr th {\n",
       "        vertical-align: top;\n",
       "    }\n",
       "\n",
       "    .dataframe thead tr th {\n",
       "        text-align: left;\n",
       "    }\n",
       "\n",
       "    .dataframe thead tr:last-of-type th {\n",
       "        text-align: right;\n",
       "    }\n",
       "</style>\n",
       "<table border=\"1\" class=\"dataframe\">\n",
       "  <thead>\n",
       "    <tr>\n",
       "      <th></th>\n",
       "      <th>mean</th>\n",
       "    </tr>\n",
       "    <tr>\n",
       "      <th></th>\n",
       "      <th>duration</th>\n",
       "    </tr>\n",
       "    <tr>\n",
       "      <th>subscription_type</th>\n",
       "      <th></th>\n",
       "    </tr>\n",
       "  </thead>\n",
       "  <tbody>\n",
       "    <tr>\n",
       "      <th>free</th>\n",
       "      <td>17.390909</td>\n",
       "    </tr>\n",
       "    <tr>\n",
       "      <th>ultra</th>\n",
       "      <td>18.541985</td>\n",
       "    </tr>\n",
       "  </tbody>\n",
       "</table>\n",
       "</div>"
      ],
      "text/plain": [
       "                        mean\n",
       "                    duration\n",
       "subscription_type           \n",
       "free               17.390909\n",
       "ultra              18.541985"
      ]
     },
     "execution_count": 50,
     "metadata": {},
     "output_type": "execute_result"
    }
   ],
   "source": [
    "merged_df.pivot_table(index='subscription_type', values=\"duration\", aggfunc=[\"mean\"])"
   ]
  },
  {
   "cell_type": "markdown",
   "id": "7653b4e8",
   "metadata": {},
   "source": [
    "Проверяем вторую гипотезу, что среднее расстояние, которое проезжают пользователи с подпиской за одну поездку, не превышает 3130 метров. \n",
    "\n",
    "Здесь нулевая гипотеза: средний пробег пользователей с подпиской за одну поездку равен 3130 метрам, альтернативная гипотеза: что средний пробег превышает предполагаемое значение. "
   ]
  },
  {
   "cell_type": "code",
   "execution_count": 95,
   "id": "5750c8d7",
   "metadata": {
    "tags": []
   },
   "outputs": [],
   "source": [
    "screens = ultra_df['distance']"
   ]
  },
  {
   "cell_type": "markdown",
   "id": "765606f6",
   "metadata": {
    "id": "5766e785"
   },
   "source": [
    "<div class=\"alert alert-block alert-danger\">\n",
    "<b>❌Комментарий ревьюера:</b> ✔ \n",
    "    \n",
    "Тут тоже необходимо сформулировать нулевую  и альтернативную гипотезы.</div>"
   ]
  },
  {
   "cell_type": "markdown",
   "id": "2e644f44",
   "metadata": {},
   "source": [
    "<div class=\"alert alert-block alert-success\">\n",
    "<b>✅Комментарий ревьюера 2:</b> Отлично, исправлено!👍  </div>"
   ]
  },
  {
   "cell_type": "code",
   "execution_count": 96,
   "id": "40415a03",
   "metadata": {
    "tags": []
   },
   "outputs": [
    {
     "name": "stdout",
     "output_type": "stream",
     "text": [
      "p-значение: 0.08046311521502146\n",
      "Не отвергаем гипотезу\n",
      "Среднее: 3115.4453880370247\n"
     ]
    }
   ],
   "source": [
    "\n",
    "optimal_mileage = 3130\n",
    "\n",
    "alpha = 0.05 # уровень статистической значимости\n",
    "\n",
    "#Для проведения одностороннего теста используйте alternative='greater' или alternative='less'.\n",
    "results = st.ttest_1samp(\n",
    "    screens, \n",
    "    optimal_mileage,\n",
    "    # alternative='greater'  #истинное среднее больше предполагаемого значения\n",
    "    alternative='less'      #истинное среднее меньше предполагаемого значения\n",
    "    )\n",
    "\n",
    "print('p-значение:', results.pvalue)\n",
    "\n",
    "if (results.pvalue < alpha):\n",
    "    print('Отвергаем гипотезу')\n",
    "else:\n",
    "    print('Не отвергаем гипотезу') \n",
    "    \n",
    "print('Среднее:', screens.mean())   "
   ]
  },
  {
   "cell_type": "markdown",
   "id": "c0809b61",
   "metadata": {},
   "source": [
    "Нулевая гипотеза не отвергнута. Средний пробег не превышает 3 130 метров.\n",
    " \n",
    "Можно сказать, что среднее расстояние, которое проезжают пользователи с подпиской за одну поездку, не превышает 3 130  метров."
   ]
  },
  {
   "cell_type": "markdown",
   "id": "04fc98ab",
   "metadata": {
    "id": "5766e785"
   },
   "source": [
    "<div class=\"alert alert-block alert-danger\">\n",
    "<b>❌Комментарий ревьюера:</b> ✔\n",
    "\n",
    "Можно ли сказать, что среднее расстояние, которое проезжают пользователи с подпиской за одну поездку, не превышает 3130 метров? </div>"
   ]
  },
  {
   "cell_type": "markdown",
   "id": "bd317359",
   "metadata": {},
   "source": [
    "<div class=\"alert alert-block alert-success\">\n",
    "<b>✅Комментарий ревьюера 2:</b> Отлично, исправлено!👍  </div>"
   ]
  },
  {
   "cell_type": "markdown",
   "id": "4997ff0f",
   "metadata": {},
   "source": [
    "Проверяем следующую гипотезу о том, что помесячная выручка от пользователей с подпиской по месяцам выше, чем выручка от пользователей без подписки. \n",
    "\n",
    "Нулевая гипотеза: средняя продолжительность помесячной выручки с подпиской равна помесячной выручки без подписки.\n",
    "\n",
    "Альтернативная гипотеза: средняя помесячной выручки с подпиской больше чем помесячной выручки без подписки."
   ]
  },
  {
   "cell_type": "markdown",
   "id": "aa0da2dc",
   "metadata": {
    "id": "5766e785"
   },
   "source": [
    "<div class=\"alert alert-block alert-danger\">\n",
    "<b>❌Комментарий ревьюера:</b> ✔\n",
    "    \n",
    "И тут аналогично, необходимо добавить формулировки гипотез.</div>"
   ]
  },
  {
   "cell_type": "markdown",
   "id": "055df027",
   "metadata": {
    "id": "5766e785"
   },
   "source": [
    "<div class=\"alert alert-block alert-danger\">\n",
    "<b>❌Комментарий ревьюера 2:</b> ✔\n",
    "    \n",
    "Комментарий выше не обработан, необходимо сформулировать нулевую и альтернативную гипотезы</div>"
   ]
  },
  {
   "cell_type": "code",
   "execution_count": 97,
   "id": "7570bc03",
   "metadata": {
    "tags": []
   },
   "outputs": [
    {
     "data": {
      "text/plain": [
       "month_number\n",
       "1     193850.0\n",
       "2     165856.0\n",
       "3     187214.0\n",
       "4     185598.0\n",
       "5     188030.0\n",
       "6     192144.0\n",
       "7     185038.0\n",
       "8     187116.0\n",
       "9     193700.0\n",
       "10    181428.0\n",
       "11    179076.0\n",
       "12    195054.0\n",
       "Name: monthly_revenue, dtype: float64"
      ]
     },
     "execution_count": 97,
     "metadata": {},
     "output_type": "execute_result"
    }
   ],
   "source": [
    "selection_free_ = agg_df[agg_df['subscription_type'] == 'free'][\"monthly_revenue\"].groupby(agg_df[\"month_number\"]).sum()\n",
    "# selection_free_ = agg_df[agg_df['subscription_type'] == 'free'][\"monthly_revenue\"].groupby(agg_df[\"month_number\"]).mean()\n",
    "selection_free_"
   ]
  },
  {
   "cell_type": "code",
   "execution_count": 98,
   "id": "201199f4",
   "metadata": {
    "tags": []
   },
   "outputs": [
    {
     "data": {
      "text/plain": [
       "month_number\n",
       "1     144108.0\n",
       "2     124572.0\n",
       "3     142608.0\n",
       "4     137318.0\n",
       "5     149235.0\n",
       "6     143834.0\n",
       "7     143466.0\n",
       "8     138534.0\n",
       "9     129337.0\n",
       "10    133932.0\n",
       "11    126546.0\n",
       "12    131047.0\n",
       "Name: monthly_revenue, dtype: float64"
      ]
     },
     "execution_count": 98,
     "metadata": {},
     "output_type": "execute_result"
    }
   ],
   "source": [
    "selection_ultra_ = agg_df[agg_df['subscription_type'] == 'ultra'][\"monthly_revenue\"].groupby(agg_df[\"month_number\"]).sum()\n",
    "# selection_ultra_ = agg_df[agg_df['subscription_type'] == 'ultra'][\"monthly_revenue\"].groupby(agg_df[\"month_number\"]).mean()\n",
    "selection_ultra_"
   ]
  },
  {
   "cell_type": "code",
   "execution_count": 100,
   "id": "ab9352a8",
   "metadata": {
    "tags": []
   },
   "outputs": [
    {
     "name": "stdout",
     "output_type": "stream",
     "text": [
      "p-значение: 0.9999999999997602\n",
      "Не отвергаем нулевую гипотезу: статистически значимых различий нет (помесячная выручка от пользователей с подпиской не больше).\n"
     ]
    }
   ],
   "source": [
    "alpha = 0.05# задайте уровень стат. значимости\n",
    "\n",
    "results = st.ttest_ind(selection_ultra_, selection_free_,\n",
    "                        alternative='greater'  #истинное среднее больше предполагаемого значения\n",
    "                        # alternative='less'   #истинное среднее меньше предполагаемого значения\n",
    "                        ) # проведите тест и посчитайте p-значение\n",
    "\n",
    "# выведите на экран полученное p-значение\n",
    "print('p-значение:', results.pvalue)\n",
    "\n",
    "if results.pvalue < alpha:\n",
    "    print('Отвергаем нулевую гипотезу: есть статистически значимые различия (помесячная выручка от пользователей с подпиской больше).')\n",
    "else:\n",
    "    print('Не отвергаем нулевую гипотезу: статистически значимых различий нет (помесячная выручка от пользователей с подпиской не больше).')"
   ]
  },
  {
   "cell_type": "markdown",
   "id": "b3233da3",
   "metadata": {
    "id": "5766e785"
   },
   "source": [
    "<div class=\"alert alert-block alert-danger\">\n",
    "<b>❌Комментарий ревьюера:</b> ✔\n",
    "\n",
    "Для проверки гипотезы нам нужно взять две выборки значений выручки без какой-либо группировки.</div>"
   ]
  },
  {
   "cell_type": "markdown",
   "id": "3d795090",
   "metadata": {},
   "source": [
    "Не отвергаем нулевую гипотезу: статистически значимых различий нет.\n",
    "Гипотеза о том, что помесячная выручка от пользователей с подпиской по месяцам выше, чем выручка от пользователей не подтвердилась. "
   ]
  },
  {
   "cell_type": "markdown",
   "id": "3394a32c",
   "metadata": {},
   "source": [
    "<div class=\"alert alert-block alert-info\">\n",
    " \n",
    "V2    В ответе следую логике задания, но ответа не понимаю. Согласно описанию из лекции:\n",
    "    \n",
    "Если указать alternative='less', проверится левосторонняя альтернативная гипотеза о том, что истинное среднее генеральной совокупности, из которой взяли первую выборку, меньше, чем истинное среднее генеральной совокупности, из которой взяли вторую. Если указать alternative='greater', проверится правосторонняя гипотеза.\n",
    "    \n",
    "Из этого определения следует, что мы проверяем среднее с подписками больше чем среднее без подписок, и программа нам отвергает эту гипотезу. Но визуально видно, что это не так.\n",
    "\n",
    "    \n",
    "</div>"
   ]
  },
  {
   "cell_type": "markdown",
   "id": "4af433a5",
   "metadata": {
    "id": "5766e785"
   },
   "source": [
    "<div class=\"alert alert-block alert-danger\">\n",
    "<b>❌Комментарий ревьюера 2:</b> ✔\n",
    "    \n",
    "Будь, пожалуйста, немного внимательнее к комментариям. \n",
    "    \n",
    " - Нам для проверки гипотезы нужно сравнить две выборки всех значений выручек, группировку и расчет среднего делать не нужно.\n",
    "\n",
    " - При results.pvalue < alpha  что мы отвергаем? Нулевую гипотезу... Но ее формулировки нет, поэтому и путаница с выводами.</div>"
   ]
  },
  {
   "cell_type": "markdown",
   "id": "4ef4eb44-6524-4933-afe6-225c2e30d71f",
   "metadata": {
    "tags": []
   },
   "source": [
    "<div class=\"alert alert-block alert-info\">\n",
    " \n",
    "V3  Понял, что отвергается или не отвергается нулевая гипотеза о равенстве средних. \n",
    "    \n",
    "   А как без группировки по месяцам суммы выручки, да если не группировать, то ошибка будет неравенства количества записей.\n",
    "    \n",
    "</div>"
   ]
  },
  {
   "cell_type": "markdown",
   "id": "2af6f176",
   "metadata": {
    "id": "5766e785"
   },
   "source": [
    "<div class=\"alert alert-block alert-danger\">\n",
    "<b>❌Комментарий ревьюера:</b> ✔\n",
    "    \n",
    "Стоит полностью сформулировать вопрос, чтобы читатель понимал о чем идет речь.</div>"
   ]
  },
  {
   "cell_type": "markdown",
   "id": "a136115e",
   "metadata": {},
   "source": [
    "Нулевая гипотеза: количество обращений в техподдержку после равно количеству обращений в техподдержку до работ.\n",
    "\n",
    "Альтернативная гипотеза: количество обращений в техподдержку после работ меньше количества обращений в техподдержку до работ.\n",
    "\n",
    "В случае гипотезы с зависимыми выборками необходимо использовать метод stats.ttest_rel с аргументом alternative='less' (левостаронняя альтернативная гипотеза)."
   ]
  },
  {
   "cell_type": "markdown",
   "id": "6478eb70",
   "metadata": {
    "id": "5766e785"
   },
   "source": [
    "<div class=\"alert alert-block alert-danger\">\n",
    "<b>❌Комментарий ревьюера 2:</b> ✔\n",
    "    \n",
    "О какой гипотезе идет речь? Комментарий выше о необходимости полностью сформулировать вопрос относится к этому пункту.</div>"
   ]
  },
  {
   "cell_type": "markdown",
   "id": "46f4abc0",
   "metadata": {},
   "source": [
    "<div class=\"alert alert-block alert-success\">\n",
    "<b>✅Комментарий ревьюера:</b> Верно </div>"
   ]
  },
  {
   "cell_type": "markdown",
   "id": "4036cc31",
   "metadata": {},
   "source": [
    "#### Шаг 7. Распределения"
   ]
  },
  {
   "cell_type": "markdown",
   "id": "04a15435",
   "metadata": {},
   "source": [
    "<div class=\"alert alert-block alert-warning\">\n",
    "<b>🔁Комментарий ревьюера:</b> ✔\n",
    "\n",
    "Все библиотеки лучше импортировать в самом начале проекта, в отдельной ячейке. Если в процессе работы появилась необходимость добавить библиотеку, то ее можно дописать в эту ячейку и исполнить.</div>"
   ]
  },
  {
   "cell_type": "markdown",
   "id": "e93d5b81",
   "metadata": {},
   "source": [
    "<div class=\"alert alert-block alert-success\">\n",
    "<b>✅Комментарий ревьюера 2:</b> Отлично, исправлено!👍  </div>"
   ]
  },
  {
   "cell_type": "code",
   "execution_count": 56,
   "id": "70dbe5ed",
   "metadata": {},
   "outputs": [
    {
     "name": "stderr",
     "output_type": "stream",
     "text": [
      "/opt/conda/lib/python3.9/site-packages/scipy/stats/_discrete_distns.py:78: RuntimeWarning: divide by zero encountered in _binom_pdf\n",
      "  return _boost._binom_pdf(x, n, p)\n"
     ]
    },
    {
     "data": {
      "text/plain": [
       "<BarContainer object of 1169 artists>"
      ]
     },
     "execution_count": 56,
     "metadata": {},
     "output_type": "execute_result"
    },
    {
     "data": {
      "image/png": "[encoded data removed]",
      "text/plain": [
       "<Figure size 432x288 with 1 Axes>"
      ]
     },
     "metadata": {
      "needs_background": "light"
     },
     "output_type": "display_data"
    }
   ],
   "source": [
    "n = 1168 # количество попыток\n",
    "p = 0.1 # вероятность успеха\n",
    "\n",
    "distr = []\n",
    "\n",
    "for k in range(0, n + 1):\n",
    "    \n",
    "    # probability mass function — функция для дискретных распределений, которая показывает вероятность каждого значения\n",
    "    current_value = binom.pmf(k, n, p) \n",
    "    distr.append(current_value)\n",
    "    \n",
    "plt.bar(range(0, n + 1), distr)"
   ]
  },
  {
   "cell_type": "code",
   "execution_count": 57,
   "id": "0d70c246",
   "metadata": {},
   "outputs": [
    {
     "name": "stdout",
     "output_type": "stream",
     "text": [
      "вероятности нормального 0.050650790692463 и, биноминального 0.05354590332725536 распределения.\n"
     ]
    }
   ],
   "source": [
    "mu = n*p # рассчитайте параметры \n",
    "sigma = sqrt(n*p*(1-p)) # нормального распределения\n",
    "\n",
    "distr_n = st.norm(mu, sigma) # задайте нормальное распределение\n",
    "distr_b = st.binom(n, p) # задайте  распределение\n",
    "result_n = distr_n.cdf(100) # найдите вероятность\n",
    "result_b = distr_b.cdf(100) # найдите вероятность\n",
    "print(f'вероятности нормального {result_n} и, биноминального {result_b} распределения.')"
   ]
  },
  {
   "cell_type": "markdown",
   "id": "58908492",
   "metadata": {},
   "source": [
    "Формируем дискретное распределение вероятностей с помощью метода binom.pmf. Распределение имеет явный сдвиг в лево.\n",
    "Рассчитываем мат. ожидание и стандартное отклонение для формирования нормального распределения. На основе этого нормального распределения ищем вероятность не получения ста положительных результата в 5%. Методом перебора количества попыток получаем 1168. Надо раздать 1168 промокодов.    \n"
   ]
  },
  {
   "cell_type": "markdown",
   "id": "b444116a",
   "metadata": {},
   "source": [
    "<div class=\"alert alert-block alert-info\">\n",
    "    \n",
    "Не могу понять почему не искать 95% процентов исполнения. Пример брал из лекций?\n",
    "    \n",
    "</div>"
   ]
  },
  {
   "cell_type": "markdown",
   "id": "adb04549",
   "metadata": {},
   "source": [
    "<div class=\"alert alert-block alert-success\">\n",
    "<b>✅Комментарий ревьюера:</b> \n",
    "\n",
    "Можно искать и вероятность 95% выполнения плана, но вопрос поставлен именно про невыполнение плана. \n",
    "\n",
    "В этом задании можно использовать биномиальное распределение, подбирая подходящее значение параметра n (количество промокодов) в цикле для заданного параметра p = 0.1 (вероятность успеха) с помощью метода binom.cdf() и сравнивая результат с заданной вероятностью невыполнить план.</div>"
   ]
  },
  {
   "cell_type": "markdown",
   "id": "ef82a439",
   "metadata": {},
   "source": [
    "<div class=\"alert alert-block alert-info\">\n",
    "    \n",
    "V2 Как посчитать вероятность исполнения 95%?\n",
    "    \n",
    "</div>"
   ]
  },
  {
   "cell_type": "markdown",
   "id": "ec3a7f07",
   "metadata": {},
   "source": [
    "<div class=\"alert alert-block alert-success\">\n",
    "<b>✅Комментарий ревьюера 2:</b> \n",
    "\n",
    "А зачем нам ее считать, если вопрос у нас поставлен по-другому и ответ уже найден?\n",
    "\n",
    "Вероятность выполнения 95% плана равна вероятности его невыполнения на 5 %</div>"
   ]
  },
  {
   "cell_type": "code",
   "execution_count": 58,
   "id": "0f70d105",
   "metadata": {},
   "outputs": [
    {
     "name": "stdout",
     "output_type": "stream",
     "text": [
      "Вероятность открытия не более 399.5 тыс. пользователей: 0.1537\n"
     ]
    },
    {
     "data": {
      "image/png": "[encoded data removed]",
      "text/plain": [
       "<Figure size 432x288 with 1 Axes>"
      ]
     },
     "metadata": {
      "needs_background": "light"
     },
     "output_type": "display_data"
    },
    {
     "name": "stdout",
     "output_type": "stream",
     "text": [
      "Условие выполняется\n"
     ]
    }
   ],
   "source": [
    "# Математическое ожидание и стандартное отклонение нормального распределения, \n",
    "# которым аппроксимируют биномиальное, просто берутся равными мат.ожиданию \n",
    "# и стандартному отклонению этого биномиального распределения.\n",
    "\n",
    " \n",
    "# зададим функцию, которая выдаёт <num> чисел,\n",
    "# равномерно распределённых от <start> до <stop>\n",
    "# (понадобится для визуализации нормального распределения)\n",
    "def linspace(start, stop, num):\n",
    "    step = (stop - start) / (num - 1)\n",
    "    result = []\n",
    "    for i in range(num):\n",
    "        result.append(start + step * i*1)\n",
    "    return result\n",
    " \n",
    "# задаём параметры биномиального распределения\n",
    "n = 1_000_000\n",
    "p = 0.4\n",
    "\n",
    "# границы промежутка, в котором будем строить аппроксимацию -\n",
    "# от n*p минус 4 ст.отклонения бином.распределения\n",
    "# до n*p плюс 4 ст.отклонения бином.распределения\n",
    "# (там, где вероятности значений почти не равны нулю)\n",
    "left = int(n * p - 4 * sqrt(n * p * (1 - p)))\n",
    "right = int(n * p + 4 * sqrt(n * p * (1 - p)))\n",
    " \n",
    "# зададим набор значений биномиальной величины на выбранном промежутке:\n",
    "# все неотрицательные целые числа от left до right\n",
    "x = list(range(max(0, left), right))\n",
    "# рисуем график биномиального распределения\n",
    "ax = plt.subplot()\n",
    "# используем синие о-образные маркеры и размер маркера 5\n",
    "ax.plot(x, binom.pmf(x, n, p), 'bo', ms=5,\n",
    "\t      label='вероятности биномиального распределения')\n",
    "\n",
    "# зададим мат.ожидание и ст.отклонение нормального распределения равными\n",
    "# мат.ожиданию и ст.отклонению биномиального распределения\n",
    "mu = n * p\n",
    "sigma = sqrt(n * p * (1 - p))\n",
    " \n",
    "# рисуем график нормального распределения:\n",
    "# получим список из 100 чисел от left до right\n",
    "x = linspace(left, right, 100)\n",
    "# используем красную линию ширины 3 и прозрачности 0.3\n",
    "ax.plot(x, norm.pdf(x, mu, sigma), 'r-', lw=3, alpha=0.3, label='плотность вероятности нормального распределения')\n",
    " \n",
    "# Оценка вероятности того, что не более 399.5 тыс. пользователей откроют уведомление\n",
    "probability = norm.cdf(399_500, mu, sigma)\n",
    "print(f\"Вероятность открытия не более 399.5 тыс. пользователей: {probability:.4f}\")\n",
    "\n",
    "# зададим подписи по оси x в пределах ± 3 ст.отклонений от мат.ожидания\n",
    "# (последний аргумент в методе range - интервал между подписями)\n",
    "x_ticks = list(range(int(mu - 3 * sigma), int(mu + 3 * sigma), 500))\n",
    "ax.set_xticks(x_ticks)\n",
    "\n",
    "# Отметка точки на графике\n",
    "plt.axvline(x=399500, color='red', linestyle='--', label='399.5k Users')\n",
    "\n",
    "# настраиваем оптимальное расположение легенды и выводим график\n",
    "ax.legend(loc='best')\n",
    "plt.show()\n",
    "\n",
    "# выводим, выполняется ли наше условие аппроксимации:\n",
    "# лежит ли mu ± 3 sigma в промежутке от 0 до n:\n",
    "if (mu - (3 * sigma) >= 0) and ((mu + (3 * sigma) <= n)):\n",
    "    print('Условие выполняется')\n",
    "else:\n",
    "    print('Условие не выполняется')"
   ]
  },
  {
   "cell_type": "markdown",
   "id": "c9cd5361",
   "metadata": {},
   "source": [
    "<div class=\"alert alert-block alert-warning\">\n",
    "<b>🔁Комментарий ревьюера:</b> ✔\n",
    "    \n",
    "\n",
    "\n",
    "\n",
    "Тут стоит скорректировать подписи на оси х. Их получается слишком много, поэтому они сливаются и график строится очень долго)</div>"
   ]
  },
  {
   "cell_type": "markdown",
   "id": "9241fb43",
   "metadata": {},
   "source": [
    "<div class=\"alert alert-block alert-success\">\n",
    "<b>✅Комментарий ревьюера 2:</b> Отлично, исправлено!👍  </div>"
   ]
  },
  {
   "cell_type": "markdown",
   "id": "557df913",
   "metadata": {},
   "source": [
    "Так как количество испытаний большое, да и вероятность не сильно маленькая, можно использовать аппроксимацию по нормальному распределению. Вероятность открытия не более 399.5 тыс. пользователей: 0.1537."
   ]
  },
  {
   "cell_type": "markdown",
   "id": "0353925e",
   "metadata": {},
   "source": [
    "<div class=\"alert alert-block alert-success\">\n",
    "<b>✅Комментарий ревьюера:</b> Верно </div>"
   ]
  },
  {
   "cell_type": "code",
   "execution_count": 59,
   "id": "7f0cb94b",
   "metadata": {
    "tags": []
   },
   "outputs": [
    {
     "name": "stdout",
     "output_type": "stream",
     "text": [
      "Вероятность открытия не более 399.5 тыс. пользователей: 0.1537\n"
     ]
    },
    {
     "data": {
      "image/png": "[encoded data removed]",
      "text/plain": [
       "<Figure size 432x288 with 1 Axes>"
      ]
     },
     "metadata": {
      "needs_background": "light"
     },
     "output_type": "display_data"
    }
   ],
   "source": [
    "# Параметры распределения\n",
    "p = 0.4  # Вероятность открытия уведомления\n",
    "n = 1_000_000  # Количество уведомлений\n",
    "\n",
    "# Математическое ожидание и стандартное отклонение\n",
    "mu = n * p\n",
    "sigma = np.sqrt(n * p * (1 - p))\n",
    "\n",
    "# Построение графика нормального распределения\n",
    "x = np.linspace(0, n, 1000)\n",
    "y = norm.pdf(x, mu, sigma)\n",
    "\n",
    "plt.plot(x, y, label='Нормальное распределение')\n",
    "\n",
    "# Оценка вероятности того, что не более 399.5 тыс. пользователей откроют уведомление\n",
    "probability = norm.cdf(399_500, mu, sigma)\n",
    "print(f\"Вероятность открытия не более 399.5 тыс. пользователей: {probability:.4f}\")\n",
    "\n",
    "# Отметка точки на графике\n",
    "plt.axvline(x=399500, color='red', linestyle='--', label='399.5k Users')\n",
    "\n",
    "plt.title('Approximate Normal Distribution of Notification Openings')\n",
    "plt.xlabel('Number of Users Opening Notification')\n",
    "plt.ylabel('Probability Density')\n",
    "plt.legend()\n",
    "plt.show()\n"
   ]
  },
  {
   "cell_type": "markdown",
   "id": "ee105613",
   "metadata": {},
   "source": [
    "Для оценки вероятности того, что уведомление откроют не более 399,5 тыс. пользователей, можно использовать нормальное распределение, так как число пользователей, открывших уведомление, является результатом биномиального распределения, и при больших значениях \\(n\\) оно может быть аппроксимировано нормальным распределением.\n",
    "\n",
    "Давайте обозначим:\n",
    "- \\(p\\) - вероятность того, что клиент откроет уведомление (\\(p = 0.4\\)),\n",
    "- \\(n\\) - количество уведомлений (\\(n = 1,000,000\\)).\n",
    "\n",
    "Математическое ожидание \\(\\mu\\) и стандартное отклонение \\(\\sigma\\) для нормального распределения аппроксимации биномиального распределения находятся по формулам:\n",
    "$\\mu = np \\sigma = \\sqrt{np(1-p)}$\n",
    "Затем мы используем функцию распределения нормального распределения для оценки вероятности.\n",
    "\n",
    "В Python это может быть реализовано следующим образом:\n",
    "\n",
    "```python\n",
    "import numpy as np\n",
    "import matplotlib.pyplot as plt\n",
    "from scipy.stats import norm\n",
    "\n",
    "# Параметры распределения\n",
    "p = 0.4  # Вероятность открытия уведомления\n",
    "n = 1000000  # Количество уведомлений\n",
    "\n",
    "# Математическое ожидание и стандартное отклонение\n",
    "mu = n * p\n",
    "sigma = np.sqrt(n * p * (1 - p))\n",
    "\n",
    "# Построение графика нормального распределения\n",
    "x = np.linspace(0, n, 1000)\n",
    "y = norm.pdf(x, mu, sigma)\n",
    "\n",
    "plt.plot(x, y, label='Normal Distribution')\n",
    "\n",
    "# Оценка вероятности того, что не более 399.5 тыс. пользователей откроют уведомление\n",
    "probability = norm.cdf(399500, mu, sigma)\n",
    "print(f\"Вероятность открытия не более 399.5 тыс. пользователей: {probability:.4f}\")\n",
    "\n",
    "# Отметка точки на графике\n",
    "plt.axvline(x=399500, color='red', linestyle='--', label='399.5k Users')\n",
    "\n",
    "plt.title('Approximate Normal Distribution of Notification Openings')\n",
    "plt.xlabel('Number of Users Opening Notification')\n",
    "plt.ylabel('Probability Density')\n",
    "plt.legend()\n",
    "plt.show()\n",
    "```\n",
    "\n",
    "В результате выполнения кода будет построен график нормального распределения, и выведена вероятность того, что уведомление откроют не более 399,5 тыс. пользователей."
   ]
  },
  {
   "cell_type": "markdown",
   "id": "2a28d549",
   "metadata": {},
   "source": [
    "<div class=\"alert alert-block alert-info\">\n",
    "    \n",
    "Это решение подсказал ИИ. Попытался его адоптировал к примеру из лекции, вроде получилось. \n",
    "    \n",
    "Только не могу понять, чем этот механизм отличается от первого задания. Так же мы создаем нормальное распределение на данных о биноминальных. Только во втором случае нам задают количество испытаний, а в первом мы подбираем сами. И там и там аппроксимация, а поиск зависит только от поставленного вопроса. В первом надо найти количества, в во втором вероятность при заданном количестве. Второй вопрос даже проще получается.    \n",
    "    \n",
    "</div>"
   ]
  },
  {
   "cell_type": "markdown",
   "id": "931e8347",
   "metadata": {},
   "source": [
    "<div class=\"alert alert-block alert-success\">\n",
    "<b>✅Комментарий ревьюера:</b> \n",
    "\n",
    "Механизмы отличаются поставленными вопросами и подходами к их решению. В первой задаче как раз было проще получить ответ с помощью метода binom.cdf(), который и даст нам вероятность не выполнить план.</div>"
   ]
  },
  {
   "cell_type": "markdown",
   "id": "82abc28f",
   "metadata": {},
   "source": [
    "Выводы\n",
    "\n",
    " 1.\tЗагрузить и посмотреть данные.\n",
    "\n",
    "Данные представлены тремя таблицами, описывающих пользователей, поездки пользователей и тарифы. \n",
    "\n",
    "2.\tОбработать данные, привести типы, проверить наличие пропущенных значений и дубликатов. \n",
    "\n",
    "В таблице пользователей были обнаружены и удалены явные дубли. Неявных дублей в колонке city типа object нет.\n",
    "\n",
    "3.\tОписать и визуализировать данные о пользователях и поездках.\n",
    "\n",
    "Больше любителей покатятся на самокате среди жителей южных городов.  \n",
    "\n",
    "Соотношение пользователей с подпиской и без подписки с небольшим перевесом в пользу вторых. 55% пользователей не подписаны. \n",
    "\n",
    "Средний возраст пользователей 25 лет. Катаются в основном молодые, но иногда и старшее поколение.  \n",
    " \n",
    "Есть не большая группа, проезжает небольшое расстояние. При этом ситуация, когда мода и медиана лежать по разные стороны от среднего требует дополнительного исследования. \n",
    "  \n",
    "Во основном катаются около 20 минут. До 40 минут катается очень мало. Есть небольшой пик поездок около минуты.\n",
    "\n",
    "4.\tОбъединить данные о пользователях, поездках и тарифах. \n",
    "\n",
    "Из визуализации информацию о расстоянии и времени поездок для пользователей обеих категорий можно сказать, что пользователи без подписки проезжают меньшее расстояние.\n",
    "По средней и медиане, пользователи с подпиской катаются немного дольше и дальше, а судя по стандартному отклонения и дисперсии пользователи с подпиской более стабильны во времени и дистанции. \n",
    "\n",
    "5.\tАгрегировать данные и рассчитать выручку по месяцам.\n",
    "\n",
    "На основе этих данных рассчитываем прибыль в зависимости от тарифов (дистанцию округлили в большую сторо). \n",
    "\n",
    "По месяцам ни средняя, ни общая прибыль сильно не отличается. Транспорт всесезонный. В больше всего катаются в январе и мае. \n",
    "  \n",
    "6.\tПроверить гипотезы о соотношениях продолжительности поездок и выручки групп пользователей с подпиской и без.\n",
    "\n",
    " Проверяем гипотезу о том, что что пользователи с подпиской катаются дольше. Отвергаем нулевую гипотезу: есть статистически значимые различия, пользователи с подпиской катаются дольше.\n",
    "\n",
    " Среднее расстояние, которое проезжают пользователи с подпиской за одну поездку, не превышает 3 130  метров. \n",
    " \n",
    " Гипотеза о том, что помесячная выручка от пользователей с подпиской по месяцам выше, чем выручка от пользователей без подписки не подтвердилась.  \n",
    "\n",
    "7.\tРаспределение.\n",
    "\n",
    "Формируем дискретное распределение вероятностей с помощью метода binom.pmf. Распределение имеет явный сдвиг в лево.\n",
    "Для того, что бы вероятность не получения ста положительных результата = 5%, надо раздать 1168 промокодов. \n",
    "\n",
    "Для поиска вероятности так как количество испытаний большое, да и вероятность не сильно маленькая, можно использовать аппроксимацию по нормальному распределению. \n",
    "Вероятность открытия уведомлений не более 399.5 тыс. при рассылки одного миллиона равно 0.1537. Не густо.\n"
   ]
  },
  {
   "cell_type": "markdown",
   "id": "00262d9c",
   "metadata": {},
   "source": [
    "<div class=\"alert alert-block alert-success\">\n",
    "<b>✅Комментарий ревьюера:</b> \n",
    "\n",
    "\n",
    "Хороший итоговый вывод!\n",
    "\n",
    "\n",
    "    \n",
    "**Хочу обратить твое внимание на то, что после исправления замечаний в некоторых пунктах исследования могут измениться результаты, поэтому нужно будет подкорректировать выводы.**\n",
    "</div>"
   ]
  },
  {
   "cell_type": "markdown",
   "id": "51bc1458-9132-4dc3-b7db-e877036a2488",
   "metadata": {
    "tags": []
   },
   "source": [
    "<div class=\"alert alert-block alert-info\">\n",
    "Если что, с наступающим. :)\n",
    "</div>"
   ]
  },
  {
   "cell_type": "code",
   "execution_count": null,
   "id": "12aa1ade-43e4-4a69-b48d-a424795dcf4e",
   "metadata": {},
   "outputs": [],
   "source": []
  }
 ],
 "metadata": {
  "ExecuteTimeLog": [
   {
    "duration": 1465,
    "start_time": "2023-12-28T13:08:18.030Z"
   },
   {
    "duration": 86,
    "start_time": "2023-12-28T13:08:19.498Z"
   },
   {
    "duration": 80,
    "start_time": "2023-12-28T13:08:19.586Z"
   },
   {
    "duration": 61,
    "start_time": "2023-12-28T13:08:19.668Z"
   },
   {
    "duration": 8,
    "start_time": "2023-12-28T13:08:19.732Z"
   },
   {
    "duration": 14,
    "start_time": "2023-12-28T13:08:19.742Z"
   },
   {
    "duration": 13,
    "start_time": "2023-12-28T13:08:19.757Z"
   },
   {
    "duration": 12,
    "start_time": "2023-12-28T13:08:19.771Z"
   },
   {
    "duration": 6,
    "start_time": "2023-12-28T13:08:19.784Z"
   },
   {
    "duration": 5,
    "start_time": "2023-12-28T13:08:19.793Z"
   },
   {
    "duration": 12,
    "start_time": "2023-12-28T13:08:19.800Z"
   },
   {
    "duration": 9,
    "start_time": "2023-12-28T13:08:19.814Z"
   },
   {
    "duration": 4,
    "start_time": "2023-12-28T13:08:19.824Z"
   },
   {
    "duration": 4,
    "start_time": "2023-12-28T13:08:19.831Z"
   },
   {
    "duration": 210,
    "start_time": "2023-12-28T13:08:19.837Z"
   },
   {
    "duration": 132,
    "start_time": "2023-12-28T13:08:20.049Z"
   },
   {
    "duration": 166,
    "start_time": "2023-12-28T13:08:20.183Z"
   },
   {
    "duration": 101,
    "start_time": "2023-12-28T13:08:20.350Z"
   },
   {
    "duration": 139,
    "start_time": "2023-12-28T13:08:20.453Z"
   },
   {
    "duration": 8,
    "start_time": "2023-12-28T13:08:20.594Z"
   },
   {
    "duration": 9,
    "start_time": "2023-12-28T13:08:20.604Z"
   },
   {
    "duration": 174,
    "start_time": "2023-12-28T13:08:20.614Z"
   },
   {
    "duration": 117,
    "start_time": "2023-12-28T13:08:20.790Z"
   },
   {
    "duration": 10,
    "start_time": "2023-12-28T13:08:20.909Z"
   },
   {
    "duration": 21,
    "start_time": "2023-12-28T13:08:20.921Z"
   },
   {
    "duration": 173,
    "start_time": "2023-12-28T13:08:20.944Z"
   },
   {
    "duration": 176,
    "start_time": "2023-12-28T13:08:21.119Z"
   },
   {
    "duration": 11,
    "start_time": "2023-12-28T13:08:21.297Z"
   },
   {
    "duration": 9,
    "start_time": "2023-12-28T13:08:21.309Z"
   },
   {
    "duration": 34,
    "start_time": "2023-12-28T13:08:21.320Z"
   },
   {
    "duration": 39,
    "start_time": "2023-12-28T13:08:21.356Z"
   },
   {
    "duration": 12,
    "start_time": "2023-12-28T13:08:21.397Z"
   },
   {
    "duration": 18,
    "start_time": "2023-12-28T13:08:21.411Z"
   },
   {
    "duration": 13,
    "start_time": "2023-12-28T13:08:21.431Z"
   },
   {
    "duration": 224,
    "start_time": "2023-12-28T13:08:21.445Z"
   },
   {
    "duration": 210,
    "start_time": "2023-12-28T13:08:21.670Z"
   },
   {
    "duration": 47,
    "start_time": "2023-12-28T13:08:21.881Z"
   },
   {
    "duration": 26,
    "start_time": "2023-12-28T13:08:21.929Z"
   },
   {
    "duration": 939,
    "start_time": "2023-12-28T13:08:21.956Z"
   },
   {
    "duration": 6,
    "start_time": "2023-12-28T13:08:22.897Z"
   },
   {
    "duration": 163,
    "start_time": "2023-12-28T13:08:22.911Z"
   },
   {
    "duration": 37,
    "start_time": "2023-12-28T13:08:23.076Z"
   },
   {
    "duration": 7,
    "start_time": "2023-12-28T13:08:23.115Z"
   },
   {
    "duration": 6,
    "start_time": "2023-12-28T13:08:23.123Z"
   },
   {
    "duration": 7,
    "start_time": "2023-12-28T13:08:23.130Z"
   },
   {
    "duration": 32,
    "start_time": "2023-12-28T13:08:23.138Z"
   },
   {
    "duration": 3,
    "start_time": "2023-12-28T13:08:23.172Z"
   },
   {
    "duration": 17,
    "start_time": "2023-12-28T13:08:23.176Z"
   },
   {
    "duration": 6,
    "start_time": "2023-12-28T13:08:23.198Z"
   },
   {
    "duration": 19,
    "start_time": "2023-12-28T13:08:23.206Z"
   },
   {
    "duration": 7,
    "start_time": "2023-12-28T13:08:23.227Z"
   },
   {
    "duration": 25,
    "start_time": "2023-12-28T13:08:23.235Z"
   },
   {
    "duration": 5,
    "start_time": "2023-12-28T13:08:23.261Z"
   },
   {
    "duration": 24,
    "start_time": "2023-12-28T13:08:23.268Z"
   },
   {
    "duration": 11,
    "start_time": "2023-12-28T13:08:23.294Z"
   },
   {
    "duration": 2071,
    "start_time": "2023-12-28T13:08:23.310Z"
   },
   {
    "duration": 8,
    "start_time": "2023-12-28T13:08:25.382Z"
   },
   {
    "duration": 37556,
    "start_time": "2023-12-28T13:08:25.391Z"
   },
   {
    "duration": 347,
    "start_time": "2023-12-28T13:09:02.949Z"
   },
   {
    "duration": 8,
    "start_time": "2023-12-28T13:17:37.070Z"
   },
   {
    "duration": 1239,
    "start_time": "2023-12-28T13:35:55.671Z"
   },
   {
    "duration": 39,
    "start_time": "2023-12-28T13:35:56.912Z"
   },
   {
    "duration": 39,
    "start_time": "2023-12-28T13:35:56.953Z"
   },
   {
    "duration": 24,
    "start_time": "2023-12-28T13:35:56.993Z"
   },
   {
    "duration": 6,
    "start_time": "2023-12-28T13:35:57.019Z"
   },
   {
    "duration": 6,
    "start_time": "2023-12-28T13:35:57.026Z"
   },
   {
    "duration": 12,
    "start_time": "2023-12-28T13:35:57.033Z"
   },
   {
    "duration": 10,
    "start_time": "2023-12-28T13:35:57.047Z"
   },
   {
    "duration": 5,
    "start_time": "2023-12-28T13:35:57.058Z"
   },
   {
    "duration": 24,
    "start_time": "2023-12-28T13:35:57.064Z"
   },
   {
    "duration": 7,
    "start_time": "2023-12-28T13:35:57.090Z"
   },
   {
    "duration": 12,
    "start_time": "2023-12-28T13:35:57.098Z"
   },
   {
    "duration": 3,
    "start_time": "2023-12-28T13:35:57.111Z"
   },
   {
    "duration": 5,
    "start_time": "2023-12-28T13:35:57.116Z"
   },
   {
    "duration": 194,
    "start_time": "2023-12-28T13:35:57.122Z"
   },
   {
    "duration": 134,
    "start_time": "2023-12-28T13:35:57.317Z"
   },
   {
    "duration": 149,
    "start_time": "2023-12-28T13:35:57.452Z"
   },
   {
    "duration": 95,
    "start_time": "2023-12-28T13:35:57.603Z"
   },
   {
    "duration": 143,
    "start_time": "2023-12-28T13:35:57.700Z"
   },
   {
    "duration": 8,
    "start_time": "2023-12-28T13:35:57.845Z"
   },
   {
    "duration": 11,
    "start_time": "2023-12-28T13:35:57.855Z"
   },
   {
    "duration": 168,
    "start_time": "2023-12-28T13:35:57.867Z"
   },
   {
    "duration": 127,
    "start_time": "2023-12-28T13:35:58.037Z"
   },
   {
    "duration": 7,
    "start_time": "2023-12-28T13:35:58.166Z"
   },
   {
    "duration": 19,
    "start_time": "2023-12-28T13:35:58.175Z"
   },
   {
    "duration": 158,
    "start_time": "2023-12-28T13:35:58.195Z"
   },
   {
    "duration": 197,
    "start_time": "2023-12-28T13:35:58.355Z"
   },
   {
    "duration": 9,
    "start_time": "2023-12-28T13:35:58.553Z"
   },
   {
    "duration": 9,
    "start_time": "2023-12-28T13:35:58.564Z"
   },
   {
    "duration": 32,
    "start_time": "2023-12-28T13:35:58.588Z"
   },
   {
    "duration": 11,
    "start_time": "2023-12-28T13:35:58.621Z"
   },
   {
    "duration": 25,
    "start_time": "2023-12-28T13:35:58.634Z"
   },
   {
    "duration": 43,
    "start_time": "2023-12-28T13:35:58.661Z"
   },
   {
    "duration": 20,
    "start_time": "2023-12-28T13:35:58.706Z"
   },
   {
    "duration": 214,
    "start_time": "2023-12-28T13:35:58.728Z"
   },
   {
    "duration": 201,
    "start_time": "2023-12-28T13:35:58.944Z"
   },
   {
    "duration": 52,
    "start_time": "2023-12-28T13:35:59.147Z"
   },
   {
    "duration": 27,
    "start_time": "2023-12-28T13:35:59.200Z"
   },
   {
    "duration": 895,
    "start_time": "2023-12-28T13:35:59.228Z"
   },
   {
    "duration": 4,
    "start_time": "2023-12-28T13:36:00.125Z"
   },
   {
    "duration": 290,
    "start_time": "2023-12-28T13:36:00.133Z"
   },
   {
    "duration": 92,
    "start_time": "2023-12-28T13:36:00.425Z"
   },
   {
    "duration": 92,
    "start_time": "2023-12-28T13:36:00.518Z"
   },
   {
    "duration": 66,
    "start_time": "2023-12-28T13:36:00.612Z"
   },
   {
    "duration": 76,
    "start_time": "2023-12-28T13:36:00.680Z"
   },
   {
    "duration": 81,
    "start_time": "2023-12-28T13:36:00.758Z"
   },
   {
    "duration": 34,
    "start_time": "2023-12-28T13:36:00.841Z"
   },
   {
    "duration": 63,
    "start_time": "2023-12-28T13:36:00.877Z"
   },
   {
    "duration": 68,
    "start_time": "2023-12-28T13:36:00.942Z"
   },
   {
    "duration": 74,
    "start_time": "2023-12-28T13:36:01.011Z"
   },
   {
    "duration": 48,
    "start_time": "2023-12-28T13:36:01.087Z"
   },
   {
    "duration": 47,
    "start_time": "2023-12-28T13:36:01.136Z"
   },
   {
    "duration": 114,
    "start_time": "2023-12-28T13:36:01.185Z"
   },
   {
    "duration": 46,
    "start_time": "2023-12-28T13:36:01.301Z"
   },
   {
    "duration": 29,
    "start_time": "2023-12-28T13:36:01.348Z"
   },
   {
    "duration": 1918,
    "start_time": "2023-12-28T13:36:01.378Z"
   },
   {
    "duration": 5,
    "start_time": "2023-12-28T13:36:03.298Z"
   },
   {
    "duration": 36098,
    "start_time": "2023-12-28T13:36:03.305Z"
   },
   {
    "duration": 286,
    "start_time": "2023-12-28T13:36:39.405Z"
   },
   {
    "duration": 1236,
    "start_time": "2023-12-29T13:22:31.119Z"
   },
   {
    "duration": 44,
    "start_time": "2023-12-29T13:22:32.357Z"
   },
   {
    "duration": 65,
    "start_time": "2023-12-29T13:22:32.403Z"
   },
   {
    "duration": 26,
    "start_time": "2023-12-29T13:22:32.469Z"
   },
   {
    "duration": 52,
    "start_time": "2023-12-29T13:22:32.497Z"
   },
   {
    "duration": 55,
    "start_time": "2023-12-29T13:22:32.550Z"
   },
   {
    "duration": 54,
    "start_time": "2023-12-29T13:22:32.606Z"
   },
   {
    "duration": 37,
    "start_time": "2023-12-29T13:22:32.662Z"
   },
   {
    "duration": 10,
    "start_time": "2023-12-29T13:22:32.700Z"
   },
   {
    "duration": 13,
    "start_time": "2023-12-29T13:22:32.712Z"
   },
   {
    "duration": 20,
    "start_time": "2023-12-29T13:22:32.727Z"
   },
   {
    "duration": 30,
    "start_time": "2023-12-29T13:22:32.749Z"
   },
   {
    "duration": 23,
    "start_time": "2023-12-29T13:22:32.780Z"
   },
   {
    "duration": 27,
    "start_time": "2023-12-29T13:22:32.805Z"
   },
   {
    "duration": 23,
    "start_time": "2023-12-29T13:22:32.833Z"
   },
   {
    "duration": 205,
    "start_time": "2023-12-29T13:22:32.858Z"
   },
   {
    "duration": 92,
    "start_time": "2023-12-29T13:22:33.065Z"
   },
   {
    "duration": 153,
    "start_time": "2023-12-29T13:22:33.158Z"
   },
   {
    "duration": 101,
    "start_time": "2023-12-29T13:22:33.312Z"
   },
   {
    "duration": 157,
    "start_time": "2023-12-29T13:22:33.414Z"
   },
   {
    "duration": 8,
    "start_time": "2023-12-29T13:22:33.572Z"
   },
   {
    "duration": 28,
    "start_time": "2023-12-29T13:22:33.582Z"
   },
   {
    "duration": 184,
    "start_time": "2023-12-29T13:22:33.612Z"
   },
   {
    "duration": 108,
    "start_time": "2023-12-29T13:22:33.798Z"
   },
   {
    "duration": 18,
    "start_time": "2023-12-29T13:22:33.908Z"
   },
   {
    "duration": 10,
    "start_time": "2023-12-29T13:22:33.927Z"
   },
   {
    "duration": 213,
    "start_time": "2023-12-29T13:22:33.938Z"
   },
   {
    "duration": 181,
    "start_time": "2023-12-29T13:22:34.154Z"
   },
   {
    "duration": 8,
    "start_time": "2023-12-29T13:22:34.336Z"
   },
   {
    "duration": 16,
    "start_time": "2023-12-29T13:22:34.346Z"
   },
   {
    "duration": 34,
    "start_time": "2023-12-29T13:22:34.363Z"
   },
   {
    "duration": 28,
    "start_time": "2023-12-29T13:22:34.399Z"
   },
   {
    "duration": 10,
    "start_time": "2023-12-29T13:22:34.428Z"
   },
   {
    "duration": 14,
    "start_time": "2023-12-29T13:22:34.440Z"
   },
   {
    "duration": 40,
    "start_time": "2023-12-29T13:22:34.455Z"
   },
   {
    "duration": 16,
    "start_time": "2023-12-29T13:22:34.496Z"
   },
   {
    "duration": 250,
    "start_time": "2023-12-29T13:22:34.513Z"
   },
   {
    "duration": 287,
    "start_time": "2023-12-29T13:22:34.765Z"
   },
   {
    "duration": 42,
    "start_time": "2023-12-29T13:22:35.054Z"
   },
   {
    "duration": 52,
    "start_time": "2023-12-29T13:22:35.098Z"
   },
   {
    "duration": 883,
    "start_time": "2023-12-29T13:22:35.151Z"
   },
   {
    "duration": 3,
    "start_time": "2023-12-29T13:22:36.035Z"
   },
   {
    "duration": 15,
    "start_time": "2023-12-29T13:22:36.039Z"
   },
   {
    "duration": 140,
    "start_time": "2023-12-29T13:22:36.055Z"
   },
   {
    "duration": 0,
    "start_time": "2023-12-29T13:22:36.197Z"
   },
   {
    "duration": 0,
    "start_time": "2023-12-29T13:22:36.198Z"
   },
   {
    "duration": 0,
    "start_time": "2023-12-29T13:22:36.199Z"
   },
   {
    "duration": 0,
    "start_time": "2023-12-29T13:22:36.200Z"
   },
   {
    "duration": 0,
    "start_time": "2023-12-29T13:22:36.201Z"
   },
   {
    "duration": 0,
    "start_time": "2023-12-29T13:22:36.202Z"
   },
   {
    "duration": 0,
    "start_time": "2023-12-29T13:22:36.203Z"
   },
   {
    "duration": 0,
    "start_time": "2023-12-29T13:22:36.204Z"
   },
   {
    "duration": 0,
    "start_time": "2023-12-29T13:22:36.205Z"
   },
   {
    "duration": 0,
    "start_time": "2023-12-29T13:22:36.222Z"
   },
   {
    "duration": 0,
    "start_time": "2023-12-29T13:22:36.223Z"
   },
   {
    "duration": 0,
    "start_time": "2023-12-29T13:22:36.224Z"
   },
   {
    "duration": 0,
    "start_time": "2023-12-29T13:22:36.226Z"
   },
   {
    "duration": 0,
    "start_time": "2023-12-29T13:22:36.226Z"
   },
   {
    "duration": 0,
    "start_time": "2023-12-29T13:22:36.227Z"
   },
   {
    "duration": 8,
    "start_time": "2023-12-29T13:24:21.957Z"
   },
   {
    "duration": 25,
    "start_time": "2023-12-29T13:25:22.764Z"
   },
   {
    "duration": 308,
    "start_time": "2023-12-29T13:26:21.096Z"
   },
   {
    "duration": 13,
    "start_time": "2023-12-29T13:26:53.537Z"
   },
   {
    "duration": 5,
    "start_time": "2023-12-29T13:28:16.228Z"
   },
   {
    "duration": 10,
    "start_time": "2023-12-29T13:28:17.356Z"
   },
   {
    "duration": 7,
    "start_time": "2023-12-29T13:28:36.339Z"
   },
   {
    "duration": 18,
    "start_time": "2023-12-29T13:28:59.709Z"
   },
   {
    "duration": 4,
    "start_time": "2023-12-29T13:31:06.439Z"
   },
   {
    "duration": 8,
    "start_time": "2023-12-29T13:31:07.503Z"
   },
   {
    "duration": 10,
    "start_time": "2023-12-29T13:31:44.129Z"
   },
   {
    "duration": 9,
    "start_time": "2023-12-29T13:31:44.520Z"
   },
   {
    "duration": 5,
    "start_time": "2023-12-29T13:31:44.945Z"
   },
   {
    "duration": 1862,
    "start_time": "2023-12-29T13:36:30.193Z"
   },
   {
    "duration": 8,
    "start_time": "2023-12-29T13:36:32.057Z"
   },
   {
    "duration": 345,
    "start_time": "2023-12-29T13:36:38.593Z"
   },
   {
    "duration": 281,
    "start_time": "2023-12-29T13:39:33.157Z"
   },
   {
    "duration": 1151,
    "start_time": "2023-12-29T13:40:00.875Z"
   },
   {
    "duration": 52,
    "start_time": "2023-12-29T13:40:02.028Z"
   },
   {
    "duration": 310,
    "start_time": "2023-12-29T13:40:02.082Z"
   },
   {
    "duration": 27,
    "start_time": "2023-12-29T13:40:02.393Z"
   },
   {
    "duration": 6,
    "start_time": "2023-12-29T13:40:02.421Z"
   },
   {
    "duration": 27,
    "start_time": "2023-12-29T13:40:02.429Z"
   },
   {
    "duration": 26,
    "start_time": "2023-12-29T13:40:02.457Z"
   },
   {
    "duration": 33,
    "start_time": "2023-12-29T13:40:02.484Z"
   },
   {
    "duration": 16,
    "start_time": "2023-12-29T13:40:02.518Z"
   },
   {
    "duration": 36,
    "start_time": "2023-12-29T13:40:02.537Z"
   },
   {
    "duration": 28,
    "start_time": "2023-12-29T13:40:02.574Z"
   },
   {
    "duration": 12,
    "start_time": "2023-12-29T13:40:02.604Z"
   },
   {
    "duration": 40,
    "start_time": "2023-12-29T13:40:02.617Z"
   },
   {
    "duration": 20,
    "start_time": "2023-12-29T13:40:02.658Z"
   },
   {
    "duration": 31,
    "start_time": "2023-12-29T13:40:02.680Z"
   },
   {
    "duration": 181,
    "start_time": "2023-12-29T13:40:02.712Z"
   },
   {
    "duration": 87,
    "start_time": "2023-12-29T13:40:02.894Z"
   },
   {
    "duration": 146,
    "start_time": "2023-12-29T13:40:02.982Z"
   },
   {
    "duration": 101,
    "start_time": "2023-12-29T13:40:03.129Z"
   },
   {
    "duration": 141,
    "start_time": "2023-12-29T13:40:03.231Z"
   },
   {
    "duration": 8,
    "start_time": "2023-12-29T13:40:03.373Z"
   },
   {
    "duration": 52,
    "start_time": "2023-12-29T13:40:03.383Z"
   },
   {
    "duration": 221,
    "start_time": "2023-12-29T13:40:03.437Z"
   },
   {
    "duration": 113,
    "start_time": "2023-12-29T13:40:03.661Z"
   },
   {
    "duration": 9,
    "start_time": "2023-12-29T13:40:03.776Z"
   },
   {
    "duration": 30,
    "start_time": "2023-12-29T13:40:03.786Z"
   },
   {
    "duration": 202,
    "start_time": "2023-12-29T13:40:03.817Z"
   },
   {
    "duration": 171,
    "start_time": "2023-12-29T13:40:04.023Z"
   },
   {
    "duration": 8,
    "start_time": "2023-12-29T13:40:04.195Z"
   },
   {
    "duration": 21,
    "start_time": "2023-12-29T13:40:04.204Z"
   },
   {
    "duration": 28,
    "start_time": "2023-12-29T13:40:04.226Z"
   },
   {
    "duration": 12,
    "start_time": "2023-12-29T13:40:04.255Z"
   },
   {
    "duration": 10,
    "start_time": "2023-12-29T13:40:04.268Z"
   },
   {
    "duration": 3,
    "start_time": "2023-12-29T13:40:04.279Z"
   },
   {
    "duration": 46,
    "start_time": "2023-12-29T13:40:04.284Z"
   },
   {
    "duration": 14,
    "start_time": "2023-12-29T13:40:04.332Z"
   },
   {
    "duration": 245,
    "start_time": "2023-12-29T13:40:04.348Z"
   },
   {
    "duration": 249,
    "start_time": "2023-12-29T13:40:04.595Z"
   },
   {
    "duration": 56,
    "start_time": "2023-12-29T13:40:04.847Z"
   },
   {
    "duration": 40,
    "start_time": "2023-12-29T13:40:04.904Z"
   },
   {
    "duration": 824,
    "start_time": "2023-12-29T13:40:04.946Z"
   },
   {
    "duration": 3,
    "start_time": "2023-12-29T13:40:05.772Z"
   },
   {
    "duration": 30,
    "start_time": "2023-12-29T13:40:05.776Z"
   },
   {
    "duration": 17,
    "start_time": "2023-12-29T13:40:05.808Z"
   },
   {
    "duration": 279,
    "start_time": "2023-12-29T13:40:05.827Z"
   },
   {
    "duration": 122,
    "start_time": "2023-12-29T13:40:06.107Z"
   },
   {
    "duration": 0,
    "start_time": "2023-12-29T13:40:06.230Z"
   },
   {
    "duration": 0,
    "start_time": "2023-12-29T13:40:06.231Z"
   },
   {
    "duration": 0,
    "start_time": "2023-12-29T13:40:06.232Z"
   },
   {
    "duration": 0,
    "start_time": "2023-12-29T13:40:06.233Z"
   },
   {
    "duration": 0,
    "start_time": "2023-12-29T13:40:06.234Z"
   },
   {
    "duration": 0,
    "start_time": "2023-12-29T13:40:06.235Z"
   },
   {
    "duration": 0,
    "start_time": "2023-12-29T13:40:06.236Z"
   },
   {
    "duration": 0,
    "start_time": "2023-12-29T13:40:06.237Z"
   },
   {
    "duration": 0,
    "start_time": "2023-12-29T13:40:06.238Z"
   },
   {
    "duration": 0,
    "start_time": "2023-12-29T13:40:06.238Z"
   },
   {
    "duration": 0,
    "start_time": "2023-12-29T13:40:06.239Z"
   },
   {
    "duration": 0,
    "start_time": "2023-12-29T13:40:06.240Z"
   },
   {
    "duration": 0,
    "start_time": "2023-12-29T13:40:06.241Z"
   },
   {
    "duration": 2,
    "start_time": "2023-12-29T13:40:24.806Z"
   },
   {
    "duration": 1124,
    "start_time": "2023-12-29T13:41:04.317Z"
   },
   {
    "duration": 49,
    "start_time": "2023-12-29T13:41:05.442Z"
   },
   {
    "duration": 45,
    "start_time": "2023-12-29T13:41:05.492Z"
   },
   {
    "duration": 27,
    "start_time": "2023-12-29T13:41:05.539Z"
   },
   {
    "duration": 6,
    "start_time": "2023-12-29T13:41:05.568Z"
   },
   {
    "duration": 23,
    "start_time": "2023-12-29T13:41:05.575Z"
   },
   {
    "duration": 22,
    "start_time": "2023-12-29T13:41:05.600Z"
   },
   {
    "duration": 24,
    "start_time": "2023-12-29T13:41:05.624Z"
   },
   {
    "duration": 10,
    "start_time": "2023-12-29T13:41:05.649Z"
   },
   {
    "duration": 21,
    "start_time": "2023-12-29T13:41:05.661Z"
   },
   {
    "duration": 10,
    "start_time": "2023-12-29T13:41:05.684Z"
   },
   {
    "duration": 9,
    "start_time": "2023-12-29T13:41:05.696Z"
   },
   {
    "duration": 28,
    "start_time": "2023-12-29T13:41:05.707Z"
   },
   {
    "duration": 10,
    "start_time": "2023-12-29T13:41:05.738Z"
   },
   {
    "duration": 13,
    "start_time": "2023-12-29T13:41:05.749Z"
   },
   {
    "duration": 153,
    "start_time": "2023-12-29T13:41:05.763Z"
   },
   {
    "duration": 79,
    "start_time": "2023-12-29T13:41:05.918Z"
   },
   {
    "duration": 139,
    "start_time": "2023-12-29T13:41:05.999Z"
   },
   {
    "duration": 94,
    "start_time": "2023-12-29T13:41:06.139Z"
   },
   {
    "duration": 140,
    "start_time": "2023-12-29T13:41:06.234Z"
   },
   {
    "duration": 8,
    "start_time": "2023-12-29T13:41:06.375Z"
   },
   {
    "duration": 9,
    "start_time": "2023-12-29T13:41:06.384Z"
   },
   {
    "duration": 179,
    "start_time": "2023-12-29T13:41:06.394Z"
   },
   {
    "duration": 101,
    "start_time": "2023-12-29T13:41:06.575Z"
   },
   {
    "duration": 8,
    "start_time": "2023-12-29T13:41:06.678Z"
   },
   {
    "duration": 14,
    "start_time": "2023-12-29T13:41:06.688Z"
   },
   {
    "duration": 207,
    "start_time": "2023-12-29T13:41:06.703Z"
   },
   {
    "duration": 172,
    "start_time": "2023-12-29T13:41:06.912Z"
   },
   {
    "duration": 9,
    "start_time": "2023-12-29T13:41:07.086Z"
   },
   {
    "duration": 27,
    "start_time": "2023-12-29T13:41:07.096Z"
   },
   {
    "duration": 30,
    "start_time": "2023-12-29T13:41:07.124Z"
   },
   {
    "duration": 13,
    "start_time": "2023-12-29T13:41:07.156Z"
   },
   {
    "duration": 10,
    "start_time": "2023-12-29T13:41:07.170Z"
   },
   {
    "duration": 14,
    "start_time": "2023-12-29T13:41:07.181Z"
   },
   {
    "duration": 37,
    "start_time": "2023-12-29T13:41:07.196Z"
   },
   {
    "duration": 14,
    "start_time": "2023-12-29T13:41:07.235Z"
   },
   {
    "duration": 269,
    "start_time": "2023-12-29T13:41:07.250Z"
   },
   {
    "duration": 252,
    "start_time": "2023-12-29T13:41:07.521Z"
   },
   {
    "duration": 49,
    "start_time": "2023-12-29T13:41:07.774Z"
   },
   {
    "duration": 26,
    "start_time": "2023-12-29T13:41:07.825Z"
   },
   {
    "duration": 821,
    "start_time": "2023-12-29T13:41:07.855Z"
   },
   {
    "duration": 3,
    "start_time": "2023-12-29T13:41:08.677Z"
   },
   {
    "duration": 26,
    "start_time": "2023-12-29T13:41:08.681Z"
   },
   {
    "duration": 15,
    "start_time": "2023-12-29T13:41:08.708Z"
   },
   {
    "duration": 299,
    "start_time": "2023-12-29T13:41:08.725Z"
   },
   {
    "duration": 2,
    "start_time": "2023-12-29T13:41:09.026Z"
   },
   {
    "duration": 47,
    "start_time": "2023-12-29T13:41:09.029Z"
   },
   {
    "duration": 40,
    "start_time": "2023-12-29T13:41:09.077Z"
   },
   {
    "duration": 31,
    "start_time": "2023-12-29T13:41:09.119Z"
   },
   {
    "duration": 58,
    "start_time": "2023-12-29T13:41:09.152Z"
   },
   {
    "duration": 26,
    "start_time": "2023-12-29T13:41:09.211Z"
   },
   {
    "duration": 39,
    "start_time": "2023-12-29T13:41:09.238Z"
   },
   {
    "duration": 42,
    "start_time": "2023-12-29T13:41:09.278Z"
   },
   {
    "duration": 57,
    "start_time": "2023-12-29T13:41:09.322Z"
   },
   {
    "duration": 33,
    "start_time": "2023-12-29T13:41:09.381Z"
   },
   {
    "duration": 1758,
    "start_time": "2023-12-29T13:41:09.416Z"
   },
   {
    "duration": 6,
    "start_time": "2023-12-29T13:41:11.176Z"
   },
   {
    "duration": 360,
    "start_time": "2023-12-29T13:41:11.184Z"
   },
   {
    "duration": 286,
    "start_time": "2023-12-29T13:41:11.545Z"
   }
  ],
  "kernelspec": {
   "display_name": "Python 3 (ipykernel)",
   "language": "python",
   "name": "python3"
  },
  "language_info": {
   "codemirror_mode": {
    "name": "ipython",
    "version": 3
   },
   "file_extension": ".py",
   "mimetype": "text/x-python",
   "name": "python",
   "nbconvert_exporter": "python",
   "pygments_lexer": "ipython3",
   "version": "3.11.5"
  },
  "toc": {
   "base_numbering": 1,
   "nav_menu": {},
   "number_sections": true,
   "sideBar": true,
   "skip_h1_title": true,
   "title_cell": "Table of Contents",
   "title_sidebar": "Contents",
   "toc_cell": false,
   "toc_position": {},
   "toc_section_display": true,
   "toc_window_display": false
  }
 },
 "nbformat": 4,
 "nbformat_minor": 5
}
